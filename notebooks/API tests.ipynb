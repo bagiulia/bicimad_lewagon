{
 "cells": [
  {
   "cell_type": "code",
   "execution_count": 1,
   "id": "8be311a0",
   "metadata": {},
   "outputs": [],
   "source": [
    "#!pip install streamlit"
   ]
  },
  {
   "cell_type": "code",
   "execution_count": 2,
   "id": "42928e18",
   "metadata": {},
   "outputs": [],
   "source": [
    "from sklearn import preprocessing\n",
    "import pandas as pd\n",
    "import numpy as np\n",
    "from math import pi, sin, cos\n",
    "from datetime import datetime\n",
    "from holidays_es import get_provinces, Province\n",
    "import sys\n",
    "import streamlit as st"
   ]
  },
  {
   "cell_type": "code",
   "execution_count": 3,
   "id": "9b51169c",
   "metadata": {},
   "outputs": [
    {
     "name": "stderr",
     "output_type": "stream",
     "text": [
      "2022-09-01 16:37:08.417 \n",
      "  \u001b[33m\u001b[1mWarning:\u001b[0m to view this Streamlit app on a browser, run it with the following\n",
      "  command:\n",
      "\n",
      "    streamlit run /Users/juancastro/.pyenv/versions/3.8.12/envs/bicimad/lib/python3.8/site-packages/ipykernel_launcher.py [ARGUMENTS]\n"
     ]
    }
   ],
   "source": [
    "d = st.date_input(\"When's your birthday\",datetime.now())\n",
    "date=d"
   ]
  },
  {
   "cell_type": "code",
   "execution_count": 4,
   "id": "3dbc9454",
   "metadata": {},
   "outputs": [
    {
     "data": {
      "text/plain": [
       "datetime.time"
      ]
     },
     "execution_count": 4,
     "metadata": {},
     "output_type": "execute_result"
    }
   ],
   "source": [
    "t = st.time_input('Set an alarm for', datetime.now())\n",
    "time=t.hour\n",
    "type(t)"
   ]
  },
  {
   "cell_type": "code",
   "execution_count": 5,
   "id": "c9821a86",
   "metadata": {},
   "outputs": [],
   "source": [
    "name='Puerta del Sol B'"
   ]
  },
  {
   "cell_type": "code",
   "execution_count": 6,
   "id": "5ac9c7c6",
   "metadata": {},
   "outputs": [
    {
     "data": {
      "text/plain": [
       "[datetime.date(2018, 1, 1),\n",
       " datetime.date(2018, 1, 6),\n",
       " datetime.date(2018, 3, 30),\n",
       " datetime.date(2018, 5, 1),\n",
       " datetime.date(2018, 8, 15),\n",
       " datetime.date(2018, 10, 12),\n",
       " datetime.date(2018, 11, 1),\n",
       " datetime.date(2018, 12, 6),\n",
       " datetime.date(2018, 12, 8),\n",
       " datetime.date(2018, 12, 25),\n",
       " datetime.date(2018, 3, 29),\n",
       " datetime.date(2018, 5, 2),\n",
       " datetime.date(2018, 5, 15),\n",
       " datetime.date(2018, 11, 9),\n",
       " datetime.date(2019, 1, 1),\n",
       " datetime.date(2019, 4, 19),\n",
       " datetime.date(2019, 5, 1),\n",
       " datetime.date(2019, 8, 15),\n",
       " datetime.date(2019, 10, 12),\n",
       " datetime.date(2019, 11, 1),\n",
       " datetime.date(2019, 12, 6),\n",
       " datetime.date(2019, 12, 25),\n",
       " datetime.date(2019, 1, 7),\n",
       " datetime.date(2019, 4, 18),\n",
       " datetime.date(2019, 5, 2),\n",
       " datetime.date(2019, 12, 9),\n",
       " datetime.date(2019, 5, 15),\n",
       " datetime.date(2019, 11, 9),\n",
       " datetime.date(2020, 1, 1),\n",
       " datetime.date(2020, 1, 6),\n",
       " datetime.date(2020, 4, 10),\n",
       " datetime.date(2020, 5, 1),\n",
       " datetime.date(2020, 8, 15),\n",
       " datetime.date(2020, 10, 12),\n",
       " datetime.date(2020, 12, 8),\n",
       " datetime.date(2020, 12, 25),\n",
       " datetime.date(2020, 4, 9),\n",
       " datetime.date(2020, 5, 2),\n",
       " datetime.date(2020, 11, 2),\n",
       " datetime.date(2020, 12, 7),\n",
       " datetime.date(2020, 5, 15),\n",
       " datetime.date(2020, 11, 9),\n",
       " datetime.date(2021, 1, 1),\n",
       " datetime.date(2021, 1, 6),\n",
       " datetime.date(2021, 4, 2),\n",
       " datetime.date(2021, 5, 1),\n",
       " datetime.date(2021, 10, 12),\n",
       " datetime.date(2021, 11, 1),\n",
       " datetime.date(2021, 12, 6),\n",
       " datetime.date(2021, 12, 8),\n",
       " datetime.date(2021, 12, 25),\n",
       " datetime.date(2021, 3, 19),\n",
       " datetime.date(2021, 4, 1),\n",
       " datetime.date(2021, 5, 3),\n",
       " datetime.date(2021, 5, 15),\n",
       " datetime.date(2021, 11, 9)]"
      ]
     },
     "execution_count": 6,
     "metadata": {},
     "output_type": "execute_result"
    }
   ],
   "source": [
    "holidays=[]\n",
    "for year in [2018,2019,2020,2021]:\n",
    "    temp = Province(name=\"madrid\", year=year).holidays()\n",
    "    for day in range(len(temp['national_holidays'])):\n",
    "        holidays.append(temp['national_holidays'][day])\n",
    "    for day in range(len(temp['regional_holidays'])):\n",
    "        holidays.append(temp['regional_holidays'][day])\n",
    "    for day in range(len(temp['local_holidays'])):\n",
    "        holidays.append(temp['local_holidays'][day])\n",
    "\n",
    "holidays"
   ]
  },
  {
   "cell_type": "code",
   "execution_count": 7,
   "id": "6db7210e",
   "metadata": {},
   "outputs": [],
   "source": [
    "holiday= date in holidays"
   ]
  },
  {
   "cell_type": "code",
   "execution_count": 8,
   "id": "08854bf5",
   "metadata": {},
   "outputs": [],
   "source": [
    "df = pd.read_csv('../raw_data/station_1.csv')"
   ]
  },
  {
   "cell_type": "code",
   "execution_count": 9,
   "id": "0adad365",
   "metadata": {},
   "outputs": [],
   "source": [
    "columns=['activate', 'name', 'reservations_count', 'light', 'total_bases',\n",
    "       'free_bases', 'number', 'longitude', 'no_available', 'address',\n",
    "       'latitude', 'dock_bikes', 'id', 'time', 'date', 'holidays', 'datetime',\n",
    "       'feels_like', 'weather_main', 'weekday', 'year', 'month', 'hour_sin',\n",
    "       'hour_cos', 'weekday_sin', 'weekday_cos', 'month_sin', 'month_cos']\n"
   ]
  },
  {
   "cell_type": "code",
   "execution_count": 10,
   "id": "6a6c3e05",
   "metadata": {},
   "outputs": [],
   "source": [
    "temp = pd.DataFrame(columns=columns)"
   ]
  },
  {
   "cell_type": "code",
   "execution_count": 11,
   "id": "fe859287",
   "metadata": {},
   "outputs": [],
   "source": [
    "datetime=(str(date)+str(time))"
   ]
  },
  {
   "cell_type": "code",
   "execution_count": 12,
   "id": "d597ecf7",
   "metadata": {},
   "outputs": [],
   "source": [
    "weekday=date.weekday()"
   ]
  },
  {
   "cell_type": "code",
   "execution_count": 13,
   "id": "39218c99",
   "metadata": {},
   "outputs": [],
   "source": [
    "year=date.year"
   ]
  },
  {
   "cell_type": "code",
   "execution_count": 14,
   "id": "c0b31267",
   "metadata": {},
   "outputs": [],
   "source": [
    "month=date.month"
   ]
  },
  {
   "cell_type": "code",
   "execution_count": 15,
   "id": "bbe2ba96",
   "metadata": {},
   "outputs": [],
   "source": [
    "hour_sin=  sin(time / 24.0 * 2 * pi)\n",
    "hour_cos=  cos(time / 24.0 * 2 * pi)\n",
    "weekday_sin= sin(weekday / 7.0 * 2 * pi)\n",
    "weekday_cos=  cos(weekday / 7.0 * 2 * pi)\n",
    "month_sin=  sin(((month - 5) % 12) / 12.0 * 2 * pi)\n",
    "month_cos= cos(((month - 5) % 12) / 12.0 * 2 * pi)"
   ]
  },
  {
   "cell_type": "code",
   "execution_count": 16,
   "id": "3a402354",
   "metadata": {},
   "outputs": [],
   "source": [
    "new_row={'activate':1, 'name':name, 'reservations_count':0, 'light':0, 'total_bases':30,\n",
    "       'free_bases':28, 'number':'1b', 'longitude':-3.701603, 'no_available':0, 'address':'Puerta del Sol nº 1',\n",
    "       'latitude':-3.701603, 'dock_bikes':0, 'id':(str(date)+'T'+str(time)), 'time':time, 'date':date, 'holidays':holiday, 'datetime':datetime,\n",
    "       'feels_like':17.44, 'weather_main':'Rain', 'weekday':weekday, 'year':year, 'month':month, 'hour_sin':hour_sin,\n",
    "       'hour_cos':hour_cos, 'weekday_sin':weekday_sin, 'weekday_cos':weekday_cos, 'month_sin':month_sin, 'month_cos':month_cos}\n"
   ]
  },
  {
   "cell_type": "code",
   "execution_count": 17,
   "id": "26691a7b",
   "metadata": {},
   "outputs": [
    {
     "data": {
      "text/plain": [
       "pandas.core.frame.DataFrame"
      ]
     },
     "execution_count": 17,
     "metadata": {},
     "output_type": "execute_result"
    }
   ],
   "source": [
    "temp = pd.DataFrame(columns=columns)\n",
    "type(temp)"
   ]
  },
  {
   "cell_type": "code",
   "execution_count": 18,
   "id": "b9dc7f7c",
   "metadata": {},
   "outputs": [
    {
     "name": "stderr",
     "output_type": "stream",
     "text": [
      "/var/folders/hr/jf_0d1t95b98cmbwydqdzvzh0000gn/T/ipykernel_67728/3900823188.py:1: FutureWarning: The frame.append method is deprecated and will be removed from pandas in a future version. Use pandas.concat instead.\n",
      "  temp=temp.append(new_row,ignore_index=True)\n"
     ]
    }
   ],
   "source": [
    "temp=temp.append(new_row,ignore_index=True)"
   ]
  },
  {
   "cell_type": "code",
   "execution_count": 19,
   "id": "9ce0971f",
   "metadata": {},
   "outputs": [
    {
     "name": "stdout",
     "output_type": "stream",
     "text": [
      "<class 'pandas.core.frame.DataFrame'>\n",
      "RangeIndex: 25862 entries, 0 to 25861\n",
      "Data columns (total 28 columns):\n",
      " #   Column              Non-Null Count  Dtype  \n",
      "---  ------              --------------  -----  \n",
      " 0   activate            25862 non-null  int64  \n",
      " 1   name                25862 non-null  object \n",
      " 2   reservations_count  25862 non-null  int64  \n",
      " 3   light               25862 non-null  int64  \n",
      " 4   total_bases         25862 non-null  int64  \n",
      " 5   free_bases          25862 non-null  int64  \n",
      " 6   number              25862 non-null  object \n",
      " 7   longitude           25862 non-null  float64\n",
      " 8   no_available        25862 non-null  int64  \n",
      " 9   address             25862 non-null  object \n",
      " 10  latitude            25862 non-null  float64\n",
      " 11  dock_bikes          25862 non-null  int64  \n",
      " 12  id                  25862 non-null  object \n",
      " 13  time                25862 non-null  int64  \n",
      " 14  date                25862 non-null  object \n",
      " 15  holidays            25862 non-null  bool   \n",
      " 16  datetime            25862 non-null  object \n",
      " 17  feels_like          25862 non-null  float64\n",
      " 18  weather_main        25862 non-null  object \n",
      " 19  weekday             25862 non-null  int64  \n",
      " 20  year                25862 non-null  int64  \n",
      " 21  month               25862 non-null  int64  \n",
      " 22  hour_sin            25862 non-null  float64\n",
      " 23  hour_cos            25862 non-null  float64\n",
      " 24  weekday_sin         25862 non-null  float64\n",
      " 25  weekday_cos         25862 non-null  float64\n",
      " 26  month_sin           25862 non-null  float64\n",
      " 27  month_cos           25862 non-null  float64\n",
      "dtypes: bool(1), float64(9), int64(11), object(7)\n",
      "memory usage: 5.4+ MB\n"
     ]
    }
   ],
   "source": [
    "df.info()"
   ]
  },
  {
   "cell_type": "code",
   "execution_count": 20,
   "id": "138cd3c1",
   "metadata": {},
   "outputs": [
    {
     "data": {
      "text/html": [
       "<div>\n",
       "<style scoped>\n",
       "    .dataframe tbody tr th:only-of-type {\n",
       "        vertical-align: middle;\n",
       "    }\n",
       "\n",
       "    .dataframe tbody tr th {\n",
       "        vertical-align: top;\n",
       "    }\n",
       "\n",
       "    .dataframe thead th {\n",
       "        text-align: right;\n",
       "    }\n",
       "</style>\n",
       "<table border=\"1\" class=\"dataframe\">\n",
       "  <thead>\n",
       "    <tr style=\"text-align: right;\">\n",
       "      <th></th>\n",
       "      <th>activate</th>\n",
       "      <th>name</th>\n",
       "      <th>reservations_count</th>\n",
       "      <th>light</th>\n",
       "      <th>total_bases</th>\n",
       "      <th>free_bases</th>\n",
       "      <th>number</th>\n",
       "      <th>longitude</th>\n",
       "      <th>no_available</th>\n",
       "      <th>address</th>\n",
       "      <th>...</th>\n",
       "      <th>weather_main</th>\n",
       "      <th>weekday</th>\n",
       "      <th>year</th>\n",
       "      <th>month</th>\n",
       "      <th>hour_sin</th>\n",
       "      <th>hour_cos</th>\n",
       "      <th>weekday_sin</th>\n",
       "      <th>weekday_cos</th>\n",
       "      <th>month_sin</th>\n",
       "      <th>month_cos</th>\n",
       "    </tr>\n",
       "  </thead>\n",
       "  <tbody>\n",
       "    <tr>\n",
       "      <th>0</th>\n",
       "      <td>1</td>\n",
       "      <td>Puerta del Sol B</td>\n",
       "      <td>0</td>\n",
       "      <td>0</td>\n",
       "      <td>30</td>\n",
       "      <td>28</td>\n",
       "      <td>1b</td>\n",
       "      <td>-3.701603</td>\n",
       "      <td>0</td>\n",
       "      <td>Puerta del Sol nº 1</td>\n",
       "      <td>...</td>\n",
       "      <td>Rain</td>\n",
       "      <td>3</td>\n",
       "      <td>2022</td>\n",
       "      <td>9</td>\n",
       "      <td>-0.866025</td>\n",
       "      <td>-0.5</td>\n",
       "      <td>0.433884</td>\n",
       "      <td>-0.900969</td>\n",
       "      <td>0.866025</td>\n",
       "      <td>-0.5</td>\n",
       "    </tr>\n",
       "  </tbody>\n",
       "</table>\n",
       "<p>1 rows × 28 columns</p>\n",
       "</div>"
      ],
      "text/plain": [
       "  activate              name reservations_count light total_bases free_bases  \\\n",
       "0        1  Puerta del Sol B                  0     0          30         28   \n",
       "\n",
       "  number  longitude no_available              address  ...  weather_main  \\\n",
       "0     1b  -3.701603            0  Puerta del Sol nº 1  ...          Rain   \n",
       "\n",
       "  weekday  year month  hour_sin hour_cos weekday_sin  weekday_cos month_sin  \\\n",
       "0       3  2022     9 -0.866025     -0.5    0.433884    -0.900969  0.866025   \n",
       "\n",
       "  month_cos  \n",
       "0      -0.5  \n",
       "\n",
       "[1 rows x 28 columns]"
      ]
     },
     "execution_count": 20,
     "metadata": {},
     "output_type": "execute_result"
    }
   ],
   "source": [
    "temp.head()"
   ]
  },
  {
   "cell_type": "code",
   "execution_count": 21,
   "id": "47202421",
   "metadata": {},
   "outputs": [
    {
     "data": {
      "text/plain": [
       "{bool: ['holidays'], int64: ['activate', 'reservations_count', 'light', 'total_bases', 'free_bases', 'no_available', 'dock_bikes', 'time', 'weekday', 'year', 'month'], float64: ['longitude', 'latitude', 'feels_like', 'hour_sin', 'hour_cos', 'weekday_sin', 'weekday_cos', 'month_sin', 'month_cos'], object: ['name', 'number', 'address', 'id', 'date', 'datetime', 'weather_main']}"
      ]
     },
     "execution_count": 21,
     "metadata": {},
     "output_type": "execute_result"
    }
   ],
   "source": [
    "dict_type=temp.columns.to_series().groupby(df.dtypes).groups\n",
    "dict_type"
   ]
  },
  {
   "cell_type": "code",
   "execution_count": 22,
   "id": "d46762b5",
   "metadata": {},
   "outputs": [],
   "source": [
    "for column in ['activate', 'reservations_count', 'light', 'total_bases', 'free_bases', 'no_available', 'dock_bikes', 'time', 'weekday', 'year', 'month']:\n",
    "    temp[column]=temp[column].astype('int64')\n"
   ]
  },
  {
   "cell_type": "code",
   "execution_count": 23,
   "id": "6decddd6",
   "metadata": {},
   "outputs": [
    {
     "name": "stdout",
     "output_type": "stream",
     "text": [
      "<class 'pandas.core.frame.DataFrame'>\n",
      "RangeIndex: 1 entries, 0 to 0\n",
      "Data columns (total 28 columns):\n",
      " #   Column              Non-Null Count  Dtype  \n",
      "---  ------              --------------  -----  \n",
      " 0   activate            1 non-null      int64  \n",
      " 1   name                1 non-null      object \n",
      " 2   reservations_count  1 non-null      int64  \n",
      " 3   light               1 non-null      int64  \n",
      " 4   total_bases         1 non-null      int64  \n",
      " 5   free_bases          1 non-null      int64  \n",
      " 6   number              1 non-null      object \n",
      " 7   longitude           1 non-null      float64\n",
      " 8   no_available        1 non-null      int64  \n",
      " 9   address             1 non-null      object \n",
      " 10  latitude            1 non-null      float64\n",
      " 11  dock_bikes          1 non-null      int64  \n",
      " 12  id                  1 non-null      object \n",
      " 13  time                1 non-null      int64  \n",
      " 14  date                1 non-null      object \n",
      " 15  holidays            1 non-null      bool   \n",
      " 16  datetime            1 non-null      object \n",
      " 17  feels_like          1 non-null      float64\n",
      " 18  weather_main        1 non-null      object \n",
      " 19  weekday             1 non-null      int64  \n",
      " 20  year                1 non-null      int64  \n",
      " 21  month               1 non-null      int64  \n",
      " 22  hour_sin            1 non-null      float64\n",
      " 23  hour_cos            1 non-null      float64\n",
      " 24  weekday_sin         1 non-null      float64\n",
      " 25  weekday_cos         1 non-null      float64\n",
      " 26  month_sin           1 non-null      float64\n",
      " 27  month_cos           1 non-null      float64\n",
      "dtypes: bool(1), float64(9), int64(11), object(7)\n",
      "memory usage: 345.0+ bytes\n"
     ]
    }
   ],
   "source": [
    "temp['holidays']=temp['holidays'].astype('bool')\n",
    "temp.drop(columns=[\"name\",\"longitude\",\"address\",\"month\",\"time\",\"weekday\"])\n",
    "temp.info()"
   ]
  },
  {
   "cell_type": "code",
   "execution_count": null,
   "id": "481bd80e",
   "metadata": {},
   "outputs": [],
   "source": []
  },
  {
   "cell_type": "code",
   "execution_count": 25,
   "id": "e6956d51",
   "metadata": {},
   "outputs": [],
   "source": [
    "from sklearn import preprocessing\n",
    "import pandas as pd\n",
    "import numpy as np\n",
    "from math import pi, sin, cos\n",
    "\n",
    "from sklearn.preprocessing import StandardScaler, OneHotEncoder\n",
    "\n",
    "\n",
    "\n",
    "\n",
    "\n",
    "\n",
    "def encode_columns(df):\n",
    "    temp = df \n",
    "    #Transform the data\n",
    "    f_transformer = StandardScaler()\n",
    "    df[['activate', 'reservations_count', 'light', 'total_bases', 'free_bases', 'longitude', 'no_available', 'latitude', 'time',\n",
    "       'feels_like', 'weekday', 'year', 'month', 'hour_sin', 'hour_cos',\n",
    "        'weekday_sin', 'weekday_cos', 'month_sin', 'month_cos']] = f_transformer.fit_transform(df[['activate', 'reservations_count', 'light', 'total_bases', 'free_bases', 'longitude', 'no_available', 'latitude', 'time',\n",
    "       'feels_like', 'weekday', 'year', 'month', 'hour_sin', 'hour_cos',\n",
    "        'weekday_sin', 'weekday_cos', 'month_sin', 'month_cos']])\n",
    "\n",
    "    temp.holidays = temp.holidays.astype('int')\n",
    "    temp_model = temp.drop(columns=['name', 'number', 'address', 'id'])\n",
    "\n",
    "    #Encode the data\n",
    "    ohe = OneHotEncoder(sparse=False, handle_unknown='ignore')\n",
    "    categorical_features = ['year', 'month', 'weekday', 'weather_main']\n",
    "    transformed_data = pd.DataFrame(ohe.fit_transform(temp_model[categorical_features]))\n",
    "    transformed_data.columns = ohe.get_feature_names(categorical_features)\n",
    "    concatenated_data = pd.concat([temp_model, transformed_data], axis=1)\n",
    "    temp_model = concatenated_data.drop(columns=['year', 'month', 'weekday', 'weather_main','date'])\n",
    "    temp_model['datetime'] = temp_model['datetime'].apply(lambda x: x[0:10]+' '+x[10:]+':00')\n",
    "    temp_model['datetime']=pd.to_datetime(temp_model['datetime'], format='%Y-%m-%d %H:%M:%S')\n",
    "    temp_model = temp_model.set_index('datetime')\n",
    "    temp_model.sort_values(by='datetime')\n",
    "    return temp_model\n"
   ]
  },
  {
   "cell_type": "code",
   "execution_count": 27,
   "id": "fc02c628",
   "metadata": {},
   "outputs": [
    {
     "data": {
      "text/html": [
       "<div>\n",
       "<style scoped>\n",
       "    .dataframe tbody tr th:only-of-type {\n",
       "        vertical-align: middle;\n",
       "    }\n",
       "\n",
       "    .dataframe tbody tr th {\n",
       "        vertical-align: top;\n",
       "    }\n",
       "\n",
       "    .dataframe thead th {\n",
       "        text-align: right;\n",
       "    }\n",
       "</style>\n",
       "<table border=\"1\" class=\"dataframe\">\n",
       "  <thead>\n",
       "    <tr style=\"text-align: right;\">\n",
       "      <th></th>\n",
       "      <th>activate</th>\n",
       "      <th>name</th>\n",
       "      <th>reservations_count</th>\n",
       "      <th>light</th>\n",
       "      <th>total_bases</th>\n",
       "      <th>free_bases</th>\n",
       "      <th>number</th>\n",
       "      <th>longitude</th>\n",
       "      <th>no_available</th>\n",
       "      <th>address</th>\n",
       "      <th>...</th>\n",
       "      <th>weather_main</th>\n",
       "      <th>weekday</th>\n",
       "      <th>year</th>\n",
       "      <th>month</th>\n",
       "      <th>hour_sin</th>\n",
       "      <th>hour_cos</th>\n",
       "      <th>weekday_sin</th>\n",
       "      <th>weekday_cos</th>\n",
       "      <th>month_sin</th>\n",
       "      <th>month_cos</th>\n",
       "    </tr>\n",
       "  </thead>\n",
       "  <tbody>\n",
       "    <tr>\n",
       "      <th>0</th>\n",
       "      <td>0.0</td>\n",
       "      <td>Puerta del Sol B</td>\n",
       "      <td>0.0</td>\n",
       "      <td>0.0</td>\n",
       "      <td>0.0</td>\n",
       "      <td>0.0</td>\n",
       "      <td>1b</td>\n",
       "      <td>0.0</td>\n",
       "      <td>0.0</td>\n",
       "      <td>Puerta del Sol nº 1</td>\n",
       "      <td>...</td>\n",
       "      <td>Rain</td>\n",
       "      <td>0.0</td>\n",
       "      <td>0.0</td>\n",
       "      <td>0.0</td>\n",
       "      <td>0.0</td>\n",
       "      <td>0.0</td>\n",
       "      <td>0.0</td>\n",
       "      <td>0.0</td>\n",
       "      <td>0.0</td>\n",
       "      <td>0.0</td>\n",
       "    </tr>\n",
       "  </tbody>\n",
       "</table>\n",
       "<p>1 rows × 28 columns</p>\n",
       "</div>"
      ],
      "text/plain": [
       "   activate              name  reservations_count  light  total_bases  \\\n",
       "0       0.0  Puerta del Sol B                 0.0    0.0          0.0   \n",
       "\n",
       "   free_bases number  longitude  no_available              address  ...  \\\n",
       "0         0.0     1b        0.0           0.0  Puerta del Sol nº 1  ...   \n",
       "\n",
       "   weather_main  weekday year  month hour_sin  hour_cos weekday_sin  \\\n",
       "0          Rain      0.0  0.0    0.0      0.0       0.0         0.0   \n",
       "\n",
       "   weekday_cos month_sin  month_cos  \n",
       "0          0.0       0.0        0.0  \n",
       "\n",
       "[1 rows x 28 columns]"
      ]
     },
     "execution_count": 27,
     "metadata": {},
     "output_type": "execute_result"
    }
   ],
   "source": [
    "temp"
   ]
  },
  {
   "cell_type": "code",
   "execution_count": 26,
   "id": "8366eb8b",
   "metadata": {},
   "outputs": [
    {
     "name": "stderr",
     "output_type": "stream",
     "text": [
      "/Users/juancastro/.pyenv/versions/3.8.12/envs/bicimad/lib/python3.8/site-packages/sklearn/utils/deprecation.py:87: FutureWarning: Function get_feature_names is deprecated; get_feature_names is deprecated in 1.0 and will be removed in 1.2. Please use get_feature_names_out instead.\n",
      "  warnings.warn(msg, category=FutureWarning)\n"
     ]
    },
    {
     "data": {
      "text/html": [
       "<div>\n",
       "<style scoped>\n",
       "    .dataframe tbody tr th:only-of-type {\n",
       "        vertical-align: middle;\n",
       "    }\n",
       "\n",
       "    .dataframe tbody tr th {\n",
       "        vertical-align: top;\n",
       "    }\n",
       "\n",
       "    .dataframe thead th {\n",
       "        text-align: right;\n",
       "    }\n",
       "</style>\n",
       "<table border=\"1\" class=\"dataframe\">\n",
       "  <thead>\n",
       "    <tr style=\"text-align: right;\">\n",
       "      <th></th>\n",
       "      <th>activate</th>\n",
       "      <th>reservations_count</th>\n",
       "      <th>light</th>\n",
       "      <th>total_bases</th>\n",
       "      <th>free_bases</th>\n",
       "      <th>longitude</th>\n",
       "      <th>no_available</th>\n",
       "      <th>latitude</th>\n",
       "      <th>dock_bikes</th>\n",
       "      <th>time</th>\n",
       "      <th>...</th>\n",
       "      <th>hour_sin</th>\n",
       "      <th>hour_cos</th>\n",
       "      <th>weekday_sin</th>\n",
       "      <th>weekday_cos</th>\n",
       "      <th>month_sin</th>\n",
       "      <th>month_cos</th>\n",
       "      <th>year_0.0</th>\n",
       "      <th>month_0.0</th>\n",
       "      <th>weekday_0.0</th>\n",
       "      <th>weather_main_Rain</th>\n",
       "    </tr>\n",
       "    <tr>\n",
       "      <th>datetime</th>\n",
       "      <th></th>\n",
       "      <th></th>\n",
       "      <th></th>\n",
       "      <th></th>\n",
       "      <th></th>\n",
       "      <th></th>\n",
       "      <th></th>\n",
       "      <th></th>\n",
       "      <th></th>\n",
       "      <th></th>\n",
       "      <th></th>\n",
       "      <th></th>\n",
       "      <th></th>\n",
       "      <th></th>\n",
       "      <th></th>\n",
       "      <th></th>\n",
       "      <th></th>\n",
       "      <th></th>\n",
       "      <th></th>\n",
       "      <th></th>\n",
       "      <th></th>\n",
       "    </tr>\n",
       "  </thead>\n",
       "  <tbody>\n",
       "    <tr>\n",
       "      <th>2022-09-01 16:00:00</th>\n",
       "      <td>0.0</td>\n",
       "      <td>0.0</td>\n",
       "      <td>0.0</td>\n",
       "      <td>0.0</td>\n",
       "      <td>0.0</td>\n",
       "      <td>0.0</td>\n",
       "      <td>0.0</td>\n",
       "      <td>0.0</td>\n",
       "      <td>0</td>\n",
       "      <td>0.0</td>\n",
       "      <td>...</td>\n",
       "      <td>0.0</td>\n",
       "      <td>0.0</td>\n",
       "      <td>0.0</td>\n",
       "      <td>0.0</td>\n",
       "      <td>0.0</td>\n",
       "      <td>0.0</td>\n",
       "      <td>1.0</td>\n",
       "      <td>1.0</td>\n",
       "      <td>1.0</td>\n",
       "      <td>1.0</td>\n",
       "    </tr>\n",
       "  </tbody>\n",
       "</table>\n",
       "<p>1 rows × 22 columns</p>\n",
       "</div>"
      ],
      "text/plain": [
       "                     activate  reservations_count  light  total_bases  \\\n",
       "datetime                                                                \n",
       "2022-09-01 16:00:00       0.0                 0.0    0.0          0.0   \n",
       "\n",
       "                     free_bases  longitude  no_available  latitude  \\\n",
       "datetime                                                             \n",
       "2022-09-01 16:00:00         0.0        0.0           0.0       0.0   \n",
       "\n",
       "                     dock_bikes  time  ...  hour_sin  hour_cos  weekday_sin  \\\n",
       "datetime                               ...                                    \n",
       "2022-09-01 16:00:00           0   0.0  ...       0.0       0.0          0.0   \n",
       "\n",
       "                     weekday_cos  month_sin  month_cos  year_0.0  month_0.0  \\\n",
       "datetime                                                                      \n",
       "2022-09-01 16:00:00          0.0        0.0        0.0       1.0        1.0   \n",
       "\n",
       "                     weekday_0.0  weather_main_Rain  \n",
       "datetime                                             \n",
       "2022-09-01 16:00:00          1.0                1.0  \n",
       "\n",
       "[1 rows x 22 columns]"
      ]
     },
     "execution_count": 26,
     "metadata": {},
     "output_type": "execute_result"
    }
   ],
   "source": [
    "encode_columns(temp)"
   ]
  },
  {
   "cell_type": "code",
   "execution_count": null,
   "id": "1b8ab01d",
   "metadata": {},
   "outputs": [],
   "source": []
  }
 ],
 "metadata": {
  "kernelspec": {
   "display_name": "Python 3 (ipykernel)",
   "language": "python",
   "name": "python3"
  },
  "language_info": {
   "codemirror_mode": {
    "name": "ipython",
    "version": 3
   },
   "file_extension": ".py",
   "mimetype": "text/x-python",
   "name": "python",
   "nbconvert_exporter": "python",
   "pygments_lexer": "ipython3",
   "version": "3.8.12"
  },
  "toc": {
   "base_numbering": 1,
   "nav_menu": {},
   "number_sections": true,
   "sideBar": true,
   "skip_h1_title": false,
   "title_cell": "Table of Contents",
   "title_sidebar": "Contents",
   "toc_cell": false,
   "toc_position": {},
   "toc_section_display": true,
   "toc_window_display": false
  }
 },
 "nbformat": 4,
 "nbformat_minor": 5
}
