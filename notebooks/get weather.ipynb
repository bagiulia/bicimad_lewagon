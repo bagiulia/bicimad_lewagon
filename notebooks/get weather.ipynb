{
 "cells": [
  {
   "cell_type": "code",
   "execution_count": 1,
   "id": "b0a8440e",
   "metadata": {},
   "outputs": [],
   "source": [
    "import urllib.parse\n",
    "import requests\n",
    "#from datetime import date\n",
    "import datetime"
   ]
  },
  {
   "cell_type": "code",
   "execution_count": null,
   "id": "e12c32e7",
   "metadata": {},
   "outputs": [],
   "source": [
    "now = datetime.datetime.now()\n",
    "date=now.date()\n",
    "time=now.time()\n",
    "print(now,date,time)"
   ]
  },
  {
   "cell_type": "code",
   "execution_count": null,
   "id": "62f4bf4f",
   "metadata": {},
   "outputs": [],
   "source": []
  },
  {
   "cell_type": "code",
   "execution_count": null,
   "id": "a1718de2",
   "metadata": {},
   "outputs": [],
   "source": [
    "def time_until_end_of_day(dt=None):\n",
    "    if dt is None:\n",
    "        dt = now.time()\n",
    "    return (((24 - dt.hour - 1) * 60 * 60) + ((60 - dt.minute - 1) * 60)) //3600"
   ]
  },
  {
   "cell_type": "code",
   "execution_count": null,
   "id": "eaf27148",
   "metadata": {},
   "outputs": [],
   "source": [
    "time_until_end_of_day()"
   ]
  },
  {
   "cell_type": "code",
   "execution_count": null,
   "id": "4bc756d0",
   "metadata": {},
   "outputs": [],
   "source": [
    "def choose_n(time_until_end_of_day):\n",
    "    if time_until_end_of_day>=24:\n",
    "        n=0\n",
    "    elif time_until_end_of_day >= 15:\n",
    "        n=0\n",
    "    elif time_until_end_of_day >= 12:\n",
    "        n=1\n",
    "    elif time_until_end_of_day >= 9:\n",
    "        n=2\n",
    "    elif time_until_end_of_day >= 6:\n",
    "        n=3\n",
    "    elif time_until_end_of_day >= 3:\n",
    "        n=4\n",
    "    elif time_until_end_of_day >=0:\n",
    "        n=5\n",
    "    return n"
   ]
  },
  {
   "cell_type": "code",
   "execution_count": null,
   "id": "8ab4fa16",
   "metadata": {},
   "outputs": [],
   "source": [
    "BASE_URL = \"https://weather.lewagon.com\"\n",
    "def weather_forecast():\n",
    "    '''Return a 5-day weather forecast for the city, given its latitude and longitude.'''\n",
    "    url = BASE_URL+f\"/data/2.5/forecast?lat=40.4167047&lon=-3.703582&units=metric\"\n",
    "\n",
    "    response = requests.get(url).json()\n",
    "\n",
    "    return response\n",
    "lat = 40.4167047\n",
    "lon = -3.703582"
   ]
  },
  {
   "cell_type": "code",
   "execution_count": null,
   "id": "045a624f",
   "metadata": {},
   "outputs": [],
   "source": [
    "today = date.today()\n",
    "#date_requested = input_from_website\n",
    "date_requested = datetime.date(2022,9,9)\n",
    "time_requested = datetime.time(22,0)"
   ]
  },
  {
   "cell_type": "code",
   "execution_count": null,
   "id": "508cca14",
   "metadata": {},
   "outputs": [],
   "source": [
    "delta = date_requested-today\n"
   ]
  },
  {
   "cell_type": "code",
   "execution_count": null,
   "id": "81373a1f",
   "metadata": {},
   "outputs": [],
   "source": [
    "time_until=time_until_end_of_day(time_requested)"
   ]
  },
  {
   "cell_type": "code",
   "execution_count": null,
   "id": "d39dad9f",
   "metadata": {},
   "outputs": [],
   "source": [
    "n=choose_n(time_until)\n"
   ]
  },
  {
   "cell_type": "code",
   "execution_count": null,
   "id": "5edfae92",
   "metadata": {},
   "outputs": [],
   "source": [
    "response = weather_forecast()"
   ]
  },
  {
   "cell_type": "code",
   "execution_count": null,
   "id": "d387e701",
   "metadata": {},
   "outputs": [],
   "source": [
    "if delta.days < 5:\n",
    "    try:\n",
    "        forecast = weather_forecast()\n",
    "        feels_like = response[\"list\"][delta.days*8+n][\"main\"][\"feels_like\"]\n",
    "        weather = response[\"list\"][delta.days*8+n][\"weather\"][0][\"main\"]\n",
    "    except:\n",
    "        if month in [January, December]:\n",
    "            weather = Cloudy\n",
    "            feels_like = dict[month]\n",
    "        else:\n",
    "            weather == Sunny\n",
    "            feels_like = dict[month]\n"
   ]
  },
  {
   "cell_type": "code",
   "execution_count": null,
   "id": "7a6ab8e4",
   "metadata": {},
   "outputs": [],
   "source": [
    "weather"
   ]
  },
  {
   "cell_type": "code",
   "execution_count": null,
   "id": "f0efa76d",
   "metadata": {},
   "outputs": [],
   "source": [
    "feels_like"
   ]
  },
  {
   "cell_type": "code",
   "execution_count": null,
   "id": "13971902",
   "metadata": {},
   "outputs": [],
   "source": [
    "response = weather_forecast()"
   ]
  },
  {
   "cell_type": "code",
   "execution_count": null,
   "id": "d6ba5956",
   "metadata": {},
   "outputs": [],
   "source": [
    "response"
   ]
  },
  {
   "cell_type": "code",
   "execution_count": null,
   "id": "917066f6",
   "metadata": {},
   "outputs": [],
   "source": [
    "feels_like = response[\"list\"][delta.days*8]\n",
    "#weather = response[\"list\"][delta.days*8][\"weather\"][0][\"main\"]\n",
    "feels_like"
   ]
  },
  {
   "cell_type": "code",
   "execution_count": null,
   "id": "3902b62f",
   "metadata": {},
   "outputs": [],
   "source": [
    "change the time and date asked to match the response "
   ]
  },
  {
   "cell_type": "code",
   "execution_count": null,
   "id": "59b670a0",
   "metadata": {},
   "outputs": [],
   "source": [
    "response[\"list\"][0]"
   ]
  },
  {
   "cell_type": "code",
   "execution_count": null,
   "id": "e40a9639",
   "metadata": {},
   "outputs": [],
   "source": [
    "#----------------------------------"
   ]
  },
  {
   "cell_type": "code",
   "execution_count": null,
   "id": "f0db52db",
   "metadata": {},
   "outputs": [],
   "source": [
    "date_requested = datetime.date(2022,9,9)\n",
    "date_requested.year\n",
    "date_requested.month\n",
    "date_requested.day"
   ]
  },
  {
   "cell_type": "code",
   "execution_count": null,
   "id": "7b2b3fdd",
   "metadata": {},
   "outputs": [],
   "source": [
    "time_requested = datetime.time(17,0)\n",
    "time_requested.hour\n",
    "time_requested.minute\n",
    "round_hour=round((time_requested.hour+time_requested.minute/60)/3)*3\n",
    "round_hour\n",
    "\n",
    "if round_hour<10:\n",
    "    str_hour='0+str(round_hour)'\n",
    "else:\n",
    "    str_hour=str(round_hour)\n"
   ]
  },
  {
   "cell_type": "code",
   "execution_count": null,
   "id": "ba06b425",
   "metadata": {},
   "outputs": [],
   "source": [
    "def strround(x):\n",
    "    if x<10:\n",
    "        r='0'+str(x)\n",
    "    else:\n",
    "        r=str(x)\n",
    "    return r"
   ]
  },
  {
   "cell_type": "code",
   "execution_count": null,
   "id": "206ef8af",
   "metadata": {},
   "outputs": [],
   "source": [
    "dt_txt=f'{date_requested.year}-{strround(date_requested.month)}-{strround(date_requested.day)} {strround(round_hour)}:00:00'\n",
    "dt_txt"
   ]
  },
  {
   "cell_type": "code",
   "execution_count": null,
   "id": "74534aaf",
   "metadata": {},
   "outputs": [],
   "source": [
    "time_until=time_until_end_of_day(time_requested )\n",
    "n=choose_n(time_until)\n",
    "response = weather_forecast()\n",
    "delta = date_requested-today\n",
    "dict={'January':5.0,'February':6.0,'March':10.0,'April':12.0,'May':16.0,'June':22.0,'July':26.0,'August':25.0,'September':21.0,'October':15.0,'November':9.0,'December':6.0}\n",
    "\n",
    "if (delta.days*8+n)< 39:\n",
    "    try:\n",
    "        forecast = weather_forecast()\n",
    "        index=0\n",
    "        for i in (response[\"list\"]):\n",
    "            if i['dt_txt']==dt_txt:\n",
    "                feels_like = response[\"list\"][index][\"main\"][\"feels_like\"]\n",
    "                weather = response[\"list\"][index][\"weather\"][0][\"main\"]\n",
    "            index+=1\n",
    "    except:\n",
    "        if month in [January, December]:\n",
    "            weather = Cloudy\n",
    "            feels_like = dict[month]\n",
    "        else:\n",
    "            weather == Sunny\n",
    "            feels_like = dict[month]"
   ]
  },
  {
   "cell_type": "code",
   "execution_count": null,
   "id": "e7dd13b7",
   "metadata": {},
   "outputs": [],
   "source": [
    "response = weather_forecast()\n",
    "response"
   ]
  },
  {
   "cell_type": "code",
   "execution_count": 2,
   "id": "69f3fdde",
   "metadata": {},
   "outputs": [],
   "source": [
    "def time_until_end_of_day(dt=None):\n",
    "    if dt is None:\n",
    "        dt = now.time()\n",
    "    return (((24 - dt.hour - 1) * 60 * 60) + ((60 - dt.minute - 1) * 60)) //3600\n",
    "\n",
    "####################\n",
    "def choose_n(time_until_end_of_day):\n",
    "    if time_until_end_of_day>=24:\n",
    "        n=0\n",
    "    elif time_until_end_of_day >= 15:\n",
    "        n=0\n",
    "    elif time_until_end_of_day >= 12:\n",
    "        n=1\n",
    "    elif time_until_end_of_day >= 9:\n",
    "        n=2\n",
    "    elif time_until_end_of_day >= 6:\n",
    "        n=3\n",
    "    elif time_until_end_of_day >= 3:\n",
    "        n=4\n",
    "    elif time_until_end_of_day >=0:\n",
    "        n=5\n",
    "    return n\n",
    "\n",
    "#####################\n",
    "\n",
    "def weather_forecast():\n",
    "    '''Return a 5-day weather forecast for the city, given its latitude and longitude.'''\n",
    "    BASE_URL = \"https://weather.lewagon.com\"\n",
    "    url = BASE_URL+f\"/data/2.5/forecast?lat=40.4167047&lon=-3.703582&units=metric\"\n",
    "\n",
    "    response = requests.get(url).json()\n",
    "\n",
    "    return response\n",
    "\n",
    "####################\n",
    "\n",
    "\n",
    "#################\n",
    "def strround(x):\n",
    "    if x<10:\n",
    "        r='0'+str(x)\n",
    "    else:\n",
    "        r=str(x)\n",
    "    return r"
   ]
  },
  {
   "cell_type": "code",
   "execution_count": 3,
   "id": "7c829201",
   "metadata": {},
   "outputs": [],
   "source": [
    "def weather(date_requested,time_requested):\n",
    "    #breakpoint()\n",
    "    today = date.today()\n",
    "    round_hour=round((time_requested.hour+time_requested.minute/60)/3)*3\n",
    "    time_until=time_until_end_of_day(time_requested )\n",
    "    n=choose_n(time_until)\n",
    "    response = weather_forecast()\n",
    "    delta = date_requested-today\n",
    "    month_feels={1:5.0,2:6.0,3:10.0,4:12.0,5:16.0,6:22.0,7:26.0,8:25.0,9:21.0,10:15.0,11:9.0,12:6.0}\n",
    "    dt_txt=f'{date_requested.year}-{strround(date_requested.month)}-{strround(date_requested.day)} {strround(round_hour)}:00:00'\n",
    "    weather='test'\n",
    "    \n",
    "    if ((delta.days*8+n)< 39) & (delta.days>=0):\n",
    "        forecast = weather_forecast()\n",
    "        index=0\n",
    "        for i in (response[\"list\"]):\n",
    "            if i['dt_txt']==dt_txt:\n",
    "                feels_like = response[\"list\"][index][\"main\"][\"feels_like\"]\n",
    "                weather = response[\"list\"][index][\"weather\"][0][\"main\"]\n",
    "            index+=1\n",
    "            \n",
    "    else:\n",
    "        print(date_requested.month)\n",
    "        breakpoint()\n",
    "        if date_requested.month in [1, 2,12]:\n",
    "            weather = 'Cloudy'\n",
    "            feels_like = month_feels[date_requested.month]\n",
    "        else:\n",
    "            weather = 'Sunny'\n",
    "            feels_like = month_feels[date_requested.month]\n",
    "    \n",
    "    return weather, feels_like"
   ]
  },
  {
   "cell_type": "code",
   "execution_count": 4,
   "id": "a36541b8",
   "metadata": {},
   "outputs": [
    {
     "name": "stdout",
     "output_type": "stream",
     "text": [
      "2022-09-07 15:06:12.449297 2022-09-07 15:06:12.449297\n"
     ]
    }
   ],
   "source": [
    "now = datetime.datetime.now()\n",
    "date=now.date()\n",
    "time=now.time()\n",
    "print(now,date,time)"
   ]
  },
  {
   "cell_type": "code",
   "execution_count": 5,
   "id": "111f7eab",
   "metadata": {},
   "outputs": [
    {
     "data": {
      "text/plain": [
       "('Clouds', 22.27)"
      ]
     },
     "execution_count": 5,
     "metadata": {},
     "output_type": "execute_result"
    }
   ],
   "source": [
    "weather(date,time)"
   ]
  },
  {
   "cell_type": "code",
   "execution_count": 6,
   "id": "d7148f3b",
   "metadata": {},
   "outputs": [],
   "source": [
    "time_requested = datetime.time(21,0)\n",
    "date_requested = datetime.date(2020,12,10)\n"
   ]
  },
  {
   "cell_type": "code",
   "execution_count": 7,
   "id": "c96d9896",
   "metadata": {},
   "outputs": [
    {
     "name": "stdout",
     "output_type": "stream",
     "text": [
      "12\n"
     ]
    },
    {
     "data": {
      "text/plain": [
       "('Cloudy', 6.0)"
      ]
     },
     "execution_count": 7,
     "metadata": {},
     "output_type": "execute_result"
    }
   ],
   "source": [
    "weather(date_requested,time_requested)"
   ]
  },
  {
   "cell_type": "code",
   "execution_count": 8,
   "id": "ad34a26f",
   "metadata": {},
   "outputs": [
    {
     "data": {
      "text/plain": [
       "12"
      ]
     },
     "execution_count": 8,
     "metadata": {},
     "output_type": "execute_result"
    }
   ],
   "source": [
    "date_requested.month"
   ]
  },
  {
   "cell_type": "code",
   "execution_count": 9,
   "id": "d812dc4b",
   "metadata": {},
   "outputs": [
    {
     "data": {
      "text/plain": [
       "datetime.date(2022, 9, 7)"
      ]
     },
     "execution_count": 9,
     "metadata": {},
     "output_type": "execute_result"
    }
   ],
   "source": [
    "datetime.date.today()"
   ]
  },
  {
   "cell_type": "code",
   "execution_count": 11,
   "id": "f9bfc9a2",
   "metadata": {},
   "outputs": [
    {
     "data": {
      "text/plain": [
       "datetime.date(2022, 9, 7)"
      ]
     },
     "execution_count": 11,
     "metadata": {},
     "output_type": "execute_result"
    }
   ],
   "source": [
    "date.today()"
   ]
  },
  {
   "cell_type": "code",
   "execution_count": null,
   "id": "885b458a",
   "metadata": {},
   "outputs": [],
   "source": []
  }
 ],
 "metadata": {
  "kernelspec": {
   "display_name": "Python 3 (ipykernel)",
   "language": "python",
   "name": "python3"
  },
  "language_info": {
   "codemirror_mode": {
    "name": "ipython",
    "version": 3
   },
   "file_extension": ".py",
   "mimetype": "text/x-python",
   "name": "python",
   "nbconvert_exporter": "python",
   "pygments_lexer": "ipython3",
   "version": "3.8.12"
  },
  "toc": {
   "base_numbering": 1,
   "nav_menu": {},
   "number_sections": true,
   "sideBar": true,
   "skip_h1_title": false,
   "title_cell": "Table of Contents",
   "title_sidebar": "Contents",
   "toc_cell": false,
   "toc_position": {},
   "toc_section_display": true,
   "toc_window_display": false
  }
 },
 "nbformat": 4,
 "nbformat_minor": 5
}
