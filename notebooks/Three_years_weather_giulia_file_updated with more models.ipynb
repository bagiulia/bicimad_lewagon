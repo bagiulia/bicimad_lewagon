{
  "cells": [
    {
      "cell_type": "code",
      "execution_count": 1,
      "id": "22f26ac4",
      "metadata": {
        "id": "22f26ac4",
        "outputId": "ae14d5e4-b531-46be-dcef-f73f9ff08b57",
        "colab": {
          "base_uri": "https://localhost:8080/"
        }
      },
      "outputs": [
        {
          "output_type": "stream",
          "name": "stdout",
          "text": [
            "Looking in indexes: https://pypi.org/simple, https://us-python.pkg.dev/colab-wheels/public/simple/\n",
            "Requirement already satisfied: holidays-es in /usr/local/lib/python3.7/dist-packages (1.0.1)\n"
          ]
        }
      ],
      "source": [
        "pip install holidays-es"
      ]
    },
    {
      "cell_type": "code",
      "execution_count": 2,
      "id": "91201e78",
      "metadata": {
        "id": "91201e78"
      },
      "outputs": [],
      "source": [
        "from sklearn import preprocessing\n",
        "import pandas as pd\n",
        "import numpy as np\n",
        "from math import pi, sin, cos\n",
        "from datetime import datetime\n",
        "from holidays_es import get_provinces, Province\n",
        "import sys\n",
        "import seaborn as sns\n",
        "import matplotlib.pyplot as plt\n",
        "from tensorflow.keras.models import Sequential\n",
        "from tensorflow.keras.layers import Conv2D, Flatten, Dense\n",
        "from tensorflow.keras import layers\n",
        "from sklearn.compose import ColumnTransformer\n",
        "from sklearn.pipeline import Pipeline\n",
        "from sklearn.preprocessing import StandardScaler, OneHotEncoder\n",
        "from sklearn.linear_model import LogisticRegression, LinearRegression\n",
        "from sklearn.model_selection import train_test_split, GridSearchCV"
      ]
    },
    {
      "cell_type": "code",
      "execution_count": 3,
      "id": "38ee3df0",
      "metadata": {
        "id": "38ee3df0"
      },
      "outputs": [],
      "source": [
        "df = pd.read_csv('station_1.csv')"
      ]
    },
    {
      "cell_type": "code",
      "execution_count": 4,
      "id": "d8ceabb0",
      "metadata": {
        "id": "d8ceabb0",
        "outputId": "be961968-5805-4604-9576-c13c943a1ea9",
        "colab": {
          "base_uri": "https://localhost:8080/"
        }
      },
      "outputs": [
        {
          "output_type": "stream",
          "name": "stdout",
          "text": [
            "<class 'pandas.core.frame.DataFrame'>\n",
            "RangeIndex: 25862 entries, 0 to 25861\n",
            "Data columns (total 30 columns):\n",
            " #   Column              Non-Null Count  Dtype  \n",
            "---  ------              --------------  -----  \n",
            " 0   Unnamed: 0          25862 non-null  int64  \n",
            " 1   activate            25862 non-null  int64  \n",
            " 2   name                25862 non-null  object \n",
            " 3   reservations_count  25862 non-null  int64  \n",
            " 4   light               25862 non-null  int64  \n",
            " 5   total_bases         25862 non-null  int64  \n",
            " 6   free_bases          25862 non-null  int64  \n",
            " 7   number              25862 non-null  object \n",
            " 8   longitude           25862 non-null  float64\n",
            " 9   no_available        25862 non-null  int64  \n",
            " 10  address             25862 non-null  object \n",
            " 11  latitude            25862 non-null  float64\n",
            " 12  dock_bikes          25862 non-null  int64  \n",
            " 13  id                  25862 non-null  object \n",
            " 14  time                25862 non-null  int64  \n",
            " 15  date                25862 non-null  object \n",
            " 16  holidays            25862 non-null  bool   \n",
            " 17  datetime            25862 non-null  object \n",
            " 18  Unnamed: 0.1        25862 non-null  int64  \n",
            " 19  feels_like          25862 non-null  float64\n",
            " 20  weather_main        25862 non-null  object \n",
            " 21  weekday             25862 non-null  int64  \n",
            " 22  year                25862 non-null  int64  \n",
            " 23  month               25862 non-null  int64  \n",
            " 24  hour_sin            25862 non-null  float64\n",
            " 25  hour_cos            25862 non-null  float64\n",
            " 26  weekday_sin         25862 non-null  float64\n",
            " 27  weekday_cos         25862 non-null  float64\n",
            " 28  month_sin           25862 non-null  float64\n",
            " 29  month_cos           25862 non-null  float64\n",
            "dtypes: bool(1), float64(9), int64(13), object(7)\n",
            "memory usage: 5.7+ MB\n"
          ]
        }
      ],
      "source": [
        "df.info()"
      ]
    },
    {
      "cell_type": "code",
      "execution_count": 5,
      "id": "6bda87db",
      "metadata": {
        "id": "6bda87db"
      },
      "outputs": [],
      "source": [
        "df.drop(columns=['Unnamed: 0.1', 'Unnamed: 0'], inplace=True)"
      ]
    },
    {
      "cell_type": "code",
      "execution_count": 6,
      "id": "7ee57888",
      "metadata": {
        "id": "7ee57888",
        "outputId": "83eca4f7-3895-47c8-97fe-322a1635437d",
        "colab": {
          "base_uri": "https://localhost:8080/"
        }
      },
      "outputs": [
        {
          "output_type": "execute_result",
          "data": {
            "text/plain": [
              "array([2018, 2019, 2020, 2021])"
            ]
          },
          "metadata": {},
          "execution_count": 6
        }
      ],
      "source": [
        "df.year.unique()"
      ]
    },
    {
      "cell_type": "code",
      "execution_count": 7,
      "id": "ca148b48",
      "metadata": {
        "id": "ca148b48"
      },
      "outputs": [],
      "source": [
        "temp = df.copy()"
      ]
    },
    {
      "cell_type": "code",
      "source": [
        "# Create correlation matrix\n",
        "#corr_matrix = temp.corr().abs()\n",
        "\n",
        "# Select upper triangle of correlation matrix\n",
        "#upper = corr_matrix.where(np.triu(np.ones(corr_matrix.shape), k=1).astype(bool))\n",
        "\n",
        "# Find features with correlation greater than 0.95\n",
        "#to_drop = [column for column in upper.columns if any(upper[column] > 0.5)]"
      ],
      "metadata": {
        "id": "sWlJOA07V_IT"
      },
      "id": "sWlJOA07V_IT",
      "execution_count": 23,
      "outputs": []
    },
    {
      "cell_type": "code",
      "source": [
        "#to_drop "
      ],
      "metadata": {
        "id": "l5koNnaaXNzm"
      },
      "id": "l5koNnaaXNzm",
      "execution_count": 23,
      "outputs": []
    },
    {
      "cell_type": "code",
      "source": [
        "#temp_2=temp[to_drop]"
      ],
      "metadata": {
        "id": "U18E-OpuWkWG"
      },
      "id": "U18E-OpuWkWG",
      "execution_count": 25,
      "outputs": []
    },
    {
      "cell_type": "code",
      "source": [
        "#corr_matrix = temp_2.corr().abs()"
      ],
      "metadata": {
        "id": "42_jJJ--W2C3"
      },
      "id": "42_jJJ--W2C3",
      "execution_count": 26,
      "outputs": []
    },
    {
      "cell_type": "code",
      "source": [
        "#corr_mat = temp.corr()"
      ],
      "metadata": {
        "id": "iWOcWAqrW9dQ"
      },
      "id": "iWOcWAqrW9dQ",
      "execution_count": 35,
      "outputs": []
    },
    {
      "cell_type": "code",
      "source": [
        "#sorted_mat = corr_mat.unstack().sort_values()"
      ],
      "metadata": {
        "id": "xDvmI_igZEs1"
      },
      "id": "xDvmI_igZEs1",
      "execution_count": 36,
      "outputs": []
    },
    {
      "cell_type": "code",
      "source": [
        "#sorted_corr = pd.DataFrame(sorted_mat)"
      ],
      "metadata": {
        "id": "gVpnGpG7ZMIY"
      },
      "id": "gVpnGpG7ZMIY",
      "execution_count": 39,
      "outputs": []
    },
    {
      "cell_type": "code",
      "source": [
        "#sorted_corr"
      ],
      "metadata": {
        "id": "NcO8PnZHZYZJ"
      },
      "id": "NcO8PnZHZYZJ",
      "execution_count": 27,
      "outputs": []
    },
    {
      "cell_type": "code",
      "source": [
        "#sns.heatmap(corr_matrix)"
      ],
      "metadata": {
        "id": "T7WQRD4DYYuA"
      },
      "id": "T7WQRD4DYYuA",
      "execution_count": 26,
      "outputs": []
    },
    {
      "cell_type": "code",
      "execution_count": 8,
      "id": "75d5166e",
      "metadata": {
        "scrolled": true,
        "id": "75d5166e",
        "outputId": "e576949f-5013-4d8b-d458-74b2e1281836",
        "colab": {
          "base_uri": "https://localhost:8080/"
        }
      },
      "outputs": [
        {
          "output_type": "execute_result",
          "data": {
            "text/plain": [
              "(25862, 28)"
            ]
          },
          "metadata": {},
          "execution_count": 8
        }
      ],
      "source": [
        "temp.shape"
      ]
    },
    {
      "cell_type": "code",
      "execution_count": 9,
      "id": "76b5be36",
      "metadata": {
        "id": "76b5be36",
        "outputId": "0b54793d-bd50-4c79-9709-1f1bdda2480d",
        "colab": {
          "base_uri": "https://localhost:8080/"
        }
      },
      "outputs": [
        {
          "output_type": "stream",
          "name": "stdout",
          "text": [
            "<class 'pandas.core.frame.DataFrame'>\n",
            "RangeIndex: 25862 entries, 0 to 25861\n",
            "Data columns (total 28 columns):\n",
            " #   Column              Non-Null Count  Dtype  \n",
            "---  ------              --------------  -----  \n",
            " 0   activate            25862 non-null  int64  \n",
            " 1   name                25862 non-null  object \n",
            " 2   reservations_count  25862 non-null  int64  \n",
            " 3   light               25862 non-null  int64  \n",
            " 4   total_bases         25862 non-null  int64  \n",
            " 5   free_bases          25862 non-null  int64  \n",
            " 6   number              25862 non-null  object \n",
            " 7   longitude           25862 non-null  float64\n",
            " 8   no_available        25862 non-null  int64  \n",
            " 9   address             25862 non-null  object \n",
            " 10  latitude            25862 non-null  float64\n",
            " 11  dock_bikes          25862 non-null  int64  \n",
            " 12  id                  25862 non-null  object \n",
            " 13  time                25862 non-null  int64  \n",
            " 14  date                25862 non-null  object \n",
            " 15  holidays            25862 non-null  bool   \n",
            " 16  datetime            25862 non-null  object \n",
            " 17  feels_like          25862 non-null  float64\n",
            " 18  weather_main        25862 non-null  object \n",
            " 19  weekday             25862 non-null  int64  \n",
            " 20  year                25862 non-null  int64  \n",
            " 21  month               25862 non-null  int64  \n",
            " 22  hour_sin            25862 non-null  float64\n",
            " 23  hour_cos            25862 non-null  float64\n",
            " 24  weekday_sin         25862 non-null  float64\n",
            " 25  weekday_cos         25862 non-null  float64\n",
            " 26  month_sin           25862 non-null  float64\n",
            " 27  month_cos           25862 non-null  float64\n",
            "dtypes: bool(1), float64(9), int64(11), object(7)\n",
            "memory usage: 5.4+ MB\n"
          ]
        }
      ],
      "source": [
        "temp.info()"
      ]
    },
    {
      "cell_type": "code",
      "source": [
        "#test=temp['datetime'][0]"
      ],
      "metadata": {
        "id": "enhLz5ead1Dg"
      },
      "id": "enhLz5ead1Dg",
      "execution_count": 63,
      "outputs": []
    },
    {
      "cell_type": "code",
      "source": [
        "#test[0:10]+' '+test[10:]"
      ],
      "metadata": {
        "id": "yRyHnGlOd8U1"
      },
      "id": "yRyHnGlOd8U1",
      "execution_count": 30,
      "outputs": []
    },
    {
      "cell_type": "code",
      "source": [],
      "metadata": {
        "id": "460vWGs5bt8-"
      },
      "id": "460vWGs5bt8-",
      "execution_count": 31,
      "outputs": []
    },
    {
      "cell_type": "code",
      "source": [
        "#temp['datetime']"
      ],
      "metadata": {
        "colab": {
          "base_uri": "https://localhost:8080/"
        },
        "id": "FUbpWQ-KfuT2",
        "outputId": "fbd5843c-1fb2-4efc-a8f3-6f47ede2e8e3"
      },
      "id": "FUbpWQ-KfuT2",
      "execution_count": 32,
      "outputs": [
        {
          "output_type": "execute_result",
          "data": {
            "text/plain": [
              "0         2018-08-01  0:00:00\n",
              "1         2018-08-01  1:00:00\n",
              "2         2018-08-01  2:00:00\n",
              "3         2018-08-01  3:00:00\n",
              "4         2018-08-01  4:00:00\n",
              "                 ...         \n",
              "25857    2021-06-30  19:00:00\n",
              "25858    2021-06-30  20:00:00\n",
              "25859    2021-06-30  21:00:00\n",
              "25860    2021-06-30  22:00:00\n",
              "25861    2021-06-30  23:00:00\n",
              "Name: datetime, Length: 25862, dtype: object"
            ]
          },
          "metadata": {},
          "execution_count": 32
        }
      ]
    },
    {
      "cell_type": "code",
      "source": [
        "#pd.to_datetime(temp['datetime'], format='%Y-%m-%d %H:%M:%S',)"
      ],
      "metadata": {
        "colab": {
          "base_uri": "https://localhost:8080/",
          "height": 363
        },
        "id": "Dos9eBPqb1VI",
        "outputId": "79106ec1-56b7-4973-d539-c2974f0e2828"
      },
      "id": "Dos9eBPqb1VI",
      "execution_count": 34,
      "outputs": [
        {
          "output_type": "error",
          "ename": "ValueError",
          "evalue": "ignored",
          "traceback": [
            "\u001b[0;31m---------------------------------------------------------------------------\u001b[0m",
            "\u001b[0;31mTypeError\u001b[0m                                 Traceback (most recent call last)",
            "\u001b[0;32m/usr/local/lib/python3.7/dist-packages/pandas/core/arrays/datetimes.py\u001b[0m in \u001b[0;36mobjects_to_datetime64ns\u001b[0;34m(data, dayfirst, yearfirst, utc, errors, require_iso8601, allow_object, allow_mixed)\u001b[0m\n\u001b[1;32m   2191\u001b[0m         \u001b[0;32mtry\u001b[0m\u001b[0;34m:\u001b[0m\u001b[0;34m\u001b[0m\u001b[0;34m\u001b[0m\u001b[0m\n\u001b[0;32m-> 2192\u001b[0;31m             \u001b[0mvalues\u001b[0m\u001b[0;34m,\u001b[0m \u001b[0mtz_parsed\u001b[0m \u001b[0;34m=\u001b[0m \u001b[0mconversion\u001b[0m\u001b[0;34m.\u001b[0m\u001b[0mdatetime_to_datetime64\u001b[0m\u001b[0;34m(\u001b[0m\u001b[0mdata\u001b[0m\u001b[0;34m.\u001b[0m\u001b[0mravel\u001b[0m\u001b[0;34m(\u001b[0m\u001b[0;34m\"K\"\u001b[0m\u001b[0;34m)\u001b[0m\u001b[0;34m)\u001b[0m\u001b[0;34m\u001b[0m\u001b[0;34m\u001b[0m\u001b[0m\n\u001b[0m\u001b[1;32m   2193\u001b[0m             \u001b[0;31m# If tzaware, these values represent unix timestamps, so we\u001b[0m\u001b[0;34m\u001b[0m\u001b[0;34m\u001b[0m\u001b[0;34m\u001b[0m\u001b[0m\n",
            "\u001b[0;32m/usr/local/lib/python3.7/dist-packages/pandas/_libs/tslibs/conversion.pyx\u001b[0m in \u001b[0;36mpandas._libs.tslibs.conversion.datetime_to_datetime64\u001b[0;34m()\u001b[0m\n",
            "\u001b[0;31mTypeError\u001b[0m: Unrecognized value type: <class 'str'>",
            "\nDuring handling of the above exception, another exception occurred:\n",
            "\u001b[0;31mValueError\u001b[0m                                Traceback (most recent call last)",
            "\u001b[0;32m<ipython-input-34-64295b04155a>\u001b[0m in \u001b[0;36m<module>\u001b[0;34m\u001b[0m\n\u001b[0;32m----> 1\u001b[0;31m \u001b[0mpd\u001b[0m\u001b[0;34m.\u001b[0m\u001b[0mto_datetime\u001b[0m\u001b[0;34m(\u001b[0m\u001b[0mtemp\u001b[0m\u001b[0;34m[\u001b[0m\u001b[0;34m'datetime'\u001b[0m\u001b[0;34m]\u001b[0m\u001b[0;34m,\u001b[0m \u001b[0mformat\u001b[0m\u001b[0;34m=\u001b[0m\u001b[0;34m'%Y-%m-%d %H:%M:%S'\u001b[0m\u001b[0;34m,\u001b[0m\u001b[0;34m)\u001b[0m\u001b[0;34m\u001b[0m\u001b[0;34m\u001b[0m\u001b[0m\n\u001b[0m",
            "\u001b[0;32m/usr/local/lib/python3.7/dist-packages/pandas/core/tools/datetimes.py\u001b[0m in \u001b[0;36mto_datetime\u001b[0;34m(arg, errors, dayfirst, yearfirst, utc, format, exact, unit, infer_datetime_format, origin, cache)\u001b[0m\n\u001b[1;32m    885\u001b[0m             \u001b[0mresult\u001b[0m \u001b[0;34m=\u001b[0m \u001b[0marg\u001b[0m\u001b[0;34m.\u001b[0m\u001b[0mmap\u001b[0m\u001b[0;34m(\u001b[0m\u001b[0mcache_array\u001b[0m\u001b[0;34m)\u001b[0m\u001b[0;34m\u001b[0m\u001b[0;34m\u001b[0m\u001b[0m\n\u001b[1;32m    886\u001b[0m         \u001b[0;32melse\u001b[0m\u001b[0;34m:\u001b[0m\u001b[0;34m\u001b[0m\u001b[0;34m\u001b[0m\u001b[0m\n\u001b[0;32m--> 887\u001b[0;31m             \u001b[0mvalues\u001b[0m \u001b[0;34m=\u001b[0m \u001b[0mconvert_listlike\u001b[0m\u001b[0;34m(\u001b[0m\u001b[0marg\u001b[0m\u001b[0;34m.\u001b[0m\u001b[0m_values\u001b[0m\u001b[0;34m,\u001b[0m \u001b[0mformat\u001b[0m\u001b[0;34m)\u001b[0m\u001b[0;34m\u001b[0m\u001b[0;34m\u001b[0m\u001b[0m\n\u001b[0m\u001b[1;32m    888\u001b[0m             \u001b[0mresult\u001b[0m \u001b[0;34m=\u001b[0m \u001b[0marg\u001b[0m\u001b[0;34m.\u001b[0m\u001b[0m_constructor\u001b[0m\u001b[0;34m(\u001b[0m\u001b[0mvalues\u001b[0m\u001b[0;34m,\u001b[0m \u001b[0mindex\u001b[0m\u001b[0;34m=\u001b[0m\u001b[0marg\u001b[0m\u001b[0;34m.\u001b[0m\u001b[0mindex\u001b[0m\u001b[0;34m,\u001b[0m \u001b[0mname\u001b[0m\u001b[0;34m=\u001b[0m\u001b[0marg\u001b[0m\u001b[0;34m.\u001b[0m\u001b[0mname\u001b[0m\u001b[0;34m)\u001b[0m\u001b[0;34m\u001b[0m\u001b[0;34m\u001b[0m\u001b[0m\n\u001b[1;32m    889\u001b[0m     \u001b[0;32melif\u001b[0m \u001b[0misinstance\u001b[0m\u001b[0;34m(\u001b[0m\u001b[0marg\u001b[0m\u001b[0;34m,\u001b[0m \u001b[0;34m(\u001b[0m\u001b[0mABCDataFrame\u001b[0m\u001b[0;34m,\u001b[0m \u001b[0mabc\u001b[0m\u001b[0;34m.\u001b[0m\u001b[0mMutableMapping\u001b[0m\u001b[0;34m)\u001b[0m\u001b[0;34m)\u001b[0m\u001b[0;34m:\u001b[0m\u001b[0;34m\u001b[0m\u001b[0;34m\u001b[0m\u001b[0m\n",
            "\u001b[0;32m/usr/local/lib/python3.7/dist-packages/pandas/core/tools/datetimes.py\u001b[0m in \u001b[0;36m_convert_listlike_datetimes\u001b[0;34m(arg, format, name, tz, unit, errors, infer_datetime_format, dayfirst, yearfirst, exact)\u001b[0m\n\u001b[1;32m    406\u001b[0m         \u001b[0merrors\u001b[0m\u001b[0;34m=\u001b[0m\u001b[0merrors\u001b[0m\u001b[0;34m,\u001b[0m\u001b[0;34m\u001b[0m\u001b[0;34m\u001b[0m\u001b[0m\n\u001b[1;32m    407\u001b[0m         \u001b[0mrequire_iso8601\u001b[0m\u001b[0;34m=\u001b[0m\u001b[0mrequire_iso8601\u001b[0m\u001b[0;34m,\u001b[0m\u001b[0;34m\u001b[0m\u001b[0;34m\u001b[0m\u001b[0m\n\u001b[0;32m--> 408\u001b[0;31m         \u001b[0mallow_object\u001b[0m\u001b[0;34m=\u001b[0m\u001b[0;32mTrue\u001b[0m\u001b[0;34m,\u001b[0m\u001b[0;34m\u001b[0m\u001b[0;34m\u001b[0m\u001b[0m\n\u001b[0m\u001b[1;32m    409\u001b[0m     )\n\u001b[1;32m    410\u001b[0m \u001b[0;34m\u001b[0m\u001b[0m\n",
            "\u001b[0;32m/usr/local/lib/python3.7/dist-packages/pandas/core/arrays/datetimes.py\u001b[0m in \u001b[0;36mobjects_to_datetime64ns\u001b[0;34m(data, dayfirst, yearfirst, utc, errors, require_iso8601, allow_object, allow_mixed)\u001b[0m\n\u001b[1;32m   2196\u001b[0m             \u001b[0;32mreturn\u001b[0m \u001b[0mvalues\u001b[0m\u001b[0;34m.\u001b[0m\u001b[0mview\u001b[0m\u001b[0;34m(\u001b[0m\u001b[0;34m\"i8\"\u001b[0m\u001b[0;34m)\u001b[0m\u001b[0;34m,\u001b[0m \u001b[0mtz_parsed\u001b[0m\u001b[0;34m\u001b[0m\u001b[0;34m\u001b[0m\u001b[0m\n\u001b[1;32m   2197\u001b[0m         \u001b[0;32mexcept\u001b[0m \u001b[0;34m(\u001b[0m\u001b[0mValueError\u001b[0m\u001b[0;34m,\u001b[0m \u001b[0mTypeError\u001b[0m\u001b[0;34m)\u001b[0m\u001b[0;34m:\u001b[0m\u001b[0;34m\u001b[0m\u001b[0;34m\u001b[0m\u001b[0m\n\u001b[0;32m-> 2198\u001b[0;31m             \u001b[0;32mraise\u001b[0m \u001b[0merr\u001b[0m\u001b[0;34m\u001b[0m\u001b[0;34m\u001b[0m\u001b[0m\n\u001b[0m\u001b[1;32m   2199\u001b[0m \u001b[0;34m\u001b[0m\u001b[0m\n\u001b[1;32m   2200\u001b[0m     \u001b[0;32mif\u001b[0m \u001b[0mtz_parsed\u001b[0m \u001b[0;32mis\u001b[0m \u001b[0;32mnot\u001b[0m \u001b[0;32mNone\u001b[0m\u001b[0;34m:\u001b[0m\u001b[0;34m\u001b[0m\u001b[0;34m\u001b[0m\u001b[0m\n",
            "\u001b[0;32m/usr/local/lib/python3.7/dist-packages/pandas/core/arrays/datetimes.py\u001b[0m in \u001b[0;36mobjects_to_datetime64ns\u001b[0;34m(data, dayfirst, yearfirst, utc, errors, require_iso8601, allow_object, allow_mixed)\u001b[0m\n\u001b[1;32m   2185\u001b[0m             \u001b[0myearfirst\u001b[0m\u001b[0;34m=\u001b[0m\u001b[0myearfirst\u001b[0m\u001b[0;34m,\u001b[0m\u001b[0;34m\u001b[0m\u001b[0;34m\u001b[0m\u001b[0m\n\u001b[1;32m   2186\u001b[0m             \u001b[0mrequire_iso8601\u001b[0m\u001b[0;34m=\u001b[0m\u001b[0mrequire_iso8601\u001b[0m\u001b[0;34m,\u001b[0m\u001b[0;34m\u001b[0m\u001b[0;34m\u001b[0m\u001b[0m\n\u001b[0;32m-> 2187\u001b[0;31m             \u001b[0mallow_mixed\u001b[0m\u001b[0;34m=\u001b[0m\u001b[0mallow_mixed\u001b[0m\u001b[0;34m,\u001b[0m\u001b[0;34m\u001b[0m\u001b[0;34m\u001b[0m\u001b[0m\n\u001b[0m\u001b[1;32m   2188\u001b[0m         )\n\u001b[1;32m   2189\u001b[0m         \u001b[0mresult\u001b[0m \u001b[0;34m=\u001b[0m \u001b[0mresult\u001b[0m\u001b[0;34m.\u001b[0m\u001b[0mreshape\u001b[0m\u001b[0;34m(\u001b[0m\u001b[0mdata\u001b[0m\u001b[0;34m.\u001b[0m\u001b[0mshape\u001b[0m\u001b[0;34m,\u001b[0m \u001b[0morder\u001b[0m\u001b[0;34m=\u001b[0m\u001b[0morder\u001b[0m\u001b[0;34m)\u001b[0m\u001b[0;34m\u001b[0m\u001b[0;34m\u001b[0m\u001b[0m\n",
            "\u001b[0;32m/usr/local/lib/python3.7/dist-packages/pandas/_libs/tslib.pyx\u001b[0m in \u001b[0;36mpandas._libs.tslib.array_to_datetime\u001b[0;34m()\u001b[0m\n",
            "\u001b[0;32m/usr/local/lib/python3.7/dist-packages/pandas/_libs/tslib.pyx\u001b[0m in \u001b[0;36mpandas._libs.tslib.array_to_datetime\u001b[0;34m()\u001b[0m\n",
            "\u001b[0;31mValueError\u001b[0m: time data 2018-08-01  0:00:00 doesn't match format specified"
          ]
        }
      ]
    },
    {
      "cell_type": "markdown",
      "id": "ef5f7b2d",
      "metadata": {
        "id": "ef5f7b2d"
      },
      "source": [
        "### Scaling and Encoding :"
      ]
    },
    {
      "cell_type": "code",
      "source": [
        "temp.head()"
      ],
      "metadata": {
        "colab": {
          "base_uri": "https://localhost:8080/",
          "height": 473
        },
        "id": "z1skbWxf3tgB",
        "outputId": "7263da2a-2089-4cff-9eae-7d052c4edcb0"
      },
      "id": "z1skbWxf3tgB",
      "execution_count": 10,
      "outputs": [
        {
          "output_type": "execute_result",
          "data": {
            "text/plain": [
              "   activate              name  reservations_count  light  total_bases  \\\n",
              "0         1  Puerta del Sol A                   0      2           24   \n",
              "1         1  Puerta del Sol A                   0      0           24   \n",
              "2         1  Puerta del Sol A                   0      2           24   \n",
              "3         1  Puerta del Sol A                   0      0           24   \n",
              "4         1  Puerta del Sol A                   0      0           24   \n",
              "\n",
              "   free_bases number  longitude  no_available             address  ...  \\\n",
              "0          11     1a  -3.702425             0  Puerta del Sol n 1  ...   \n",
              "1          18     1a  -3.702425             0  Puerta del Sol n 1  ...   \n",
              "2          13     1a  -3.702425             0  Puerta del Sol n 1  ...   \n",
              "3          17     1a  -3.702425             0  Puerta del Sol n 1  ...   \n",
              "4          22     1a  -3.702425             0  Puerta del Sol n 1  ...   \n",
              "\n",
              "   weather_main  weekday  year  month  hour_sin  hour_cos weekday_sin  \\\n",
              "0         Clear        2  2018      8  0.000000  1.000000    0.974928   \n",
              "1         Clear        2  2018      8  0.258819  0.965926    0.974928   \n",
              "2         Clear        2  2018      8  0.500000  0.866025    0.974928   \n",
              "3         Clear        2  2018      8  0.707107  0.707107    0.974928   \n",
              "4         Clear        2  2018      8  0.866025  0.500000    0.974928   \n",
              "\n",
              "   weekday_cos month_sin     month_cos  \n",
              "0    -0.222521       1.0  6.123234e-17  \n",
              "1    -0.222521       1.0  6.123234e-17  \n",
              "2    -0.222521       1.0  6.123234e-17  \n",
              "3    -0.222521       1.0  6.123234e-17  \n",
              "4    -0.222521       1.0  6.123234e-17  \n",
              "\n",
              "[5 rows x 28 columns]"
            ],
            "text/html": [
              "\n",
              "  <div id=\"df-f637d1e5-2ee5-4b56-98ce-0250c3189883\">\n",
              "    <div class=\"colab-df-container\">\n",
              "      <div>\n",
              "<style scoped>\n",
              "    .dataframe tbody tr th:only-of-type {\n",
              "        vertical-align: middle;\n",
              "    }\n",
              "\n",
              "    .dataframe tbody tr th {\n",
              "        vertical-align: top;\n",
              "    }\n",
              "\n",
              "    .dataframe thead th {\n",
              "        text-align: right;\n",
              "    }\n",
              "</style>\n",
              "<table border=\"1\" class=\"dataframe\">\n",
              "  <thead>\n",
              "    <tr style=\"text-align: right;\">\n",
              "      <th></th>\n",
              "      <th>activate</th>\n",
              "      <th>name</th>\n",
              "      <th>reservations_count</th>\n",
              "      <th>light</th>\n",
              "      <th>total_bases</th>\n",
              "      <th>free_bases</th>\n",
              "      <th>number</th>\n",
              "      <th>longitude</th>\n",
              "      <th>no_available</th>\n",
              "      <th>address</th>\n",
              "      <th>...</th>\n",
              "      <th>weather_main</th>\n",
              "      <th>weekday</th>\n",
              "      <th>year</th>\n",
              "      <th>month</th>\n",
              "      <th>hour_sin</th>\n",
              "      <th>hour_cos</th>\n",
              "      <th>weekday_sin</th>\n",
              "      <th>weekday_cos</th>\n",
              "      <th>month_sin</th>\n",
              "      <th>month_cos</th>\n",
              "    </tr>\n",
              "  </thead>\n",
              "  <tbody>\n",
              "    <tr>\n",
              "      <th>0</th>\n",
              "      <td>1</td>\n",
              "      <td>Puerta del Sol A</td>\n",
              "      <td>0</td>\n",
              "      <td>2</td>\n",
              "      <td>24</td>\n",
              "      <td>11</td>\n",
              "      <td>1a</td>\n",
              "      <td>-3.702425</td>\n",
              "      <td>0</td>\n",
              "      <td>Puerta del Sol n 1</td>\n",
              "      <td>...</td>\n",
              "      <td>Clear</td>\n",
              "      <td>2</td>\n",
              "      <td>2018</td>\n",
              "      <td>8</td>\n",
              "      <td>0.000000</td>\n",
              "      <td>1.000000</td>\n",
              "      <td>0.974928</td>\n",
              "      <td>-0.222521</td>\n",
              "      <td>1.0</td>\n",
              "      <td>6.123234e-17</td>\n",
              "    </tr>\n",
              "    <tr>\n",
              "      <th>1</th>\n",
              "      <td>1</td>\n",
              "      <td>Puerta del Sol A</td>\n",
              "      <td>0</td>\n",
              "      <td>0</td>\n",
              "      <td>24</td>\n",
              "      <td>18</td>\n",
              "      <td>1a</td>\n",
              "      <td>-3.702425</td>\n",
              "      <td>0</td>\n",
              "      <td>Puerta del Sol n 1</td>\n",
              "      <td>...</td>\n",
              "      <td>Clear</td>\n",
              "      <td>2</td>\n",
              "      <td>2018</td>\n",
              "      <td>8</td>\n",
              "      <td>0.258819</td>\n",
              "      <td>0.965926</td>\n",
              "      <td>0.974928</td>\n",
              "      <td>-0.222521</td>\n",
              "      <td>1.0</td>\n",
              "      <td>6.123234e-17</td>\n",
              "    </tr>\n",
              "    <tr>\n",
              "      <th>2</th>\n",
              "      <td>1</td>\n",
              "      <td>Puerta del Sol A</td>\n",
              "      <td>0</td>\n",
              "      <td>2</td>\n",
              "      <td>24</td>\n",
              "      <td>13</td>\n",
              "      <td>1a</td>\n",
              "      <td>-3.702425</td>\n",
              "      <td>0</td>\n",
              "      <td>Puerta del Sol n 1</td>\n",
              "      <td>...</td>\n",
              "      <td>Clear</td>\n",
              "      <td>2</td>\n",
              "      <td>2018</td>\n",
              "      <td>8</td>\n",
              "      <td>0.500000</td>\n",
              "      <td>0.866025</td>\n",
              "      <td>0.974928</td>\n",
              "      <td>-0.222521</td>\n",
              "      <td>1.0</td>\n",
              "      <td>6.123234e-17</td>\n",
              "    </tr>\n",
              "    <tr>\n",
              "      <th>3</th>\n",
              "      <td>1</td>\n",
              "      <td>Puerta del Sol A</td>\n",
              "      <td>0</td>\n",
              "      <td>0</td>\n",
              "      <td>24</td>\n",
              "      <td>17</td>\n",
              "      <td>1a</td>\n",
              "      <td>-3.702425</td>\n",
              "      <td>0</td>\n",
              "      <td>Puerta del Sol n 1</td>\n",
              "      <td>...</td>\n",
              "      <td>Clear</td>\n",
              "      <td>2</td>\n",
              "      <td>2018</td>\n",
              "      <td>8</td>\n",
              "      <td>0.707107</td>\n",
              "      <td>0.707107</td>\n",
              "      <td>0.974928</td>\n",
              "      <td>-0.222521</td>\n",
              "      <td>1.0</td>\n",
              "      <td>6.123234e-17</td>\n",
              "    </tr>\n",
              "    <tr>\n",
              "      <th>4</th>\n",
              "      <td>1</td>\n",
              "      <td>Puerta del Sol A</td>\n",
              "      <td>0</td>\n",
              "      <td>0</td>\n",
              "      <td>24</td>\n",
              "      <td>22</td>\n",
              "      <td>1a</td>\n",
              "      <td>-3.702425</td>\n",
              "      <td>0</td>\n",
              "      <td>Puerta del Sol n 1</td>\n",
              "      <td>...</td>\n",
              "      <td>Clear</td>\n",
              "      <td>2</td>\n",
              "      <td>2018</td>\n",
              "      <td>8</td>\n",
              "      <td>0.866025</td>\n",
              "      <td>0.500000</td>\n",
              "      <td>0.974928</td>\n",
              "      <td>-0.222521</td>\n",
              "      <td>1.0</td>\n",
              "      <td>6.123234e-17</td>\n",
              "    </tr>\n",
              "  </tbody>\n",
              "</table>\n",
              "<p>5 rows × 28 columns</p>\n",
              "</div>\n",
              "      <button class=\"colab-df-convert\" onclick=\"convertToInteractive('df-f637d1e5-2ee5-4b56-98ce-0250c3189883')\"\n",
              "              title=\"Convert this dataframe to an interactive table.\"\n",
              "              style=\"display:none;\">\n",
              "        \n",
              "  <svg xmlns=\"http://www.w3.org/2000/svg\" height=\"24px\"viewBox=\"0 0 24 24\"\n",
              "       width=\"24px\">\n",
              "    <path d=\"M0 0h24v24H0V0z\" fill=\"none\"/>\n",
              "    <path d=\"M18.56 5.44l.94 2.06.94-2.06 2.06-.94-2.06-.94-.94-2.06-.94 2.06-2.06.94zm-11 1L8.5 8.5l.94-2.06 2.06-.94-2.06-.94L8.5 2.5l-.94 2.06-2.06.94zm10 10l.94 2.06.94-2.06 2.06-.94-2.06-.94-.94-2.06-.94 2.06-2.06.94z\"/><path d=\"M17.41 7.96l-1.37-1.37c-.4-.4-.92-.59-1.43-.59-.52 0-1.04.2-1.43.59L10.3 9.45l-7.72 7.72c-.78.78-.78 2.05 0 2.83L4 21.41c.39.39.9.59 1.41.59.51 0 1.02-.2 1.41-.59l7.78-7.78 2.81-2.81c.8-.78.8-2.07 0-2.86zM5.41 20L4 18.59l7.72-7.72 1.47 1.35L5.41 20z\"/>\n",
              "  </svg>\n",
              "      </button>\n",
              "      \n",
              "  <style>\n",
              "    .colab-df-container {\n",
              "      display:flex;\n",
              "      flex-wrap:wrap;\n",
              "      gap: 12px;\n",
              "    }\n",
              "\n",
              "    .colab-df-convert {\n",
              "      background-color: #E8F0FE;\n",
              "      border: none;\n",
              "      border-radius: 50%;\n",
              "      cursor: pointer;\n",
              "      display: none;\n",
              "      fill: #1967D2;\n",
              "      height: 32px;\n",
              "      padding: 0 0 0 0;\n",
              "      width: 32px;\n",
              "    }\n",
              "\n",
              "    .colab-df-convert:hover {\n",
              "      background-color: #E2EBFA;\n",
              "      box-shadow: 0px 1px 2px rgba(60, 64, 67, 0.3), 0px 1px 3px 1px rgba(60, 64, 67, 0.15);\n",
              "      fill: #174EA6;\n",
              "    }\n",
              "\n",
              "    [theme=dark] .colab-df-convert {\n",
              "      background-color: #3B4455;\n",
              "      fill: #D2E3FC;\n",
              "    }\n",
              "\n",
              "    [theme=dark] .colab-df-convert:hover {\n",
              "      background-color: #434B5C;\n",
              "      box-shadow: 0px 1px 3px 1px rgba(0, 0, 0, 0.15);\n",
              "      filter: drop-shadow(0px 1px 2px rgba(0, 0, 0, 0.3));\n",
              "      fill: #FFFFFF;\n",
              "    }\n",
              "  </style>\n",
              "\n",
              "      <script>\n",
              "        const buttonEl =\n",
              "          document.querySelector('#df-f637d1e5-2ee5-4b56-98ce-0250c3189883 button.colab-df-convert');\n",
              "        buttonEl.style.display =\n",
              "          google.colab.kernel.accessAllowed ? 'block' : 'none';\n",
              "\n",
              "        async function convertToInteractive(key) {\n",
              "          const element = document.querySelector('#df-f637d1e5-2ee5-4b56-98ce-0250c3189883');\n",
              "          const dataTable =\n",
              "            await google.colab.kernel.invokeFunction('convertToInteractive',\n",
              "                                                     [key], {});\n",
              "          if (!dataTable) return;\n",
              "\n",
              "          const docLinkHtml = 'Like what you see? Visit the ' +\n",
              "            '<a target=\"_blank\" href=https://colab.research.google.com/notebooks/data_table.ipynb>data table notebook</a>'\n",
              "            + ' to learn more about interactive tables.';\n",
              "          element.innerHTML = '';\n",
              "          dataTable['output_type'] = 'display_data';\n",
              "          await google.colab.output.renderOutput(dataTable, element);\n",
              "          const docLink = document.createElement('div');\n",
              "          docLink.innerHTML = docLinkHtml;\n",
              "          element.appendChild(docLink);\n",
              "        }\n",
              "      </script>\n",
              "    </div>\n",
              "  </div>\n",
              "  "
            ]
          },
          "metadata": {},
          "execution_count": 10
        }
      ]
    },
    {
      "cell_type": "code",
      "execution_count": 11,
      "id": "824cdf7d",
      "metadata": {
        "id": "824cdf7d",
        "outputId": "ceeb3466-66d5-4c74-935b-519705ce72e3",
        "colab": {
          "base_uri": "https://localhost:8080/"
        }
      },
      "outputs": [
        {
          "output_type": "execute_result",
          "data": {
            "text/plain": [
              "Index(['activate', 'reservations_count', 'light', 'total_bases', 'free_bases',\n",
              "       'longitude', 'no_available', 'latitude', 'dock_bikes', 'time',\n",
              "       'feels_like', 'weekday', 'year', 'month', 'hour_sin', 'hour_cos',\n",
              "       'weekday_sin', 'weekday_cos', 'month_sin', 'month_cos'],\n",
              "      dtype='object')"
            ]
          },
          "metadata": {},
          "execution_count": 11
        }
      ],
      "source": [
        "temp.select_dtypes(['int', 'float']).columns"
      ]
    },
    {
      "cell_type": "code",
      "execution_count": null,
      "id": "90ba9eca",
      "metadata": {
        "id": "90ba9eca"
      },
      "outputs": [],
      "source": []
    },
    {
      "cell_type": "code",
      "execution_count": 12,
      "id": "1b96ccea",
      "metadata": {
        "id": "1b96ccea"
      },
      "outputs": [],
      "source": [
        "from sklearn.preprocessing import StandardScaler\n",
        "\n",
        "f_transformer = StandardScaler()\n",
        "\n",
        "temp[['activate', 'reservations_count', 'light', 'total_bases', 'free_bases', 'longitude', 'no_available', 'latitude', 'time',\n",
        "       'feels_like', 'hour_sin', 'hour_cos','weekday_sin', 'weekday_cos', 'month_sin', \n",
        "      'month_cos']] = f_transformer.fit_transform(temp[['activate', 'reservations_count', 'light', 'total_bases', 'free_bases', 'longitude', 'no_available', 'latitude', 'time',\n",
        "       'feels_like', 'hour_sin', 'hour_cos',\n",
        "        'weekday_sin', 'weekday_cos', 'month_sin', 'month_cos']])\n"
      ]
    },
    {
      "cell_type": "code",
      "execution_count": 13,
      "id": "3fc7a6f6",
      "metadata": {
        "id": "3fc7a6f6",
        "outputId": "c47829e8-5bcb-4279-ef72-7bde96eed329",
        "colab": {
          "base_uri": "https://localhost:8080/"
        }
      },
      "outputs": [
        {
          "output_type": "execute_result",
          "data": {
            "text/plain": [
              "Index(['activate', 'name', 'reservations_count', 'light', 'total_bases',\n",
              "       'free_bases', 'number', 'longitude', 'no_available', 'address',\n",
              "       'latitude', 'dock_bikes', 'id', 'time', 'date', 'holidays', 'datetime',\n",
              "       'feels_like', 'weather_main', 'weekday', 'year', 'month', 'hour_sin',\n",
              "       'hour_cos', 'weekday_sin', 'weekday_cos', 'month_sin', 'month_cos'],\n",
              "      dtype='object')"
            ]
          },
          "metadata": {},
          "execution_count": 13
        }
      ],
      "source": [
        "temp.columns"
      ]
    },
    {
      "cell_type": "code",
      "source": [],
      "metadata": {
        "id": "-GQAk3W9bJ83"
      },
      "id": "-GQAk3W9bJ83",
      "execution_count": 50,
      "outputs": []
    },
    {
      "cell_type": "code",
      "execution_count": 14,
      "id": "67da11e3",
      "metadata": {
        "id": "67da11e3"
      },
      "outputs": [],
      "source": [
        "temp.holidays = temp.holidays.astype('int')"
      ]
    },
    {
      "cell_type": "code",
      "execution_count": 15,
      "id": "0ad2f148",
      "metadata": {
        "id": "0ad2f148"
      },
      "outputs": [],
      "source": [
        "temp_model = temp.drop(columns=['name', 'number', 'address', 'id'])"
      ]
    },
    {
      "cell_type": "code",
      "execution_count": 16,
      "id": "0d2f0c09",
      "metadata": {
        "id": "0d2f0c09",
        "outputId": "3a27fe74-bda4-4d45-ec8e-e5b62994adeb",
        "colab": {
          "base_uri": "https://localhost:8080/",
          "height": 299
        }
      },
      "outputs": [
        {
          "output_type": "execute_result",
          "data": {
            "text/plain": [
              "   activate  reservations_count     light  total_bases  free_bases  longitude  \\\n",
              "0       0.0           -0.218666  0.704880    -1.090797   -0.245789  -1.083199   \n",
              "1       0.0           -0.218666 -1.195028    -1.090797    0.603942  -1.083199   \n",
              "2       0.0           -0.218666  0.704880    -1.090797   -0.003009  -1.083199   \n",
              "3       0.0           -0.218666 -1.195028    -1.090797    0.482552  -1.083199   \n",
              "4       0.0           -0.218666 -1.195028    -1.090797    1.089502  -1.083199   \n",
              "\n",
              "   no_available  latitude  dock_bikes      time  ... weather_main  weekday  \\\n",
              "0     -0.352407 -1.074382          11 -1.659847  ...        Clear        2   \n",
              "1     -0.352407 -1.074382           4 -1.515481  ...        Clear        2   \n",
              "2     -0.352407 -1.074382          10 -1.371115  ...        Clear        2   \n",
              "3     -0.352407 -1.074382           4 -1.226749  ...        Clear        2   \n",
              "4     -0.352407 -1.074382           0 -1.082383  ...        Clear        2   \n",
              "\n",
              "   year  month  hour_sin  hour_cos  weekday_sin  weekday_cos  month_sin  \\\n",
              "0  2018      8 -0.001459  1.413281     1.379811    -0.315715     1.4689   \n",
              "1  2018      8  0.364336  1.365063     1.379811    -0.315715     1.4689   \n",
              "2  2018      8  0.705203  1.223693     1.379811    -0.315715     1.4689   \n",
              "3  2018      8  0.997912  0.998806     1.379811    -0.315715     1.4689   \n",
              "4  2018      8  1.222516  0.705727     1.379811    -0.315715     1.4689   \n",
              "\n",
              "   month_cos  \n",
              "0   0.031981  \n",
              "1   0.031981  \n",
              "2   0.031981  \n",
              "3   0.031981  \n",
              "4   0.031981  \n",
              "\n",
              "[5 rows x 24 columns]"
            ],
            "text/html": [
              "\n",
              "  <div id=\"df-b0c6352f-7b52-454a-8c1c-d9d0b112a118\">\n",
              "    <div class=\"colab-df-container\">\n",
              "      <div>\n",
              "<style scoped>\n",
              "    .dataframe tbody tr th:only-of-type {\n",
              "        vertical-align: middle;\n",
              "    }\n",
              "\n",
              "    .dataframe tbody tr th {\n",
              "        vertical-align: top;\n",
              "    }\n",
              "\n",
              "    .dataframe thead th {\n",
              "        text-align: right;\n",
              "    }\n",
              "</style>\n",
              "<table border=\"1\" class=\"dataframe\">\n",
              "  <thead>\n",
              "    <tr style=\"text-align: right;\">\n",
              "      <th></th>\n",
              "      <th>activate</th>\n",
              "      <th>reservations_count</th>\n",
              "      <th>light</th>\n",
              "      <th>total_bases</th>\n",
              "      <th>free_bases</th>\n",
              "      <th>longitude</th>\n",
              "      <th>no_available</th>\n",
              "      <th>latitude</th>\n",
              "      <th>dock_bikes</th>\n",
              "      <th>time</th>\n",
              "      <th>...</th>\n",
              "      <th>weather_main</th>\n",
              "      <th>weekday</th>\n",
              "      <th>year</th>\n",
              "      <th>month</th>\n",
              "      <th>hour_sin</th>\n",
              "      <th>hour_cos</th>\n",
              "      <th>weekday_sin</th>\n",
              "      <th>weekday_cos</th>\n",
              "      <th>month_sin</th>\n",
              "      <th>month_cos</th>\n",
              "    </tr>\n",
              "  </thead>\n",
              "  <tbody>\n",
              "    <tr>\n",
              "      <th>0</th>\n",
              "      <td>0.0</td>\n",
              "      <td>-0.218666</td>\n",
              "      <td>0.704880</td>\n",
              "      <td>-1.090797</td>\n",
              "      <td>-0.245789</td>\n",
              "      <td>-1.083199</td>\n",
              "      <td>-0.352407</td>\n",
              "      <td>-1.074382</td>\n",
              "      <td>11</td>\n",
              "      <td>-1.659847</td>\n",
              "      <td>...</td>\n",
              "      <td>Clear</td>\n",
              "      <td>2</td>\n",
              "      <td>2018</td>\n",
              "      <td>8</td>\n",
              "      <td>-0.001459</td>\n",
              "      <td>1.413281</td>\n",
              "      <td>1.379811</td>\n",
              "      <td>-0.315715</td>\n",
              "      <td>1.4689</td>\n",
              "      <td>0.031981</td>\n",
              "    </tr>\n",
              "    <tr>\n",
              "      <th>1</th>\n",
              "      <td>0.0</td>\n",
              "      <td>-0.218666</td>\n",
              "      <td>-1.195028</td>\n",
              "      <td>-1.090797</td>\n",
              "      <td>0.603942</td>\n",
              "      <td>-1.083199</td>\n",
              "      <td>-0.352407</td>\n",
              "      <td>-1.074382</td>\n",
              "      <td>4</td>\n",
              "      <td>-1.515481</td>\n",
              "      <td>...</td>\n",
              "      <td>Clear</td>\n",
              "      <td>2</td>\n",
              "      <td>2018</td>\n",
              "      <td>8</td>\n",
              "      <td>0.364336</td>\n",
              "      <td>1.365063</td>\n",
              "      <td>1.379811</td>\n",
              "      <td>-0.315715</td>\n",
              "      <td>1.4689</td>\n",
              "      <td>0.031981</td>\n",
              "    </tr>\n",
              "    <tr>\n",
              "      <th>2</th>\n",
              "      <td>0.0</td>\n",
              "      <td>-0.218666</td>\n",
              "      <td>0.704880</td>\n",
              "      <td>-1.090797</td>\n",
              "      <td>-0.003009</td>\n",
              "      <td>-1.083199</td>\n",
              "      <td>-0.352407</td>\n",
              "      <td>-1.074382</td>\n",
              "      <td>10</td>\n",
              "      <td>-1.371115</td>\n",
              "      <td>...</td>\n",
              "      <td>Clear</td>\n",
              "      <td>2</td>\n",
              "      <td>2018</td>\n",
              "      <td>8</td>\n",
              "      <td>0.705203</td>\n",
              "      <td>1.223693</td>\n",
              "      <td>1.379811</td>\n",
              "      <td>-0.315715</td>\n",
              "      <td>1.4689</td>\n",
              "      <td>0.031981</td>\n",
              "    </tr>\n",
              "    <tr>\n",
              "      <th>3</th>\n",
              "      <td>0.0</td>\n",
              "      <td>-0.218666</td>\n",
              "      <td>-1.195028</td>\n",
              "      <td>-1.090797</td>\n",
              "      <td>0.482552</td>\n",
              "      <td>-1.083199</td>\n",
              "      <td>-0.352407</td>\n",
              "      <td>-1.074382</td>\n",
              "      <td>4</td>\n",
              "      <td>-1.226749</td>\n",
              "      <td>...</td>\n",
              "      <td>Clear</td>\n",
              "      <td>2</td>\n",
              "      <td>2018</td>\n",
              "      <td>8</td>\n",
              "      <td>0.997912</td>\n",
              "      <td>0.998806</td>\n",
              "      <td>1.379811</td>\n",
              "      <td>-0.315715</td>\n",
              "      <td>1.4689</td>\n",
              "      <td>0.031981</td>\n",
              "    </tr>\n",
              "    <tr>\n",
              "      <th>4</th>\n",
              "      <td>0.0</td>\n",
              "      <td>-0.218666</td>\n",
              "      <td>-1.195028</td>\n",
              "      <td>-1.090797</td>\n",
              "      <td>1.089502</td>\n",
              "      <td>-1.083199</td>\n",
              "      <td>-0.352407</td>\n",
              "      <td>-1.074382</td>\n",
              "      <td>0</td>\n",
              "      <td>-1.082383</td>\n",
              "      <td>...</td>\n",
              "      <td>Clear</td>\n",
              "      <td>2</td>\n",
              "      <td>2018</td>\n",
              "      <td>8</td>\n",
              "      <td>1.222516</td>\n",
              "      <td>0.705727</td>\n",
              "      <td>1.379811</td>\n",
              "      <td>-0.315715</td>\n",
              "      <td>1.4689</td>\n",
              "      <td>0.031981</td>\n",
              "    </tr>\n",
              "  </tbody>\n",
              "</table>\n",
              "<p>5 rows × 24 columns</p>\n",
              "</div>\n",
              "      <button class=\"colab-df-convert\" onclick=\"convertToInteractive('df-b0c6352f-7b52-454a-8c1c-d9d0b112a118')\"\n",
              "              title=\"Convert this dataframe to an interactive table.\"\n",
              "              style=\"display:none;\">\n",
              "        \n",
              "  <svg xmlns=\"http://www.w3.org/2000/svg\" height=\"24px\"viewBox=\"0 0 24 24\"\n",
              "       width=\"24px\">\n",
              "    <path d=\"M0 0h24v24H0V0z\" fill=\"none\"/>\n",
              "    <path d=\"M18.56 5.44l.94 2.06.94-2.06 2.06-.94-2.06-.94-.94-2.06-.94 2.06-2.06.94zm-11 1L8.5 8.5l.94-2.06 2.06-.94-2.06-.94L8.5 2.5l-.94 2.06-2.06.94zm10 10l.94 2.06.94-2.06 2.06-.94-2.06-.94-.94-2.06-.94 2.06-2.06.94z\"/><path d=\"M17.41 7.96l-1.37-1.37c-.4-.4-.92-.59-1.43-.59-.52 0-1.04.2-1.43.59L10.3 9.45l-7.72 7.72c-.78.78-.78 2.05 0 2.83L4 21.41c.39.39.9.59 1.41.59.51 0 1.02-.2 1.41-.59l7.78-7.78 2.81-2.81c.8-.78.8-2.07 0-2.86zM5.41 20L4 18.59l7.72-7.72 1.47 1.35L5.41 20z\"/>\n",
              "  </svg>\n",
              "      </button>\n",
              "      \n",
              "  <style>\n",
              "    .colab-df-container {\n",
              "      display:flex;\n",
              "      flex-wrap:wrap;\n",
              "      gap: 12px;\n",
              "    }\n",
              "\n",
              "    .colab-df-convert {\n",
              "      background-color: #E8F0FE;\n",
              "      border: none;\n",
              "      border-radius: 50%;\n",
              "      cursor: pointer;\n",
              "      display: none;\n",
              "      fill: #1967D2;\n",
              "      height: 32px;\n",
              "      padding: 0 0 0 0;\n",
              "      width: 32px;\n",
              "    }\n",
              "\n",
              "    .colab-df-convert:hover {\n",
              "      background-color: #E2EBFA;\n",
              "      box-shadow: 0px 1px 2px rgba(60, 64, 67, 0.3), 0px 1px 3px 1px rgba(60, 64, 67, 0.15);\n",
              "      fill: #174EA6;\n",
              "    }\n",
              "\n",
              "    [theme=dark] .colab-df-convert {\n",
              "      background-color: #3B4455;\n",
              "      fill: #D2E3FC;\n",
              "    }\n",
              "\n",
              "    [theme=dark] .colab-df-convert:hover {\n",
              "      background-color: #434B5C;\n",
              "      box-shadow: 0px 1px 3px 1px rgba(0, 0, 0, 0.15);\n",
              "      filter: drop-shadow(0px 1px 2px rgba(0, 0, 0, 0.3));\n",
              "      fill: #FFFFFF;\n",
              "    }\n",
              "  </style>\n",
              "\n",
              "      <script>\n",
              "        const buttonEl =\n",
              "          document.querySelector('#df-b0c6352f-7b52-454a-8c1c-d9d0b112a118 button.colab-df-convert');\n",
              "        buttonEl.style.display =\n",
              "          google.colab.kernel.accessAllowed ? 'block' : 'none';\n",
              "\n",
              "        async function convertToInteractive(key) {\n",
              "          const element = document.querySelector('#df-b0c6352f-7b52-454a-8c1c-d9d0b112a118');\n",
              "          const dataTable =\n",
              "            await google.colab.kernel.invokeFunction('convertToInteractive',\n",
              "                                                     [key], {});\n",
              "          if (!dataTable) return;\n",
              "\n",
              "          const docLinkHtml = 'Like what you see? Visit the ' +\n",
              "            '<a target=\"_blank\" href=https://colab.research.google.com/notebooks/data_table.ipynb>data table notebook</a>'\n",
              "            + ' to learn more about interactive tables.';\n",
              "          element.innerHTML = '';\n",
              "          dataTable['output_type'] = 'display_data';\n",
              "          await google.colab.output.renderOutput(dataTable, element);\n",
              "          const docLink = document.createElement('div');\n",
              "          docLink.innerHTML = docLinkHtml;\n",
              "          element.appendChild(docLink);\n",
              "        }\n",
              "      </script>\n",
              "    </div>\n",
              "  </div>\n",
              "  "
            ]
          },
          "metadata": {},
          "execution_count": 16
        }
      ],
      "source": [
        "temp_model.head()"
      ]
    },
    {
      "cell_type": "code",
      "execution_count": 18,
      "id": "91e80059",
      "metadata": {
        "id": "91e80059",
        "outputId": "ae674b25-b826-458f-cc43-5326ae8548b4",
        "colab": {
          "base_uri": "https://localhost:8080/"
        }
      },
      "outputs": [
        {
          "output_type": "stream",
          "name": "stderr",
          "text": [
            "/usr/local/lib/python3.7/dist-packages/sklearn/utils/deprecation.py:87: FutureWarning: Function get_feature_names is deprecated; get_feature_names is deprecated in 1.0 and will be removed in 1.2. Please use get_feature_names_out instead.\n",
            "  warnings.warn(msg, category=FutureWarning)\n"
          ]
        }
      ],
      "source": [
        "ohe = OneHotEncoder(sparse=False, handle_unknown='ignore')\n",
        "categorical_features = ['year', 'month', 'weekday', 'weather_main']\n",
        "transformed_data = pd.DataFrame(ohe.fit_transform(temp_model[categorical_features]))\n",
        "transformed_data.columns = ohe.get_feature_names(categorical_features)\n",
        "concatenated_data = pd.concat([temp_model, transformed_data], axis=1)"
      ]
    },
    {
      "cell_type": "code",
      "source": [
        "# ohe = OneHotEncoder(sparse=False, handle_unknown='ignore')\n",
        "# categorical_features = ['year', 'month', 'weekday', 'weather_main']\n",
        "# ohe.fit(temp_model[categorical_features])"
      ],
      "metadata": {
        "colab": {
          "base_uri": "https://localhost:8080/"
        },
        "id": "t1Y_dJq6jPCM",
        "outputId": "f1663050-2672-4f6b-ae59-5f9333a19784"
      },
      "id": "t1Y_dJq6jPCM",
      "execution_count": 116,
      "outputs": [
        {
          "output_type": "execute_result",
          "data": {
            "text/plain": [
              "OneHotEncoder(handle_unknown='ignore', sparse=False)"
            ]
          },
          "metadata": {},
          "execution_count": 116
        }
      ]
    },
    {
      "cell_type": "code",
      "source": [
        "# encoded = ohe.transform(temp_model[categorical_features])"
      ],
      "metadata": {
        "id": "erFBhqGijcUs"
      },
      "id": "erFBhqGijcUs",
      "execution_count": 117,
      "outputs": []
    },
    {
      "cell_type": "code",
      "source": [
        "# temp_model['year'], temp_model['month'], temp_model['weekday'], temp_model['weather_main'] = encoded.T"
      ],
      "metadata": {
        "id": "JT_fGf13jlfN"
      },
      "id": "JT_fGf13jlfN",
      "execution_count": null,
      "outputs": []
    },
    {
      "cell_type": "code",
      "source": [
        "concatenated_data.info()"
      ],
      "metadata": {
        "colab": {
          "base_uri": "https://localhost:8080/"
        },
        "id": "yCjjKU4fjlnC",
        "outputId": "a204a68d-a8cc-40ec-c3a1-979a8b99c6e0"
      },
      "id": "yCjjKU4fjlnC",
      "execution_count": 20,
      "outputs": [
        {
          "output_type": "stream",
          "name": "stdout",
          "text": [
            "<class 'pandas.core.frame.DataFrame'>\n",
            "RangeIndex: 25862 entries, 0 to 25861\n",
            "Data columns (total 58 columns):\n",
            " #   Column                     Non-Null Count  Dtype  \n",
            "---  ------                     --------------  -----  \n",
            " 0   activate                   25862 non-null  float64\n",
            " 1   reservations_count         25862 non-null  float64\n",
            " 2   light                      25862 non-null  float64\n",
            " 3   total_bases                25862 non-null  float64\n",
            " 4   free_bases                 25862 non-null  float64\n",
            " 5   longitude                  25862 non-null  float64\n",
            " 6   no_available               25862 non-null  float64\n",
            " 7   latitude                   25862 non-null  float64\n",
            " 8   dock_bikes                 25862 non-null  int64  \n",
            " 9   time                       25862 non-null  float64\n",
            " 10  date                       25862 non-null  object \n",
            " 11  holidays                   25862 non-null  int64  \n",
            " 12  datetime                   25862 non-null  object \n",
            " 13  feels_like                 25862 non-null  float64\n",
            " 14  weather_main               25862 non-null  object \n",
            " 15  weekday                    25862 non-null  int64  \n",
            " 16  year                       25862 non-null  int64  \n",
            " 17  month                      25862 non-null  int64  \n",
            " 18  hour_sin                   25862 non-null  float64\n",
            " 19  hour_cos                   25862 non-null  float64\n",
            " 20  weekday_sin                25862 non-null  float64\n",
            " 21  weekday_cos                25862 non-null  float64\n",
            " 22  month_sin                  25862 non-null  float64\n",
            " 23  month_cos                  25862 non-null  float64\n",
            " 24  year_2018                  25862 non-null  float64\n",
            " 25  year_2019                  25862 non-null  float64\n",
            " 26  year_2020                  25862 non-null  float64\n",
            " 27  year_2021                  25862 non-null  float64\n",
            " 28  month_1                    25862 non-null  float64\n",
            " 29  month_2                    25862 non-null  float64\n",
            " 30  month_3                    25862 non-null  float64\n",
            " 31  month_4                    25862 non-null  float64\n",
            " 32  month_5                    25862 non-null  float64\n",
            " 33  month_6                    25862 non-null  float64\n",
            " 34  month_7                    25862 non-null  float64\n",
            " 35  month_8                    25862 non-null  float64\n",
            " 36  month_9                    25862 non-null  float64\n",
            " 37  month_10                   25862 non-null  float64\n",
            " 38  month_11                   25862 non-null  float64\n",
            " 39  month_12                   25862 non-null  float64\n",
            " 40  weekday_0                  25862 non-null  float64\n",
            " 41  weekday_1                  25862 non-null  float64\n",
            " 42  weekday_2                  25862 non-null  float64\n",
            " 43  weekday_3                  25862 non-null  float64\n",
            " 44  weekday_4                  25862 non-null  float64\n",
            " 45  weekday_5                  25862 non-null  float64\n",
            " 46  weekday_6                  25862 non-null  float64\n",
            " 47  weather_main_Clear         25862 non-null  float64\n",
            " 48  weather_main_Clouds        25862 non-null  float64\n",
            " 49  weather_main_Drizzle       25862 non-null  float64\n",
            " 50  weather_main_Fog           25862 non-null  float64\n",
            " 51  weather_main_Haze          25862 non-null  float64\n",
            " 52  weather_main_Mist          25862 non-null  float64\n",
            " 53  weather_main_Rain          25862 non-null  float64\n",
            " 54  weather_main_Smoke         25862 non-null  float64\n",
            " 55  weather_main_Snow          25862 non-null  float64\n",
            " 56  weather_main_Squall        25862 non-null  float64\n",
            " 57  weather_main_Thunderstorm  25862 non-null  float64\n",
            "dtypes: float64(50), int64(5), object(3)\n",
            "memory usage: 11.4+ MB\n"
          ]
        }
      ]
    },
    {
      "cell_type": "code",
      "source": [],
      "metadata": {
        "id": "yztWgwwVjlpS"
      },
      "id": "yztWgwwVjlpS",
      "execution_count": null,
      "outputs": []
    },
    {
      "cell_type": "code",
      "execution_count": 52,
      "id": "618b94ef",
      "metadata": {
        "scrolled": true,
        "id": "618b94ef"
      },
      "outputs": [],
      "source": [
        "temp_model = concatenated_data.drop(columns=['year', 'month', 'weekday', 'weather_main','date'])"
      ]
    },
    {
      "cell_type": "code",
      "execution_count": 54,
      "id": "1ba1b9fc",
      "metadata": {
        "id": "1ba1b9fc",
        "outputId": "b7df576d-0f67-4c6d-c57a-43d73b713f1f",
        "colab": {
          "base_uri": "https://localhost:8080/"
        }
      },
      "outputs": [
        {
          "output_type": "stream",
          "name": "stdout",
          "text": [
            "<class 'pandas.core.frame.DataFrame'>\n",
            "RangeIndex: 25862 entries, 0 to 25861\n",
            "Data columns (total 53 columns):\n",
            " #   Column                     Non-Null Count  Dtype  \n",
            "---  ------                     --------------  -----  \n",
            " 0   activate                   25862 non-null  float64\n",
            " 1   reservations_count         25862 non-null  float64\n",
            " 2   light                      25862 non-null  float64\n",
            " 3   total_bases                25862 non-null  float64\n",
            " 4   free_bases                 25862 non-null  float64\n",
            " 5   longitude                  25862 non-null  float64\n",
            " 6   no_available               25862 non-null  float64\n",
            " 7   latitude                   25862 non-null  float64\n",
            " 8   dock_bikes                 25862 non-null  int64  \n",
            " 9   time                       25862 non-null  float64\n",
            " 10  holidays                   25862 non-null  int64  \n",
            " 11  datetime                   25862 non-null  object \n",
            " 12  feels_like                 25862 non-null  float64\n",
            " 13  hour_sin                   25862 non-null  float64\n",
            " 14  hour_cos                   25862 non-null  float64\n",
            " 15  weekday_sin                25862 non-null  float64\n",
            " 16  weekday_cos                25862 non-null  float64\n",
            " 17  month_sin                  25862 non-null  float64\n",
            " 18  month_cos                  25862 non-null  float64\n",
            " 19  year_2018                  25862 non-null  float64\n",
            " 20  year_2019                  25862 non-null  float64\n",
            " 21  year_2020                  25862 non-null  float64\n",
            " 22  year_2021                  25862 non-null  float64\n",
            " 23  month_1                    25862 non-null  float64\n",
            " 24  month_2                    25862 non-null  float64\n",
            " 25  month_3                    25862 non-null  float64\n",
            " 26  month_4                    25862 non-null  float64\n",
            " 27  month_5                    25862 non-null  float64\n",
            " 28  month_6                    25862 non-null  float64\n",
            " 29  month_7                    25862 non-null  float64\n",
            " 30  month_8                    25862 non-null  float64\n",
            " 31  month_9                    25862 non-null  float64\n",
            " 32  month_10                   25862 non-null  float64\n",
            " 33  month_11                   25862 non-null  float64\n",
            " 34  month_12                   25862 non-null  float64\n",
            " 35  weekday_0                  25862 non-null  float64\n",
            " 36  weekday_1                  25862 non-null  float64\n",
            " 37  weekday_2                  25862 non-null  float64\n",
            " 38  weekday_3                  25862 non-null  float64\n",
            " 39  weekday_4                  25862 non-null  float64\n",
            " 40  weekday_5                  25862 non-null  float64\n",
            " 41  weekday_6                  25862 non-null  float64\n",
            " 42  weather_main_Clear         25862 non-null  float64\n",
            " 43  weather_main_Clouds        25862 non-null  float64\n",
            " 44  weather_main_Drizzle       25862 non-null  float64\n",
            " 45  weather_main_Fog           25862 non-null  float64\n",
            " 46  weather_main_Haze          25862 non-null  float64\n",
            " 47  weather_main_Mist          25862 non-null  float64\n",
            " 48  weather_main_Rain          25862 non-null  float64\n",
            " 49  weather_main_Smoke         25862 non-null  float64\n",
            " 50  weather_main_Snow          25862 non-null  float64\n",
            " 51  weather_main_Squall        25862 non-null  float64\n",
            " 52  weather_main_Thunderstorm  25862 non-null  float64\n",
            "dtypes: float64(50), int64(2), object(1)\n",
            "memory usage: 10.5+ MB\n"
          ]
        }
      ],
      "source": [
        "temp_model.info()"
      ]
    },
    {
      "cell_type": "code",
      "source": [
        "temp_model['datetime'] = temp_model['datetime'].apply(lambda x: x[0:10]+' '+x[10:]+':00')"
      ],
      "metadata": {
        "id": "93R_a9OR5FJJ"
      },
      "id": "93R_a9OR5FJJ",
      "execution_count": 55,
      "outputs": []
    },
    {
      "cell_type": "code",
      "source": [],
      "metadata": {
        "id": "Dn8A1JEZ5IZh"
      },
      "id": "Dn8A1JEZ5IZh",
      "execution_count": 55,
      "outputs": []
    },
    {
      "cell_type": "code",
      "source": [
        "temp_model['datetime']=pd.to_datetime(temp_model['datetime'], format='%Y-%m-%d %H:%M:%S')"
      ],
      "metadata": {
        "id": "ARZR9M1m5uxu"
      },
      "id": "ARZR9M1m5uxu",
      "execution_count": 56,
      "outputs": []
    },
    {
      "cell_type": "code",
      "source": [
        "temp_model = temp_model.set_index('datetime')"
      ],
      "metadata": {
        "id": "VNnKO3LI50AU"
      },
      "id": "VNnKO3LI50AU",
      "execution_count": 57,
      "outputs": []
    },
    {
      "cell_type": "code",
      "source": [
        "temp_model.sort_values(by='datetime')"
      ],
      "metadata": {
        "colab": {
          "base_uri": "https://localhost:8080/",
          "height": 866
        },
        "id": "NQcFeXOo6BuK",
        "outputId": "7b033699-ec28-4d6f-9e56-1eac020275dc"
      },
      "id": "NQcFeXOo6BuK",
      "execution_count": 58,
      "outputs": [
        {
          "output_type": "execute_result",
          "data": {
            "text/plain": [
              "                     activate  reservations_count     light  total_bases  \\\n",
              "datetime                                                                   \n",
              "2018-08-01 00:00:00       0.0           -0.218666  0.704880    -1.090797   \n",
              "2018-08-01 01:00:00       0.0           -0.218666 -1.195028    -1.090797   \n",
              "2018-08-01 02:00:00       0.0           -0.218666  0.704880    -1.090797   \n",
              "2018-08-01 03:00:00       0.0           -0.218666 -1.195028    -1.090797   \n",
              "2018-08-01 04:00:00       0.0           -0.218666 -1.195028    -1.090797   \n",
              "...                       ...                 ...       ...          ...   \n",
              "2021-06-30 19:00:00       0.0            3.789224 -1.195028     0.916760   \n",
              "2021-06-30 20:00:00       0.0           -0.218666 -1.195028     0.916760   \n",
              "2021-06-30 21:00:00       0.0           -0.218666 -1.195028     0.916760   \n",
              "2021-06-30 22:00:00       0.0           -0.218666 -1.195028     0.916760   \n",
              "2021-06-30 23:00:00       0.0           -0.218666 -1.195028     0.916760   \n",
              "\n",
              "                     free_bases  longitude  no_available  latitude  \\\n",
              "datetime                                                             \n",
              "2018-08-01 00:00:00   -0.245789  -1.083199     -0.352407 -1.074382   \n",
              "2018-08-01 01:00:00    0.603942  -1.083199     -0.352407 -1.074382   \n",
              "2018-08-01 02:00:00   -0.003009  -1.083199     -0.352407 -1.074382   \n",
              "2018-08-01 03:00:00    0.482552  -1.083199     -0.352407 -1.074382   \n",
              "2018-08-01 04:00:00    1.089502  -1.083199     -0.352407 -1.074382   \n",
              "...                         ...        ...           ...       ...   \n",
              "2021-06-30 19:00:00    0.968112   0.861520     -0.352407  1.047365   \n",
              "2021-06-30 20:00:00    1.089502   0.861520     -0.352407  1.047365   \n",
              "2021-06-30 21:00:00    0.968112   0.861520     -0.352407  1.047365   \n",
              "2021-06-30 22:00:00    1.332282   0.861520     -0.352407  1.047365   \n",
              "2021-06-30 23:00:00    1.575062   0.861520     -0.352407  1.047365   \n",
              "\n",
              "                     dock_bikes      time  ...  weather_main_Clouds  \\\n",
              "datetime                                   ...                        \n",
              "2018-08-01 00:00:00          11 -1.659847  ...                  0.0   \n",
              "2018-08-01 01:00:00           4 -1.515481  ...                  0.0   \n",
              "2018-08-01 02:00:00          10 -1.371115  ...                  0.0   \n",
              "2018-08-01 03:00:00           4 -1.226749  ...                  0.0   \n",
              "2018-08-01 04:00:00           0 -1.082383  ...                  0.0   \n",
              "...                         ...       ...  ...                  ...   \n",
              "2021-06-30 19:00:00           3  1.083109  ...                  0.0   \n",
              "2021-06-30 20:00:00           3  1.227475  ...                  0.0   \n",
              "2021-06-30 21:00:00           4  1.371841  ...                  0.0   \n",
              "2021-06-30 22:00:00           2  1.516207  ...                  0.0   \n",
              "2021-06-30 23:00:00           1  1.660573  ...                  0.0   \n",
              "\n",
              "                     weather_main_Drizzle  weather_main_Fog  \\\n",
              "datetime                                                      \n",
              "2018-08-01 00:00:00                   0.0               0.0   \n",
              "2018-08-01 01:00:00                   0.0               0.0   \n",
              "2018-08-01 02:00:00                   0.0               0.0   \n",
              "2018-08-01 03:00:00                   0.0               0.0   \n",
              "2018-08-01 04:00:00                   0.0               0.0   \n",
              "...                                   ...               ...   \n",
              "2021-06-30 19:00:00                   0.0               0.0   \n",
              "2021-06-30 20:00:00                   0.0               0.0   \n",
              "2021-06-30 21:00:00                   0.0               0.0   \n",
              "2021-06-30 22:00:00                   0.0               0.0   \n",
              "2021-06-30 23:00:00                   0.0               0.0   \n",
              "\n",
              "                     weather_main_Haze  weather_main_Mist  weather_main_Rain  \\\n",
              "datetime                                                                       \n",
              "2018-08-01 00:00:00                0.0                0.0                0.0   \n",
              "2018-08-01 01:00:00                0.0                0.0                0.0   \n",
              "2018-08-01 02:00:00                0.0                0.0                0.0   \n",
              "2018-08-01 03:00:00                0.0                0.0                0.0   \n",
              "2018-08-01 04:00:00                0.0                0.0                0.0   \n",
              "...                                ...                ...                ...   \n",
              "2021-06-30 19:00:00                0.0                0.0                0.0   \n",
              "2021-06-30 20:00:00                0.0                0.0                0.0   \n",
              "2021-06-30 21:00:00                0.0                0.0                0.0   \n",
              "2021-06-30 22:00:00                0.0                0.0                0.0   \n",
              "2021-06-30 23:00:00                0.0                0.0                0.0   \n",
              "\n",
              "                     weather_main_Smoke  weather_main_Snow  \\\n",
              "datetime                                                     \n",
              "2018-08-01 00:00:00                 0.0                0.0   \n",
              "2018-08-01 01:00:00                 0.0                0.0   \n",
              "2018-08-01 02:00:00                 0.0                0.0   \n",
              "2018-08-01 03:00:00                 0.0                0.0   \n",
              "2018-08-01 04:00:00                 0.0                0.0   \n",
              "...                                 ...                ...   \n",
              "2021-06-30 19:00:00                 0.0                0.0   \n",
              "2021-06-30 20:00:00                 0.0                0.0   \n",
              "2021-06-30 21:00:00                 0.0                0.0   \n",
              "2021-06-30 22:00:00                 0.0                0.0   \n",
              "2021-06-30 23:00:00                 0.0                0.0   \n",
              "\n",
              "                     weather_main_Squall  weather_main_Thunderstorm  \n",
              "datetime                                                             \n",
              "2018-08-01 00:00:00                  0.0                        0.0  \n",
              "2018-08-01 01:00:00                  0.0                        0.0  \n",
              "2018-08-01 02:00:00                  0.0                        0.0  \n",
              "2018-08-01 03:00:00                  0.0                        0.0  \n",
              "2018-08-01 04:00:00                  0.0                        0.0  \n",
              "...                                  ...                        ...  \n",
              "2021-06-30 19:00:00                  0.0                        0.0  \n",
              "2021-06-30 20:00:00                  0.0                        0.0  \n",
              "2021-06-30 21:00:00                  0.0                        0.0  \n",
              "2021-06-30 22:00:00                  0.0                        0.0  \n",
              "2021-06-30 23:00:00                  0.0                        0.0  \n",
              "\n",
              "[25862 rows x 52 columns]"
            ],
            "text/html": [
              "\n",
              "  <div id=\"df-6a8668ff-2a80-42ba-b803-10e5bc6ce0f9\">\n",
              "    <div class=\"colab-df-container\">\n",
              "      <div>\n",
              "<style scoped>\n",
              "    .dataframe tbody tr th:only-of-type {\n",
              "        vertical-align: middle;\n",
              "    }\n",
              "\n",
              "    .dataframe tbody tr th {\n",
              "        vertical-align: top;\n",
              "    }\n",
              "\n",
              "    .dataframe thead th {\n",
              "        text-align: right;\n",
              "    }\n",
              "</style>\n",
              "<table border=\"1\" class=\"dataframe\">\n",
              "  <thead>\n",
              "    <tr style=\"text-align: right;\">\n",
              "      <th></th>\n",
              "      <th>activate</th>\n",
              "      <th>reservations_count</th>\n",
              "      <th>light</th>\n",
              "      <th>total_bases</th>\n",
              "      <th>free_bases</th>\n",
              "      <th>longitude</th>\n",
              "      <th>no_available</th>\n",
              "      <th>latitude</th>\n",
              "      <th>dock_bikes</th>\n",
              "      <th>time</th>\n",
              "      <th>...</th>\n",
              "      <th>weather_main_Clouds</th>\n",
              "      <th>weather_main_Drizzle</th>\n",
              "      <th>weather_main_Fog</th>\n",
              "      <th>weather_main_Haze</th>\n",
              "      <th>weather_main_Mist</th>\n",
              "      <th>weather_main_Rain</th>\n",
              "      <th>weather_main_Smoke</th>\n",
              "      <th>weather_main_Snow</th>\n",
              "      <th>weather_main_Squall</th>\n",
              "      <th>weather_main_Thunderstorm</th>\n",
              "    </tr>\n",
              "    <tr>\n",
              "      <th>datetime</th>\n",
              "      <th></th>\n",
              "      <th></th>\n",
              "      <th></th>\n",
              "      <th></th>\n",
              "      <th></th>\n",
              "      <th></th>\n",
              "      <th></th>\n",
              "      <th></th>\n",
              "      <th></th>\n",
              "      <th></th>\n",
              "      <th></th>\n",
              "      <th></th>\n",
              "      <th></th>\n",
              "      <th></th>\n",
              "      <th></th>\n",
              "      <th></th>\n",
              "      <th></th>\n",
              "      <th></th>\n",
              "      <th></th>\n",
              "      <th></th>\n",
              "      <th></th>\n",
              "    </tr>\n",
              "  </thead>\n",
              "  <tbody>\n",
              "    <tr>\n",
              "      <th>2018-08-01 00:00:00</th>\n",
              "      <td>0.0</td>\n",
              "      <td>-0.218666</td>\n",
              "      <td>0.704880</td>\n",
              "      <td>-1.090797</td>\n",
              "      <td>-0.245789</td>\n",
              "      <td>-1.083199</td>\n",
              "      <td>-0.352407</td>\n",
              "      <td>-1.074382</td>\n",
              "      <td>11</td>\n",
              "      <td>-1.659847</td>\n",
              "      <td>...</td>\n",
              "      <td>0.0</td>\n",
              "      <td>0.0</td>\n",
              "      <td>0.0</td>\n",
              "      <td>0.0</td>\n",
              "      <td>0.0</td>\n",
              "      <td>0.0</td>\n",
              "      <td>0.0</td>\n",
              "      <td>0.0</td>\n",
              "      <td>0.0</td>\n",
              "      <td>0.0</td>\n",
              "    </tr>\n",
              "    <tr>\n",
              "      <th>2018-08-01 01:00:00</th>\n",
              "      <td>0.0</td>\n",
              "      <td>-0.218666</td>\n",
              "      <td>-1.195028</td>\n",
              "      <td>-1.090797</td>\n",
              "      <td>0.603942</td>\n",
              "      <td>-1.083199</td>\n",
              "      <td>-0.352407</td>\n",
              "      <td>-1.074382</td>\n",
              "      <td>4</td>\n",
              "      <td>-1.515481</td>\n",
              "      <td>...</td>\n",
              "      <td>0.0</td>\n",
              "      <td>0.0</td>\n",
              "      <td>0.0</td>\n",
              "      <td>0.0</td>\n",
              "      <td>0.0</td>\n",
              "      <td>0.0</td>\n",
              "      <td>0.0</td>\n",
              "      <td>0.0</td>\n",
              "      <td>0.0</td>\n",
              "      <td>0.0</td>\n",
              "    </tr>\n",
              "    <tr>\n",
              "      <th>2018-08-01 02:00:00</th>\n",
              "      <td>0.0</td>\n",
              "      <td>-0.218666</td>\n",
              "      <td>0.704880</td>\n",
              "      <td>-1.090797</td>\n",
              "      <td>-0.003009</td>\n",
              "      <td>-1.083199</td>\n",
              "      <td>-0.352407</td>\n",
              "      <td>-1.074382</td>\n",
              "      <td>10</td>\n",
              "      <td>-1.371115</td>\n",
              "      <td>...</td>\n",
              "      <td>0.0</td>\n",
              "      <td>0.0</td>\n",
              "      <td>0.0</td>\n",
              "      <td>0.0</td>\n",
              "      <td>0.0</td>\n",
              "      <td>0.0</td>\n",
              "      <td>0.0</td>\n",
              "      <td>0.0</td>\n",
              "      <td>0.0</td>\n",
              "      <td>0.0</td>\n",
              "    </tr>\n",
              "    <tr>\n",
              "      <th>2018-08-01 03:00:00</th>\n",
              "      <td>0.0</td>\n",
              "      <td>-0.218666</td>\n",
              "      <td>-1.195028</td>\n",
              "      <td>-1.090797</td>\n",
              "      <td>0.482552</td>\n",
              "      <td>-1.083199</td>\n",
              "      <td>-0.352407</td>\n",
              "      <td>-1.074382</td>\n",
              "      <td>4</td>\n",
              "      <td>-1.226749</td>\n",
              "      <td>...</td>\n",
              "      <td>0.0</td>\n",
              "      <td>0.0</td>\n",
              "      <td>0.0</td>\n",
              "      <td>0.0</td>\n",
              "      <td>0.0</td>\n",
              "      <td>0.0</td>\n",
              "      <td>0.0</td>\n",
              "      <td>0.0</td>\n",
              "      <td>0.0</td>\n",
              "      <td>0.0</td>\n",
              "    </tr>\n",
              "    <tr>\n",
              "      <th>2018-08-01 04:00:00</th>\n",
              "      <td>0.0</td>\n",
              "      <td>-0.218666</td>\n",
              "      <td>-1.195028</td>\n",
              "      <td>-1.090797</td>\n",
              "      <td>1.089502</td>\n",
              "      <td>-1.083199</td>\n",
              "      <td>-0.352407</td>\n",
              "      <td>-1.074382</td>\n",
              "      <td>0</td>\n",
              "      <td>-1.082383</td>\n",
              "      <td>...</td>\n",
              "      <td>0.0</td>\n",
              "      <td>0.0</td>\n",
              "      <td>0.0</td>\n",
              "      <td>0.0</td>\n",
              "      <td>0.0</td>\n",
              "      <td>0.0</td>\n",
              "      <td>0.0</td>\n",
              "      <td>0.0</td>\n",
              "      <td>0.0</td>\n",
              "      <td>0.0</td>\n",
              "    </tr>\n",
              "    <tr>\n",
              "      <th>...</th>\n",
              "      <td>...</td>\n",
              "      <td>...</td>\n",
              "      <td>...</td>\n",
              "      <td>...</td>\n",
              "      <td>...</td>\n",
              "      <td>...</td>\n",
              "      <td>...</td>\n",
              "      <td>...</td>\n",
              "      <td>...</td>\n",
              "      <td>...</td>\n",
              "      <td>...</td>\n",
              "      <td>...</td>\n",
              "      <td>...</td>\n",
              "      <td>...</td>\n",
              "      <td>...</td>\n",
              "      <td>...</td>\n",
              "      <td>...</td>\n",
              "      <td>...</td>\n",
              "      <td>...</td>\n",
              "      <td>...</td>\n",
              "      <td>...</td>\n",
              "    </tr>\n",
              "    <tr>\n",
              "      <th>2021-06-30 19:00:00</th>\n",
              "      <td>0.0</td>\n",
              "      <td>3.789224</td>\n",
              "      <td>-1.195028</td>\n",
              "      <td>0.916760</td>\n",
              "      <td>0.968112</td>\n",
              "      <td>0.861520</td>\n",
              "      <td>-0.352407</td>\n",
              "      <td>1.047365</td>\n",
              "      <td>3</td>\n",
              "      <td>1.083109</td>\n",
              "      <td>...</td>\n",
              "      <td>0.0</td>\n",
              "      <td>0.0</td>\n",
              "      <td>0.0</td>\n",
              "      <td>0.0</td>\n",
              "      <td>0.0</td>\n",
              "      <td>0.0</td>\n",
              "      <td>0.0</td>\n",
              "      <td>0.0</td>\n",
              "      <td>0.0</td>\n",
              "      <td>0.0</td>\n",
              "    </tr>\n",
              "    <tr>\n",
              "      <th>2021-06-30 20:00:00</th>\n",
              "      <td>0.0</td>\n",
              "      <td>-0.218666</td>\n",
              "      <td>-1.195028</td>\n",
              "      <td>0.916760</td>\n",
              "      <td>1.089502</td>\n",
              "      <td>0.861520</td>\n",
              "      <td>-0.352407</td>\n",
              "      <td>1.047365</td>\n",
              "      <td>3</td>\n",
              "      <td>1.227475</td>\n",
              "      <td>...</td>\n",
              "      <td>0.0</td>\n",
              "      <td>0.0</td>\n",
              "      <td>0.0</td>\n",
              "      <td>0.0</td>\n",
              "      <td>0.0</td>\n",
              "      <td>0.0</td>\n",
              "      <td>0.0</td>\n",
              "      <td>0.0</td>\n",
              "      <td>0.0</td>\n",
              "      <td>0.0</td>\n",
              "    </tr>\n",
              "    <tr>\n",
              "      <th>2021-06-30 21:00:00</th>\n",
              "      <td>0.0</td>\n",
              "      <td>-0.218666</td>\n",
              "      <td>-1.195028</td>\n",
              "      <td>0.916760</td>\n",
              "      <td>0.968112</td>\n",
              "      <td>0.861520</td>\n",
              "      <td>-0.352407</td>\n",
              "      <td>1.047365</td>\n",
              "      <td>4</td>\n",
              "      <td>1.371841</td>\n",
              "      <td>...</td>\n",
              "      <td>0.0</td>\n",
              "      <td>0.0</td>\n",
              "      <td>0.0</td>\n",
              "      <td>0.0</td>\n",
              "      <td>0.0</td>\n",
              "      <td>0.0</td>\n",
              "      <td>0.0</td>\n",
              "      <td>0.0</td>\n",
              "      <td>0.0</td>\n",
              "      <td>0.0</td>\n",
              "    </tr>\n",
              "    <tr>\n",
              "      <th>2021-06-30 22:00:00</th>\n",
              "      <td>0.0</td>\n",
              "      <td>-0.218666</td>\n",
              "      <td>-1.195028</td>\n",
              "      <td>0.916760</td>\n",
              "      <td>1.332282</td>\n",
              "      <td>0.861520</td>\n",
              "      <td>-0.352407</td>\n",
              "      <td>1.047365</td>\n",
              "      <td>2</td>\n",
              "      <td>1.516207</td>\n",
              "      <td>...</td>\n",
              "      <td>0.0</td>\n",
              "      <td>0.0</td>\n",
              "      <td>0.0</td>\n",
              "      <td>0.0</td>\n",
              "      <td>0.0</td>\n",
              "      <td>0.0</td>\n",
              "      <td>0.0</td>\n",
              "      <td>0.0</td>\n",
              "      <td>0.0</td>\n",
              "      <td>0.0</td>\n",
              "    </tr>\n",
              "    <tr>\n",
              "      <th>2021-06-30 23:00:00</th>\n",
              "      <td>0.0</td>\n",
              "      <td>-0.218666</td>\n",
              "      <td>-1.195028</td>\n",
              "      <td>0.916760</td>\n",
              "      <td>1.575062</td>\n",
              "      <td>0.861520</td>\n",
              "      <td>-0.352407</td>\n",
              "      <td>1.047365</td>\n",
              "      <td>1</td>\n",
              "      <td>1.660573</td>\n",
              "      <td>...</td>\n",
              "      <td>0.0</td>\n",
              "      <td>0.0</td>\n",
              "      <td>0.0</td>\n",
              "      <td>0.0</td>\n",
              "      <td>0.0</td>\n",
              "      <td>0.0</td>\n",
              "      <td>0.0</td>\n",
              "      <td>0.0</td>\n",
              "      <td>0.0</td>\n",
              "      <td>0.0</td>\n",
              "    </tr>\n",
              "  </tbody>\n",
              "</table>\n",
              "<p>25862 rows × 52 columns</p>\n",
              "</div>\n",
              "      <button class=\"colab-df-convert\" onclick=\"convertToInteractive('df-6a8668ff-2a80-42ba-b803-10e5bc6ce0f9')\"\n",
              "              title=\"Convert this dataframe to an interactive table.\"\n",
              "              style=\"display:none;\">\n",
              "        \n",
              "  <svg xmlns=\"http://www.w3.org/2000/svg\" height=\"24px\"viewBox=\"0 0 24 24\"\n",
              "       width=\"24px\">\n",
              "    <path d=\"M0 0h24v24H0V0z\" fill=\"none\"/>\n",
              "    <path d=\"M18.56 5.44l.94 2.06.94-2.06 2.06-.94-2.06-.94-.94-2.06-.94 2.06-2.06.94zm-11 1L8.5 8.5l.94-2.06 2.06-.94-2.06-.94L8.5 2.5l-.94 2.06-2.06.94zm10 10l.94 2.06.94-2.06 2.06-.94-2.06-.94-.94-2.06-.94 2.06-2.06.94z\"/><path d=\"M17.41 7.96l-1.37-1.37c-.4-.4-.92-.59-1.43-.59-.52 0-1.04.2-1.43.59L10.3 9.45l-7.72 7.72c-.78.78-.78 2.05 0 2.83L4 21.41c.39.39.9.59 1.41.59.51 0 1.02-.2 1.41-.59l7.78-7.78 2.81-2.81c.8-.78.8-2.07 0-2.86zM5.41 20L4 18.59l7.72-7.72 1.47 1.35L5.41 20z\"/>\n",
              "  </svg>\n",
              "      </button>\n",
              "      \n",
              "  <style>\n",
              "    .colab-df-container {\n",
              "      display:flex;\n",
              "      flex-wrap:wrap;\n",
              "      gap: 12px;\n",
              "    }\n",
              "\n",
              "    .colab-df-convert {\n",
              "      background-color: #E8F0FE;\n",
              "      border: none;\n",
              "      border-radius: 50%;\n",
              "      cursor: pointer;\n",
              "      display: none;\n",
              "      fill: #1967D2;\n",
              "      height: 32px;\n",
              "      padding: 0 0 0 0;\n",
              "      width: 32px;\n",
              "    }\n",
              "\n",
              "    .colab-df-convert:hover {\n",
              "      background-color: #E2EBFA;\n",
              "      box-shadow: 0px 1px 2px rgba(60, 64, 67, 0.3), 0px 1px 3px 1px rgba(60, 64, 67, 0.15);\n",
              "      fill: #174EA6;\n",
              "    }\n",
              "\n",
              "    [theme=dark] .colab-df-convert {\n",
              "      background-color: #3B4455;\n",
              "      fill: #D2E3FC;\n",
              "    }\n",
              "\n",
              "    [theme=dark] .colab-df-convert:hover {\n",
              "      background-color: #434B5C;\n",
              "      box-shadow: 0px 1px 3px 1px rgba(0, 0, 0, 0.15);\n",
              "      filter: drop-shadow(0px 1px 2px rgba(0, 0, 0, 0.3));\n",
              "      fill: #FFFFFF;\n",
              "    }\n",
              "  </style>\n",
              "\n",
              "      <script>\n",
              "        const buttonEl =\n",
              "          document.querySelector('#df-6a8668ff-2a80-42ba-b803-10e5bc6ce0f9 button.colab-df-convert');\n",
              "        buttonEl.style.display =\n",
              "          google.colab.kernel.accessAllowed ? 'block' : 'none';\n",
              "\n",
              "        async function convertToInteractive(key) {\n",
              "          const element = document.querySelector('#df-6a8668ff-2a80-42ba-b803-10e5bc6ce0f9');\n",
              "          const dataTable =\n",
              "            await google.colab.kernel.invokeFunction('convertToInteractive',\n",
              "                                                     [key], {});\n",
              "          if (!dataTable) return;\n",
              "\n",
              "          const docLinkHtml = 'Like what you see? Visit the ' +\n",
              "            '<a target=\"_blank\" href=https://colab.research.google.com/notebooks/data_table.ipynb>data table notebook</a>'\n",
              "            + ' to learn more about interactive tables.';\n",
              "          element.innerHTML = '';\n",
              "          dataTable['output_type'] = 'display_data';\n",
              "          await google.colab.output.renderOutput(dataTable, element);\n",
              "          const docLink = document.createElement('div');\n",
              "          docLink.innerHTML = docLinkHtml;\n",
              "          element.appendChild(docLink);\n",
              "        }\n",
              "      </script>\n",
              "    </div>\n",
              "  </div>\n",
              "  "
            ]
          },
          "metadata": {},
          "execution_count": 58
        }
      ]
    },
    {
      "cell_type": "code",
      "source": [
        "temp_model"
      ],
      "metadata": {
        "colab": {
          "base_uri": "https://localhost:8080/",
          "height": 866
        },
        "id": "XTpen-rL6NRK",
        "outputId": "666a1922-07ff-4d86-9f6f-11df54ae517c"
      },
      "id": "XTpen-rL6NRK",
      "execution_count": 59,
      "outputs": [
        {
          "output_type": "execute_result",
          "data": {
            "text/plain": [
              "                     activate  reservations_count     light  total_bases  \\\n",
              "datetime                                                                   \n",
              "2018-08-01 00:00:00       0.0           -0.218666  0.704880    -1.090797   \n",
              "2018-08-01 01:00:00       0.0           -0.218666 -1.195028    -1.090797   \n",
              "2018-08-01 02:00:00       0.0           -0.218666  0.704880    -1.090797   \n",
              "2018-08-01 03:00:00       0.0           -0.218666 -1.195028    -1.090797   \n",
              "2018-08-01 04:00:00       0.0           -0.218666 -1.195028    -1.090797   \n",
              "...                       ...                 ...       ...          ...   \n",
              "2021-06-30 19:00:00       0.0            3.789224 -1.195028     0.916760   \n",
              "2021-06-30 20:00:00       0.0           -0.218666 -1.195028     0.916760   \n",
              "2021-06-30 21:00:00       0.0           -0.218666 -1.195028     0.916760   \n",
              "2021-06-30 22:00:00       0.0           -0.218666 -1.195028     0.916760   \n",
              "2021-06-30 23:00:00       0.0           -0.218666 -1.195028     0.916760   \n",
              "\n",
              "                     free_bases  longitude  no_available  latitude  \\\n",
              "datetime                                                             \n",
              "2018-08-01 00:00:00   -0.245789  -1.083199     -0.352407 -1.074382   \n",
              "2018-08-01 01:00:00    0.603942  -1.083199     -0.352407 -1.074382   \n",
              "2018-08-01 02:00:00   -0.003009  -1.083199     -0.352407 -1.074382   \n",
              "2018-08-01 03:00:00    0.482552  -1.083199     -0.352407 -1.074382   \n",
              "2018-08-01 04:00:00    1.089502  -1.083199     -0.352407 -1.074382   \n",
              "...                         ...        ...           ...       ...   \n",
              "2021-06-30 19:00:00    0.968112   0.861520     -0.352407  1.047365   \n",
              "2021-06-30 20:00:00    1.089502   0.861520     -0.352407  1.047365   \n",
              "2021-06-30 21:00:00    0.968112   0.861520     -0.352407  1.047365   \n",
              "2021-06-30 22:00:00    1.332282   0.861520     -0.352407  1.047365   \n",
              "2021-06-30 23:00:00    1.575062   0.861520     -0.352407  1.047365   \n",
              "\n",
              "                     dock_bikes      time  ...  weather_main_Clouds  \\\n",
              "datetime                                   ...                        \n",
              "2018-08-01 00:00:00          11 -1.659847  ...                  0.0   \n",
              "2018-08-01 01:00:00           4 -1.515481  ...                  0.0   \n",
              "2018-08-01 02:00:00          10 -1.371115  ...                  0.0   \n",
              "2018-08-01 03:00:00           4 -1.226749  ...                  0.0   \n",
              "2018-08-01 04:00:00           0 -1.082383  ...                  0.0   \n",
              "...                         ...       ...  ...                  ...   \n",
              "2021-06-30 19:00:00           3  1.083109  ...                  0.0   \n",
              "2021-06-30 20:00:00           3  1.227475  ...                  0.0   \n",
              "2021-06-30 21:00:00           4  1.371841  ...                  0.0   \n",
              "2021-06-30 22:00:00           2  1.516207  ...                  0.0   \n",
              "2021-06-30 23:00:00           1  1.660573  ...                  0.0   \n",
              "\n",
              "                     weather_main_Drizzle  weather_main_Fog  \\\n",
              "datetime                                                      \n",
              "2018-08-01 00:00:00                   0.0               0.0   \n",
              "2018-08-01 01:00:00                   0.0               0.0   \n",
              "2018-08-01 02:00:00                   0.0               0.0   \n",
              "2018-08-01 03:00:00                   0.0               0.0   \n",
              "2018-08-01 04:00:00                   0.0               0.0   \n",
              "...                                   ...               ...   \n",
              "2021-06-30 19:00:00                   0.0               0.0   \n",
              "2021-06-30 20:00:00                   0.0               0.0   \n",
              "2021-06-30 21:00:00                   0.0               0.0   \n",
              "2021-06-30 22:00:00                   0.0               0.0   \n",
              "2021-06-30 23:00:00                   0.0               0.0   \n",
              "\n",
              "                     weather_main_Haze  weather_main_Mist  weather_main_Rain  \\\n",
              "datetime                                                                       \n",
              "2018-08-01 00:00:00                0.0                0.0                0.0   \n",
              "2018-08-01 01:00:00                0.0                0.0                0.0   \n",
              "2018-08-01 02:00:00                0.0                0.0                0.0   \n",
              "2018-08-01 03:00:00                0.0                0.0                0.0   \n",
              "2018-08-01 04:00:00                0.0                0.0                0.0   \n",
              "...                                ...                ...                ...   \n",
              "2021-06-30 19:00:00                0.0                0.0                0.0   \n",
              "2021-06-30 20:00:00                0.0                0.0                0.0   \n",
              "2021-06-30 21:00:00                0.0                0.0                0.0   \n",
              "2021-06-30 22:00:00                0.0                0.0                0.0   \n",
              "2021-06-30 23:00:00                0.0                0.0                0.0   \n",
              "\n",
              "                     weather_main_Smoke  weather_main_Snow  \\\n",
              "datetime                                                     \n",
              "2018-08-01 00:00:00                 0.0                0.0   \n",
              "2018-08-01 01:00:00                 0.0                0.0   \n",
              "2018-08-01 02:00:00                 0.0                0.0   \n",
              "2018-08-01 03:00:00                 0.0                0.0   \n",
              "2018-08-01 04:00:00                 0.0                0.0   \n",
              "...                                 ...                ...   \n",
              "2021-06-30 19:00:00                 0.0                0.0   \n",
              "2021-06-30 20:00:00                 0.0                0.0   \n",
              "2021-06-30 21:00:00                 0.0                0.0   \n",
              "2021-06-30 22:00:00                 0.0                0.0   \n",
              "2021-06-30 23:00:00                 0.0                0.0   \n",
              "\n",
              "                     weather_main_Squall  weather_main_Thunderstorm  \n",
              "datetime                                                             \n",
              "2018-08-01 00:00:00                  0.0                        0.0  \n",
              "2018-08-01 01:00:00                  0.0                        0.0  \n",
              "2018-08-01 02:00:00                  0.0                        0.0  \n",
              "2018-08-01 03:00:00                  0.0                        0.0  \n",
              "2018-08-01 04:00:00                  0.0                        0.0  \n",
              "...                                  ...                        ...  \n",
              "2021-06-30 19:00:00                  0.0                        0.0  \n",
              "2021-06-30 20:00:00                  0.0                        0.0  \n",
              "2021-06-30 21:00:00                  0.0                        0.0  \n",
              "2021-06-30 22:00:00                  0.0                        0.0  \n",
              "2021-06-30 23:00:00                  0.0                        0.0  \n",
              "\n",
              "[25862 rows x 52 columns]"
            ],
            "text/html": [
              "\n",
              "  <div id=\"df-0b459278-3931-4176-ad83-a79b365b69d1\">\n",
              "    <div class=\"colab-df-container\">\n",
              "      <div>\n",
              "<style scoped>\n",
              "    .dataframe tbody tr th:only-of-type {\n",
              "        vertical-align: middle;\n",
              "    }\n",
              "\n",
              "    .dataframe tbody tr th {\n",
              "        vertical-align: top;\n",
              "    }\n",
              "\n",
              "    .dataframe thead th {\n",
              "        text-align: right;\n",
              "    }\n",
              "</style>\n",
              "<table border=\"1\" class=\"dataframe\">\n",
              "  <thead>\n",
              "    <tr style=\"text-align: right;\">\n",
              "      <th></th>\n",
              "      <th>activate</th>\n",
              "      <th>reservations_count</th>\n",
              "      <th>light</th>\n",
              "      <th>total_bases</th>\n",
              "      <th>free_bases</th>\n",
              "      <th>longitude</th>\n",
              "      <th>no_available</th>\n",
              "      <th>latitude</th>\n",
              "      <th>dock_bikes</th>\n",
              "      <th>time</th>\n",
              "      <th>...</th>\n",
              "      <th>weather_main_Clouds</th>\n",
              "      <th>weather_main_Drizzle</th>\n",
              "      <th>weather_main_Fog</th>\n",
              "      <th>weather_main_Haze</th>\n",
              "      <th>weather_main_Mist</th>\n",
              "      <th>weather_main_Rain</th>\n",
              "      <th>weather_main_Smoke</th>\n",
              "      <th>weather_main_Snow</th>\n",
              "      <th>weather_main_Squall</th>\n",
              "      <th>weather_main_Thunderstorm</th>\n",
              "    </tr>\n",
              "    <tr>\n",
              "      <th>datetime</th>\n",
              "      <th></th>\n",
              "      <th></th>\n",
              "      <th></th>\n",
              "      <th></th>\n",
              "      <th></th>\n",
              "      <th></th>\n",
              "      <th></th>\n",
              "      <th></th>\n",
              "      <th></th>\n",
              "      <th></th>\n",
              "      <th></th>\n",
              "      <th></th>\n",
              "      <th></th>\n",
              "      <th></th>\n",
              "      <th></th>\n",
              "      <th></th>\n",
              "      <th></th>\n",
              "      <th></th>\n",
              "      <th></th>\n",
              "      <th></th>\n",
              "      <th></th>\n",
              "    </tr>\n",
              "  </thead>\n",
              "  <tbody>\n",
              "    <tr>\n",
              "      <th>2018-08-01 00:00:00</th>\n",
              "      <td>0.0</td>\n",
              "      <td>-0.218666</td>\n",
              "      <td>0.704880</td>\n",
              "      <td>-1.090797</td>\n",
              "      <td>-0.245789</td>\n",
              "      <td>-1.083199</td>\n",
              "      <td>-0.352407</td>\n",
              "      <td>-1.074382</td>\n",
              "      <td>11</td>\n",
              "      <td>-1.659847</td>\n",
              "      <td>...</td>\n",
              "      <td>0.0</td>\n",
              "      <td>0.0</td>\n",
              "      <td>0.0</td>\n",
              "      <td>0.0</td>\n",
              "      <td>0.0</td>\n",
              "      <td>0.0</td>\n",
              "      <td>0.0</td>\n",
              "      <td>0.0</td>\n",
              "      <td>0.0</td>\n",
              "      <td>0.0</td>\n",
              "    </tr>\n",
              "    <tr>\n",
              "      <th>2018-08-01 01:00:00</th>\n",
              "      <td>0.0</td>\n",
              "      <td>-0.218666</td>\n",
              "      <td>-1.195028</td>\n",
              "      <td>-1.090797</td>\n",
              "      <td>0.603942</td>\n",
              "      <td>-1.083199</td>\n",
              "      <td>-0.352407</td>\n",
              "      <td>-1.074382</td>\n",
              "      <td>4</td>\n",
              "      <td>-1.515481</td>\n",
              "      <td>...</td>\n",
              "      <td>0.0</td>\n",
              "      <td>0.0</td>\n",
              "      <td>0.0</td>\n",
              "      <td>0.0</td>\n",
              "      <td>0.0</td>\n",
              "      <td>0.0</td>\n",
              "      <td>0.0</td>\n",
              "      <td>0.0</td>\n",
              "      <td>0.0</td>\n",
              "      <td>0.0</td>\n",
              "    </tr>\n",
              "    <tr>\n",
              "      <th>2018-08-01 02:00:00</th>\n",
              "      <td>0.0</td>\n",
              "      <td>-0.218666</td>\n",
              "      <td>0.704880</td>\n",
              "      <td>-1.090797</td>\n",
              "      <td>-0.003009</td>\n",
              "      <td>-1.083199</td>\n",
              "      <td>-0.352407</td>\n",
              "      <td>-1.074382</td>\n",
              "      <td>10</td>\n",
              "      <td>-1.371115</td>\n",
              "      <td>...</td>\n",
              "      <td>0.0</td>\n",
              "      <td>0.0</td>\n",
              "      <td>0.0</td>\n",
              "      <td>0.0</td>\n",
              "      <td>0.0</td>\n",
              "      <td>0.0</td>\n",
              "      <td>0.0</td>\n",
              "      <td>0.0</td>\n",
              "      <td>0.0</td>\n",
              "      <td>0.0</td>\n",
              "    </tr>\n",
              "    <tr>\n",
              "      <th>2018-08-01 03:00:00</th>\n",
              "      <td>0.0</td>\n",
              "      <td>-0.218666</td>\n",
              "      <td>-1.195028</td>\n",
              "      <td>-1.090797</td>\n",
              "      <td>0.482552</td>\n",
              "      <td>-1.083199</td>\n",
              "      <td>-0.352407</td>\n",
              "      <td>-1.074382</td>\n",
              "      <td>4</td>\n",
              "      <td>-1.226749</td>\n",
              "      <td>...</td>\n",
              "      <td>0.0</td>\n",
              "      <td>0.0</td>\n",
              "      <td>0.0</td>\n",
              "      <td>0.0</td>\n",
              "      <td>0.0</td>\n",
              "      <td>0.0</td>\n",
              "      <td>0.0</td>\n",
              "      <td>0.0</td>\n",
              "      <td>0.0</td>\n",
              "      <td>0.0</td>\n",
              "    </tr>\n",
              "    <tr>\n",
              "      <th>2018-08-01 04:00:00</th>\n",
              "      <td>0.0</td>\n",
              "      <td>-0.218666</td>\n",
              "      <td>-1.195028</td>\n",
              "      <td>-1.090797</td>\n",
              "      <td>1.089502</td>\n",
              "      <td>-1.083199</td>\n",
              "      <td>-0.352407</td>\n",
              "      <td>-1.074382</td>\n",
              "      <td>0</td>\n",
              "      <td>-1.082383</td>\n",
              "      <td>...</td>\n",
              "      <td>0.0</td>\n",
              "      <td>0.0</td>\n",
              "      <td>0.0</td>\n",
              "      <td>0.0</td>\n",
              "      <td>0.0</td>\n",
              "      <td>0.0</td>\n",
              "      <td>0.0</td>\n",
              "      <td>0.0</td>\n",
              "      <td>0.0</td>\n",
              "      <td>0.0</td>\n",
              "    </tr>\n",
              "    <tr>\n",
              "      <th>...</th>\n",
              "      <td>...</td>\n",
              "      <td>...</td>\n",
              "      <td>...</td>\n",
              "      <td>...</td>\n",
              "      <td>...</td>\n",
              "      <td>...</td>\n",
              "      <td>...</td>\n",
              "      <td>...</td>\n",
              "      <td>...</td>\n",
              "      <td>...</td>\n",
              "      <td>...</td>\n",
              "      <td>...</td>\n",
              "      <td>...</td>\n",
              "      <td>...</td>\n",
              "      <td>...</td>\n",
              "      <td>...</td>\n",
              "      <td>...</td>\n",
              "      <td>...</td>\n",
              "      <td>...</td>\n",
              "      <td>...</td>\n",
              "      <td>...</td>\n",
              "    </tr>\n",
              "    <tr>\n",
              "      <th>2021-06-30 19:00:00</th>\n",
              "      <td>0.0</td>\n",
              "      <td>3.789224</td>\n",
              "      <td>-1.195028</td>\n",
              "      <td>0.916760</td>\n",
              "      <td>0.968112</td>\n",
              "      <td>0.861520</td>\n",
              "      <td>-0.352407</td>\n",
              "      <td>1.047365</td>\n",
              "      <td>3</td>\n",
              "      <td>1.083109</td>\n",
              "      <td>...</td>\n",
              "      <td>0.0</td>\n",
              "      <td>0.0</td>\n",
              "      <td>0.0</td>\n",
              "      <td>0.0</td>\n",
              "      <td>0.0</td>\n",
              "      <td>0.0</td>\n",
              "      <td>0.0</td>\n",
              "      <td>0.0</td>\n",
              "      <td>0.0</td>\n",
              "      <td>0.0</td>\n",
              "    </tr>\n",
              "    <tr>\n",
              "      <th>2021-06-30 20:00:00</th>\n",
              "      <td>0.0</td>\n",
              "      <td>-0.218666</td>\n",
              "      <td>-1.195028</td>\n",
              "      <td>0.916760</td>\n",
              "      <td>1.089502</td>\n",
              "      <td>0.861520</td>\n",
              "      <td>-0.352407</td>\n",
              "      <td>1.047365</td>\n",
              "      <td>3</td>\n",
              "      <td>1.227475</td>\n",
              "      <td>...</td>\n",
              "      <td>0.0</td>\n",
              "      <td>0.0</td>\n",
              "      <td>0.0</td>\n",
              "      <td>0.0</td>\n",
              "      <td>0.0</td>\n",
              "      <td>0.0</td>\n",
              "      <td>0.0</td>\n",
              "      <td>0.0</td>\n",
              "      <td>0.0</td>\n",
              "      <td>0.0</td>\n",
              "    </tr>\n",
              "    <tr>\n",
              "      <th>2021-06-30 21:00:00</th>\n",
              "      <td>0.0</td>\n",
              "      <td>-0.218666</td>\n",
              "      <td>-1.195028</td>\n",
              "      <td>0.916760</td>\n",
              "      <td>0.968112</td>\n",
              "      <td>0.861520</td>\n",
              "      <td>-0.352407</td>\n",
              "      <td>1.047365</td>\n",
              "      <td>4</td>\n",
              "      <td>1.371841</td>\n",
              "      <td>...</td>\n",
              "      <td>0.0</td>\n",
              "      <td>0.0</td>\n",
              "      <td>0.0</td>\n",
              "      <td>0.0</td>\n",
              "      <td>0.0</td>\n",
              "      <td>0.0</td>\n",
              "      <td>0.0</td>\n",
              "      <td>0.0</td>\n",
              "      <td>0.0</td>\n",
              "      <td>0.0</td>\n",
              "    </tr>\n",
              "    <tr>\n",
              "      <th>2021-06-30 22:00:00</th>\n",
              "      <td>0.0</td>\n",
              "      <td>-0.218666</td>\n",
              "      <td>-1.195028</td>\n",
              "      <td>0.916760</td>\n",
              "      <td>1.332282</td>\n",
              "      <td>0.861520</td>\n",
              "      <td>-0.352407</td>\n",
              "      <td>1.047365</td>\n",
              "      <td>2</td>\n",
              "      <td>1.516207</td>\n",
              "      <td>...</td>\n",
              "      <td>0.0</td>\n",
              "      <td>0.0</td>\n",
              "      <td>0.0</td>\n",
              "      <td>0.0</td>\n",
              "      <td>0.0</td>\n",
              "      <td>0.0</td>\n",
              "      <td>0.0</td>\n",
              "      <td>0.0</td>\n",
              "      <td>0.0</td>\n",
              "      <td>0.0</td>\n",
              "    </tr>\n",
              "    <tr>\n",
              "      <th>2021-06-30 23:00:00</th>\n",
              "      <td>0.0</td>\n",
              "      <td>-0.218666</td>\n",
              "      <td>-1.195028</td>\n",
              "      <td>0.916760</td>\n",
              "      <td>1.575062</td>\n",
              "      <td>0.861520</td>\n",
              "      <td>-0.352407</td>\n",
              "      <td>1.047365</td>\n",
              "      <td>1</td>\n",
              "      <td>1.660573</td>\n",
              "      <td>...</td>\n",
              "      <td>0.0</td>\n",
              "      <td>0.0</td>\n",
              "      <td>0.0</td>\n",
              "      <td>0.0</td>\n",
              "      <td>0.0</td>\n",
              "      <td>0.0</td>\n",
              "      <td>0.0</td>\n",
              "      <td>0.0</td>\n",
              "      <td>0.0</td>\n",
              "      <td>0.0</td>\n",
              "    </tr>\n",
              "  </tbody>\n",
              "</table>\n",
              "<p>25862 rows × 52 columns</p>\n",
              "</div>\n",
              "      <button class=\"colab-df-convert\" onclick=\"convertToInteractive('df-0b459278-3931-4176-ad83-a79b365b69d1')\"\n",
              "              title=\"Convert this dataframe to an interactive table.\"\n",
              "              style=\"display:none;\">\n",
              "        \n",
              "  <svg xmlns=\"http://www.w3.org/2000/svg\" height=\"24px\"viewBox=\"0 0 24 24\"\n",
              "       width=\"24px\">\n",
              "    <path d=\"M0 0h24v24H0V0z\" fill=\"none\"/>\n",
              "    <path d=\"M18.56 5.44l.94 2.06.94-2.06 2.06-.94-2.06-.94-.94-2.06-.94 2.06-2.06.94zm-11 1L8.5 8.5l.94-2.06 2.06-.94-2.06-.94L8.5 2.5l-.94 2.06-2.06.94zm10 10l.94 2.06.94-2.06 2.06-.94-2.06-.94-.94-2.06-.94 2.06-2.06.94z\"/><path d=\"M17.41 7.96l-1.37-1.37c-.4-.4-.92-.59-1.43-.59-.52 0-1.04.2-1.43.59L10.3 9.45l-7.72 7.72c-.78.78-.78 2.05 0 2.83L4 21.41c.39.39.9.59 1.41.59.51 0 1.02-.2 1.41-.59l7.78-7.78 2.81-2.81c.8-.78.8-2.07 0-2.86zM5.41 20L4 18.59l7.72-7.72 1.47 1.35L5.41 20z\"/>\n",
              "  </svg>\n",
              "      </button>\n",
              "      \n",
              "  <style>\n",
              "    .colab-df-container {\n",
              "      display:flex;\n",
              "      flex-wrap:wrap;\n",
              "      gap: 12px;\n",
              "    }\n",
              "\n",
              "    .colab-df-convert {\n",
              "      background-color: #E8F0FE;\n",
              "      border: none;\n",
              "      border-radius: 50%;\n",
              "      cursor: pointer;\n",
              "      display: none;\n",
              "      fill: #1967D2;\n",
              "      height: 32px;\n",
              "      padding: 0 0 0 0;\n",
              "      width: 32px;\n",
              "    }\n",
              "\n",
              "    .colab-df-convert:hover {\n",
              "      background-color: #E2EBFA;\n",
              "      box-shadow: 0px 1px 2px rgba(60, 64, 67, 0.3), 0px 1px 3px 1px rgba(60, 64, 67, 0.15);\n",
              "      fill: #174EA6;\n",
              "    }\n",
              "\n",
              "    [theme=dark] .colab-df-convert {\n",
              "      background-color: #3B4455;\n",
              "      fill: #D2E3FC;\n",
              "    }\n",
              "\n",
              "    [theme=dark] .colab-df-convert:hover {\n",
              "      background-color: #434B5C;\n",
              "      box-shadow: 0px 1px 3px 1px rgba(0, 0, 0, 0.15);\n",
              "      filter: drop-shadow(0px 1px 2px rgba(0, 0, 0, 0.3));\n",
              "      fill: #FFFFFF;\n",
              "    }\n",
              "  </style>\n",
              "\n",
              "      <script>\n",
              "        const buttonEl =\n",
              "          document.querySelector('#df-0b459278-3931-4176-ad83-a79b365b69d1 button.colab-df-convert');\n",
              "        buttonEl.style.display =\n",
              "          google.colab.kernel.accessAllowed ? 'block' : 'none';\n",
              "\n",
              "        async function convertToInteractive(key) {\n",
              "          const element = document.querySelector('#df-0b459278-3931-4176-ad83-a79b365b69d1');\n",
              "          const dataTable =\n",
              "            await google.colab.kernel.invokeFunction('convertToInteractive',\n",
              "                                                     [key], {});\n",
              "          if (!dataTable) return;\n",
              "\n",
              "          const docLinkHtml = 'Like what you see? Visit the ' +\n",
              "            '<a target=\"_blank\" href=https://colab.research.google.com/notebooks/data_table.ipynb>data table notebook</a>'\n",
              "            + ' to learn more about interactive tables.';\n",
              "          element.innerHTML = '';\n",
              "          dataTable['output_type'] = 'display_data';\n",
              "          await google.colab.output.renderOutput(dataTable, element);\n",
              "          const docLink = document.createElement('div');\n",
              "          docLink.innerHTML = docLinkHtml;\n",
              "          element.appendChild(docLink);\n",
              "        }\n",
              "      </script>\n",
              "    </div>\n",
              "  </div>\n",
              "  "
            ]
          },
          "metadata": {},
          "execution_count": 59
        }
      ]
    },
    {
      "cell_type": "markdown",
      "id": "ecdf179b",
      "metadata": {
        "id": "ecdf179b"
      },
      "source": [
        "### Creating Time steps"
      ]
    },
    {
      "cell_type": "code",
      "source": [
        "temp_model.info()"
      ],
      "metadata": {
        "colab": {
          "base_uri": "https://localhost:8080/"
        },
        "id": "CNGtwpLJ8llw",
        "outputId": "313ed1fa-1696-4f03-f46e-d57e879a7492"
      },
      "id": "CNGtwpLJ8llw",
      "execution_count": 61,
      "outputs": [
        {
          "output_type": "stream",
          "name": "stdout",
          "text": [
            "<class 'pandas.core.frame.DataFrame'>\n",
            "DatetimeIndex: 25862 entries, 2018-08-01 00:00:00 to 2021-06-30 23:00:00\n",
            "Data columns (total 52 columns):\n",
            " #   Column                     Non-Null Count  Dtype  \n",
            "---  ------                     --------------  -----  \n",
            " 0   activate                   25862 non-null  float64\n",
            " 1   reservations_count         25862 non-null  float64\n",
            " 2   light                      25862 non-null  float64\n",
            " 3   total_bases                25862 non-null  float64\n",
            " 4   free_bases                 25862 non-null  float64\n",
            " 5   longitude                  25862 non-null  float64\n",
            " 6   no_available               25862 non-null  float64\n",
            " 7   latitude                   25862 non-null  float64\n",
            " 8   dock_bikes                 25862 non-null  int64  \n",
            " 9   time                       25862 non-null  float64\n",
            " 10  holidays                   25862 non-null  int64  \n",
            " 11  feels_like                 25862 non-null  float64\n",
            " 12  hour_sin                   25862 non-null  float64\n",
            " 13  hour_cos                   25862 non-null  float64\n",
            " 14  weekday_sin                25862 non-null  float64\n",
            " 15  weekday_cos                25862 non-null  float64\n",
            " 16  month_sin                  25862 non-null  float64\n",
            " 17  month_cos                  25862 non-null  float64\n",
            " 18  year_2018                  25862 non-null  float64\n",
            " 19  year_2019                  25862 non-null  float64\n",
            " 20  year_2020                  25862 non-null  float64\n",
            " 21  year_2021                  25862 non-null  float64\n",
            " 22  month_1                    25862 non-null  float64\n",
            " 23  month_2                    25862 non-null  float64\n",
            " 24  month_3                    25862 non-null  float64\n",
            " 25  month_4                    25862 non-null  float64\n",
            " 26  month_5                    25862 non-null  float64\n",
            " 27  month_6                    25862 non-null  float64\n",
            " 28  month_7                    25862 non-null  float64\n",
            " 29  month_8                    25862 non-null  float64\n",
            " 30  month_9                    25862 non-null  float64\n",
            " 31  month_10                   25862 non-null  float64\n",
            " 32  month_11                   25862 non-null  float64\n",
            " 33  month_12                   25862 non-null  float64\n",
            " 34  weekday_0                  25862 non-null  float64\n",
            " 35  weekday_1                  25862 non-null  float64\n",
            " 36  weekday_2                  25862 non-null  float64\n",
            " 37  weekday_3                  25862 non-null  float64\n",
            " 38  weekday_4                  25862 non-null  float64\n",
            " 39  weekday_5                  25862 non-null  float64\n",
            " 40  weekday_6                  25862 non-null  float64\n",
            " 41  weather_main_Clear         25862 non-null  float64\n",
            " 42  weather_main_Clouds        25862 non-null  float64\n",
            " 43  weather_main_Drizzle       25862 non-null  float64\n",
            " 44  weather_main_Fog           25862 non-null  float64\n",
            " 45  weather_main_Haze          25862 non-null  float64\n",
            " 46  weather_main_Mist          25862 non-null  float64\n",
            " 47  weather_main_Rain          25862 non-null  float64\n",
            " 48  weather_main_Smoke         25862 non-null  float64\n",
            " 49  weather_main_Snow          25862 non-null  float64\n",
            " 50  weather_main_Squall        25862 non-null  float64\n",
            " 51  weather_main_Thunderstorm  25862 non-null  float64\n",
            "dtypes: float64(50), int64(2)\n",
            "memory usage: 10.5 MB\n"
          ]
        }
      ]
    },
    {
      "cell_type": "code",
      "execution_count": 62,
      "id": "dced95ba",
      "metadata": {
        "id": "dced95ba"
      },
      "outputs": [],
      "source": [
        "def create_dataset(X, y, time_steps=1):\n",
        "    Xs, ys = [], []\n",
        "    for i in range(len(X) - time_steps):\n",
        "        v = X.iloc[i:(i + time_steps)].values\n",
        "        Xs.append(v)        \n",
        "        ys.append(y.iloc[i + time_steps])\n",
        "    return np.array(Xs), np.array(ys)"
      ]
    },
    {
      "cell_type": "code",
      "execution_count": 63,
      "id": "d01e659e",
      "metadata": {
        "id": "d01e659e",
        "outputId": "9aa6e1d4-4048-48c7-90dc-7b3405135acc",
        "colab": {
          "base_uri": "https://localhost:8080/"
        }
      },
      "outputs": [
        {
          "output_type": "stream",
          "name": "stdout",
          "text": [
            "20689 5173\n"
          ]
        }
      ],
      "source": [
        "train_size = int(len(temp_model) * 0.8)\n",
        "test_size = len(temp_model) - train_size\n",
        "train, test = temp_model.iloc[0:train_size], temp_model.iloc[train_size:len(temp_model)]\n",
        "print(len(train), len(test))"
      ]
    },
    {
      "cell_type": "code",
      "execution_count": 64,
      "id": "9ee7a2b4",
      "metadata": {
        "id": "9ee7a2b4",
        "outputId": "76f1404b-f72f-4ab1-a639-22c9f2e958b0",
        "colab": {
          "base_uri": "https://localhost:8080/"
        }
      },
      "outputs": [
        {
          "output_type": "stream",
          "name": "stdout",
          "text": [
            "(20665, 24, 52) (20665,)\n"
          ]
        }
      ],
      "source": [
        "time_steps = 24\n",
        "\n",
        "# reshape to [samples, time_steps, n_features]\n",
        "\n",
        "X_train, y_train = create_dataset(train, train.dock_bikes, time_steps)\n",
        "X_test, y_test = create_dataset(test, test.dock_bikes, time_steps)\n",
        "\n",
        "print(X_train.shape, y_train.shape)"
      ]
    },
    {
      "cell_type": "markdown",
      "id": "93842973",
      "metadata": {
        "id": "93842973"
      },
      "source": [
        "Model 1: "
      ]
    },
    {
      "cell_type": "code",
      "execution_count": 72,
      "id": "c751a859",
      "metadata": {
        "id": "c751a859"
      },
      "outputs": [],
      "source": [
        "model = Sequential()\n",
        "model.add(\n",
        "    layers.Bidirectional(\n",
        "    layers.LSTM(\n",
        "      units=128,\n",
        "      input_shape=(X_train.shape[1], X_train.shape[2]),\n",
        "    ), \n",
        "  )\n",
        ")\n",
        "model.add(layers.Dropout(rate=0.2))\n",
        "model.add(layers.Dense(units=1))\n",
        "\n",
        "model.compile(loss='mean_squared_error', optimizer='adam')"
      ]
    },
    {
      "cell_type": "code",
      "execution_count": 73,
      "id": "beea5e27",
      "metadata": {
        "id": "beea5e27"
      },
      "outputs": [],
      "source": [
        "from tensorflow.keras.callbacks import EarlyStopping\n",
        "early_stop = EarlyStopping(monitor=\"val_loss\", mode=\"min\", verbose=1, patience = 5)"
      ]
    },
    {
      "cell_type": "code",
      "execution_count": 74,
      "id": "e5282279",
      "metadata": {
        "id": "e5282279",
        "outputId": "6c8b4300-d8f0-47ec-cf2b-6e0ed1592987",
        "colab": {
          "base_uri": "https://localhost:8080/"
        }
      },
      "outputs": [
        {
          "output_type": "stream",
          "name": "stdout",
          "text": [
            "Epoch 1/20\n",
            "323/323 [==============================] - 21s 55ms/step - loss: 17.1678 - val_loss: 6.5818\n",
            "Epoch 2/20\n",
            "323/323 [==============================] - 18s 57ms/step - loss: 8.2925 - val_loss: 5.7508\n",
            "Epoch 3/20\n",
            "323/323 [==============================] - 17s 53ms/step - loss: 7.9952 - val_loss: 5.7140\n",
            "Epoch 4/20\n",
            "323/323 [==============================] - 17s 53ms/step - loss: 7.7023 - val_loss: 5.7460\n",
            "Epoch 5/20\n",
            "323/323 [==============================] - 18s 55ms/step - loss: 7.5640 - val_loss: 5.6263\n",
            "Epoch 6/20\n",
            "323/323 [==============================] - 17s 53ms/step - loss: 7.4502 - val_loss: 5.5635\n",
            "Epoch 7/20\n",
            "323/323 [==============================] - 17s 53ms/step - loss: 7.4012 - val_loss: 5.6826\n",
            "Epoch 8/20\n",
            "323/323 [==============================] - 17s 53ms/step - loss: 7.2319 - val_loss: 5.2700\n",
            "Epoch 9/20\n",
            "323/323 [==============================] - 17s 53ms/step - loss: 7.2457 - val_loss: 5.1989\n",
            "Epoch 10/20\n",
            "323/323 [==============================] - 17s 53ms/step - loss: 7.0405 - val_loss: 5.1226\n",
            "Epoch 11/20\n",
            "323/323 [==============================] - 17s 52ms/step - loss: 6.9998 - val_loss: 5.1153\n",
            "Epoch 12/20\n",
            "323/323 [==============================] - 17s 53ms/step - loss: 6.8628 - val_loss: 5.1533\n",
            "Epoch 13/20\n",
            "323/323 [==============================] - 18s 54ms/step - loss: 6.7512 - val_loss: 5.2568\n",
            "Epoch 14/20\n",
            "323/323 [==============================] - 17s 52ms/step - loss: 6.7209 - val_loss: 5.2376\n",
            "Epoch 15/20\n",
            "323/323 [==============================] - 17s 52ms/step - loss: 6.5865 - val_loss: 5.3528\n",
            "Epoch 16/20\n",
            "323/323 [==============================] - 17s 52ms/step - loss: 6.5188 - val_loss: 5.3872\n",
            "Epoch 16: early stopping\n"
          ]
        }
      ],
      "source": [
        "history = model.fit(\n",
        "    X_train, y_train, \n",
        "    epochs=20, \n",
        "    batch_size=64, \n",
        "    validation_data=(X_test, y_test),\n",
        "    shuffle=False,\n",
        "    callbacks = [early_stop]\n",
        ")"
      ]
    },
    {
      "cell_type": "code",
      "source": [
        "plt.plot(history.history['loss'], label='train')\n",
        "plt.plot(history.history['val_loss'], label='test')\n",
        "plt.legend();"
      ],
      "metadata": {
        "colab": {
          "base_uri": "https://localhost:8080/",
          "height": 265
        },
        "id": "-jkTrnyI8-Sx",
        "outputId": "aa54aacd-226e-4164-8f89-579a902d1a2c"
      },
      "id": "-jkTrnyI8-Sx",
      "execution_count": 75,
      "outputs": [
        {
          "output_type": "display_data",
          "data": {
            "text/plain": [
              "<Figure size 432x288 with 1 Axes>"
            ],
            "image/png": "[encoded data removed]"
          },
          "metadata": {
            "needs_background": "light"
          }
        }
      ]
    },
    {
      "cell_type": "markdown",
      "id": "f3e1138a",
      "metadata": {
        "id": "f3e1138a"
      },
      "source": [
        "Model 2:"
      ]
    },
    {
      "cell_type": "code",
      "execution_count": 76,
      "id": "58904d88",
      "metadata": {
        "id": "58904d88"
      },
      "outputs": [],
      "source": [
        "model = Sequential()\n",
        "\n",
        "model.add(layers.Bidirectional(layers.LSTM(units=128,return_sequences=True,input_shape=(X_train.shape[1], X_train.shape[2]))))\n",
        "\n",
        "model.add(layers.LSTM(units= 128, return_sequences=True))\n",
        "model.add(layers.Dropout(0.2))\n",
        "model.add(layers.LSTM(units= 128))\n",
        "model.add(layers.Dropout(0.2))\n",
        "model.add(layers.Dense(units = 1))\n",
        "\n",
        "model.compile(optimizer=\"adam\", loss=\"mean_squared_error\", metrics=[\"acc\"])\n"
      ]
    },
    {
      "cell_type": "code",
      "execution_count": 77,
      "id": "5351a083",
      "metadata": {
        "id": "5351a083"
      },
      "outputs": [],
      "source": [
        "from tensorflow.keras.callbacks import EarlyStopping\n",
        "early_stop = EarlyStopping(monitor=\"val_loss\", mode=\"min\", verbose=1, patience = 5)"
      ]
    },
    {
      "cell_type": "code",
      "execution_count": 78,
      "id": "7cf45ad6",
      "metadata": {
        "id": "7cf45ad6",
        "outputId": "3a672ed6-6ded-4534-8a4a-9c2d6f562fe8",
        "colab": {
          "base_uri": "https://localhost:8080/"
        }
      },
      "outputs": [
        {
          "output_type": "stream",
          "name": "stdout",
          "text": [
            "Epoch 1/20\n",
            "323/323 [==============================] - 54s 149ms/step - loss: 20.7602 - acc: 0.1397 - val_loss: 9.6963 - val_acc: 0.0157\n",
            "Epoch 2/20\n",
            "323/323 [==============================] - 47s 146ms/step - loss: 9.4755 - acc: 0.1452 - val_loss: 7.2227 - val_acc: 0.0157\n",
            "Epoch 3/20\n",
            "323/323 [==============================] - 48s 148ms/step - loss: 8.4376 - acc: 0.1535 - val_loss: 7.2432 - val_acc: 0.0171\n",
            "Epoch 4/20\n",
            "323/323 [==============================] - 47s 145ms/step - loss: 8.1028 - acc: 0.1624 - val_loss: 8.6383 - val_acc: 0.0183\n",
            "Epoch 5/20\n",
            "323/323 [==============================] - 47s 147ms/step - loss: 8.0565 - acc: 0.1631 - val_loss: 8.7338 - val_acc: 0.0171\n",
            "Epoch 6/20\n",
            "323/323 [==============================] - 48s 149ms/step - loss: 7.8690 - acc: 0.1645 - val_loss: 7.0122 - val_acc: 0.0185\n",
            "Epoch 7/20\n",
            "323/323 [==============================] - 47s 146ms/step - loss: 7.6854 - acc: 0.1654 - val_loss: 6.4158 - val_acc: 0.0169\n",
            "Epoch 8/20\n",
            "323/323 [==============================] - 47s 147ms/step - loss: 7.3902 - acc: 0.1676 - val_loss: 5.9081 - val_acc: 0.0165\n",
            "Epoch 9/20\n",
            "323/323 [==============================] - 48s 148ms/step - loss: 7.2012 - acc: 0.1679 - val_loss: 5.8191 - val_acc: 0.0163\n",
            "Epoch 10/20\n",
            "323/323 [==============================] - 47s 147ms/step - loss: 7.1357 - acc: 0.1656 - val_loss: 6.0845 - val_acc: 0.0157\n",
            "Epoch 11/20\n",
            "323/323 [==============================] - 47s 147ms/step - loss: 6.9677 - acc: 0.1671 - val_loss: 5.9003 - val_acc: 0.0157\n",
            "Epoch 12/20\n",
            "323/323 [==============================] - 48s 149ms/step - loss: 6.7961 - acc: 0.1674 - val_loss: 6.2986 - val_acc: 0.0157\n",
            "Epoch 13/20\n",
            "323/323 [==============================] - 47s 147ms/step - loss: 6.7547 - acc: 0.1680 - val_loss: 6.3217 - val_acc: 0.0157\n",
            "Epoch 14/20\n",
            "323/323 [==============================] - 47s 146ms/step - loss: 6.5695 - acc: 0.1690 - val_loss: 6.8755 - val_acc: 0.0157\n",
            "Epoch 14: early stopping\n"
          ]
        }
      ],
      "source": [
        "history = model.fit(\n",
        "    X_train, y_train, \n",
        "    epochs=20, \n",
        "    batch_size=64, \n",
        "    validation_data=(X_test, y_test),\n",
        "    shuffle=False,\n",
        "    callbacks = [early_stop]\n",
        ")"
      ]
    },
    {
      "cell_type": "code",
      "source": [
        "## MODEL 3"
      ],
      "metadata": {
        "id": "DGngF4sUBuNM"
      },
      "id": "DGngF4sUBuNM",
      "execution_count": 79,
      "outputs": []
    },
    {
      "cell_type": "code",
      "source": [
        "# importing libraries\n",
        "from keras.models import Sequential\n",
        "from keras.layers import Dense\n",
        "from keras.layers import SimpleRNN\n",
        "from keras.layers import Dropout\n",
        "\n",
        "# initializing the RNN\n",
        "regressor = Sequential()\n",
        "\n",
        "# adding first RNN layer and dropout regulatization\n",
        "regressor.add(SimpleRNN(units = 50, activation = \"tanh\", return_sequences = True, input_shape = (X_train.shape[1],1)))\n",
        "regressor.add(Dropout(0.2))\n",
        "\n",
        "# adding second RNN layer and dropout regulatization\n",
        "regressor.add(SimpleRNN(units = 50, activation = \"tanh\",return_sequences = True))\n",
        "regressor.add(Dropout(0.2))\n",
        "\n",
        "# adding third RNN layer and dropout regulatization\n",
        "regressor.add(SimpleRNN(units = 50,activation = \"tanh\", return_sequences = True))\n",
        "regressor.add(Dropout(0.2))\n",
        "\n",
        "# adding fourth RNN layer and dropout regulatization\n",
        "regressor.add(SimpleRNN(units = 50))\n",
        "regressor.add(Dropout(0.2))\n",
        "\n",
        "# adding the output layer\n",
        "regressor.add(Dense(units = 1))\n",
        "\n",
        "# compiling RNN\n",
        "regressor.compile(optimizer = \"adam\", loss = \"mean_squared_error\",metrics = [\"accuracy\"]) #rmspr\n"
      ],
      "metadata": {
        "id": "C1_FYGRMBuQS"
      },
      "id": "C1_FYGRMBuQS",
      "execution_count": 80,
      "outputs": []
    },
    {
      "cell_type": "code",
      "source": [
        "from tensorflow.keras.callbacks import EarlyStopping\n",
        "early_stop = EarlyStopping(monitor=\"val_loss\", mode=\"min\", verbose=1, patience = 10)"
      ],
      "metadata": {
        "id": "n0Ri1PMiB5R7"
      },
      "id": "n0Ri1PMiB5R7",
      "execution_count": null,
      "outputs": []
    },
    {
      "cell_type": "code",
      "source": [
        "history = model.fit(\n",
        "    X_train, y_train, \n",
        "    epochs=20, \n",
        "    batch_size=64, \n",
        "    validation_data=(X_test, y_test),\n",
        "    shuffle=False,\n",
        "    callbacks = [early_stop]\n",
        ")"
      ],
      "metadata": {
        "id": "Wa7lYbCzB5V7"
      },
      "id": "Wa7lYbCzB5V7",
      "execution_count": null,
      "outputs": []
    },
    {
      "cell_type": "code",
      "source": [
        "### MODEL 4"
      ],
      "metadata": {
        "id": "XNaTkIIJB5iB"
      },
      "id": "XNaTkIIJB5iB",
      "execution_count": 82,
      "outputs": []
    },
    {
      "cell_type": "code",
      "source": [
        "from tensorflow.keras.layers.experimental.preprocessing import Normalization\n",
        "from tensorflow.keras.optimizers import RMSprop\n",
        "\n",
        "\n",
        "def create_model(X_train, y_train):\n",
        "    \n",
        "    \n",
        "    print(X_train.shape)\n",
        "    print(y_train.shape)\n",
        "    \n",
        "    #tf.random.set_seed(30)\n",
        "    normalizer = Normalization() # Instantiate a \"normalizer\" layer\n",
        "    normalizer.adapt(X_train) # \"Fit\" it on the train set\n",
        "    model = Sequential()\n",
        "    model.add(normalizer)\n",
        "    model.add(layers.LSTM(25, return_sequences=False, input_shape=(X_train.shape[1],X_train.shape[2])))\n",
        "\n",
        "    model.add(layers.Dropout(0.2))\n",
        "    model.add(layers.Dense(15, activation='relu'))\n",
        "    model.add(layers.Dropout(0.2))\n",
        "    model.add(layers.Dense(y_train.shape[-1], activation='linear'))\n",
        "    model.compile(loss='mse',optimizer=RMSprop(learning_rate=0.01), metrics=['mae', 'mape'])\n",
        "    print(model.summary())\n",
        "    print(X_train.shape)\n",
        "\n",
        "    return model\n"
      ],
      "metadata": {
        "id": "uz-0qwcDBuTP"
      },
      "id": "uz-0qwcDBuTP",
      "execution_count": null,
      "outputs": []
    },
    {
      "cell_type": "code",
      "source": [
        "create_model(X_train, y_train)"
      ],
      "metadata": {
        "id": "9QxRJJdQCd6w"
      },
      "id": "9QxRJJdQCd6w",
      "execution_count": null,
      "outputs": []
    },
    {
      "cell_type": "code",
      "source": [
        "from tensorflow.keras.callbacks import EarlyStopping\n",
        "early_stop = EarlyStopping(monitor=\"val_loss\", mode=\"min\", verbose=1, patience = 5)"
      ],
      "metadata": {
        "id": "vr3F3g3LCd9_"
      },
      "id": "vr3F3g3LCd9_",
      "execution_count": null,
      "outputs": []
    },
    {
      "cell_type": "code",
      "source": [
        "history = model.fit(\n",
        "    X_train, y_train, \n",
        "    epochs=20, \n",
        "    batch_size=64, \n",
        "    validation_data=(X_test, y_test),\n",
        "    shuffle=False,\n",
        "    callbacks = [early_stop]\n",
        ")"
      ],
      "metadata": {
        "id": "m1OIAgH0CeBV"
      },
      "id": "m1OIAgH0CeBV",
      "execution_count": null,
      "outputs": []
    },
    {
      "cell_type": "code",
      "source": [],
      "metadata": {
        "id": "nv635BSLCw5G"
      },
      "id": "nv635BSLCw5G",
      "execution_count": null,
      "outputs": []
    },
    {
      "cell_type": "code",
      "source": [],
      "metadata": {
        "id": "dmiGd1izCw72"
      },
      "id": "dmiGd1izCw72",
      "execution_count": null,
      "outputs": []
    },
    {
      "cell_type": "code",
      "source": [],
      "metadata": {
        "id": "3JNY8vvNCw_o"
      },
      "id": "3JNY8vvNCw_o",
      "execution_count": null,
      "outputs": []
    },
    {
      "cell_type": "code",
      "execution_count": null,
      "id": "ff009eec",
      "metadata": {
        "id": "ff009eec",
        "outputId": "9546121b-b60e-4167-e32e-4778096cd3e5"
      },
      "outputs": [
        {
          "name": "stdout",
          "output_type": "stream",
          "text": [
            "4/4 [==============================] - 5s 54ms/step\n"
          ]
        }
      ],
      "source": [
        "y_pred = model.predict(X_test)"
      ]
    },
    {
      "cell_type": "code",
      "execution_count": null,
      "id": "fd77c6c6",
      "metadata": {
        "id": "fd77c6c6",
        "outputId": "287d7d61-d8e3-40ac-eb2b-ab03230fc7ac"
      },
      "outputs": [
        {
          "data": {
            "text/plain": [
              "(array([  0.,   0.,   0.,   0.,   0., 127.,   0.,   0.,   0.,   0.]),\n",
              " array([ 9.688438,  9.788439,  9.888438,  9.988439, 10.088438, 10.188438,\n",
              "        10.288439, 10.388438, 10.488439, 10.588438, 10.688438],\n",
              "       dtype=float32),\n",
              " <BarContainer object of 10 artists>)"
            ]
          },
          "execution_count": 185,
          "metadata": {},
          "output_type": "execute_result"
        },
        {
          "data": {
            "image/png": "[encoded data removed]",
            "text/plain": [
              "<Figure size 640x480 with 1 Axes>"
            ]
          },
          "metadata": {},
          "output_type": "display_data"
        }
      ],
      "source": [
        "plt.hist(y_pred)"
      ]
    }
  ],
  "metadata": {
    "kernelspec": {
      "display_name": "Python 3 (ipykernel)",
      "language": "python",
      "name": "python3"
    },
    "language_info": {
      "codemirror_mode": {
        "name": "ipython",
        "version": 3
      },
      "file_extension": ".py",
      "mimetype": "text/x-python",
      "name": "python",
      "nbconvert_exporter": "python",
      "pygments_lexer": "ipython3",
      "version": "3.8.12"
    },
    "toc": {
      "base_numbering": 1,
      "nav_menu": {},
      "number_sections": true,
      "sideBar": true,
      "skip_h1_title": false,
      "title_cell": "Table of Contents",
      "title_sidebar": "Contents",
      "toc_cell": false,
      "toc_position": {},
      "toc_section_display": true,
      "toc_window_display": false
    },
    "colab": {
      "name": "Three_years_weather_giulia_file.ipynb",
      "provenance": [],
      "collapsed_sections": []
    }
  },
  "nbformat": 4,
  "nbformat_minor": 5
}