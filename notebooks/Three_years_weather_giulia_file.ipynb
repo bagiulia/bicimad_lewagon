{
 "cells": [
  {
   "cell_type": "code",
   "execution_count": 28,
   "id": "22f26ac4",
   "metadata": {},
   "outputs": [
    {
     "name": "stdout",
     "output_type": "stream",
     "text": [
      "Requirement already satisfied: holidays-es in /home/inesmms/.pyenv/versions/3.8.12/envs/bicimad/lib/python3.8/site-packages (1.0.1)\n",
      "Note: you may need to restart the kernel to use updated packages.\n"
     ]
    }
   ],
   "source": [
    "pip install holidays-es"
   ]
  },
  {
   "cell_type": "code",
   "execution_count": 29,
   "id": "91201e78",
   "metadata": {},
   "outputs": [],
   "source": [
    "from sklearn import preprocessing\n",
    "import pandas as pd\n",
    "import numpy as np\n",
    "from math import pi, sin, cos\n",
    "from datetime import datetime\n",
    "from holidays_es import get_provinces, Province\n",
    "import sys\n",
    "import seaborn as sns\n",
    "import matplotlib.pyplot as plt\n",
    "from tensorflow.keras.models import Sequential\n",
    "from tensorflow.keras.layers import Conv2D, Flatten, Dense\n",
    "from tensorflow.keras import layers\n",
    "from sklearn.compose import ColumnTransformer\n",
    "from sklearn.pipeline import Pipeline\n",
    "from sklearn.preprocessing import StandardScaler, OneHotEncoder\n",
    "from sklearn.linear_model import LogisticRegression, LinearRegression\n",
    "from sklearn.model_selection import train_test_split, GridSearchCV"
   ]
  },
  {
   "cell_type": "code",
   "execution_count": 30,
   "id": "38ee3df0",
   "metadata": {},
   "outputs": [],
   "source": [
    "df = pd.read_csv('raw_data/station_1.csv')"
   ]
  },
  {
   "cell_type": "code",
   "execution_count": 31,
   "id": "d8ceabb0",
   "metadata": {},
   "outputs": [
    {
     "name": "stdout",
     "output_type": "stream",
     "text": [
      "<class 'pandas.core.frame.DataFrame'>\n",
      "RangeIndex: 25862 entries, 0 to 25861\n",
      "Data columns (total 30 columns):\n",
      " #   Column              Non-Null Count  Dtype  \n",
      "---  ------              --------------  -----  \n",
      " 0   Unnamed: 0.1        25862 non-null  int64  \n",
      " 1   activate            25862 non-null  int64  \n",
      " 2   name                25862 non-null  object \n",
      " 3   reservations_count  25862 non-null  int64  \n",
      " 4   light               25862 non-null  int64  \n",
      " 5   total_bases         25862 non-null  int64  \n",
      " 6   free_bases          25862 non-null  int64  \n",
      " 7   number              25862 non-null  object \n",
      " 8   longitude           25862 non-null  float64\n",
      " 9   no_available        25862 non-null  int64  \n",
      " 10  address             25862 non-null  object \n",
      " 11  latitude            25862 non-null  float64\n",
      " 12  dock_bikes          25862 non-null  int64  \n",
      " 13  id                  25862 non-null  object \n",
      " 14  time                25862 non-null  int64  \n",
      " 15  date                25862 non-null  object \n",
      " 16  holidays            25862 non-null  bool   \n",
      " 17  datetime            25862 non-null  object \n",
      " 18  Unnamed: 0          25862 non-null  int64  \n",
      " 19  feels_like          25862 non-null  float64\n",
      " 20  weather_main        25862 non-null  object \n",
      " 21  weekday             25862 non-null  int64  \n",
      " 22  year                25862 non-null  int64  \n",
      " 23  month               25862 non-null  int64  \n",
      " 24  hour_sin            25862 non-null  float64\n",
      " 25  hour_cos            25862 non-null  float64\n",
      " 26  weekday_sin         25862 non-null  float64\n",
      " 27  weekday_cos         25862 non-null  float64\n",
      " 28  month_sin           25862 non-null  float64\n",
      " 29  month_cos           25862 non-null  float64\n",
      "dtypes: bool(1), float64(9), int64(13), object(7)\n",
      "memory usage: 5.7+ MB\n"
     ]
    }
   ],
   "source": [
    "df.info()"
   ]
  },
  {
   "cell_type": "code",
   "execution_count": 32,
   "id": "6bda87db",
   "metadata": {},
   "outputs": [],
   "source": [
    "df.drop(columns=['Unnamed: 0.1', 'Unnamed: 0'], inplace=True)"
   ]
  },
  {
   "cell_type": "code",
   "execution_count": 33,
   "id": "7ee57888",
   "metadata": {},
   "outputs": [
    {
     "data": {
      "text/plain": [
       "array([2018, 2019, 2020, 2021])"
      ]
     },
     "execution_count": 33,
     "metadata": {},
     "output_type": "execute_result"
    }
   ],
   "source": [
    "df.year.unique()"
   ]
  },
  {
   "cell_type": "code",
   "execution_count": 34,
   "id": "ca148b48",
   "metadata": {},
   "outputs": [],
   "source": [
    "temp = df.copy()"
   ]
  },
  {
   "cell_type": "code",
   "execution_count": 35,
   "id": "33b3370d",
   "metadata": {},
   "outputs": [],
   "source": [
    "#temp['date'] = pd.to_datetime(temp['date'])"
   ]
  },
  {
   "cell_type": "code",
   "execution_count": 36,
   "id": "75d5166e",
   "metadata": {
    "scrolled": true
   },
   "outputs": [
    {
     "data": {
      "text/plain": [
       "(25862, 28)"
      ]
     },
     "execution_count": 36,
     "metadata": {},
     "output_type": "execute_result"
    }
   ],
   "source": [
    "temp.shape"
   ]
  },
  {
   "cell_type": "code",
   "execution_count": 37,
   "id": "76b5be36",
   "metadata": {},
   "outputs": [
    {
     "name": "stdout",
     "output_type": "stream",
     "text": [
      "<class 'pandas.core.frame.DataFrame'>\n",
      "RangeIndex: 25862 entries, 0 to 25861\n",
      "Data columns (total 28 columns):\n",
      " #   Column              Non-Null Count  Dtype  \n",
      "---  ------              --------------  -----  \n",
      " 0   activate            25862 non-null  int64  \n",
      " 1   name                25862 non-null  object \n",
      " 2   reservations_count  25862 non-null  int64  \n",
      " 3   light               25862 non-null  int64  \n",
      " 4   total_bases         25862 non-null  int64  \n",
      " 5   free_bases          25862 non-null  int64  \n",
      " 6   number              25862 non-null  object \n",
      " 7   longitude           25862 non-null  float64\n",
      " 8   no_available        25862 non-null  int64  \n",
      " 9   address             25862 non-null  object \n",
      " 10  latitude            25862 non-null  float64\n",
      " 11  dock_bikes          25862 non-null  int64  \n",
      " 12  id                  25862 non-null  object \n",
      " 13  time                25862 non-null  int64  \n",
      " 14  date                25862 non-null  object \n",
      " 15  holidays            25862 non-null  bool   \n",
      " 16  datetime            25862 non-null  object \n",
      " 17  feels_like          25862 non-null  float64\n",
      " 18  weather_main        25862 non-null  object \n",
      " 19  weekday             25862 non-null  int64  \n",
      " 20  year                25862 non-null  int64  \n",
      " 21  month               25862 non-null  int64  \n",
      " 22  hour_sin            25862 non-null  float64\n",
      " 23  hour_cos            25862 non-null  float64\n",
      " 24  weekday_sin         25862 non-null  float64\n",
      " 25  weekday_cos         25862 non-null  float64\n",
      " 26  month_sin           25862 non-null  float64\n",
      " 27  month_cos           25862 non-null  float64\n",
      "dtypes: bool(1), float64(9), int64(11), object(7)\n",
      "memory usage: 5.4+ MB\n"
     ]
    }
   ],
   "source": [
    "temp.info()"
   ]
  },
  {
   "cell_type": "markdown",
   "id": "ef5f7b2d",
   "metadata": {},
   "source": [
    "### Scaling and Encoding :"
   ]
  },
  {
   "cell_type": "code",
   "execution_count": 38,
   "id": "824cdf7d",
   "metadata": {},
   "outputs": [
    {
     "data": {
      "text/plain": [
       "Index(['activate', 'reservations_count', 'light', 'total_bases', 'free_bases',\n",
       "       'longitude', 'no_available', 'latitude', 'dock_bikes', 'time',\n",
       "       'feels_like', 'weekday', 'year', 'month', 'hour_sin', 'hour_cos',\n",
       "       'weekday_sin', 'weekday_cos', 'month_sin', 'month_cos'],\n",
       "      dtype='object')"
      ]
     },
     "execution_count": 38,
     "metadata": {},
     "output_type": "execute_result"
    }
   ],
   "source": [
    "temp.select_dtypes(['int', 'float']).columns"
   ]
  },
  {
   "cell_type": "code",
   "execution_count": 39,
   "id": "90ba9eca",
   "metadata": {},
   "outputs": [],
   "source": [
    "temp.drop_duplicates(inplace=True)"
   ]
  },
  {
   "cell_type": "code",
   "execution_count": 40,
   "id": "1b96ccea",
   "metadata": {},
   "outputs": [],
   "source": [
    "from sklearn.preprocessing import StandardScaler\n",
    "\n",
    "f_transformer = StandardScaler()\n",
    "\n",
    "temp[['activate', 'reservations_count', 'light', 'total_bases', 'free_bases', 'longitude', 'no_available', 'latitude', 'time',\n",
    "       'feels_like', 'hour_sin', 'hour_cos','weekday_sin', 'weekday_cos', 'month_sin', \n",
    "      'month_cos']] = f_transformer.fit_transform(temp[['activate', 'reservations_count', 'light', 'total_bases', 'free_bases', 'longitude', 'no_available', 'latitude', 'time',\n",
    "       'feels_like', 'hour_sin', 'hour_cos',\n",
    "        'weekday_sin', 'weekday_cos', 'month_sin', 'month_cos']])\n"
   ]
  },
  {
   "cell_type": "code",
   "execution_count": 41,
   "id": "3fc7a6f6",
   "metadata": {},
   "outputs": [
    {
     "data": {
      "text/plain": [
       "Index(['activate', 'name', 'reservations_count', 'light', 'total_bases',\n",
       "       'free_bases', 'number', 'longitude', 'no_available', 'address',\n",
       "       'latitude', 'dock_bikes', 'id', 'time', 'date', 'holidays', 'datetime',\n",
       "       'feels_like', 'weather_main', 'weekday', 'year', 'month', 'hour_sin',\n",
       "       'hour_cos', 'weekday_sin', 'weekday_cos', 'month_sin', 'month_cos'],\n",
       "      dtype='object')"
      ]
     },
     "execution_count": 41,
     "metadata": {},
     "output_type": "execute_result"
    }
   ],
   "source": [
    "temp.columns"
   ]
  },
  {
   "cell_type": "code",
   "execution_count": 42,
   "id": "67da11e3",
   "metadata": {},
   "outputs": [],
   "source": [
    "temp.holidays = temp.holidays.astype('int')"
   ]
  },
  {
   "cell_type": "code",
   "execution_count": 43,
   "id": "0ad2f148",
   "metadata": {},
   "outputs": [],
   "source": [
    "temp_model = temp.drop(columns=['name', 'number', 'address', 'id', 'datetime'])"
   ]
  },
  {
   "cell_type": "code",
   "execution_count": 44,
   "id": "0d2f0c09",
   "metadata": {},
   "outputs": [
    {
     "name": "stdout",
     "output_type": "stream",
     "text": [
      "<class 'pandas.core.frame.DataFrame'>\n",
      "Int64Index: 25860 entries, 0 to 25861\n",
      "Data columns (total 23 columns):\n",
      " #   Column              Non-Null Count  Dtype  \n",
      "---  ------              --------------  -----  \n",
      " 0   activate            25860 non-null  float64\n",
      " 1   reservations_count  25860 non-null  float64\n",
      " 2   light               25860 non-null  float64\n",
      " 3   total_bases         25860 non-null  float64\n",
      " 4   free_bases          25860 non-null  float64\n",
      " 5   longitude           25860 non-null  float64\n",
      " 6   no_available        25860 non-null  float64\n",
      " 7   latitude            25860 non-null  float64\n",
      " 8   dock_bikes          25860 non-null  int64  \n",
      " 9   time                25860 non-null  float64\n",
      " 10  date                25860 non-null  object \n",
      " 11  holidays            25860 non-null  int64  \n",
      " 12  feels_like          25860 non-null  float64\n",
      " 13  weather_main        25860 non-null  object \n",
      " 14  weekday             25860 non-null  int64  \n",
      " 15  year                25860 non-null  int64  \n",
      " 16  month               25860 non-null  int64  \n",
      " 17  hour_sin            25860 non-null  float64\n",
      " 18  hour_cos            25860 non-null  float64\n",
      " 19  weekday_sin         25860 non-null  float64\n",
      " 20  weekday_cos         25860 non-null  float64\n",
      " 21  month_sin           25860 non-null  float64\n",
      " 22  month_cos           25860 non-null  float64\n",
      "dtypes: float64(16), int64(5), object(2)\n",
      "memory usage: 4.7+ MB\n"
     ]
    }
   ],
   "source": [
    "temp_model.info()"
   ]
  },
  {
   "cell_type": "code",
   "execution_count": 45,
   "id": "91e80059",
   "metadata": {},
   "outputs": [
    {
     "name": "stderr",
     "output_type": "stream",
     "text": [
      "/home/inesmms/.pyenv/versions/3.8.12/envs/bicimad/lib/python3.8/site-packages/sklearn/utils/deprecation.py:87: FutureWarning: Function get_feature_names is deprecated; get_feature_names is deprecated in 1.0 and will be removed in 1.2. Please use get_feature_names_out instead.\n",
      "  warnings.warn(msg, category=FutureWarning)\n"
     ]
    }
   ],
   "source": [
    "ohe = OneHotEncoder(sparse=False, handle_unknown='ignore')\n",
    "categorical_features = ['year', 'month', 'weekday', 'weather_main']\n",
    "transformed_data = pd.DataFrame(ohe.fit_transform(temp_model[categorical_features]))\n",
    "transformed_data.columns = ohe.get_feature_names(categorical_features)\n",
    "concatenated_data = pd.concat([temp_model, transformed_data], axis=1)"
   ]
  },
  {
   "cell_type": "code",
   "execution_count": 46,
   "id": "618b94ef",
   "metadata": {
    "scrolled": true
   },
   "outputs": [],
   "source": [
    "temp_model = concatenated_data.drop(columns=['year', 'month', 'weekday', 'weather_main'])"
   ]
  },
  {
   "cell_type": "code",
   "execution_count": 47,
   "id": "1ba1b9fc",
   "metadata": {},
   "outputs": [
    {
     "name": "stdout",
     "output_type": "stream",
     "text": [
      "<class 'pandas.core.frame.DataFrame'>\n",
      "Int64Index: 25862 entries, 0 to 4524\n",
      "Data columns (total 53 columns):\n",
      " #   Column                     Non-Null Count  Dtype  \n",
      "---  ------                     --------------  -----  \n",
      " 0   activate                   25860 non-null  float64\n",
      " 1   reservations_count         25860 non-null  float64\n",
      " 2   light                      25860 non-null  float64\n",
      " 3   total_bases                25860 non-null  float64\n",
      " 4   free_bases                 25860 non-null  float64\n",
      " 5   longitude                  25860 non-null  float64\n",
      " 6   no_available               25860 non-null  float64\n",
      " 7   latitude                   25860 non-null  float64\n",
      " 8   dock_bikes                 25860 non-null  float64\n",
      " 9   time                       25860 non-null  float64\n",
      " 10  date                       25860 non-null  object \n",
      " 11  holidays                   25860 non-null  float64\n",
      " 12  feels_like                 25860 non-null  float64\n",
      " 13  hour_sin                   25860 non-null  float64\n",
      " 14  hour_cos                   25860 non-null  float64\n",
      " 15  weekday_sin                25860 non-null  float64\n",
      " 16  weekday_cos                25860 non-null  float64\n",
      " 17  month_sin                  25860 non-null  float64\n",
      " 18  month_cos                  25860 non-null  float64\n",
      " 19  year_2018                  25860 non-null  float64\n",
      " 20  year_2019                  25860 non-null  float64\n",
      " 21  year_2020                  25860 non-null  float64\n",
      " 22  year_2021                  25860 non-null  float64\n",
      " 23  month_1                    25860 non-null  float64\n",
      " 24  month_2                    25860 non-null  float64\n",
      " 25  month_3                    25860 non-null  float64\n",
      " 26  month_4                    25860 non-null  float64\n",
      " 27  month_5                    25860 non-null  float64\n",
      " 28  month_6                    25860 non-null  float64\n",
      " 29  month_7                    25860 non-null  float64\n",
      " 30  month_8                    25860 non-null  float64\n",
      " 31  month_9                    25860 non-null  float64\n",
      " 32  month_10                   25860 non-null  float64\n",
      " 33  month_11                   25860 non-null  float64\n",
      " 34  month_12                   25860 non-null  float64\n",
      " 35  weekday_0                  25860 non-null  float64\n",
      " 36  weekday_1                  25860 non-null  float64\n",
      " 37  weekday_2                  25860 non-null  float64\n",
      " 38  weekday_3                  25860 non-null  float64\n",
      " 39  weekday_4                  25860 non-null  float64\n",
      " 40  weekday_5                  25860 non-null  float64\n",
      " 41  weekday_6                  25860 non-null  float64\n",
      " 42  weather_main_Clear         25860 non-null  float64\n",
      " 43  weather_main_Clouds        25860 non-null  float64\n",
      " 44  weather_main_Drizzle       25860 non-null  float64\n",
      " 45  weather_main_Fog           25860 non-null  float64\n",
      " 46  weather_main_Haze          25860 non-null  float64\n",
      " 47  weather_main_Mist          25860 non-null  float64\n",
      " 48  weather_main_Rain          25860 non-null  float64\n",
      " 49  weather_main_Smoke         25860 non-null  float64\n",
      " 50  weather_main_Snow          25860 non-null  float64\n",
      " 51  weather_main_Squall        25860 non-null  float64\n",
      " 52  weather_main_Thunderstorm  25860 non-null  float64\n",
      "dtypes: float64(52), object(1)\n",
      "memory usage: 10.7+ MB\n"
     ]
    }
   ],
   "source": [
    "temp_model.info()"
   ]
  },
  {
   "cell_type": "markdown",
   "id": "ecdf179b",
   "metadata": {},
   "source": [
    "### Creating Time steps"
   ]
  },
  {
   "cell_type": "code",
   "execution_count": 48,
   "id": "dced95ba",
   "metadata": {},
   "outputs": [],
   "source": [
    "def create_dataset(X, y, time_steps=1):\n",
    "    Xs, ys = [], []\n",
    "    for i in range(len(X) - time_steps):\n",
    "        v = X.iloc[i:(i + time_steps)].values\n",
    "        Xs.append(v)        \n",
    "        ys.append(y.iloc[i + time_steps])\n",
    "    return np.array(Xs), np.array(ys)"
   ]
  },
  {
   "cell_type": "code",
   "execution_count": 49,
   "id": "d01e659e",
   "metadata": {},
   "outputs": [
    {
     "name": "stdout",
     "output_type": "stream",
     "text": [
      "20689 5173\n"
     ]
    }
   ],
   "source": [
    "train_size = int(len(temp_model) * 0.8)\n",
    "test_size = len(temp_model) - train_size\n",
    "train, test = temp_model.iloc[0:train_size], temp_model.iloc[train_size:len(temp_model)]\n",
    "print(len(train), len(test))"
   ]
  },
  {
   "cell_type": "code",
   "execution_count": 50,
   "id": "9ee7a2b4",
   "metadata": {},
   "outputs": [
    {
     "name": "stdout",
     "output_type": "stream",
     "text": [
      "(20679, 10, 53) (20679,)\n"
     ]
    }
   ],
   "source": [
    "time_steps = 10\n",
    "\n",
    "# reshape to [samples, time_steps, n_features]\n",
    "\n",
    "X_train, y_train = create_dataset(train, train.dock_bikes, time_steps)\n",
    "X_test, y_test = create_dataset(test, test.dock_bikes, time_steps)\n",
    "\n",
    "print(X_train.shape, y_train.shape)"
   ]
  },
  {
   "cell_type": "markdown",
   "id": "93842973",
   "metadata": {},
   "source": [
    "Model 1: "
   ]
  },
  {
   "cell_type": "code",
   "execution_count": 51,
   "id": "c751a859",
   "metadata": {},
   "outputs": [],
   "source": [
    "model = Sequential()\n",
    "model.add(\n",
    "    layers.Bidirectional(\n",
    "    layers.LSTM(\n",
    "      units=128,\n",
    "      input_shape=(X_train.shape[1], X_train.shape[2]),\n",
    "    ), \n",
    "  )\n",
    ")\n",
    "model.add(layers.Dropout(rate=0.2))\n",
    "model.add(layers.Dense(units=1))\n",
    "\n",
    "model.compile(loss='mean_squared_error', optimizer='adam')"
   ]
  },
  {
   "cell_type": "code",
   "execution_count": 52,
   "id": "beea5e27",
   "metadata": {},
   "outputs": [],
   "source": [
    "from tensorflow.keras.callbacks import EarlyStopping\n",
    "early_stop = EarlyStopping(monitor=\"val_loss\", mode=\"min\", verbose=1, patience = 5)"
   ]
  },
  {
   "cell_type": "code",
   "execution_count": 1,
   "id": "e5282279",
   "metadata": {},
   "outputs": [
    {
     "ename": "NameError",
     "evalue": "name 'model' is not defined",
     "output_type": "error",
     "traceback": [
      "\u001b[0;31m---------------------------------------------------------------------------\u001b[0m",
      "\u001b[0;31mNameError\u001b[0m                                 Traceback (most recent call last)",
      "Input \u001b[0;32mIn [1]\u001b[0m, in \u001b[0;36m<cell line: 1>\u001b[0;34m()\u001b[0m\n\u001b[0;32m----> 1\u001b[0m history \u001b[38;5;241m=\u001b[39m \u001b[43mmodel\u001b[49m\u001b[38;5;241m.\u001b[39mfit(\n\u001b[1;32m      2\u001b[0m     X_train, y_train, \n\u001b[1;32m      3\u001b[0m     epochs\u001b[38;5;241m=\u001b[39m\u001b[38;5;241m10\u001b[39m, \n\u001b[1;32m      4\u001b[0m     batch_size\u001b[38;5;241m=\u001b[39m\u001b[38;5;241m64\u001b[39m, \n\u001b[1;32m      5\u001b[0m     validation_data\u001b[38;5;241m=\u001b[39m(X_test, y_test),\n\u001b[1;32m      6\u001b[0m     shuffle\u001b[38;5;241m=\u001b[39m\u001b[38;5;28;01mFalse\u001b[39;00m,\n\u001b[1;32m      7\u001b[0m     callbacks \u001b[38;5;241m=\u001b[39m [early_stop]\n\u001b[1;32m      8\u001b[0m )\n",
      "\u001b[0;31mNameError\u001b[0m: name 'model' is not defined"
     ]
    }
   ],
   "source": [
    "history = model.fit(\n",
    "    X_train, y_train, \n",
    "    epochs=10, \n",
    "    batch_size=64, \n",
    "    validation_data=(X_test, y_test),\n",
    "    shuffle=False,\n",
    "    callbacks = [early_stop]\n",
    ")"
   ]
  },
  {
   "cell_type": "markdown",
   "id": "f3e1138a",
   "metadata": {},
   "source": [
    "Model 2:"
   ]
  },
  {
   "cell_type": "code",
   "execution_count": 138,
   "id": "58904d88",
   "metadata": {},
   "outputs": [],
   "source": [
    "model = Sequential()\n",
    "\n",
    "model.add(layers.Bidirectional(layers.LSTM(units=128,return_sequences=True,input_shape=(X_train.shape[1], X_train.shape[2]))))\n",
    "\n",
    "model.add(layers.LSTM(units= 128, return_sequences=True))\n",
    "model.add(layers.Dropout(0.2))\n",
    "model.add(layers.LSTM(units= 128))\n",
    "model.add(layers.Dropout(0.2))\n",
    "model.add(layers.Dense(units = 1))\n",
    "\n",
    "model.compile(optimizer=\"adam\", loss=\"mean_squared_error\", metrics=[\"acc\"])\n"
   ]
  },
  {
   "cell_type": "code",
   "execution_count": 86,
   "id": "5351a083",
   "metadata": {},
   "outputs": [],
   "source": [
    "from tensorflow.keras.callbacks import EarlyStopping\n",
    "early_stop = EarlyStopping(monitor=\"val_loss\", mode=\"min\", verbose=1, patience = 5)"
   ]
  },
  {
   "cell_type": "code",
   "execution_count": 87,
   "id": "7cf45ad6",
   "metadata": {},
   "outputs": [
    {
     "name": "stderr",
     "output_type": "stream",
     "text": [
      "2022-08-30 23:13:40.814671: W tensorflow/core/framework/cpu_allocator_impl.cc:82] Allocation of 103159680 exceeds 10% of free system memory.\n"
     ]
    },
    {
     "name": "stdout",
     "output_type": "stream",
     "text": [
      "Epoch 1/10\n",
      "323/323 [==============================] - 17s 41ms/step - loss: 19.4439 - val_loss: nan\n",
      "Epoch 2/10\n",
      "323/323 [==============================] - 12s 38ms/step - loss: 8.5210 - val_loss: nan\n",
      "Epoch 3/10\n",
      "323/323 [==============================] - 12s 37ms/step - loss: 8.1971 - val_loss: nan\n",
      "Epoch 4/10\n",
      "323/323 [==============================] - 14s 42ms/step - loss: 8.0300 - val_loss: nan\n",
      "Epoch 5/10\n",
      "323/323 [==============================] - 15s 45ms/step - loss: 7.9127 - val_loss: nan\n",
      "Epoch 5: early stopping\n"
     ]
    }
   ],
   "source": [
    "history = model.fit(\n",
    "    X_train, y_train, \n",
    "    epochs=10, \n",
    "    batch_size=64, \n",
    "    validation_data=(X_test, y_test),\n",
    "    shuffle=False,\n",
    "    callbacks = [early_stop]\n",
    ")"
   ]
  },
  {
   "cell_type": "code",
   "execution_count": 184,
   "id": "ff009eec",
   "metadata": {},
   "outputs": [
    {
     "name": "stdout",
     "output_type": "stream",
     "text": [
      "4/4 [==============================] - 5s 54ms/step\n"
     ]
    }
   ],
   "source": [
    "y_pred = model.predict(X_test)"
   ]
  },
  {
   "cell_type": "code",
   "execution_count": 185,
   "id": "fd77c6c6",
   "metadata": {},
   "outputs": [
    {
     "data": {
      "text/plain": [
       "(array([  0.,   0.,   0.,   0.,   0., 127.,   0.,   0.,   0.,   0.]),\n",
       " array([ 9.688438,  9.788439,  9.888438,  9.988439, 10.088438, 10.188438,\n",
       "        10.288439, 10.388438, 10.488439, 10.588438, 10.688438],\n",
       "       dtype=float32),\n",
       " <BarContainer object of 10 artists>)"
      ]
     },
     "execution_count": 185,
     "metadata": {},
     "output_type": "execute_result"
    },
    {
     "data": {
      "image/png": "[encoded data removed]",
      "text/plain": [
       "<Figure size 640x480 with 1 Axes>"
      ]
     },
     "metadata": {},
     "output_type": "display_data"
    }
   ],
   "source": [
    "plt.hist(y_pred)"
   ]
  }
 ],
 "metadata": {
  "kernelspec": {
   "display_name": "Python 3 (ipykernel)",
   "language": "python",
   "name": "python3"
  },
  "language_info": {
   "codemirror_mode": {
    "name": "ipython",
    "version": 3
   },
   "file_extension": ".py",
   "mimetype": "text/x-python",
   "name": "python",
   "nbconvert_exporter": "python",
   "pygments_lexer": "ipython3",
   "version": "3.8.12"
  },
  "toc": {
   "base_numbering": 1,
   "nav_menu": {},
   "number_sections": true,
   "sideBar": true,
   "skip_h1_title": false,
   "title_cell": "Table of Contents",
   "title_sidebar": "Contents",
   "toc_cell": false,
   "toc_position": {},
   "toc_section_display": true,
   "toc_window_display": false
  }
 },
 "nbformat": 4,
 "nbformat_minor": 5
}
