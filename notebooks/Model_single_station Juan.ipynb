{
  "cells": [
    {
      "cell_type": "code",
      "execution_count": 19,
      "id": "22f26ac4",
      "metadata": {
        "id": "22f26ac4",
        "outputId": "296d819e-82f6-44aa-8921-d6d957896ea4",
        "colab": {
          "base_uri": "https://localhost:8080/"
        }
      },
      "outputs": [
        {
          "output_type": "stream",
          "name": "stdout",
          "text": [
            "Looking in indexes: https://pypi.org/simple, https://us-python.pkg.dev/colab-wheels/public/simple/\n",
            "Requirement already satisfied: holidays-es in /usr/local/lib/python3.7/dist-packages (1.0.1)\n"
          ]
        }
      ],
      "source": [
        "pip install holidays-es"
      ]
    },
    {
      "cell_type": "code",
      "source": [
        "pip install mlflow"
      ],
      "metadata": {
        "colab": {
          "base_uri": "https://localhost:8080/"
        },
        "id": "oF67uwqhNTWx",
        "outputId": "f64ff18d-74cc-4db9-8c5d-eadf3eec085f"
      },
      "id": "oF67uwqhNTWx",
      "execution_count": 20,
      "outputs": [
        {
          "output_type": "stream",
          "name": "stdout",
          "text": [
            "Looking in indexes: https://pypi.org/simple, https://us-python.pkg.dev/colab-wheels/public/simple/\n",
            "Requirement already satisfied: mlflow in /usr/local/lib/python3.7/dist-packages (1.28.0)\n",
            "Requirement already satisfied: prometheus-flask-exporter<1 in /usr/local/lib/python3.7/dist-packages (from mlflow) (0.20.3)\n",
            "Requirement already satisfied: requests<3,>=2.17.3 in /usr/local/lib/python3.7/dist-packages (from mlflow) (2.23.0)\n",
            "Requirement already satisfied: databricks-cli<1,>=0.8.7 in /usr/local/lib/python3.7/dist-packages (from mlflow) (0.17.3)\n",
            "Requirement already satisfied: pandas<2 in /usr/local/lib/python3.7/dist-packages (from mlflow) (1.3.5)\n",
            "Requirement already satisfied: Flask<3 in /usr/local/lib/python3.7/dist-packages (from mlflow) (1.1.4)\n",
            "Requirement already satisfied: gitpython<4,>=2.1.0 in /usr/local/lib/python3.7/dist-packages (from mlflow) (3.1.27)\n",
            "Requirement already satisfied: pytz<2023 in /usr/local/lib/python3.7/dist-packages (from mlflow) (2022.2.1)\n",
            "Requirement already satisfied: importlib-metadata!=4.7.0,<5,>=3.7.0 in /usr/local/lib/python3.7/dist-packages (from mlflow) (4.12.0)\n",
            "Requirement already satisfied: querystring-parser<2 in /usr/local/lib/python3.7/dist-packages (from mlflow) (1.2.4)\n",
            "Requirement already satisfied: sqlalchemy<2,>=1.4.0 in /usr/local/lib/python3.7/dist-packages (from mlflow) (1.4.40)\n",
            "Requirement already satisfied: click<9,>=7.0 in /usr/local/lib/python3.7/dist-packages (from mlflow) (7.1.2)\n",
            "Requirement already satisfied: numpy<2 in /usr/local/lib/python3.7/dist-packages (from mlflow) (1.21.6)\n",
            "Requirement already satisfied: packaging<22 in /usr/local/lib/python3.7/dist-packages (from mlflow) (21.3)\n",
            "Requirement already satisfied: docker<6,>=4.0.0 in /usr/local/lib/python3.7/dist-packages (from mlflow) (5.0.3)\n",
            "Requirement already satisfied: pyyaml<7,>=5.1 in /usr/local/lib/python3.7/dist-packages (from mlflow) (6.0)\n",
            "Requirement already satisfied: scipy<2 in /usr/local/lib/python3.7/dist-packages (from mlflow) (1.7.3)\n",
            "Requirement already satisfied: alembic<2 in /usr/local/lib/python3.7/dist-packages (from mlflow) (1.8.1)\n",
            "Requirement already satisfied: cloudpickle<3 in /usr/local/lib/python3.7/dist-packages (from mlflow) (1.5.0)\n",
            "Requirement already satisfied: gunicorn<21 in /usr/local/lib/python3.7/dist-packages (from mlflow) (20.1.0)\n",
            "Requirement already satisfied: protobuf<5,>=3.12.0 in /usr/local/lib/python3.7/dist-packages (from mlflow) (3.17.3)\n",
            "Requirement already satisfied: entrypoints<1 in /usr/local/lib/python3.7/dist-packages (from mlflow) (0.4)\n",
            "Requirement already satisfied: sqlparse<1,>=0.4.0 in /usr/local/lib/python3.7/dist-packages (from mlflow) (0.4.2)\n",
            "Requirement already satisfied: importlib-resources in /usr/local/lib/python3.7/dist-packages (from alembic<2->mlflow) (5.9.0)\n",
            "Requirement already satisfied: Mako in /usr/local/lib/python3.7/dist-packages (from alembic<2->mlflow) (1.2.2)\n",
            "Requirement already satisfied: tabulate>=0.7.7 in /usr/local/lib/python3.7/dist-packages (from databricks-cli<1,>=0.8.7->mlflow) (0.8.10)\n",
            "Requirement already satisfied: oauthlib>=3.1.0 in /usr/local/lib/python3.7/dist-packages (from databricks-cli<1,>=0.8.7->mlflow) (3.2.0)\n",
            "Requirement already satisfied: six>=1.10.0 in /usr/local/lib/python3.7/dist-packages (from databricks-cli<1,>=0.8.7->mlflow) (1.15.0)\n",
            "Requirement already satisfied: pyjwt>=1.7.0 in /usr/local/lib/python3.7/dist-packages (from databricks-cli<1,>=0.8.7->mlflow) (2.4.0)\n",
            "Requirement already satisfied: websocket-client>=0.32.0 in /usr/local/lib/python3.7/dist-packages (from docker<6,>=4.0.0->mlflow) (1.4.0)\n",
            "Requirement already satisfied: Jinja2<3.0,>=2.10.1 in /usr/local/lib/python3.7/dist-packages (from Flask<3->mlflow) (2.11.3)\n",
            "Requirement already satisfied: itsdangerous<2.0,>=0.24 in /usr/local/lib/python3.7/dist-packages (from Flask<3->mlflow) (1.1.0)\n",
            "Requirement already satisfied: Werkzeug<2.0,>=0.15 in /usr/local/lib/python3.7/dist-packages (from Flask<3->mlflow) (1.0.1)\n",
            "Requirement already satisfied: typing-extensions>=3.7.4.3 in /usr/local/lib/python3.7/dist-packages (from gitpython<4,>=2.1.0->mlflow) (4.1.1)\n",
            "Requirement already satisfied: gitdb<5,>=4.0.1 in /usr/local/lib/python3.7/dist-packages (from gitpython<4,>=2.1.0->mlflow) (4.0.9)\n",
            "Requirement already satisfied: smmap<6,>=3.0.1 in /usr/local/lib/python3.7/dist-packages (from gitdb<5,>=4.0.1->gitpython<4,>=2.1.0->mlflow) (5.0.0)\n",
            "Requirement already satisfied: setuptools>=3.0 in /usr/local/lib/python3.7/dist-packages (from gunicorn<21->mlflow) (57.4.0)\n",
            "Requirement already satisfied: zipp>=0.5 in /usr/local/lib/python3.7/dist-packages (from importlib-metadata!=4.7.0,<5,>=3.7.0->mlflow) (3.8.1)\n",
            "Requirement already satisfied: MarkupSafe>=0.23 in /usr/local/lib/python3.7/dist-packages (from Jinja2<3.0,>=2.10.1->Flask<3->mlflow) (2.0.1)\n",
            "Requirement already satisfied: pyparsing!=3.0.5,>=2.0.2 in /usr/local/lib/python3.7/dist-packages (from packaging<22->mlflow) (3.0.9)\n",
            "Requirement already satisfied: python-dateutil>=2.7.3 in /usr/local/lib/python3.7/dist-packages (from pandas<2->mlflow) (2.8.2)\n",
            "Requirement already satisfied: prometheus-client in /usr/local/lib/python3.7/dist-packages (from prometheus-flask-exporter<1->mlflow) (0.14.1)\n",
            "Requirement already satisfied: idna<3,>=2.5 in /usr/local/lib/python3.7/dist-packages (from requests<3,>=2.17.3->mlflow) (2.10)\n",
            "Requirement already satisfied: certifi>=2017.4.17 in /usr/local/lib/python3.7/dist-packages (from requests<3,>=2.17.3->mlflow) (2022.6.15)\n",
            "Requirement already satisfied: chardet<4,>=3.0.2 in /usr/local/lib/python3.7/dist-packages (from requests<3,>=2.17.3->mlflow) (3.0.4)\n",
            "Requirement already satisfied: urllib3!=1.25.0,!=1.25.1,<1.26,>=1.21.1 in /usr/local/lib/python3.7/dist-packages (from requests<3,>=2.17.3->mlflow) (1.24.3)\n",
            "Requirement already satisfied: greenlet!=0.4.17 in /usr/local/lib/python3.7/dist-packages (from sqlalchemy<2,>=1.4.0->mlflow) (1.1.3)\n"
          ]
        }
      ]
    },
    {
      "cell_type": "code",
      "execution_count": 21,
      "id": "91201e78",
      "metadata": {
        "id": "91201e78"
      },
      "outputs": [],
      "source": [
        "from sklearn import preprocessing\n",
        "import pandas as pd\n",
        "import numpy as np\n",
        "from math import pi, sin, cos\n",
        "from datetime import datetime\n",
        "from holidays_es import get_provinces, Province\n",
        "import sys\n",
        "import seaborn as sns\n",
        "import matplotlib.pyplot as plt\n",
        "from tensorflow.keras.models import Sequential\n",
        "from tensorflow.keras.layers import Conv2D, Flatten, Dense\n",
        "from tensorflow.keras import layers\n",
        "from sklearn.compose import ColumnTransformer\n",
        "from sklearn.pipeline import Pipeline\n",
        "from sklearn.preprocessing import StandardScaler, OneHotEncoder\n",
        "from sklearn.linear_model import LogisticRegression, LinearRegression\n",
        "from sklearn.model_selection import train_test_split, GridSearchCV\n",
        "import mlflow"
      ]
    },
    {
      "cell_type": "code",
      "execution_count": 22,
      "id": "38ee3df0",
      "metadata": {
        "id": "38ee3df0"
      },
      "outputs": [],
      "source": [
        "df = pd.read_csv('station_1.csv')"
      ]
    },
    {
      "cell_type": "code",
      "execution_count": 23,
      "id": "d8ceabb0",
      "metadata": {
        "id": "d8ceabb0",
        "outputId": "9e1fa4a8-6837-4d50-f15b-654f68b15fb6",
        "colab": {
          "base_uri": "https://localhost:8080/"
        }
      },
      "outputs": [
        {
          "output_type": "stream",
          "name": "stdout",
          "text": [
            "<class 'pandas.core.frame.DataFrame'>\n",
            "RangeIndex: 25862 entries, 0 to 25861\n",
            "Data columns (total 30 columns):\n",
            " #   Column              Non-Null Count  Dtype  \n",
            "---  ------              --------------  -----  \n",
            " 0   Unnamed: 0          25862 non-null  int64  \n",
            " 1   activate            25862 non-null  int64  \n",
            " 2   name                25862 non-null  object \n",
            " 3   reservations_count  25862 non-null  int64  \n",
            " 4   light               25862 non-null  int64  \n",
            " 5   total_bases         25862 non-null  int64  \n",
            " 6   free_bases          25862 non-null  int64  \n",
            " 7   number              25862 non-null  object \n",
            " 8   longitude           25862 non-null  float64\n",
            " 9   no_available        25862 non-null  int64  \n",
            " 10  address             25862 non-null  object \n",
            " 11  latitude            25862 non-null  float64\n",
            " 12  dock_bikes          25862 non-null  int64  \n",
            " 13  id                  25862 non-null  object \n",
            " 14  time                25862 non-null  int64  \n",
            " 15  date                25862 non-null  object \n",
            " 16  holidays            25862 non-null  bool   \n",
            " 17  datetime            25862 non-null  object \n",
            " 18  Unnamed: 0.1        25862 non-null  int64  \n",
            " 19  feels_like          25862 non-null  float64\n",
            " 20  weather_main        25862 non-null  object \n",
            " 21  weekday             25862 non-null  int64  \n",
            " 22  year                25862 non-null  int64  \n",
            " 23  month               25862 non-null  int64  \n",
            " 24  hour_sin            25862 non-null  float64\n",
            " 25  hour_cos            25862 non-null  float64\n",
            " 26  weekday_sin         25862 non-null  float64\n",
            " 27  weekday_cos         25862 non-null  float64\n",
            " 28  month_sin           25862 non-null  float64\n",
            " 29  month_cos           25862 non-null  float64\n",
            "dtypes: bool(1), float64(9), int64(13), object(7)\n",
            "memory usage: 5.7+ MB\n"
          ]
        }
      ],
      "source": [
        "df.info()"
      ]
    },
    {
      "cell_type": "code",
      "source": [
        "df"
      ],
      "metadata": {
        "colab": {
          "base_uri": "https://localhost:8080/",
          "height": 852
        },
        "id": "Pc2z6asJHyL3",
        "outputId": "2eeb897c-98f6-4df5-83c1-442fb17bc6e6"
      },
      "id": "Pc2z6asJHyL3",
      "execution_count": 24,
      "outputs": [
        {
          "output_type": "execute_result",
          "data": {
            "text/plain": [
              "       Unnamed: 0  activate              name  reservations_count  light  \\\n",
              "0               0         1  Puerta del Sol A                   0      2   \n",
              "1               1         1  Puerta del Sol A                   0      0   \n",
              "2               2         1  Puerta del Sol A                   0      2   \n",
              "3               3         1  Puerta del Sol A                   0      0   \n",
              "4               4         1  Puerta del Sol A                   0      0   \n",
              "...           ...       ...               ...                 ...    ...   \n",
              "25857         708         1  Puerta del Sol A                   1      0   \n",
              "25858         709         1  Puerta del Sol A                   0      0   \n",
              "25859         710         1  Puerta del Sol A                   0      0   \n",
              "25860         711         1  Puerta del Sol A                   0      0   \n",
              "25861         712         1  Puerta del Sol A                   0      0   \n",
              "\n",
              "       total_bases  free_bases number  longitude  no_available  ...  \\\n",
              "0               24          11     1a  -3.702425             0  ...   \n",
              "1               24          18     1a  -3.702425             0  ...   \n",
              "2               24          13     1a  -3.702425             0  ...   \n",
              "3               24          17     1a  -3.702425             0  ...   \n",
              "4               24          22     1a  -3.702425             0  ...   \n",
              "...            ...         ...    ...        ...           ...  ...   \n",
              "25857           30          21     1a  -3.701834             0  ...   \n",
              "25858           30          22     1a  -3.701834             0  ...   \n",
              "25859           30          21     1a  -3.701834             0  ...   \n",
              "25860           30          24     1a  -3.701834             0  ...   \n",
              "25861           30          26     1a  -3.701834             0  ...   \n",
              "\n",
              "      weather_main  weekday  year month  hour_sin  hour_cos  weekday_sin  \\\n",
              "0            Clear        2  2018     8  0.000000  1.000000     0.974928   \n",
              "1            Clear        2  2018     8  0.258819  0.965926     0.974928   \n",
              "2            Clear        2  2018     8  0.500000  0.866025     0.974928   \n",
              "3            Clear        2  2018     8  0.707107  0.707107     0.974928   \n",
              "4            Clear        2  2018     8  0.866025  0.500000     0.974928   \n",
              "...            ...      ...   ...   ...       ...       ...          ...   \n",
              "25857        Clear        2  2021     6 -0.965926  0.258819     0.974928   \n",
              "25858        Clear        2  2021     6 -0.866025  0.500000     0.974928   \n",
              "25859        Clear        2  2021     6 -0.707107  0.707107     0.974928   \n",
              "25860        Clear        2  2021     6 -0.500000  0.866025     0.974928   \n",
              "25861        Clear        2  2021     6 -0.258819  0.965926     0.974928   \n",
              "\n",
              "      weekday_cos  month_sin     month_cos  \n",
              "0       -0.222521        1.0  6.123234e-17  \n",
              "1       -0.222521        1.0  6.123234e-17  \n",
              "2       -0.222521        1.0  6.123234e-17  \n",
              "3       -0.222521        1.0  6.123234e-17  \n",
              "4       -0.222521        1.0  6.123234e-17  \n",
              "...           ...        ...           ...  \n",
              "25857   -0.222521        0.5  8.660254e-01  \n",
              "25858   -0.222521        0.5  8.660254e-01  \n",
              "25859   -0.222521        0.5  8.660254e-01  \n",
              "25860   -0.222521        0.5  8.660254e-01  \n",
              "25861   -0.222521        0.5  8.660254e-01  \n",
              "\n",
              "[25862 rows x 30 columns]"
            ],
            "text/html": [
              "\n",
              "  <div id=\"df-20c09453-eca5-4dcb-af44-c394e32dcfb8\">\n",
              "    <div class=\"colab-df-container\">\n",
              "      <div>\n",
              "<style scoped>\n",
              "    .dataframe tbody tr th:only-of-type {\n",
              "        vertical-align: middle;\n",
              "    }\n",
              "\n",
              "    .dataframe tbody tr th {\n",
              "        vertical-align: top;\n",
              "    }\n",
              "\n",
              "    .dataframe thead th {\n",
              "        text-align: right;\n",
              "    }\n",
              "</style>\n",
              "<table border=\"1\" class=\"dataframe\">\n",
              "  <thead>\n",
              "    <tr style=\"text-align: right;\">\n",
              "      <th></th>\n",
              "      <th>Unnamed: 0</th>\n",
              "      <th>activate</th>\n",
              "      <th>name</th>\n",
              "      <th>reservations_count</th>\n",
              "      <th>light</th>\n",
              "      <th>total_bases</th>\n",
              "      <th>free_bases</th>\n",
              "      <th>number</th>\n",
              "      <th>longitude</th>\n",
              "      <th>no_available</th>\n",
              "      <th>...</th>\n",
              "      <th>weather_main</th>\n",
              "      <th>weekday</th>\n",
              "      <th>year</th>\n",
              "      <th>month</th>\n",
              "      <th>hour_sin</th>\n",
              "      <th>hour_cos</th>\n",
              "      <th>weekday_sin</th>\n",
              "      <th>weekday_cos</th>\n",
              "      <th>month_sin</th>\n",
              "      <th>month_cos</th>\n",
              "    </tr>\n",
              "  </thead>\n",
              "  <tbody>\n",
              "    <tr>\n",
              "      <th>0</th>\n",
              "      <td>0</td>\n",
              "      <td>1</td>\n",
              "      <td>Puerta del Sol A</td>\n",
              "      <td>0</td>\n",
              "      <td>2</td>\n",
              "      <td>24</td>\n",
              "      <td>11</td>\n",
              "      <td>1a</td>\n",
              "      <td>-3.702425</td>\n",
              "      <td>0</td>\n",
              "      <td>...</td>\n",
              "      <td>Clear</td>\n",
              "      <td>2</td>\n",
              "      <td>2018</td>\n",
              "      <td>8</td>\n",
              "      <td>0.000000</td>\n",
              "      <td>1.000000</td>\n",
              "      <td>0.974928</td>\n",
              "      <td>-0.222521</td>\n",
              "      <td>1.0</td>\n",
              "      <td>6.123234e-17</td>\n",
              "    </tr>\n",
              "    <tr>\n",
              "      <th>1</th>\n",
              "      <td>1</td>\n",
              "      <td>1</td>\n",
              "      <td>Puerta del Sol A</td>\n",
              "      <td>0</td>\n",
              "      <td>0</td>\n",
              "      <td>24</td>\n",
              "      <td>18</td>\n",
              "      <td>1a</td>\n",
              "      <td>-3.702425</td>\n",
              "      <td>0</td>\n",
              "      <td>...</td>\n",
              "      <td>Clear</td>\n",
              "      <td>2</td>\n",
              "      <td>2018</td>\n",
              "      <td>8</td>\n",
              "      <td>0.258819</td>\n",
              "      <td>0.965926</td>\n",
              "      <td>0.974928</td>\n",
              "      <td>-0.222521</td>\n",
              "      <td>1.0</td>\n",
              "      <td>6.123234e-17</td>\n",
              "    </tr>\n",
              "    <tr>\n",
              "      <th>2</th>\n",
              "      <td>2</td>\n",
              "      <td>1</td>\n",
              "      <td>Puerta del Sol A</td>\n",
              "      <td>0</td>\n",
              "      <td>2</td>\n",
              "      <td>24</td>\n",
              "      <td>13</td>\n",
              "      <td>1a</td>\n",
              "      <td>-3.702425</td>\n",
              "      <td>0</td>\n",
              "      <td>...</td>\n",
              "      <td>Clear</td>\n",
              "      <td>2</td>\n",
              "      <td>2018</td>\n",
              "      <td>8</td>\n",
              "      <td>0.500000</td>\n",
              "      <td>0.866025</td>\n",
              "      <td>0.974928</td>\n",
              "      <td>-0.222521</td>\n",
              "      <td>1.0</td>\n",
              "      <td>6.123234e-17</td>\n",
              "    </tr>\n",
              "    <tr>\n",
              "      <th>3</th>\n",
              "      <td>3</td>\n",
              "      <td>1</td>\n",
              "      <td>Puerta del Sol A</td>\n",
              "      <td>0</td>\n",
              "      <td>0</td>\n",
              "      <td>24</td>\n",
              "      <td>17</td>\n",
              "      <td>1a</td>\n",
              "      <td>-3.702425</td>\n",
              "      <td>0</td>\n",
              "      <td>...</td>\n",
              "      <td>Clear</td>\n",
              "      <td>2</td>\n",
              "      <td>2018</td>\n",
              "      <td>8</td>\n",
              "      <td>0.707107</td>\n",
              "      <td>0.707107</td>\n",
              "      <td>0.974928</td>\n",
              "      <td>-0.222521</td>\n",
              "      <td>1.0</td>\n",
              "      <td>6.123234e-17</td>\n",
              "    </tr>\n",
              "    <tr>\n",
              "      <th>4</th>\n",
              "      <td>4</td>\n",
              "      <td>1</td>\n",
              "      <td>Puerta del Sol A</td>\n",
              "      <td>0</td>\n",
              "      <td>0</td>\n",
              "      <td>24</td>\n",
              "      <td>22</td>\n",
              "      <td>1a</td>\n",
              "      <td>-3.702425</td>\n",
              "      <td>0</td>\n",
              "      <td>...</td>\n",
              "      <td>Clear</td>\n",
              "      <td>2</td>\n",
              "      <td>2018</td>\n",
              "      <td>8</td>\n",
              "      <td>0.866025</td>\n",
              "      <td>0.500000</td>\n",
              "      <td>0.974928</td>\n",
              "      <td>-0.222521</td>\n",
              "      <td>1.0</td>\n",
              "      <td>6.123234e-17</td>\n",
              "    </tr>\n",
              "    <tr>\n",
              "      <th>...</th>\n",
              "      <td>...</td>\n",
              "      <td>...</td>\n",
              "      <td>...</td>\n",
              "      <td>...</td>\n",
              "      <td>...</td>\n",
              "      <td>...</td>\n",
              "      <td>...</td>\n",
              "      <td>...</td>\n",
              "      <td>...</td>\n",
              "      <td>...</td>\n",
              "      <td>...</td>\n",
              "      <td>...</td>\n",
              "      <td>...</td>\n",
              "      <td>...</td>\n",
              "      <td>...</td>\n",
              "      <td>...</td>\n",
              "      <td>...</td>\n",
              "      <td>...</td>\n",
              "      <td>...</td>\n",
              "      <td>...</td>\n",
              "      <td>...</td>\n",
              "    </tr>\n",
              "    <tr>\n",
              "      <th>25857</th>\n",
              "      <td>708</td>\n",
              "      <td>1</td>\n",
              "      <td>Puerta del Sol A</td>\n",
              "      <td>1</td>\n",
              "      <td>0</td>\n",
              "      <td>30</td>\n",
              "      <td>21</td>\n",
              "      <td>1a</td>\n",
              "      <td>-3.701834</td>\n",
              "      <td>0</td>\n",
              "      <td>...</td>\n",
              "      <td>Clear</td>\n",
              "      <td>2</td>\n",
              "      <td>2021</td>\n",
              "      <td>6</td>\n",
              "      <td>-0.965926</td>\n",
              "      <td>0.258819</td>\n",
              "      <td>0.974928</td>\n",
              "      <td>-0.222521</td>\n",
              "      <td>0.5</td>\n",
              "      <td>8.660254e-01</td>\n",
              "    </tr>\n",
              "    <tr>\n",
              "      <th>25858</th>\n",
              "      <td>709</td>\n",
              "      <td>1</td>\n",
              "      <td>Puerta del Sol A</td>\n",
              "      <td>0</td>\n",
              "      <td>0</td>\n",
              "      <td>30</td>\n",
              "      <td>22</td>\n",
              "      <td>1a</td>\n",
              "      <td>-3.701834</td>\n",
              "      <td>0</td>\n",
              "      <td>...</td>\n",
              "      <td>Clear</td>\n",
              "      <td>2</td>\n",
              "      <td>2021</td>\n",
              "      <td>6</td>\n",
              "      <td>-0.866025</td>\n",
              "      <td>0.500000</td>\n",
              "      <td>0.974928</td>\n",
              "      <td>-0.222521</td>\n",
              "      <td>0.5</td>\n",
              "      <td>8.660254e-01</td>\n",
              "    </tr>\n",
              "    <tr>\n",
              "      <th>25859</th>\n",
              "      <td>710</td>\n",
              "      <td>1</td>\n",
              "      <td>Puerta del Sol A</td>\n",
              "      <td>0</td>\n",
              "      <td>0</td>\n",
              "      <td>30</td>\n",
              "      <td>21</td>\n",
              "      <td>1a</td>\n",
              "      <td>-3.701834</td>\n",
              "      <td>0</td>\n",
              "      <td>...</td>\n",
              "      <td>Clear</td>\n",
              "      <td>2</td>\n",
              "      <td>2021</td>\n",
              "      <td>6</td>\n",
              "      <td>-0.707107</td>\n",
              "      <td>0.707107</td>\n",
              "      <td>0.974928</td>\n",
              "      <td>-0.222521</td>\n",
              "      <td>0.5</td>\n",
              "      <td>8.660254e-01</td>\n",
              "    </tr>\n",
              "    <tr>\n",
              "      <th>25860</th>\n",
              "      <td>711</td>\n",
              "      <td>1</td>\n",
              "      <td>Puerta del Sol A</td>\n",
              "      <td>0</td>\n",
              "      <td>0</td>\n",
              "      <td>30</td>\n",
              "      <td>24</td>\n",
              "      <td>1a</td>\n",
              "      <td>-3.701834</td>\n",
              "      <td>0</td>\n",
              "      <td>...</td>\n",
              "      <td>Clear</td>\n",
              "      <td>2</td>\n",
              "      <td>2021</td>\n",
              "      <td>6</td>\n",
              "      <td>-0.500000</td>\n",
              "      <td>0.866025</td>\n",
              "      <td>0.974928</td>\n",
              "      <td>-0.222521</td>\n",
              "      <td>0.5</td>\n",
              "      <td>8.660254e-01</td>\n",
              "    </tr>\n",
              "    <tr>\n",
              "      <th>25861</th>\n",
              "      <td>712</td>\n",
              "      <td>1</td>\n",
              "      <td>Puerta del Sol A</td>\n",
              "      <td>0</td>\n",
              "      <td>0</td>\n",
              "      <td>30</td>\n",
              "      <td>26</td>\n",
              "      <td>1a</td>\n",
              "      <td>-3.701834</td>\n",
              "      <td>0</td>\n",
              "      <td>...</td>\n",
              "      <td>Clear</td>\n",
              "      <td>2</td>\n",
              "      <td>2021</td>\n",
              "      <td>6</td>\n",
              "      <td>-0.258819</td>\n",
              "      <td>0.965926</td>\n",
              "      <td>0.974928</td>\n",
              "      <td>-0.222521</td>\n",
              "      <td>0.5</td>\n",
              "      <td>8.660254e-01</td>\n",
              "    </tr>\n",
              "  </tbody>\n",
              "</table>\n",
              "<p>25862 rows × 30 columns</p>\n",
              "</div>\n",
              "      <button class=\"colab-df-convert\" onclick=\"convertToInteractive('df-20c09453-eca5-4dcb-af44-c394e32dcfb8')\"\n",
              "              title=\"Convert this dataframe to an interactive table.\"\n",
              "              style=\"display:none;\">\n",
              "        \n",
              "  <svg xmlns=\"http://www.w3.org/2000/svg\" height=\"24px\"viewBox=\"0 0 24 24\"\n",
              "       width=\"24px\">\n",
              "    <path d=\"M0 0h24v24H0V0z\" fill=\"none\"/>\n",
              "    <path d=\"M18.56 5.44l.94 2.06.94-2.06 2.06-.94-2.06-.94-.94-2.06-.94 2.06-2.06.94zm-11 1L8.5 8.5l.94-2.06 2.06-.94-2.06-.94L8.5 2.5l-.94 2.06-2.06.94zm10 10l.94 2.06.94-2.06 2.06-.94-2.06-.94-.94-2.06-.94 2.06-2.06.94z\"/><path d=\"M17.41 7.96l-1.37-1.37c-.4-.4-.92-.59-1.43-.59-.52 0-1.04.2-1.43.59L10.3 9.45l-7.72 7.72c-.78.78-.78 2.05 0 2.83L4 21.41c.39.39.9.59 1.41.59.51 0 1.02-.2 1.41-.59l7.78-7.78 2.81-2.81c.8-.78.8-2.07 0-2.86zM5.41 20L4 18.59l7.72-7.72 1.47 1.35L5.41 20z\"/>\n",
              "  </svg>\n",
              "      </button>\n",
              "      \n",
              "  <style>\n",
              "    .colab-df-container {\n",
              "      display:flex;\n",
              "      flex-wrap:wrap;\n",
              "      gap: 12px;\n",
              "    }\n",
              "\n",
              "    .colab-df-convert {\n",
              "      background-color: #E8F0FE;\n",
              "      border: none;\n",
              "      border-radius: 50%;\n",
              "      cursor: pointer;\n",
              "      display: none;\n",
              "      fill: #1967D2;\n",
              "      height: 32px;\n",
              "      padding: 0 0 0 0;\n",
              "      width: 32px;\n",
              "    }\n",
              "\n",
              "    .colab-df-convert:hover {\n",
              "      background-color: #E2EBFA;\n",
              "      box-shadow: 0px 1px 2px rgba(60, 64, 67, 0.3), 0px 1px 3px 1px rgba(60, 64, 67, 0.15);\n",
              "      fill: #174EA6;\n",
              "    }\n",
              "\n",
              "    [theme=dark] .colab-df-convert {\n",
              "      background-color: #3B4455;\n",
              "      fill: #D2E3FC;\n",
              "    }\n",
              "\n",
              "    [theme=dark] .colab-df-convert:hover {\n",
              "      background-color: #434B5C;\n",
              "      box-shadow: 0px 1px 3px 1px rgba(0, 0, 0, 0.15);\n",
              "      filter: drop-shadow(0px 1px 2px rgba(0, 0, 0, 0.3));\n",
              "      fill: #FFFFFF;\n",
              "    }\n",
              "  </style>\n",
              "\n",
              "      <script>\n",
              "        const buttonEl =\n",
              "          document.querySelector('#df-20c09453-eca5-4dcb-af44-c394e32dcfb8 button.colab-df-convert');\n",
              "        buttonEl.style.display =\n",
              "          google.colab.kernel.accessAllowed ? 'block' : 'none';\n",
              "\n",
              "        async function convertToInteractive(key) {\n",
              "          const element = document.querySelector('#df-20c09453-eca5-4dcb-af44-c394e32dcfb8');\n",
              "          const dataTable =\n",
              "            await google.colab.kernel.invokeFunction('convertToInteractive',\n",
              "                                                     [key], {});\n",
              "          if (!dataTable) return;\n",
              "\n",
              "          const docLinkHtml = 'Like what you see? Visit the ' +\n",
              "            '<a target=\"_blank\" href=https://colab.research.google.com/notebooks/data_table.ipynb>data table notebook</a>'\n",
              "            + ' to learn more about interactive tables.';\n",
              "          element.innerHTML = '';\n",
              "          dataTable['output_type'] = 'display_data';\n",
              "          await google.colab.output.renderOutput(dataTable, element);\n",
              "          const docLink = document.createElement('div');\n",
              "          docLink.innerHTML = docLinkHtml;\n",
              "          element.appendChild(docLink);\n",
              "        }\n",
              "      </script>\n",
              "    </div>\n",
              "  </div>\n",
              "  "
            ]
          },
          "metadata": {},
          "execution_count": 24
        }
      ]
    },
    {
      "cell_type": "code",
      "execution_count": 25,
      "id": "6bda87db",
      "metadata": {
        "id": "6bda87db"
      },
      "outputs": [],
      "source": [
        "df.drop(columns=['Unnamed: 0.1', 'Unnamed: 0'], inplace=True)"
      ]
    },
    {
      "cell_type": "code",
      "execution_count": 26,
      "id": "7ee57888",
      "metadata": {
        "id": "7ee57888",
        "outputId": "1d14a8a0-a305-4c6a-e9af-dc61415f0e09",
        "colab": {
          "base_uri": "https://localhost:8080/"
        }
      },
      "outputs": [
        {
          "output_type": "execute_result",
          "data": {
            "text/plain": [
              "array([2018, 2019, 2020, 2021])"
            ]
          },
          "metadata": {},
          "execution_count": 26
        }
      ],
      "source": [
        "df.year.unique()"
      ]
    },
    {
      "cell_type": "code",
      "execution_count": 27,
      "id": "ca148b48",
      "metadata": {
        "id": "ca148b48"
      },
      "outputs": [],
      "source": [
        "temp = df.copy()"
      ]
    },
    {
      "cell_type": "code",
      "source": [
        "# Create correlation matrix\n",
        "#corr_matrix = temp.corr().abs()\n",
        "\n",
        "# Select upper triangle of correlation matrix\n",
        "#upper = corr_matrix.where(np.triu(np.ones(corr_matrix.shape), k=1).astype(bool))\n",
        "\n",
        "# Find features with correlation greater than 0.95\n",
        "#to_drop = [column for column in upper.columns if any(upper[column] > 0.5)]"
      ],
      "metadata": {
        "id": "sWlJOA07V_IT"
      },
      "id": "sWlJOA07V_IT",
      "execution_count": 28,
      "outputs": []
    },
    {
      "cell_type": "code",
      "source": [
        "#to_drop "
      ],
      "metadata": {
        "id": "l5koNnaaXNzm"
      },
      "id": "l5koNnaaXNzm",
      "execution_count": 29,
      "outputs": []
    },
    {
      "cell_type": "code",
      "source": [
        "#temp_2=temp[to_drop]"
      ],
      "metadata": {
        "id": "U18E-OpuWkWG"
      },
      "id": "U18E-OpuWkWG",
      "execution_count": 30,
      "outputs": []
    },
    {
      "cell_type": "code",
      "source": [
        "#corr_matrix = temp_2.corr().abs()"
      ],
      "metadata": {
        "id": "42_jJJ--W2C3"
      },
      "id": "42_jJJ--W2C3",
      "execution_count": 31,
      "outputs": []
    },
    {
      "cell_type": "code",
      "source": [
        "#corr_mat = temp.corr()"
      ],
      "metadata": {
        "id": "iWOcWAqrW9dQ"
      },
      "id": "iWOcWAqrW9dQ",
      "execution_count": 32,
      "outputs": []
    },
    {
      "cell_type": "code",
      "source": [
        "#sorted_mat = corr_mat.unstack().sort_values()"
      ],
      "metadata": {
        "id": "xDvmI_igZEs1"
      },
      "id": "xDvmI_igZEs1",
      "execution_count": 33,
      "outputs": []
    },
    {
      "cell_type": "code",
      "source": [
        "#sorted_corr = pd.DataFrame(sorted_mat)"
      ],
      "metadata": {
        "id": "gVpnGpG7ZMIY"
      },
      "id": "gVpnGpG7ZMIY",
      "execution_count": 34,
      "outputs": []
    },
    {
      "cell_type": "code",
      "source": [
        "#sorted_corr"
      ],
      "metadata": {
        "id": "NcO8PnZHZYZJ"
      },
      "id": "NcO8PnZHZYZJ",
      "execution_count": 35,
      "outputs": []
    },
    {
      "cell_type": "code",
      "source": [
        "#sns.heatmap(corr_matrix)"
      ],
      "metadata": {
        "id": "T7WQRD4DYYuA"
      },
      "id": "T7WQRD4DYYuA",
      "execution_count": 36,
      "outputs": []
    },
    {
      "cell_type": "code",
      "execution_count": 37,
      "id": "75d5166e",
      "metadata": {
        "scrolled": true,
        "id": "75d5166e",
        "outputId": "40018ed8-6248-4933-d70c-8df1447a650a",
        "colab": {
          "base_uri": "https://localhost:8080/"
        }
      },
      "outputs": [
        {
          "output_type": "execute_result",
          "data": {
            "text/plain": [
              "(25862, 28)"
            ]
          },
          "metadata": {},
          "execution_count": 37
        }
      ],
      "source": [
        "temp.shape"
      ]
    },
    {
      "cell_type": "code",
      "execution_count": 38,
      "id": "76b5be36",
      "metadata": {
        "id": "76b5be36",
        "outputId": "47ae9795-e564-4903-be4b-bec3e5ffe666",
        "colab": {
          "base_uri": "https://localhost:8080/"
        }
      },
      "outputs": [
        {
          "output_type": "stream",
          "name": "stdout",
          "text": [
            "<class 'pandas.core.frame.DataFrame'>\n",
            "RangeIndex: 25862 entries, 0 to 25861\n",
            "Data columns (total 28 columns):\n",
            " #   Column              Non-Null Count  Dtype  \n",
            "---  ------              --------------  -----  \n",
            " 0   activate            25862 non-null  int64  \n",
            " 1   name                25862 non-null  object \n",
            " 2   reservations_count  25862 non-null  int64  \n",
            " 3   light               25862 non-null  int64  \n",
            " 4   total_bases         25862 non-null  int64  \n",
            " 5   free_bases          25862 non-null  int64  \n",
            " 6   number              25862 non-null  object \n",
            " 7   longitude           25862 non-null  float64\n",
            " 8   no_available        25862 non-null  int64  \n",
            " 9   address             25862 non-null  object \n",
            " 10  latitude            25862 non-null  float64\n",
            " 11  dock_bikes          25862 non-null  int64  \n",
            " 12  id                  25862 non-null  object \n",
            " 13  time                25862 non-null  int64  \n",
            " 14  date                25862 non-null  object \n",
            " 15  holidays            25862 non-null  bool   \n",
            " 16  datetime            25862 non-null  object \n",
            " 17  feels_like          25862 non-null  float64\n",
            " 18  weather_main        25862 non-null  object \n",
            " 19  weekday             25862 non-null  int64  \n",
            " 20  year                25862 non-null  int64  \n",
            " 21  month               25862 non-null  int64  \n",
            " 22  hour_sin            25862 non-null  float64\n",
            " 23  hour_cos            25862 non-null  float64\n",
            " 24  weekday_sin         25862 non-null  float64\n",
            " 25  weekday_cos         25862 non-null  float64\n",
            " 26  month_sin           25862 non-null  float64\n",
            " 27  month_cos           25862 non-null  float64\n",
            "dtypes: bool(1), float64(9), int64(11), object(7)\n",
            "memory usage: 5.4+ MB\n"
          ]
        }
      ],
      "source": [
        "temp.info()"
      ]
    },
    {
      "cell_type": "code",
      "source": [
        "#test=temp['datetime'][0]"
      ],
      "metadata": {
        "id": "enhLz5ead1Dg"
      },
      "id": "enhLz5ead1Dg",
      "execution_count": 39,
      "outputs": []
    },
    {
      "cell_type": "code",
      "source": [
        "#test[0:10]+' '+test[10:]"
      ],
      "metadata": {
        "id": "yRyHnGlOd8U1"
      },
      "id": "yRyHnGlOd8U1",
      "execution_count": 40,
      "outputs": []
    },
    {
      "cell_type": "code",
      "source": [],
      "metadata": {
        "id": "460vWGs5bt8-"
      },
      "id": "460vWGs5bt8-",
      "execution_count": 40,
      "outputs": []
    },
    {
      "cell_type": "code",
      "source": [
        "#temp['datetime']"
      ],
      "metadata": {
        "id": "FUbpWQ-KfuT2"
      },
      "id": "FUbpWQ-KfuT2",
      "execution_count": 41,
      "outputs": []
    },
    {
      "cell_type": "code",
      "source": [
        "#pd.to_datetime(temp['datetime'], format='%Y-%m-%d %H:%M:%S',)"
      ],
      "metadata": {
        "id": "Dos9eBPqb1VI"
      },
      "id": "Dos9eBPqb1VI",
      "execution_count": 42,
      "outputs": []
    },
    {
      "cell_type": "markdown",
      "id": "ef5f7b2d",
      "metadata": {
        "id": "ef5f7b2d"
      },
      "source": [
        "### Scaling and Encoding :"
      ]
    },
    {
      "cell_type": "code",
      "source": [
        "temp.head()"
      ],
      "metadata": {
        "colab": {
          "base_uri": "https://localhost:8080/",
          "height": 473
        },
        "id": "z1skbWxf3tgB",
        "outputId": "86784cf8-2ecc-492a-eb83-568af5e9ab1e"
      },
      "id": "z1skbWxf3tgB",
      "execution_count": 43,
      "outputs": [
        {
          "output_type": "execute_result",
          "data": {
            "text/plain": [
              "   activate              name  reservations_count  light  total_bases  \\\n",
              "0         1  Puerta del Sol A                   0      2           24   \n",
              "1         1  Puerta del Sol A                   0      0           24   \n",
              "2         1  Puerta del Sol A                   0      2           24   \n",
              "3         1  Puerta del Sol A                   0      0           24   \n",
              "4         1  Puerta del Sol A                   0      0           24   \n",
              "\n",
              "   free_bases number  longitude  no_available             address  ...  \\\n",
              "0          11     1a  -3.702425             0  Puerta del Sol n 1  ...   \n",
              "1          18     1a  -3.702425             0  Puerta del Sol n 1  ...   \n",
              "2          13     1a  -3.702425             0  Puerta del Sol n 1  ...   \n",
              "3          17     1a  -3.702425             0  Puerta del Sol n 1  ...   \n",
              "4          22     1a  -3.702425             0  Puerta del Sol n 1  ...   \n",
              "\n",
              "   weather_main  weekday  year  month  hour_sin  hour_cos weekday_sin  \\\n",
              "0         Clear        2  2018      8  0.000000  1.000000    0.974928   \n",
              "1         Clear        2  2018      8  0.258819  0.965926    0.974928   \n",
              "2         Clear        2  2018      8  0.500000  0.866025    0.974928   \n",
              "3         Clear        2  2018      8  0.707107  0.707107    0.974928   \n",
              "4         Clear        2  2018      8  0.866025  0.500000    0.974928   \n",
              "\n",
              "   weekday_cos month_sin     month_cos  \n",
              "0    -0.222521       1.0  6.123234e-17  \n",
              "1    -0.222521       1.0  6.123234e-17  \n",
              "2    -0.222521       1.0  6.123234e-17  \n",
              "3    -0.222521       1.0  6.123234e-17  \n",
              "4    -0.222521       1.0  6.123234e-17  \n",
              "\n",
              "[5 rows x 28 columns]"
            ],
            "text/html": [
              "\n",
              "  <div id=\"df-823dc3f3-1fb3-49e4-af88-eafb4fb67fcc\">\n",
              "    <div class=\"colab-df-container\">\n",
              "      <div>\n",
              "<style scoped>\n",
              "    .dataframe tbody tr th:only-of-type {\n",
              "        vertical-align: middle;\n",
              "    }\n",
              "\n",
              "    .dataframe tbody tr th {\n",
              "        vertical-align: top;\n",
              "    }\n",
              "\n",
              "    .dataframe thead th {\n",
              "        text-align: right;\n",
              "    }\n",
              "</style>\n",
              "<table border=\"1\" class=\"dataframe\">\n",
              "  <thead>\n",
              "    <tr style=\"text-align: right;\">\n",
              "      <th></th>\n",
              "      <th>activate</th>\n",
              "      <th>name</th>\n",
              "      <th>reservations_count</th>\n",
              "      <th>light</th>\n",
              "      <th>total_bases</th>\n",
              "      <th>free_bases</th>\n",
              "      <th>number</th>\n",
              "      <th>longitude</th>\n",
              "      <th>no_available</th>\n",
              "      <th>address</th>\n",
              "      <th>...</th>\n",
              "      <th>weather_main</th>\n",
              "      <th>weekday</th>\n",
              "      <th>year</th>\n",
              "      <th>month</th>\n",
              "      <th>hour_sin</th>\n",
              "      <th>hour_cos</th>\n",
              "      <th>weekday_sin</th>\n",
              "      <th>weekday_cos</th>\n",
              "      <th>month_sin</th>\n",
              "      <th>month_cos</th>\n",
              "    </tr>\n",
              "  </thead>\n",
              "  <tbody>\n",
              "    <tr>\n",
              "      <th>0</th>\n",
              "      <td>1</td>\n",
              "      <td>Puerta del Sol A</td>\n",
              "      <td>0</td>\n",
              "      <td>2</td>\n",
              "      <td>24</td>\n",
              "      <td>11</td>\n",
              "      <td>1a</td>\n",
              "      <td>-3.702425</td>\n",
              "      <td>0</td>\n",
              "      <td>Puerta del Sol n 1</td>\n",
              "      <td>...</td>\n",
              "      <td>Clear</td>\n",
              "      <td>2</td>\n",
              "      <td>2018</td>\n",
              "      <td>8</td>\n",
              "      <td>0.000000</td>\n",
              "      <td>1.000000</td>\n",
              "      <td>0.974928</td>\n",
              "      <td>-0.222521</td>\n",
              "      <td>1.0</td>\n",
              "      <td>6.123234e-17</td>\n",
              "    </tr>\n",
              "    <tr>\n",
              "      <th>1</th>\n",
              "      <td>1</td>\n",
              "      <td>Puerta del Sol A</td>\n",
              "      <td>0</td>\n",
              "      <td>0</td>\n",
              "      <td>24</td>\n",
              "      <td>18</td>\n",
              "      <td>1a</td>\n",
              "      <td>-3.702425</td>\n",
              "      <td>0</td>\n",
              "      <td>Puerta del Sol n 1</td>\n",
              "      <td>...</td>\n",
              "      <td>Clear</td>\n",
              "      <td>2</td>\n",
              "      <td>2018</td>\n",
              "      <td>8</td>\n",
              "      <td>0.258819</td>\n",
              "      <td>0.965926</td>\n",
              "      <td>0.974928</td>\n",
              "      <td>-0.222521</td>\n",
              "      <td>1.0</td>\n",
              "      <td>6.123234e-17</td>\n",
              "    </tr>\n",
              "    <tr>\n",
              "      <th>2</th>\n",
              "      <td>1</td>\n",
              "      <td>Puerta del Sol A</td>\n",
              "      <td>0</td>\n",
              "      <td>2</td>\n",
              "      <td>24</td>\n",
              "      <td>13</td>\n",
              "      <td>1a</td>\n",
              "      <td>-3.702425</td>\n",
              "      <td>0</td>\n",
              "      <td>Puerta del Sol n 1</td>\n",
              "      <td>...</td>\n",
              "      <td>Clear</td>\n",
              "      <td>2</td>\n",
              "      <td>2018</td>\n",
              "      <td>8</td>\n",
              "      <td>0.500000</td>\n",
              "      <td>0.866025</td>\n",
              "      <td>0.974928</td>\n",
              "      <td>-0.222521</td>\n",
              "      <td>1.0</td>\n",
              "      <td>6.123234e-17</td>\n",
              "    </tr>\n",
              "    <tr>\n",
              "      <th>3</th>\n",
              "      <td>1</td>\n",
              "      <td>Puerta del Sol A</td>\n",
              "      <td>0</td>\n",
              "      <td>0</td>\n",
              "      <td>24</td>\n",
              "      <td>17</td>\n",
              "      <td>1a</td>\n",
              "      <td>-3.702425</td>\n",
              "      <td>0</td>\n",
              "      <td>Puerta del Sol n 1</td>\n",
              "      <td>...</td>\n",
              "      <td>Clear</td>\n",
              "      <td>2</td>\n",
              "      <td>2018</td>\n",
              "      <td>8</td>\n",
              "      <td>0.707107</td>\n",
              "      <td>0.707107</td>\n",
              "      <td>0.974928</td>\n",
              "      <td>-0.222521</td>\n",
              "      <td>1.0</td>\n",
              "      <td>6.123234e-17</td>\n",
              "    </tr>\n",
              "    <tr>\n",
              "      <th>4</th>\n",
              "      <td>1</td>\n",
              "      <td>Puerta del Sol A</td>\n",
              "      <td>0</td>\n",
              "      <td>0</td>\n",
              "      <td>24</td>\n",
              "      <td>22</td>\n",
              "      <td>1a</td>\n",
              "      <td>-3.702425</td>\n",
              "      <td>0</td>\n",
              "      <td>Puerta del Sol n 1</td>\n",
              "      <td>...</td>\n",
              "      <td>Clear</td>\n",
              "      <td>2</td>\n",
              "      <td>2018</td>\n",
              "      <td>8</td>\n",
              "      <td>0.866025</td>\n",
              "      <td>0.500000</td>\n",
              "      <td>0.974928</td>\n",
              "      <td>-0.222521</td>\n",
              "      <td>1.0</td>\n",
              "      <td>6.123234e-17</td>\n",
              "    </tr>\n",
              "  </tbody>\n",
              "</table>\n",
              "<p>5 rows × 28 columns</p>\n",
              "</div>\n",
              "      <button class=\"colab-df-convert\" onclick=\"convertToInteractive('df-823dc3f3-1fb3-49e4-af88-eafb4fb67fcc')\"\n",
              "              title=\"Convert this dataframe to an interactive table.\"\n",
              "              style=\"display:none;\">\n",
              "        \n",
              "  <svg xmlns=\"http://www.w3.org/2000/svg\" height=\"24px\"viewBox=\"0 0 24 24\"\n",
              "       width=\"24px\">\n",
              "    <path d=\"M0 0h24v24H0V0z\" fill=\"none\"/>\n",
              "    <path d=\"M18.56 5.44l.94 2.06.94-2.06 2.06-.94-2.06-.94-.94-2.06-.94 2.06-2.06.94zm-11 1L8.5 8.5l.94-2.06 2.06-.94-2.06-.94L8.5 2.5l-.94 2.06-2.06.94zm10 10l.94 2.06.94-2.06 2.06-.94-2.06-.94-.94-2.06-.94 2.06-2.06.94z\"/><path d=\"M17.41 7.96l-1.37-1.37c-.4-.4-.92-.59-1.43-.59-.52 0-1.04.2-1.43.59L10.3 9.45l-7.72 7.72c-.78.78-.78 2.05 0 2.83L4 21.41c.39.39.9.59 1.41.59.51 0 1.02-.2 1.41-.59l7.78-7.78 2.81-2.81c.8-.78.8-2.07 0-2.86zM5.41 20L4 18.59l7.72-7.72 1.47 1.35L5.41 20z\"/>\n",
              "  </svg>\n",
              "      </button>\n",
              "      \n",
              "  <style>\n",
              "    .colab-df-container {\n",
              "      display:flex;\n",
              "      flex-wrap:wrap;\n",
              "      gap: 12px;\n",
              "    }\n",
              "\n",
              "    .colab-df-convert {\n",
              "      background-color: #E8F0FE;\n",
              "      border: none;\n",
              "      border-radius: 50%;\n",
              "      cursor: pointer;\n",
              "      display: none;\n",
              "      fill: #1967D2;\n",
              "      height: 32px;\n",
              "      padding: 0 0 0 0;\n",
              "      width: 32px;\n",
              "    }\n",
              "\n",
              "    .colab-df-convert:hover {\n",
              "      background-color: #E2EBFA;\n",
              "      box-shadow: 0px 1px 2px rgba(60, 64, 67, 0.3), 0px 1px 3px 1px rgba(60, 64, 67, 0.15);\n",
              "      fill: #174EA6;\n",
              "    }\n",
              "\n",
              "    [theme=dark] .colab-df-convert {\n",
              "      background-color: #3B4455;\n",
              "      fill: #D2E3FC;\n",
              "    }\n",
              "\n",
              "    [theme=dark] .colab-df-convert:hover {\n",
              "      background-color: #434B5C;\n",
              "      box-shadow: 0px 1px 3px 1px rgba(0, 0, 0, 0.15);\n",
              "      filter: drop-shadow(0px 1px 2px rgba(0, 0, 0, 0.3));\n",
              "      fill: #FFFFFF;\n",
              "    }\n",
              "  </style>\n",
              "\n",
              "      <script>\n",
              "        const buttonEl =\n",
              "          document.querySelector('#df-823dc3f3-1fb3-49e4-af88-eafb4fb67fcc button.colab-df-convert');\n",
              "        buttonEl.style.display =\n",
              "          google.colab.kernel.accessAllowed ? 'block' : 'none';\n",
              "\n",
              "        async function convertToInteractive(key) {\n",
              "          const element = document.querySelector('#df-823dc3f3-1fb3-49e4-af88-eafb4fb67fcc');\n",
              "          const dataTable =\n",
              "            await google.colab.kernel.invokeFunction('convertToInteractive',\n",
              "                                                     [key], {});\n",
              "          if (!dataTable) return;\n",
              "\n",
              "          const docLinkHtml = 'Like what you see? Visit the ' +\n",
              "            '<a target=\"_blank\" href=https://colab.research.google.com/notebooks/data_table.ipynb>data table notebook</a>'\n",
              "            + ' to learn more about interactive tables.';\n",
              "          element.innerHTML = '';\n",
              "          dataTable['output_type'] = 'display_data';\n",
              "          await google.colab.output.renderOutput(dataTable, element);\n",
              "          const docLink = document.createElement('div');\n",
              "          docLink.innerHTML = docLinkHtml;\n",
              "          element.appendChild(docLink);\n",
              "        }\n",
              "      </script>\n",
              "    </div>\n",
              "  </div>\n",
              "  "
            ]
          },
          "metadata": {},
          "execution_count": 43
        }
      ]
    },
    {
      "cell_type": "code",
      "source": [
        "temp.name.unique()"
      ],
      "metadata": {
        "colab": {
          "base_uri": "https://localhost:8080/"
        },
        "id": "17x-uirz__1h",
        "outputId": "93e1fd1d-1f7c-4e30-9861-09930c999bb3"
      },
      "id": "17x-uirz__1h",
      "execution_count": 44,
      "outputs": [
        {
          "output_type": "execute_result",
          "data": {
            "text/plain": [
              "array(['Puerta del Sol A', 'Madrid Sol 1A'], dtype=object)"
            ]
          },
          "metadata": {},
          "execution_count": 44
        }
      ]
    },
    {
      "cell_type": "code",
      "execution_count": 45,
      "id": "824cdf7d",
      "metadata": {
        "id": "824cdf7d",
        "outputId": "43b050ac-562c-43c3-cda9-00a7a93efcc0",
        "colab": {
          "base_uri": "https://localhost:8080/"
        }
      },
      "outputs": [
        {
          "output_type": "execute_result",
          "data": {
            "text/plain": [
              "Index(['activate', 'reservations_count', 'light', 'total_bases', 'free_bases',\n",
              "       'longitude', 'no_available', 'latitude', 'dock_bikes', 'time',\n",
              "       'feels_like', 'weekday', 'year', 'month', 'hour_sin', 'hour_cos',\n",
              "       'weekday_sin', 'weekday_cos', 'month_sin', 'month_cos'],\n",
              "      dtype='object')"
            ]
          },
          "metadata": {},
          "execution_count": 45
        }
      ],
      "source": [
        "temp.select_dtypes(['int', 'float']).columns"
      ]
    },
    {
      "cell_type": "code",
      "source": [
        "temp.number.unique()"
      ],
      "metadata": {
        "colab": {
          "base_uri": "https://localhost:8080/"
        },
        "id": "tO12X0kdG5VI",
        "outputId": "4dc9325e-0036-44ae-a776-d4e95a1653d9"
      },
      "id": "tO12X0kdG5VI",
      "execution_count": 46,
      "outputs": [
        {
          "output_type": "execute_result",
          "data": {
            "text/plain": [
              "array(['1a'], dtype=object)"
            ]
          },
          "metadata": {},
          "execution_count": 46
        }
      ]
    },
    {
      "cell_type": "code",
      "source": [
        "temp.longitude.unique()"
      ],
      "metadata": {
        "colab": {
          "base_uri": "https://localhost:8080/"
        },
        "id": "bLzh_tSnHG0O",
        "outputId": "3ec87f73-89e6-4331-f28f-9c52d9155846"
      },
      "id": "bLzh_tSnHG0O",
      "execution_count": 47,
      "outputs": [
        {
          "output_type": "execute_result",
          "data": {
            "text/plain": [
              "array([-3.7024255 , -3.70178074, -3.7018341 ])"
            ]
          },
          "metadata": {},
          "execution_count": 47
        }
      ]
    },
    {
      "cell_type": "code",
      "execution_count": 48,
      "id": "90ba9eca",
      "metadata": {
        "id": "90ba9eca",
        "colab": {
          "base_uri": "https://localhost:8080/"
        },
        "outputId": "30b02cde-c6a1-42e7-c476-0a316aca6981"
      },
      "outputs": [
        {
          "output_type": "execute_result",
          "data": {
            "text/plain": [
              "array([40.4168961 , 40.41715281, 40.4172137 ])"
            ]
          },
          "metadata": {},
          "execution_count": 48
        }
      ],
      "source": [
        "temp.latitude.unique()"
      ]
    },
    {
      "cell_type": "code",
      "execution_count": 49,
      "id": "1b96ccea",
      "metadata": {
        "id": "1b96ccea"
      },
      "outputs": [],
      "source": [
        "from sklearn.preprocessing import StandardScaler\n",
        "\n",
        "f_transformer = StandardScaler()\n",
        "\n",
        "temp[['activate', 'reservations_count', 'light', 'total_bases', 'free_bases', 'longitude', 'no_available', 'latitude', 'time',\n",
        "       'feels_like', 'hour_sin', 'hour_cos','weekday_sin', 'weekday_cos', 'month_sin', \n",
        "      'month_cos']] = f_transformer.fit_transform(temp[['activate', 'reservations_count', 'light', 'total_bases', 'free_bases', 'longitude', 'no_available', 'latitude', 'time',\n",
        "       'feels_like', 'hour_sin', 'hour_cos',\n",
        "        'weekday_sin', 'weekday_cos', 'month_sin', 'month_cos']])\n"
      ]
    },
    {
      "cell_type": "code",
      "execution_count": 50,
      "id": "3fc7a6f6",
      "metadata": {
        "id": "3fc7a6f6",
        "outputId": "a1ba9f93-e947-4037-8347-777e9af1893e",
        "colab": {
          "base_uri": "https://localhost:8080/"
        }
      },
      "outputs": [
        {
          "output_type": "execute_result",
          "data": {
            "text/plain": [
              "Index(['activate', 'name', 'reservations_count', 'light', 'total_bases',\n",
              "       'free_bases', 'number', 'longitude', 'no_available', 'address',\n",
              "       'latitude', 'dock_bikes', 'id', 'time', 'date', 'holidays', 'datetime',\n",
              "       'feels_like', 'weather_main', 'weekday', 'year', 'month', 'hour_sin',\n",
              "       'hour_cos', 'weekday_sin', 'weekday_cos', 'month_sin', 'month_cos'],\n",
              "      dtype='object')"
            ]
          },
          "metadata": {},
          "execution_count": 50
        }
      ],
      "source": [
        "temp.columns"
      ]
    },
    {
      "cell_type": "code",
      "source": [],
      "metadata": {
        "id": "-GQAk3W9bJ83"
      },
      "id": "-GQAk3W9bJ83",
      "execution_count": 50,
      "outputs": []
    },
    {
      "cell_type": "code",
      "execution_count": 51,
      "id": "67da11e3",
      "metadata": {
        "id": "67da11e3"
      },
      "outputs": [],
      "source": [
        "temp.holidays = temp.holidays.astype('int')"
      ]
    },
    {
      "cell_type": "code",
      "source": [
        "temp_small = temp.drop(columns=[])"
      ],
      "metadata": {
        "id": "MpWB2okKIgk7"
      },
      "id": "MpWB2okKIgk7",
      "execution_count": 52,
      "outputs": []
    },
    {
      "cell_type": "code",
      "source": [],
      "metadata": {
        "id": "7pJ_gYMIIgnY"
      },
      "id": "7pJ_gYMIIgnY",
      "execution_count": 52,
      "outputs": []
    },
    {
      "cell_type": "code",
      "execution_count": 53,
      "id": "0ad2f148",
      "metadata": {
        "id": "0ad2f148"
      },
      "outputs": [],
      "source": [
        "temp_model = temp.drop(columns=['name', 'number', 'address', 'id'])"
      ]
    },
    {
      "cell_type": "code",
      "execution_count": 54,
      "id": "0d2f0c09",
      "metadata": {
        "id": "0d2f0c09",
        "outputId": "5e4f5632-c3f3-4840-ad95-f0f7b2172038",
        "colab": {
          "base_uri": "https://localhost:8080/",
          "height": 299
        }
      },
      "outputs": [
        {
          "output_type": "execute_result",
          "data": {
            "text/plain": [
              "   activate  reservations_count     light  total_bases  free_bases  longitude  \\\n",
              "0       0.0           -0.218666  0.704880    -1.090797   -0.245789  -1.083199   \n",
              "1       0.0           -0.218666 -1.195028    -1.090797    0.603942  -1.083199   \n",
              "2       0.0           -0.218666  0.704880    -1.090797   -0.003009  -1.083199   \n",
              "3       0.0           -0.218666 -1.195028    -1.090797    0.482552  -1.083199   \n",
              "4       0.0           -0.218666 -1.195028    -1.090797    1.089502  -1.083199   \n",
              "\n",
              "   no_available  latitude  dock_bikes      time  ... weather_main  weekday  \\\n",
              "0     -0.352407 -1.074382          11 -1.659847  ...        Clear        2   \n",
              "1     -0.352407 -1.074382           4 -1.515481  ...        Clear        2   \n",
              "2     -0.352407 -1.074382          10 -1.371115  ...        Clear        2   \n",
              "3     -0.352407 -1.074382           4 -1.226749  ...        Clear        2   \n",
              "4     -0.352407 -1.074382           0 -1.082383  ...        Clear        2   \n",
              "\n",
              "   year  month  hour_sin  hour_cos  weekday_sin  weekday_cos  month_sin  \\\n",
              "0  2018      8 -0.001459  1.413281     1.379811    -0.315715     1.4689   \n",
              "1  2018      8  0.364336  1.365063     1.379811    -0.315715     1.4689   \n",
              "2  2018      8  0.705203  1.223693     1.379811    -0.315715     1.4689   \n",
              "3  2018      8  0.997912  0.998806     1.379811    -0.315715     1.4689   \n",
              "4  2018      8  1.222516  0.705727     1.379811    -0.315715     1.4689   \n",
              "\n",
              "   month_cos  \n",
              "0   0.031981  \n",
              "1   0.031981  \n",
              "2   0.031981  \n",
              "3   0.031981  \n",
              "4   0.031981  \n",
              "\n",
              "[5 rows x 24 columns]"
            ],
            "text/html": [
              "\n",
              "  <div id=\"df-d78747a9-5938-4aa0-b6aa-7feae947efdb\">\n",
              "    <div class=\"colab-df-container\">\n",
              "      <div>\n",
              "<style scoped>\n",
              "    .dataframe tbody tr th:only-of-type {\n",
              "        vertical-align: middle;\n",
              "    }\n",
              "\n",
              "    .dataframe tbody tr th {\n",
              "        vertical-align: top;\n",
              "    }\n",
              "\n",
              "    .dataframe thead th {\n",
              "        text-align: right;\n",
              "    }\n",
              "</style>\n",
              "<table border=\"1\" class=\"dataframe\">\n",
              "  <thead>\n",
              "    <tr style=\"text-align: right;\">\n",
              "      <th></th>\n",
              "      <th>activate</th>\n",
              "      <th>reservations_count</th>\n",
              "      <th>light</th>\n",
              "      <th>total_bases</th>\n",
              "      <th>free_bases</th>\n",
              "      <th>longitude</th>\n",
              "      <th>no_available</th>\n",
              "      <th>latitude</th>\n",
              "      <th>dock_bikes</th>\n",
              "      <th>time</th>\n",
              "      <th>...</th>\n",
              "      <th>weather_main</th>\n",
              "      <th>weekday</th>\n",
              "      <th>year</th>\n",
              "      <th>month</th>\n",
              "      <th>hour_sin</th>\n",
              "      <th>hour_cos</th>\n",
              "      <th>weekday_sin</th>\n",
              "      <th>weekday_cos</th>\n",
              "      <th>month_sin</th>\n",
              "      <th>month_cos</th>\n",
              "    </tr>\n",
              "  </thead>\n",
              "  <tbody>\n",
              "    <tr>\n",
              "      <th>0</th>\n",
              "      <td>0.0</td>\n",
              "      <td>-0.218666</td>\n",
              "      <td>0.704880</td>\n",
              "      <td>-1.090797</td>\n",
              "      <td>-0.245789</td>\n",
              "      <td>-1.083199</td>\n",
              "      <td>-0.352407</td>\n",
              "      <td>-1.074382</td>\n",
              "      <td>11</td>\n",
              "      <td>-1.659847</td>\n",
              "      <td>...</td>\n",
              "      <td>Clear</td>\n",
              "      <td>2</td>\n",
              "      <td>2018</td>\n",
              "      <td>8</td>\n",
              "      <td>-0.001459</td>\n",
              "      <td>1.413281</td>\n",
              "      <td>1.379811</td>\n",
              "      <td>-0.315715</td>\n",
              "      <td>1.4689</td>\n",
              "      <td>0.031981</td>\n",
              "    </tr>\n",
              "    <tr>\n",
              "      <th>1</th>\n",
              "      <td>0.0</td>\n",
              "      <td>-0.218666</td>\n",
              "      <td>-1.195028</td>\n",
              "      <td>-1.090797</td>\n",
              "      <td>0.603942</td>\n",
              "      <td>-1.083199</td>\n",
              "      <td>-0.352407</td>\n",
              "      <td>-1.074382</td>\n",
              "      <td>4</td>\n",
              "      <td>-1.515481</td>\n",
              "      <td>...</td>\n",
              "      <td>Clear</td>\n",
              "      <td>2</td>\n",
              "      <td>2018</td>\n",
              "      <td>8</td>\n",
              "      <td>0.364336</td>\n",
              "      <td>1.365063</td>\n",
              "      <td>1.379811</td>\n",
              "      <td>-0.315715</td>\n",
              "      <td>1.4689</td>\n",
              "      <td>0.031981</td>\n",
              "    </tr>\n",
              "    <tr>\n",
              "      <th>2</th>\n",
              "      <td>0.0</td>\n",
              "      <td>-0.218666</td>\n",
              "      <td>0.704880</td>\n",
              "      <td>-1.090797</td>\n",
              "      <td>-0.003009</td>\n",
              "      <td>-1.083199</td>\n",
              "      <td>-0.352407</td>\n",
              "      <td>-1.074382</td>\n",
              "      <td>10</td>\n",
              "      <td>-1.371115</td>\n",
              "      <td>...</td>\n",
              "      <td>Clear</td>\n",
              "      <td>2</td>\n",
              "      <td>2018</td>\n",
              "      <td>8</td>\n",
              "      <td>0.705203</td>\n",
              "      <td>1.223693</td>\n",
              "      <td>1.379811</td>\n",
              "      <td>-0.315715</td>\n",
              "      <td>1.4689</td>\n",
              "      <td>0.031981</td>\n",
              "    </tr>\n",
              "    <tr>\n",
              "      <th>3</th>\n",
              "      <td>0.0</td>\n",
              "      <td>-0.218666</td>\n",
              "      <td>-1.195028</td>\n",
              "      <td>-1.090797</td>\n",
              "      <td>0.482552</td>\n",
              "      <td>-1.083199</td>\n",
              "      <td>-0.352407</td>\n",
              "      <td>-1.074382</td>\n",
              "      <td>4</td>\n",
              "      <td>-1.226749</td>\n",
              "      <td>...</td>\n",
              "      <td>Clear</td>\n",
              "      <td>2</td>\n",
              "      <td>2018</td>\n",
              "      <td>8</td>\n",
              "      <td>0.997912</td>\n",
              "      <td>0.998806</td>\n",
              "      <td>1.379811</td>\n",
              "      <td>-0.315715</td>\n",
              "      <td>1.4689</td>\n",
              "      <td>0.031981</td>\n",
              "    </tr>\n",
              "    <tr>\n",
              "      <th>4</th>\n",
              "      <td>0.0</td>\n",
              "      <td>-0.218666</td>\n",
              "      <td>-1.195028</td>\n",
              "      <td>-1.090797</td>\n",
              "      <td>1.089502</td>\n",
              "      <td>-1.083199</td>\n",
              "      <td>-0.352407</td>\n",
              "      <td>-1.074382</td>\n",
              "      <td>0</td>\n",
              "      <td>-1.082383</td>\n",
              "      <td>...</td>\n",
              "      <td>Clear</td>\n",
              "      <td>2</td>\n",
              "      <td>2018</td>\n",
              "      <td>8</td>\n",
              "      <td>1.222516</td>\n",
              "      <td>0.705727</td>\n",
              "      <td>1.379811</td>\n",
              "      <td>-0.315715</td>\n",
              "      <td>1.4689</td>\n",
              "      <td>0.031981</td>\n",
              "    </tr>\n",
              "  </tbody>\n",
              "</table>\n",
              "<p>5 rows × 24 columns</p>\n",
              "</div>\n",
              "      <button class=\"colab-df-convert\" onclick=\"convertToInteractive('df-d78747a9-5938-4aa0-b6aa-7feae947efdb')\"\n",
              "              title=\"Convert this dataframe to an interactive table.\"\n",
              "              style=\"display:none;\">\n",
              "        \n",
              "  <svg xmlns=\"http://www.w3.org/2000/svg\" height=\"24px\"viewBox=\"0 0 24 24\"\n",
              "       width=\"24px\">\n",
              "    <path d=\"M0 0h24v24H0V0z\" fill=\"none\"/>\n",
              "    <path d=\"M18.56 5.44l.94 2.06.94-2.06 2.06-.94-2.06-.94-.94-2.06-.94 2.06-2.06.94zm-11 1L8.5 8.5l.94-2.06 2.06-.94-2.06-.94L8.5 2.5l-.94 2.06-2.06.94zm10 10l.94 2.06.94-2.06 2.06-.94-2.06-.94-.94-2.06-.94 2.06-2.06.94z\"/><path d=\"M17.41 7.96l-1.37-1.37c-.4-.4-.92-.59-1.43-.59-.52 0-1.04.2-1.43.59L10.3 9.45l-7.72 7.72c-.78.78-.78 2.05 0 2.83L4 21.41c.39.39.9.59 1.41.59.51 0 1.02-.2 1.41-.59l7.78-7.78 2.81-2.81c.8-.78.8-2.07 0-2.86zM5.41 20L4 18.59l7.72-7.72 1.47 1.35L5.41 20z\"/>\n",
              "  </svg>\n",
              "      </button>\n",
              "      \n",
              "  <style>\n",
              "    .colab-df-container {\n",
              "      display:flex;\n",
              "      flex-wrap:wrap;\n",
              "      gap: 12px;\n",
              "    }\n",
              "\n",
              "    .colab-df-convert {\n",
              "      background-color: #E8F0FE;\n",
              "      border: none;\n",
              "      border-radius: 50%;\n",
              "      cursor: pointer;\n",
              "      display: none;\n",
              "      fill: #1967D2;\n",
              "      height: 32px;\n",
              "      padding: 0 0 0 0;\n",
              "      width: 32px;\n",
              "    }\n",
              "\n",
              "    .colab-df-convert:hover {\n",
              "      background-color: #E2EBFA;\n",
              "      box-shadow: 0px 1px 2px rgba(60, 64, 67, 0.3), 0px 1px 3px 1px rgba(60, 64, 67, 0.15);\n",
              "      fill: #174EA6;\n",
              "    }\n",
              "\n",
              "    [theme=dark] .colab-df-convert {\n",
              "      background-color: #3B4455;\n",
              "      fill: #D2E3FC;\n",
              "    }\n",
              "\n",
              "    [theme=dark] .colab-df-convert:hover {\n",
              "      background-color: #434B5C;\n",
              "      box-shadow: 0px 1px 3px 1px rgba(0, 0, 0, 0.15);\n",
              "      filter: drop-shadow(0px 1px 2px rgba(0, 0, 0, 0.3));\n",
              "      fill: #FFFFFF;\n",
              "    }\n",
              "  </style>\n",
              "\n",
              "      <script>\n",
              "        const buttonEl =\n",
              "          document.querySelector('#df-d78747a9-5938-4aa0-b6aa-7feae947efdb button.colab-df-convert');\n",
              "        buttonEl.style.display =\n",
              "          google.colab.kernel.accessAllowed ? 'block' : 'none';\n",
              "\n",
              "        async function convertToInteractive(key) {\n",
              "          const element = document.querySelector('#df-d78747a9-5938-4aa0-b6aa-7feae947efdb');\n",
              "          const dataTable =\n",
              "            await google.colab.kernel.invokeFunction('convertToInteractive',\n",
              "                                                     [key], {});\n",
              "          if (!dataTable) return;\n",
              "\n",
              "          const docLinkHtml = 'Like what you see? Visit the ' +\n",
              "            '<a target=\"_blank\" href=https://colab.research.google.com/notebooks/data_table.ipynb>data table notebook</a>'\n",
              "            + ' to learn more about interactive tables.';\n",
              "          element.innerHTML = '';\n",
              "          dataTable['output_type'] = 'display_data';\n",
              "          await google.colab.output.renderOutput(dataTable, element);\n",
              "          const docLink = document.createElement('div');\n",
              "          docLink.innerHTML = docLinkHtml;\n",
              "          element.appendChild(docLink);\n",
              "        }\n",
              "      </script>\n",
              "    </div>\n",
              "  </div>\n",
              "  "
            ]
          },
          "metadata": {},
          "execution_count": 54
        }
      ],
      "source": [
        "temp_model.head()"
      ]
    },
    {
      "cell_type": "code",
      "execution_count": 55,
      "id": "91e80059",
      "metadata": {
        "id": "91e80059",
        "outputId": "34e95639-2bfd-433b-e990-c84fbbfb2fcb",
        "colab": {
          "base_uri": "https://localhost:8080/"
        }
      },
      "outputs": [
        {
          "output_type": "stream",
          "name": "stderr",
          "text": [
            "/usr/local/lib/python3.7/dist-packages/sklearn/utils/deprecation.py:87: FutureWarning: Function get_feature_names is deprecated; get_feature_names is deprecated in 1.0 and will be removed in 1.2. Please use get_feature_names_out instead.\n",
            "  warnings.warn(msg, category=FutureWarning)\n"
          ]
        }
      ],
      "source": [
        "ohe = OneHotEncoder(sparse=False, handle_unknown='ignore')\n",
        "categorical_features = ['year', 'month', 'weekday', 'weather_main']\n",
        "transformed_data = pd.DataFrame(ohe.fit_transform(temp_model[categorical_features]))\n",
        "transformed_data.columns = ohe.get_feature_names(categorical_features)\n",
        "concatenated_data = pd.concat([temp_model, transformed_data], axis=1)"
      ]
    },
    {
      "cell_type": "code",
      "source": [
        "# ohe = OneHotEncoder(sparse=False, handle_unknown='ignore')\n",
        "# categorical_features = ['year', 'month', 'weekday', 'weather_main']\n",
        "# ohe.fit(temp_model[categorical_features])"
      ],
      "metadata": {
        "id": "t1Y_dJq6jPCM"
      },
      "id": "t1Y_dJq6jPCM",
      "execution_count": 56,
      "outputs": []
    },
    {
      "cell_type": "code",
      "source": [
        "# encoded = ohe.transform(temp_model[categorical_features])"
      ],
      "metadata": {
        "id": "erFBhqGijcUs"
      },
      "id": "erFBhqGijcUs",
      "execution_count": 57,
      "outputs": []
    },
    {
      "cell_type": "code",
      "source": [
        "# temp_model['year'], temp_model['month'], temp_model['weekday'], temp_model['weather_main'] = encoded.T"
      ],
      "metadata": {
        "id": "JT_fGf13jlfN"
      },
      "id": "JT_fGf13jlfN",
      "execution_count": 58,
      "outputs": []
    },
    {
      "cell_type": "code",
      "source": [
        "concatenated_data.info()"
      ],
      "metadata": {
        "colab": {
          "base_uri": "https://localhost:8080/"
        },
        "id": "yCjjKU4fjlnC",
        "outputId": "dd72bbe2-d6ef-4c13-a748-45dbbe747d1c"
      },
      "id": "yCjjKU4fjlnC",
      "execution_count": 59,
      "outputs": [
        {
          "output_type": "stream",
          "name": "stdout",
          "text": [
            "<class 'pandas.core.frame.DataFrame'>\n",
            "RangeIndex: 25862 entries, 0 to 25861\n",
            "Data columns (total 58 columns):\n",
            " #   Column                     Non-Null Count  Dtype  \n",
            "---  ------                     --------------  -----  \n",
            " 0   activate                   25862 non-null  float64\n",
            " 1   reservations_count         25862 non-null  float64\n",
            " 2   light                      25862 non-null  float64\n",
            " 3   total_bases                25862 non-null  float64\n",
            " 4   free_bases                 25862 non-null  float64\n",
            " 5   longitude                  25862 non-null  float64\n",
            " 6   no_available               25862 non-null  float64\n",
            " 7   latitude                   25862 non-null  float64\n",
            " 8   dock_bikes                 25862 non-null  int64  \n",
            " 9   time                       25862 non-null  float64\n",
            " 10  date                       25862 non-null  object \n",
            " 11  holidays                   25862 non-null  int64  \n",
            " 12  datetime                   25862 non-null  object \n",
            " 13  feels_like                 25862 non-null  float64\n",
            " 14  weather_main               25862 non-null  object \n",
            " 15  weekday                    25862 non-null  int64  \n",
            " 16  year                       25862 non-null  int64  \n",
            " 17  month                      25862 non-null  int64  \n",
            " 18  hour_sin                   25862 non-null  float64\n",
            " 19  hour_cos                   25862 non-null  float64\n",
            " 20  weekday_sin                25862 non-null  float64\n",
            " 21  weekday_cos                25862 non-null  float64\n",
            " 22  month_sin                  25862 non-null  float64\n",
            " 23  month_cos                  25862 non-null  float64\n",
            " 24  year_2018                  25862 non-null  float64\n",
            " 25  year_2019                  25862 non-null  float64\n",
            " 26  year_2020                  25862 non-null  float64\n",
            " 27  year_2021                  25862 non-null  float64\n",
            " 28  month_1                    25862 non-null  float64\n",
            " 29  month_2                    25862 non-null  float64\n",
            " 30  month_3                    25862 non-null  float64\n",
            " 31  month_4                    25862 non-null  float64\n",
            " 32  month_5                    25862 non-null  float64\n",
            " 33  month_6                    25862 non-null  float64\n",
            " 34  month_7                    25862 non-null  float64\n",
            " 35  month_8                    25862 non-null  float64\n",
            " 36  month_9                    25862 non-null  float64\n",
            " 37  month_10                   25862 non-null  float64\n",
            " 38  month_11                   25862 non-null  float64\n",
            " 39  month_12                   25862 non-null  float64\n",
            " 40  weekday_0                  25862 non-null  float64\n",
            " 41  weekday_1                  25862 non-null  float64\n",
            " 42  weekday_2                  25862 non-null  float64\n",
            " 43  weekday_3                  25862 non-null  float64\n",
            " 44  weekday_4                  25862 non-null  float64\n",
            " 45  weekday_5                  25862 non-null  float64\n",
            " 46  weekday_6                  25862 non-null  float64\n",
            " 47  weather_main_Clear         25862 non-null  float64\n",
            " 48  weather_main_Clouds        25862 non-null  float64\n",
            " 49  weather_main_Drizzle       25862 non-null  float64\n",
            " 50  weather_main_Fog           25862 non-null  float64\n",
            " 51  weather_main_Haze          25862 non-null  float64\n",
            " 52  weather_main_Mist          25862 non-null  float64\n",
            " 53  weather_main_Rain          25862 non-null  float64\n",
            " 54  weather_main_Smoke         25862 non-null  float64\n",
            " 55  weather_main_Snow          25862 non-null  float64\n",
            " 56  weather_main_Squall        25862 non-null  float64\n",
            " 57  weather_main_Thunderstorm  25862 non-null  float64\n",
            "dtypes: float64(50), int64(5), object(3)\n",
            "memory usage: 11.4+ MB\n"
          ]
        }
      ]
    },
    {
      "cell_type": "code",
      "source": [],
      "metadata": {
        "id": "yztWgwwVjlpS"
      },
      "id": "yztWgwwVjlpS",
      "execution_count": 59,
      "outputs": []
    },
    {
      "cell_type": "code",
      "execution_count": 60,
      "id": "618b94ef",
      "metadata": {
        "scrolled": true,
        "id": "618b94ef"
      },
      "outputs": [],
      "source": [
        "temp_model = concatenated_data.drop(columns=['year', 'month', 'weekday', 'weather_main','date'])"
      ]
    },
    {
      "cell_type": "code",
      "execution_count": 61,
      "id": "1ba1b9fc",
      "metadata": {
        "id": "1ba1b9fc",
        "outputId": "79a5e3dc-7601-4b2a-bf94-789f1746b525",
        "colab": {
          "base_uri": "https://localhost:8080/"
        }
      },
      "outputs": [
        {
          "output_type": "stream",
          "name": "stdout",
          "text": [
            "<class 'pandas.core.frame.DataFrame'>\n",
            "RangeIndex: 25862 entries, 0 to 25861\n",
            "Data columns (total 53 columns):\n",
            " #   Column                     Non-Null Count  Dtype  \n",
            "---  ------                     --------------  -----  \n",
            " 0   activate                   25862 non-null  float64\n",
            " 1   reservations_count         25862 non-null  float64\n",
            " 2   light                      25862 non-null  float64\n",
            " 3   total_bases                25862 non-null  float64\n",
            " 4   free_bases                 25862 non-null  float64\n",
            " 5   longitude                  25862 non-null  float64\n",
            " 6   no_available               25862 non-null  float64\n",
            " 7   latitude                   25862 non-null  float64\n",
            " 8   dock_bikes                 25862 non-null  int64  \n",
            " 9   time                       25862 non-null  float64\n",
            " 10  holidays                   25862 non-null  int64  \n",
            " 11  datetime                   25862 non-null  object \n",
            " 12  feels_like                 25862 non-null  float64\n",
            " 13  hour_sin                   25862 non-null  float64\n",
            " 14  hour_cos                   25862 non-null  float64\n",
            " 15  weekday_sin                25862 non-null  float64\n",
            " 16  weekday_cos                25862 non-null  float64\n",
            " 17  month_sin                  25862 non-null  float64\n",
            " 18  month_cos                  25862 non-null  float64\n",
            " 19  year_2018                  25862 non-null  float64\n",
            " 20  year_2019                  25862 non-null  float64\n",
            " 21  year_2020                  25862 non-null  float64\n",
            " 22  year_2021                  25862 non-null  float64\n",
            " 23  month_1                    25862 non-null  float64\n",
            " 24  month_2                    25862 non-null  float64\n",
            " 25  month_3                    25862 non-null  float64\n",
            " 26  month_4                    25862 non-null  float64\n",
            " 27  month_5                    25862 non-null  float64\n",
            " 28  month_6                    25862 non-null  float64\n",
            " 29  month_7                    25862 non-null  float64\n",
            " 30  month_8                    25862 non-null  float64\n",
            " 31  month_9                    25862 non-null  float64\n",
            " 32  month_10                   25862 non-null  float64\n",
            " 33  month_11                   25862 non-null  float64\n",
            " 34  month_12                   25862 non-null  float64\n",
            " 35  weekday_0                  25862 non-null  float64\n",
            " 36  weekday_1                  25862 non-null  float64\n",
            " 37  weekday_2                  25862 non-null  float64\n",
            " 38  weekday_3                  25862 non-null  float64\n",
            " 39  weekday_4                  25862 non-null  float64\n",
            " 40  weekday_5                  25862 non-null  float64\n",
            " 41  weekday_6                  25862 non-null  float64\n",
            " 42  weather_main_Clear         25862 non-null  float64\n",
            " 43  weather_main_Clouds        25862 non-null  float64\n",
            " 44  weather_main_Drizzle       25862 non-null  float64\n",
            " 45  weather_main_Fog           25862 non-null  float64\n",
            " 46  weather_main_Haze          25862 non-null  float64\n",
            " 47  weather_main_Mist          25862 non-null  float64\n",
            " 48  weather_main_Rain          25862 non-null  float64\n",
            " 49  weather_main_Smoke         25862 non-null  float64\n",
            " 50  weather_main_Snow          25862 non-null  float64\n",
            " 51  weather_main_Squall        25862 non-null  float64\n",
            " 52  weather_main_Thunderstorm  25862 non-null  float64\n",
            "dtypes: float64(50), int64(2), object(1)\n",
            "memory usage: 10.5+ MB\n"
          ]
        }
      ],
      "source": [
        "temp_model.info()"
      ]
    },
    {
      "cell_type": "code",
      "source": [
        "temp_model['datetime'] = temp_model['datetime'].apply(lambda x: x[0:10]+' '+x[10:]+':00')"
      ],
      "metadata": {
        "id": "93R_a9OR5FJJ"
      },
      "id": "93R_a9OR5FJJ",
      "execution_count": 62,
      "outputs": []
    },
    {
      "cell_type": "code",
      "source": [],
      "metadata": {
        "id": "Dn8A1JEZ5IZh"
      },
      "id": "Dn8A1JEZ5IZh",
      "execution_count": 62,
      "outputs": []
    },
    {
      "cell_type": "code",
      "source": [
        "temp_model['datetime']=pd.to_datetime(temp_model['datetime'], format='%Y-%m-%d %H:%M:%S')"
      ],
      "metadata": {
        "id": "ARZR9M1m5uxu"
      },
      "id": "ARZR9M1m5uxu",
      "execution_count": 63,
      "outputs": []
    },
    {
      "cell_type": "code",
      "source": [
        "temp_model = temp_model.set_index('datetime')"
      ],
      "metadata": {
        "id": "VNnKO3LI50AU"
      },
      "id": "VNnKO3LI50AU",
      "execution_count": 64,
      "outputs": []
    },
    {
      "cell_type": "code",
      "source": [
        "temp_model.sort_values(by='datetime')"
      ],
      "metadata": {
        "colab": {
          "base_uri": "https://localhost:8080/",
          "height": 866
        },
        "id": "NQcFeXOo6BuK",
        "outputId": "658847b5-dbda-4ec8-ab25-3754ecf3b336"
      },
      "id": "NQcFeXOo6BuK",
      "execution_count": 65,
      "outputs": [
        {
          "output_type": "execute_result",
          "data": {
            "text/plain": [
              "                     activate  reservations_count     light  total_bases  \\\n",
              "datetime                                                                   \n",
              "2018-08-01 00:00:00       0.0           -0.218666  0.704880    -1.090797   \n",
              "2018-08-01 01:00:00       0.0           -0.218666 -1.195028    -1.090797   \n",
              "2018-08-01 02:00:00       0.0           -0.218666  0.704880    -1.090797   \n",
              "2018-08-01 03:00:00       0.0           -0.218666 -1.195028    -1.090797   \n",
              "2018-08-01 04:00:00       0.0           -0.218666 -1.195028    -1.090797   \n",
              "...                       ...                 ...       ...          ...   \n",
              "2021-06-30 19:00:00       0.0            3.789224 -1.195028     0.916760   \n",
              "2021-06-30 20:00:00       0.0           -0.218666 -1.195028     0.916760   \n",
              "2021-06-30 21:00:00       0.0           -0.218666 -1.195028     0.916760   \n",
              "2021-06-30 22:00:00       0.0           -0.218666 -1.195028     0.916760   \n",
              "2021-06-30 23:00:00       0.0           -0.218666 -1.195028     0.916760   \n",
              "\n",
              "                     free_bases  longitude  no_available  latitude  \\\n",
              "datetime                                                             \n",
              "2018-08-01 00:00:00   -0.245789  -1.083199     -0.352407 -1.074382   \n",
              "2018-08-01 01:00:00    0.603942  -1.083199     -0.352407 -1.074382   \n",
              "2018-08-01 02:00:00   -0.003009  -1.083199     -0.352407 -1.074382   \n",
              "2018-08-01 03:00:00    0.482552  -1.083199     -0.352407 -1.074382   \n",
              "2018-08-01 04:00:00    1.089502  -1.083199     -0.352407 -1.074382   \n",
              "...                         ...        ...           ...       ...   \n",
              "2021-06-30 19:00:00    0.968112   0.861520     -0.352407  1.047365   \n",
              "2021-06-30 20:00:00    1.089502   0.861520     -0.352407  1.047365   \n",
              "2021-06-30 21:00:00    0.968112   0.861520     -0.352407  1.047365   \n",
              "2021-06-30 22:00:00    1.332282   0.861520     -0.352407  1.047365   \n",
              "2021-06-30 23:00:00    1.575062   0.861520     -0.352407  1.047365   \n",
              "\n",
              "                     dock_bikes      time  ...  weather_main_Clouds  \\\n",
              "datetime                                   ...                        \n",
              "2018-08-01 00:00:00          11 -1.659847  ...                  0.0   \n",
              "2018-08-01 01:00:00           4 -1.515481  ...                  0.0   \n",
              "2018-08-01 02:00:00          10 -1.371115  ...                  0.0   \n",
              "2018-08-01 03:00:00           4 -1.226749  ...                  0.0   \n",
              "2018-08-01 04:00:00           0 -1.082383  ...                  0.0   \n",
              "...                         ...       ...  ...                  ...   \n",
              "2021-06-30 19:00:00           3  1.083109  ...                  0.0   \n",
              "2021-06-30 20:00:00           3  1.227475  ...                  0.0   \n",
              "2021-06-30 21:00:00           4  1.371841  ...                  0.0   \n",
              "2021-06-30 22:00:00           2  1.516207  ...                  0.0   \n",
              "2021-06-30 23:00:00           1  1.660573  ...                  0.0   \n",
              "\n",
              "                     weather_main_Drizzle  weather_main_Fog  \\\n",
              "datetime                                                      \n",
              "2018-08-01 00:00:00                   0.0               0.0   \n",
              "2018-08-01 01:00:00                   0.0               0.0   \n",
              "2018-08-01 02:00:00                   0.0               0.0   \n",
              "2018-08-01 03:00:00                   0.0               0.0   \n",
              "2018-08-01 04:00:00                   0.0               0.0   \n",
              "...                                   ...               ...   \n",
              "2021-06-30 19:00:00                   0.0               0.0   \n",
              "2021-06-30 20:00:00                   0.0               0.0   \n",
              "2021-06-30 21:00:00                   0.0               0.0   \n",
              "2021-06-30 22:00:00                   0.0               0.0   \n",
              "2021-06-30 23:00:00                   0.0               0.0   \n",
              "\n",
              "                     weather_main_Haze  weather_main_Mist  weather_main_Rain  \\\n",
              "datetime                                                                       \n",
              "2018-08-01 00:00:00                0.0                0.0                0.0   \n",
              "2018-08-01 01:00:00                0.0                0.0                0.0   \n",
              "2018-08-01 02:00:00                0.0                0.0                0.0   \n",
              "2018-08-01 03:00:00                0.0                0.0                0.0   \n",
              "2018-08-01 04:00:00                0.0                0.0                0.0   \n",
              "...                                ...                ...                ...   \n",
              "2021-06-30 19:00:00                0.0                0.0                0.0   \n",
              "2021-06-30 20:00:00                0.0                0.0                0.0   \n",
              "2021-06-30 21:00:00                0.0                0.0                0.0   \n",
              "2021-06-30 22:00:00                0.0                0.0                0.0   \n",
              "2021-06-30 23:00:00                0.0                0.0                0.0   \n",
              "\n",
              "                     weather_main_Smoke  weather_main_Snow  \\\n",
              "datetime                                                     \n",
              "2018-08-01 00:00:00                 0.0                0.0   \n",
              "2018-08-01 01:00:00                 0.0                0.0   \n",
              "2018-08-01 02:00:00                 0.0                0.0   \n",
              "2018-08-01 03:00:00                 0.0                0.0   \n",
              "2018-08-01 04:00:00                 0.0                0.0   \n",
              "...                                 ...                ...   \n",
              "2021-06-30 19:00:00                 0.0                0.0   \n",
              "2021-06-30 20:00:00                 0.0                0.0   \n",
              "2021-06-30 21:00:00                 0.0                0.0   \n",
              "2021-06-30 22:00:00                 0.0                0.0   \n",
              "2021-06-30 23:00:00                 0.0                0.0   \n",
              "\n",
              "                     weather_main_Squall  weather_main_Thunderstorm  \n",
              "datetime                                                             \n",
              "2018-08-01 00:00:00                  0.0                        0.0  \n",
              "2018-08-01 01:00:00                  0.0                        0.0  \n",
              "2018-08-01 02:00:00                  0.0                        0.0  \n",
              "2018-08-01 03:00:00                  0.0                        0.0  \n",
              "2018-08-01 04:00:00                  0.0                        0.0  \n",
              "...                                  ...                        ...  \n",
              "2021-06-30 19:00:00                  0.0                        0.0  \n",
              "2021-06-30 20:00:00                  0.0                        0.0  \n",
              "2021-06-30 21:00:00                  0.0                        0.0  \n",
              "2021-06-30 22:00:00                  0.0                        0.0  \n",
              "2021-06-30 23:00:00                  0.0                        0.0  \n",
              "\n",
              "[25862 rows x 52 columns]"
            ],
            "text/html": [
              "\n",
              "  <div id=\"df-a4708c6d-2681-4e81-845e-57633ef76da3\">\n",
              "    <div class=\"colab-df-container\">\n",
              "      <div>\n",
              "<style scoped>\n",
              "    .dataframe tbody tr th:only-of-type {\n",
              "        vertical-align: middle;\n",
              "    }\n",
              "\n",
              "    .dataframe tbody tr th {\n",
              "        vertical-align: top;\n",
              "    }\n",
              "\n",
              "    .dataframe thead th {\n",
              "        text-align: right;\n",
              "    }\n",
              "</style>\n",
              "<table border=\"1\" class=\"dataframe\">\n",
              "  <thead>\n",
              "    <tr style=\"text-align: right;\">\n",
              "      <th></th>\n",
              "      <th>activate</th>\n",
              "      <th>reservations_count</th>\n",
              "      <th>light</th>\n",
              "      <th>total_bases</th>\n",
              "      <th>free_bases</th>\n",
              "      <th>longitude</th>\n",
              "      <th>no_available</th>\n",
              "      <th>latitude</th>\n",
              "      <th>dock_bikes</th>\n",
              "      <th>time</th>\n",
              "      <th>...</th>\n",
              "      <th>weather_main_Clouds</th>\n",
              "      <th>weather_main_Drizzle</th>\n",
              "      <th>weather_main_Fog</th>\n",
              "      <th>weather_main_Haze</th>\n",
              "      <th>weather_main_Mist</th>\n",
              "      <th>weather_main_Rain</th>\n",
              "      <th>weather_main_Smoke</th>\n",
              "      <th>weather_main_Snow</th>\n",
              "      <th>weather_main_Squall</th>\n",
              "      <th>weather_main_Thunderstorm</th>\n",
              "    </tr>\n",
              "    <tr>\n",
              "      <th>datetime</th>\n",
              "      <th></th>\n",
              "      <th></th>\n",
              "      <th></th>\n",
              "      <th></th>\n",
              "      <th></th>\n",
              "      <th></th>\n",
              "      <th></th>\n",
              "      <th></th>\n",
              "      <th></th>\n",
              "      <th></th>\n",
              "      <th></th>\n",
              "      <th></th>\n",
              "      <th></th>\n",
              "      <th></th>\n",
              "      <th></th>\n",
              "      <th></th>\n",
              "      <th></th>\n",
              "      <th></th>\n",
              "      <th></th>\n",
              "      <th></th>\n",
              "      <th></th>\n",
              "    </tr>\n",
              "  </thead>\n",
              "  <tbody>\n",
              "    <tr>\n",
              "      <th>2018-08-01 00:00:00</th>\n",
              "      <td>0.0</td>\n",
              "      <td>-0.218666</td>\n",
              "      <td>0.704880</td>\n",
              "      <td>-1.090797</td>\n",
              "      <td>-0.245789</td>\n",
              "      <td>-1.083199</td>\n",
              "      <td>-0.352407</td>\n",
              "      <td>-1.074382</td>\n",
              "      <td>11</td>\n",
              "      <td>-1.659847</td>\n",
              "      <td>...</td>\n",
              "      <td>0.0</td>\n",
              "      <td>0.0</td>\n",
              "      <td>0.0</td>\n",
              "      <td>0.0</td>\n",
              "      <td>0.0</td>\n",
              "      <td>0.0</td>\n",
              "      <td>0.0</td>\n",
              "      <td>0.0</td>\n",
              "      <td>0.0</td>\n",
              "      <td>0.0</td>\n",
              "    </tr>\n",
              "    <tr>\n",
              "      <th>2018-08-01 01:00:00</th>\n",
              "      <td>0.0</td>\n",
              "      <td>-0.218666</td>\n",
              "      <td>-1.195028</td>\n",
              "      <td>-1.090797</td>\n",
              "      <td>0.603942</td>\n",
              "      <td>-1.083199</td>\n",
              "      <td>-0.352407</td>\n",
              "      <td>-1.074382</td>\n",
              "      <td>4</td>\n",
              "      <td>-1.515481</td>\n",
              "      <td>...</td>\n",
              "      <td>0.0</td>\n",
              "      <td>0.0</td>\n",
              "      <td>0.0</td>\n",
              "      <td>0.0</td>\n",
              "      <td>0.0</td>\n",
              "      <td>0.0</td>\n",
              "      <td>0.0</td>\n",
              "      <td>0.0</td>\n",
              "      <td>0.0</td>\n",
              "      <td>0.0</td>\n",
              "    </tr>\n",
              "    <tr>\n",
              "      <th>2018-08-01 02:00:00</th>\n",
              "      <td>0.0</td>\n",
              "      <td>-0.218666</td>\n",
              "      <td>0.704880</td>\n",
              "      <td>-1.090797</td>\n",
              "      <td>-0.003009</td>\n",
              "      <td>-1.083199</td>\n",
              "      <td>-0.352407</td>\n",
              "      <td>-1.074382</td>\n",
              "      <td>10</td>\n",
              "      <td>-1.371115</td>\n",
              "      <td>...</td>\n",
              "      <td>0.0</td>\n",
              "      <td>0.0</td>\n",
              "      <td>0.0</td>\n",
              "      <td>0.0</td>\n",
              "      <td>0.0</td>\n",
              "      <td>0.0</td>\n",
              "      <td>0.0</td>\n",
              "      <td>0.0</td>\n",
              "      <td>0.0</td>\n",
              "      <td>0.0</td>\n",
              "    </tr>\n",
              "    <tr>\n",
              "      <th>2018-08-01 03:00:00</th>\n",
              "      <td>0.0</td>\n",
              "      <td>-0.218666</td>\n",
              "      <td>-1.195028</td>\n",
              "      <td>-1.090797</td>\n",
              "      <td>0.482552</td>\n",
              "      <td>-1.083199</td>\n",
              "      <td>-0.352407</td>\n",
              "      <td>-1.074382</td>\n",
              "      <td>4</td>\n",
              "      <td>-1.226749</td>\n",
              "      <td>...</td>\n",
              "      <td>0.0</td>\n",
              "      <td>0.0</td>\n",
              "      <td>0.0</td>\n",
              "      <td>0.0</td>\n",
              "      <td>0.0</td>\n",
              "      <td>0.0</td>\n",
              "      <td>0.0</td>\n",
              "      <td>0.0</td>\n",
              "      <td>0.0</td>\n",
              "      <td>0.0</td>\n",
              "    </tr>\n",
              "    <tr>\n",
              "      <th>2018-08-01 04:00:00</th>\n",
              "      <td>0.0</td>\n",
              "      <td>-0.218666</td>\n",
              "      <td>-1.195028</td>\n",
              "      <td>-1.090797</td>\n",
              "      <td>1.089502</td>\n",
              "      <td>-1.083199</td>\n",
              "      <td>-0.352407</td>\n",
              "      <td>-1.074382</td>\n",
              "      <td>0</td>\n",
              "      <td>-1.082383</td>\n",
              "      <td>...</td>\n",
              "      <td>0.0</td>\n",
              "      <td>0.0</td>\n",
              "      <td>0.0</td>\n",
              "      <td>0.0</td>\n",
              "      <td>0.0</td>\n",
              "      <td>0.0</td>\n",
              "      <td>0.0</td>\n",
              "      <td>0.0</td>\n",
              "      <td>0.0</td>\n",
              "      <td>0.0</td>\n",
              "    </tr>\n",
              "    <tr>\n",
              "      <th>...</th>\n",
              "      <td>...</td>\n",
              "      <td>...</td>\n",
              "      <td>...</td>\n",
              "      <td>...</td>\n",
              "      <td>...</td>\n",
              "      <td>...</td>\n",
              "      <td>...</td>\n",
              "      <td>...</td>\n",
              "      <td>...</td>\n",
              "      <td>...</td>\n",
              "      <td>...</td>\n",
              "      <td>...</td>\n",
              "      <td>...</td>\n",
              "      <td>...</td>\n",
              "      <td>...</td>\n",
              "      <td>...</td>\n",
              "      <td>...</td>\n",
              "      <td>...</td>\n",
              "      <td>...</td>\n",
              "      <td>...</td>\n",
              "      <td>...</td>\n",
              "    </tr>\n",
              "    <tr>\n",
              "      <th>2021-06-30 19:00:00</th>\n",
              "      <td>0.0</td>\n",
              "      <td>3.789224</td>\n",
              "      <td>-1.195028</td>\n",
              "      <td>0.916760</td>\n",
              "      <td>0.968112</td>\n",
              "      <td>0.861520</td>\n",
              "      <td>-0.352407</td>\n",
              "      <td>1.047365</td>\n",
              "      <td>3</td>\n",
              "      <td>1.083109</td>\n",
              "      <td>...</td>\n",
              "      <td>0.0</td>\n",
              "      <td>0.0</td>\n",
              "      <td>0.0</td>\n",
              "      <td>0.0</td>\n",
              "      <td>0.0</td>\n",
              "      <td>0.0</td>\n",
              "      <td>0.0</td>\n",
              "      <td>0.0</td>\n",
              "      <td>0.0</td>\n",
              "      <td>0.0</td>\n",
              "    </tr>\n",
              "    <tr>\n",
              "      <th>2021-06-30 20:00:00</th>\n",
              "      <td>0.0</td>\n",
              "      <td>-0.218666</td>\n",
              "      <td>-1.195028</td>\n",
              "      <td>0.916760</td>\n",
              "      <td>1.089502</td>\n",
              "      <td>0.861520</td>\n",
              "      <td>-0.352407</td>\n",
              "      <td>1.047365</td>\n",
              "      <td>3</td>\n",
              "      <td>1.227475</td>\n",
              "      <td>...</td>\n",
              "      <td>0.0</td>\n",
              "      <td>0.0</td>\n",
              "      <td>0.0</td>\n",
              "      <td>0.0</td>\n",
              "      <td>0.0</td>\n",
              "      <td>0.0</td>\n",
              "      <td>0.0</td>\n",
              "      <td>0.0</td>\n",
              "      <td>0.0</td>\n",
              "      <td>0.0</td>\n",
              "    </tr>\n",
              "    <tr>\n",
              "      <th>2021-06-30 21:00:00</th>\n",
              "      <td>0.0</td>\n",
              "      <td>-0.218666</td>\n",
              "      <td>-1.195028</td>\n",
              "      <td>0.916760</td>\n",
              "      <td>0.968112</td>\n",
              "      <td>0.861520</td>\n",
              "      <td>-0.352407</td>\n",
              "      <td>1.047365</td>\n",
              "      <td>4</td>\n",
              "      <td>1.371841</td>\n",
              "      <td>...</td>\n",
              "      <td>0.0</td>\n",
              "      <td>0.0</td>\n",
              "      <td>0.0</td>\n",
              "      <td>0.0</td>\n",
              "      <td>0.0</td>\n",
              "      <td>0.0</td>\n",
              "      <td>0.0</td>\n",
              "      <td>0.0</td>\n",
              "      <td>0.0</td>\n",
              "      <td>0.0</td>\n",
              "    </tr>\n",
              "    <tr>\n",
              "      <th>2021-06-30 22:00:00</th>\n",
              "      <td>0.0</td>\n",
              "      <td>-0.218666</td>\n",
              "      <td>-1.195028</td>\n",
              "      <td>0.916760</td>\n",
              "      <td>1.332282</td>\n",
              "      <td>0.861520</td>\n",
              "      <td>-0.352407</td>\n",
              "      <td>1.047365</td>\n",
              "      <td>2</td>\n",
              "      <td>1.516207</td>\n",
              "      <td>...</td>\n",
              "      <td>0.0</td>\n",
              "      <td>0.0</td>\n",
              "      <td>0.0</td>\n",
              "      <td>0.0</td>\n",
              "      <td>0.0</td>\n",
              "      <td>0.0</td>\n",
              "      <td>0.0</td>\n",
              "      <td>0.0</td>\n",
              "      <td>0.0</td>\n",
              "      <td>0.0</td>\n",
              "    </tr>\n",
              "    <tr>\n",
              "      <th>2021-06-30 23:00:00</th>\n",
              "      <td>0.0</td>\n",
              "      <td>-0.218666</td>\n",
              "      <td>-1.195028</td>\n",
              "      <td>0.916760</td>\n",
              "      <td>1.575062</td>\n",
              "      <td>0.861520</td>\n",
              "      <td>-0.352407</td>\n",
              "      <td>1.047365</td>\n",
              "      <td>1</td>\n",
              "      <td>1.660573</td>\n",
              "      <td>...</td>\n",
              "      <td>0.0</td>\n",
              "      <td>0.0</td>\n",
              "      <td>0.0</td>\n",
              "      <td>0.0</td>\n",
              "      <td>0.0</td>\n",
              "      <td>0.0</td>\n",
              "      <td>0.0</td>\n",
              "      <td>0.0</td>\n",
              "      <td>0.0</td>\n",
              "      <td>0.0</td>\n",
              "    </tr>\n",
              "  </tbody>\n",
              "</table>\n",
              "<p>25862 rows × 52 columns</p>\n",
              "</div>\n",
              "      <button class=\"colab-df-convert\" onclick=\"convertToInteractive('df-a4708c6d-2681-4e81-845e-57633ef76da3')\"\n",
              "              title=\"Convert this dataframe to an interactive table.\"\n",
              "              style=\"display:none;\">\n",
              "        \n",
              "  <svg xmlns=\"http://www.w3.org/2000/svg\" height=\"24px\"viewBox=\"0 0 24 24\"\n",
              "       width=\"24px\">\n",
              "    <path d=\"M0 0h24v24H0V0z\" fill=\"none\"/>\n",
              "    <path d=\"M18.56 5.44l.94 2.06.94-2.06 2.06-.94-2.06-.94-.94-2.06-.94 2.06-2.06.94zm-11 1L8.5 8.5l.94-2.06 2.06-.94-2.06-.94L8.5 2.5l-.94 2.06-2.06.94zm10 10l.94 2.06.94-2.06 2.06-.94-2.06-.94-.94-2.06-.94 2.06-2.06.94z\"/><path d=\"M17.41 7.96l-1.37-1.37c-.4-.4-.92-.59-1.43-.59-.52 0-1.04.2-1.43.59L10.3 9.45l-7.72 7.72c-.78.78-.78 2.05 0 2.83L4 21.41c.39.39.9.59 1.41.59.51 0 1.02-.2 1.41-.59l7.78-7.78 2.81-2.81c.8-.78.8-2.07 0-2.86zM5.41 20L4 18.59l7.72-7.72 1.47 1.35L5.41 20z\"/>\n",
              "  </svg>\n",
              "      </button>\n",
              "      \n",
              "  <style>\n",
              "    .colab-df-container {\n",
              "      display:flex;\n",
              "      flex-wrap:wrap;\n",
              "      gap: 12px;\n",
              "    }\n",
              "\n",
              "    .colab-df-convert {\n",
              "      background-color: #E8F0FE;\n",
              "      border: none;\n",
              "      border-radius: 50%;\n",
              "      cursor: pointer;\n",
              "      display: none;\n",
              "      fill: #1967D2;\n",
              "      height: 32px;\n",
              "      padding: 0 0 0 0;\n",
              "      width: 32px;\n",
              "    }\n",
              "\n",
              "    .colab-df-convert:hover {\n",
              "      background-color: #E2EBFA;\n",
              "      box-shadow: 0px 1px 2px rgba(60, 64, 67, 0.3), 0px 1px 3px 1px rgba(60, 64, 67, 0.15);\n",
              "      fill: #174EA6;\n",
              "    }\n",
              "\n",
              "    [theme=dark] .colab-df-convert {\n",
              "      background-color: #3B4455;\n",
              "      fill: #D2E3FC;\n",
              "    }\n",
              "\n",
              "    [theme=dark] .colab-df-convert:hover {\n",
              "      background-color: #434B5C;\n",
              "      box-shadow: 0px 1px 3px 1px rgba(0, 0, 0, 0.15);\n",
              "      filter: drop-shadow(0px 1px 2px rgba(0, 0, 0, 0.3));\n",
              "      fill: #FFFFFF;\n",
              "    }\n",
              "  </style>\n",
              "\n",
              "      <script>\n",
              "        const buttonEl =\n",
              "          document.querySelector('#df-a4708c6d-2681-4e81-845e-57633ef76da3 button.colab-df-convert');\n",
              "        buttonEl.style.display =\n",
              "          google.colab.kernel.accessAllowed ? 'block' : 'none';\n",
              "\n",
              "        async function convertToInteractive(key) {\n",
              "          const element = document.querySelector('#df-a4708c6d-2681-4e81-845e-57633ef76da3');\n",
              "          const dataTable =\n",
              "            await google.colab.kernel.invokeFunction('convertToInteractive',\n",
              "                                                     [key], {});\n",
              "          if (!dataTable) return;\n",
              "\n",
              "          const docLinkHtml = 'Like what you see? Visit the ' +\n",
              "            '<a target=\"_blank\" href=https://colab.research.google.com/notebooks/data_table.ipynb>data table notebook</a>'\n",
              "            + ' to learn more about interactive tables.';\n",
              "          element.innerHTML = '';\n",
              "          dataTable['output_type'] = 'display_data';\n",
              "          await google.colab.output.renderOutput(dataTable, element);\n",
              "          const docLink = document.createElement('div');\n",
              "          docLink.innerHTML = docLinkHtml;\n",
              "          element.appendChild(docLink);\n",
              "        }\n",
              "      </script>\n",
              "    </div>\n",
              "  </div>\n",
              "  "
            ]
          },
          "metadata": {},
          "execution_count": 65
        }
      ]
    },
    {
      "cell_type": "code",
      "source": [
        "temp_model"
      ],
      "metadata": {
        "colab": {
          "base_uri": "https://localhost:8080/",
          "height": 866
        },
        "id": "XTpen-rL6NRK",
        "outputId": "a771b800-8da2-43ad-bedf-2dcbf4cb536b"
      },
      "id": "XTpen-rL6NRK",
      "execution_count": 66,
      "outputs": [
        {
          "output_type": "execute_result",
          "data": {
            "text/plain": [
              "                     activate  reservations_count     light  total_bases  \\\n",
              "datetime                                                                   \n",
              "2018-08-01 00:00:00       0.0           -0.218666  0.704880    -1.090797   \n",
              "2018-08-01 01:00:00       0.0           -0.218666 -1.195028    -1.090797   \n",
              "2018-08-01 02:00:00       0.0           -0.218666  0.704880    -1.090797   \n",
              "2018-08-01 03:00:00       0.0           -0.218666 -1.195028    -1.090797   \n",
              "2018-08-01 04:00:00       0.0           -0.218666 -1.195028    -1.090797   \n",
              "...                       ...                 ...       ...          ...   \n",
              "2021-06-30 19:00:00       0.0            3.789224 -1.195028     0.916760   \n",
              "2021-06-30 20:00:00       0.0           -0.218666 -1.195028     0.916760   \n",
              "2021-06-30 21:00:00       0.0           -0.218666 -1.195028     0.916760   \n",
              "2021-06-30 22:00:00       0.0           -0.218666 -1.195028     0.916760   \n",
              "2021-06-30 23:00:00       0.0           -0.218666 -1.195028     0.916760   \n",
              "\n",
              "                     free_bases  longitude  no_available  latitude  \\\n",
              "datetime                                                             \n",
              "2018-08-01 00:00:00   -0.245789  -1.083199     -0.352407 -1.074382   \n",
              "2018-08-01 01:00:00    0.603942  -1.083199     -0.352407 -1.074382   \n",
              "2018-08-01 02:00:00   -0.003009  -1.083199     -0.352407 -1.074382   \n",
              "2018-08-01 03:00:00    0.482552  -1.083199     -0.352407 -1.074382   \n",
              "2018-08-01 04:00:00    1.089502  -1.083199     -0.352407 -1.074382   \n",
              "...                         ...        ...           ...       ...   \n",
              "2021-06-30 19:00:00    0.968112   0.861520     -0.352407  1.047365   \n",
              "2021-06-30 20:00:00    1.089502   0.861520     -0.352407  1.047365   \n",
              "2021-06-30 21:00:00    0.968112   0.861520     -0.352407  1.047365   \n",
              "2021-06-30 22:00:00    1.332282   0.861520     -0.352407  1.047365   \n",
              "2021-06-30 23:00:00    1.575062   0.861520     -0.352407  1.047365   \n",
              "\n",
              "                     dock_bikes      time  ...  weather_main_Clouds  \\\n",
              "datetime                                   ...                        \n",
              "2018-08-01 00:00:00          11 -1.659847  ...                  0.0   \n",
              "2018-08-01 01:00:00           4 -1.515481  ...                  0.0   \n",
              "2018-08-01 02:00:00          10 -1.371115  ...                  0.0   \n",
              "2018-08-01 03:00:00           4 -1.226749  ...                  0.0   \n",
              "2018-08-01 04:00:00           0 -1.082383  ...                  0.0   \n",
              "...                         ...       ...  ...                  ...   \n",
              "2021-06-30 19:00:00           3  1.083109  ...                  0.0   \n",
              "2021-06-30 20:00:00           3  1.227475  ...                  0.0   \n",
              "2021-06-30 21:00:00           4  1.371841  ...                  0.0   \n",
              "2021-06-30 22:00:00           2  1.516207  ...                  0.0   \n",
              "2021-06-30 23:00:00           1  1.660573  ...                  0.0   \n",
              "\n",
              "                     weather_main_Drizzle  weather_main_Fog  \\\n",
              "datetime                                                      \n",
              "2018-08-01 00:00:00                   0.0               0.0   \n",
              "2018-08-01 01:00:00                   0.0               0.0   \n",
              "2018-08-01 02:00:00                   0.0               0.0   \n",
              "2018-08-01 03:00:00                   0.0               0.0   \n",
              "2018-08-01 04:00:00                   0.0               0.0   \n",
              "...                                   ...               ...   \n",
              "2021-06-30 19:00:00                   0.0               0.0   \n",
              "2021-06-30 20:00:00                   0.0               0.0   \n",
              "2021-06-30 21:00:00                   0.0               0.0   \n",
              "2021-06-30 22:00:00                   0.0               0.0   \n",
              "2021-06-30 23:00:00                   0.0               0.0   \n",
              "\n",
              "                     weather_main_Haze  weather_main_Mist  weather_main_Rain  \\\n",
              "datetime                                                                       \n",
              "2018-08-01 00:00:00                0.0                0.0                0.0   \n",
              "2018-08-01 01:00:00                0.0                0.0                0.0   \n",
              "2018-08-01 02:00:00                0.0                0.0                0.0   \n",
              "2018-08-01 03:00:00                0.0                0.0                0.0   \n",
              "2018-08-01 04:00:00                0.0                0.0                0.0   \n",
              "...                                ...                ...                ...   \n",
              "2021-06-30 19:00:00                0.0                0.0                0.0   \n",
              "2021-06-30 20:00:00                0.0                0.0                0.0   \n",
              "2021-06-30 21:00:00                0.0                0.0                0.0   \n",
              "2021-06-30 22:00:00                0.0                0.0                0.0   \n",
              "2021-06-30 23:00:00                0.0                0.0                0.0   \n",
              "\n",
              "                     weather_main_Smoke  weather_main_Snow  \\\n",
              "datetime                                                     \n",
              "2018-08-01 00:00:00                 0.0                0.0   \n",
              "2018-08-01 01:00:00                 0.0                0.0   \n",
              "2018-08-01 02:00:00                 0.0                0.0   \n",
              "2018-08-01 03:00:00                 0.0                0.0   \n",
              "2018-08-01 04:00:00                 0.0                0.0   \n",
              "...                                 ...                ...   \n",
              "2021-06-30 19:00:00                 0.0                0.0   \n",
              "2021-06-30 20:00:00                 0.0                0.0   \n",
              "2021-06-30 21:00:00                 0.0                0.0   \n",
              "2021-06-30 22:00:00                 0.0                0.0   \n",
              "2021-06-30 23:00:00                 0.0                0.0   \n",
              "\n",
              "                     weather_main_Squall  weather_main_Thunderstorm  \n",
              "datetime                                                             \n",
              "2018-08-01 00:00:00                  0.0                        0.0  \n",
              "2018-08-01 01:00:00                  0.0                        0.0  \n",
              "2018-08-01 02:00:00                  0.0                        0.0  \n",
              "2018-08-01 03:00:00                  0.0                        0.0  \n",
              "2018-08-01 04:00:00                  0.0                        0.0  \n",
              "...                                  ...                        ...  \n",
              "2021-06-30 19:00:00                  0.0                        0.0  \n",
              "2021-06-30 20:00:00                  0.0                        0.0  \n",
              "2021-06-30 21:00:00                  0.0                        0.0  \n",
              "2021-06-30 22:00:00                  0.0                        0.0  \n",
              "2021-06-30 23:00:00                  0.0                        0.0  \n",
              "\n",
              "[25862 rows x 52 columns]"
            ],
            "text/html": [
              "\n",
              "  <div id=\"df-91ae6240-8062-474c-856f-39c54fbd5d40\">\n",
              "    <div class=\"colab-df-container\">\n",
              "      <div>\n",
              "<style scoped>\n",
              "    .dataframe tbody tr th:only-of-type {\n",
              "        vertical-align: middle;\n",
              "    }\n",
              "\n",
              "    .dataframe tbody tr th {\n",
              "        vertical-align: top;\n",
              "    }\n",
              "\n",
              "    .dataframe thead th {\n",
              "        text-align: right;\n",
              "    }\n",
              "</style>\n",
              "<table border=\"1\" class=\"dataframe\">\n",
              "  <thead>\n",
              "    <tr style=\"text-align: right;\">\n",
              "      <th></th>\n",
              "      <th>activate</th>\n",
              "      <th>reservations_count</th>\n",
              "      <th>light</th>\n",
              "      <th>total_bases</th>\n",
              "      <th>free_bases</th>\n",
              "      <th>longitude</th>\n",
              "      <th>no_available</th>\n",
              "      <th>latitude</th>\n",
              "      <th>dock_bikes</th>\n",
              "      <th>time</th>\n",
              "      <th>...</th>\n",
              "      <th>weather_main_Clouds</th>\n",
              "      <th>weather_main_Drizzle</th>\n",
              "      <th>weather_main_Fog</th>\n",
              "      <th>weather_main_Haze</th>\n",
              "      <th>weather_main_Mist</th>\n",
              "      <th>weather_main_Rain</th>\n",
              "      <th>weather_main_Smoke</th>\n",
              "      <th>weather_main_Snow</th>\n",
              "      <th>weather_main_Squall</th>\n",
              "      <th>weather_main_Thunderstorm</th>\n",
              "    </tr>\n",
              "    <tr>\n",
              "      <th>datetime</th>\n",
              "      <th></th>\n",
              "      <th></th>\n",
              "      <th></th>\n",
              "      <th></th>\n",
              "      <th></th>\n",
              "      <th></th>\n",
              "      <th></th>\n",
              "      <th></th>\n",
              "      <th></th>\n",
              "      <th></th>\n",
              "      <th></th>\n",
              "      <th></th>\n",
              "      <th></th>\n",
              "      <th></th>\n",
              "      <th></th>\n",
              "      <th></th>\n",
              "      <th></th>\n",
              "      <th></th>\n",
              "      <th></th>\n",
              "      <th></th>\n",
              "      <th></th>\n",
              "    </tr>\n",
              "  </thead>\n",
              "  <tbody>\n",
              "    <tr>\n",
              "      <th>2018-08-01 00:00:00</th>\n",
              "      <td>0.0</td>\n",
              "      <td>-0.218666</td>\n",
              "      <td>0.704880</td>\n",
              "      <td>-1.090797</td>\n",
              "      <td>-0.245789</td>\n",
              "      <td>-1.083199</td>\n",
              "      <td>-0.352407</td>\n",
              "      <td>-1.074382</td>\n",
              "      <td>11</td>\n",
              "      <td>-1.659847</td>\n",
              "      <td>...</td>\n",
              "      <td>0.0</td>\n",
              "      <td>0.0</td>\n",
              "      <td>0.0</td>\n",
              "      <td>0.0</td>\n",
              "      <td>0.0</td>\n",
              "      <td>0.0</td>\n",
              "      <td>0.0</td>\n",
              "      <td>0.0</td>\n",
              "      <td>0.0</td>\n",
              "      <td>0.0</td>\n",
              "    </tr>\n",
              "    <tr>\n",
              "      <th>2018-08-01 01:00:00</th>\n",
              "      <td>0.0</td>\n",
              "      <td>-0.218666</td>\n",
              "      <td>-1.195028</td>\n",
              "      <td>-1.090797</td>\n",
              "      <td>0.603942</td>\n",
              "      <td>-1.083199</td>\n",
              "      <td>-0.352407</td>\n",
              "      <td>-1.074382</td>\n",
              "      <td>4</td>\n",
              "      <td>-1.515481</td>\n",
              "      <td>...</td>\n",
              "      <td>0.0</td>\n",
              "      <td>0.0</td>\n",
              "      <td>0.0</td>\n",
              "      <td>0.0</td>\n",
              "      <td>0.0</td>\n",
              "      <td>0.0</td>\n",
              "      <td>0.0</td>\n",
              "      <td>0.0</td>\n",
              "      <td>0.0</td>\n",
              "      <td>0.0</td>\n",
              "    </tr>\n",
              "    <tr>\n",
              "      <th>2018-08-01 02:00:00</th>\n",
              "      <td>0.0</td>\n",
              "      <td>-0.218666</td>\n",
              "      <td>0.704880</td>\n",
              "      <td>-1.090797</td>\n",
              "      <td>-0.003009</td>\n",
              "      <td>-1.083199</td>\n",
              "      <td>-0.352407</td>\n",
              "      <td>-1.074382</td>\n",
              "      <td>10</td>\n",
              "      <td>-1.371115</td>\n",
              "      <td>...</td>\n",
              "      <td>0.0</td>\n",
              "      <td>0.0</td>\n",
              "      <td>0.0</td>\n",
              "      <td>0.0</td>\n",
              "      <td>0.0</td>\n",
              "      <td>0.0</td>\n",
              "      <td>0.0</td>\n",
              "      <td>0.0</td>\n",
              "      <td>0.0</td>\n",
              "      <td>0.0</td>\n",
              "    </tr>\n",
              "    <tr>\n",
              "      <th>2018-08-01 03:00:00</th>\n",
              "      <td>0.0</td>\n",
              "      <td>-0.218666</td>\n",
              "      <td>-1.195028</td>\n",
              "      <td>-1.090797</td>\n",
              "      <td>0.482552</td>\n",
              "      <td>-1.083199</td>\n",
              "      <td>-0.352407</td>\n",
              "      <td>-1.074382</td>\n",
              "      <td>4</td>\n",
              "      <td>-1.226749</td>\n",
              "      <td>...</td>\n",
              "      <td>0.0</td>\n",
              "      <td>0.0</td>\n",
              "      <td>0.0</td>\n",
              "      <td>0.0</td>\n",
              "      <td>0.0</td>\n",
              "      <td>0.0</td>\n",
              "      <td>0.0</td>\n",
              "      <td>0.0</td>\n",
              "      <td>0.0</td>\n",
              "      <td>0.0</td>\n",
              "    </tr>\n",
              "    <tr>\n",
              "      <th>2018-08-01 04:00:00</th>\n",
              "      <td>0.0</td>\n",
              "      <td>-0.218666</td>\n",
              "      <td>-1.195028</td>\n",
              "      <td>-1.090797</td>\n",
              "      <td>1.089502</td>\n",
              "      <td>-1.083199</td>\n",
              "      <td>-0.352407</td>\n",
              "      <td>-1.074382</td>\n",
              "      <td>0</td>\n",
              "      <td>-1.082383</td>\n",
              "      <td>...</td>\n",
              "      <td>0.0</td>\n",
              "      <td>0.0</td>\n",
              "      <td>0.0</td>\n",
              "      <td>0.0</td>\n",
              "      <td>0.0</td>\n",
              "      <td>0.0</td>\n",
              "      <td>0.0</td>\n",
              "      <td>0.0</td>\n",
              "      <td>0.0</td>\n",
              "      <td>0.0</td>\n",
              "    </tr>\n",
              "    <tr>\n",
              "      <th>...</th>\n",
              "      <td>...</td>\n",
              "      <td>...</td>\n",
              "      <td>...</td>\n",
              "      <td>...</td>\n",
              "      <td>...</td>\n",
              "      <td>...</td>\n",
              "      <td>...</td>\n",
              "      <td>...</td>\n",
              "      <td>...</td>\n",
              "      <td>...</td>\n",
              "      <td>...</td>\n",
              "      <td>...</td>\n",
              "      <td>...</td>\n",
              "      <td>...</td>\n",
              "      <td>...</td>\n",
              "      <td>...</td>\n",
              "      <td>...</td>\n",
              "      <td>...</td>\n",
              "      <td>...</td>\n",
              "      <td>...</td>\n",
              "      <td>...</td>\n",
              "    </tr>\n",
              "    <tr>\n",
              "      <th>2021-06-30 19:00:00</th>\n",
              "      <td>0.0</td>\n",
              "      <td>3.789224</td>\n",
              "      <td>-1.195028</td>\n",
              "      <td>0.916760</td>\n",
              "      <td>0.968112</td>\n",
              "      <td>0.861520</td>\n",
              "      <td>-0.352407</td>\n",
              "      <td>1.047365</td>\n",
              "      <td>3</td>\n",
              "      <td>1.083109</td>\n",
              "      <td>...</td>\n",
              "      <td>0.0</td>\n",
              "      <td>0.0</td>\n",
              "      <td>0.0</td>\n",
              "      <td>0.0</td>\n",
              "      <td>0.0</td>\n",
              "      <td>0.0</td>\n",
              "      <td>0.0</td>\n",
              "      <td>0.0</td>\n",
              "      <td>0.0</td>\n",
              "      <td>0.0</td>\n",
              "    </tr>\n",
              "    <tr>\n",
              "      <th>2021-06-30 20:00:00</th>\n",
              "      <td>0.0</td>\n",
              "      <td>-0.218666</td>\n",
              "      <td>-1.195028</td>\n",
              "      <td>0.916760</td>\n",
              "      <td>1.089502</td>\n",
              "      <td>0.861520</td>\n",
              "      <td>-0.352407</td>\n",
              "      <td>1.047365</td>\n",
              "      <td>3</td>\n",
              "      <td>1.227475</td>\n",
              "      <td>...</td>\n",
              "      <td>0.0</td>\n",
              "      <td>0.0</td>\n",
              "      <td>0.0</td>\n",
              "      <td>0.0</td>\n",
              "      <td>0.0</td>\n",
              "      <td>0.0</td>\n",
              "      <td>0.0</td>\n",
              "      <td>0.0</td>\n",
              "      <td>0.0</td>\n",
              "      <td>0.0</td>\n",
              "    </tr>\n",
              "    <tr>\n",
              "      <th>2021-06-30 21:00:00</th>\n",
              "      <td>0.0</td>\n",
              "      <td>-0.218666</td>\n",
              "      <td>-1.195028</td>\n",
              "      <td>0.916760</td>\n",
              "      <td>0.968112</td>\n",
              "      <td>0.861520</td>\n",
              "      <td>-0.352407</td>\n",
              "      <td>1.047365</td>\n",
              "      <td>4</td>\n",
              "      <td>1.371841</td>\n",
              "      <td>...</td>\n",
              "      <td>0.0</td>\n",
              "      <td>0.0</td>\n",
              "      <td>0.0</td>\n",
              "      <td>0.0</td>\n",
              "      <td>0.0</td>\n",
              "      <td>0.0</td>\n",
              "      <td>0.0</td>\n",
              "      <td>0.0</td>\n",
              "      <td>0.0</td>\n",
              "      <td>0.0</td>\n",
              "    </tr>\n",
              "    <tr>\n",
              "      <th>2021-06-30 22:00:00</th>\n",
              "      <td>0.0</td>\n",
              "      <td>-0.218666</td>\n",
              "      <td>-1.195028</td>\n",
              "      <td>0.916760</td>\n",
              "      <td>1.332282</td>\n",
              "      <td>0.861520</td>\n",
              "      <td>-0.352407</td>\n",
              "      <td>1.047365</td>\n",
              "      <td>2</td>\n",
              "      <td>1.516207</td>\n",
              "      <td>...</td>\n",
              "      <td>0.0</td>\n",
              "      <td>0.0</td>\n",
              "      <td>0.0</td>\n",
              "      <td>0.0</td>\n",
              "      <td>0.0</td>\n",
              "      <td>0.0</td>\n",
              "      <td>0.0</td>\n",
              "      <td>0.0</td>\n",
              "      <td>0.0</td>\n",
              "      <td>0.0</td>\n",
              "    </tr>\n",
              "    <tr>\n",
              "      <th>2021-06-30 23:00:00</th>\n",
              "      <td>0.0</td>\n",
              "      <td>-0.218666</td>\n",
              "      <td>-1.195028</td>\n",
              "      <td>0.916760</td>\n",
              "      <td>1.575062</td>\n",
              "      <td>0.861520</td>\n",
              "      <td>-0.352407</td>\n",
              "      <td>1.047365</td>\n",
              "      <td>1</td>\n",
              "      <td>1.660573</td>\n",
              "      <td>...</td>\n",
              "      <td>0.0</td>\n",
              "      <td>0.0</td>\n",
              "      <td>0.0</td>\n",
              "      <td>0.0</td>\n",
              "      <td>0.0</td>\n",
              "      <td>0.0</td>\n",
              "      <td>0.0</td>\n",
              "      <td>0.0</td>\n",
              "      <td>0.0</td>\n",
              "      <td>0.0</td>\n",
              "    </tr>\n",
              "  </tbody>\n",
              "</table>\n",
              "<p>25862 rows × 52 columns</p>\n",
              "</div>\n",
              "      <button class=\"colab-df-convert\" onclick=\"convertToInteractive('df-91ae6240-8062-474c-856f-39c54fbd5d40')\"\n",
              "              title=\"Convert this dataframe to an interactive table.\"\n",
              "              style=\"display:none;\">\n",
              "        \n",
              "  <svg xmlns=\"http://www.w3.org/2000/svg\" height=\"24px\"viewBox=\"0 0 24 24\"\n",
              "       width=\"24px\">\n",
              "    <path d=\"M0 0h24v24H0V0z\" fill=\"none\"/>\n",
              "    <path d=\"M18.56 5.44l.94 2.06.94-2.06 2.06-.94-2.06-.94-.94-2.06-.94 2.06-2.06.94zm-11 1L8.5 8.5l.94-2.06 2.06-.94-2.06-.94L8.5 2.5l-.94 2.06-2.06.94zm10 10l.94 2.06.94-2.06 2.06-.94-2.06-.94-.94-2.06-.94 2.06-2.06.94z\"/><path d=\"M17.41 7.96l-1.37-1.37c-.4-.4-.92-.59-1.43-.59-.52 0-1.04.2-1.43.59L10.3 9.45l-7.72 7.72c-.78.78-.78 2.05 0 2.83L4 21.41c.39.39.9.59 1.41.59.51 0 1.02-.2 1.41-.59l7.78-7.78 2.81-2.81c.8-.78.8-2.07 0-2.86zM5.41 20L4 18.59l7.72-7.72 1.47 1.35L5.41 20z\"/>\n",
              "  </svg>\n",
              "      </button>\n",
              "      \n",
              "  <style>\n",
              "    .colab-df-container {\n",
              "      display:flex;\n",
              "      flex-wrap:wrap;\n",
              "      gap: 12px;\n",
              "    }\n",
              "\n",
              "    .colab-df-convert {\n",
              "      background-color: #E8F0FE;\n",
              "      border: none;\n",
              "      border-radius: 50%;\n",
              "      cursor: pointer;\n",
              "      display: none;\n",
              "      fill: #1967D2;\n",
              "      height: 32px;\n",
              "      padding: 0 0 0 0;\n",
              "      width: 32px;\n",
              "    }\n",
              "\n",
              "    .colab-df-convert:hover {\n",
              "      background-color: #E2EBFA;\n",
              "      box-shadow: 0px 1px 2px rgba(60, 64, 67, 0.3), 0px 1px 3px 1px rgba(60, 64, 67, 0.15);\n",
              "      fill: #174EA6;\n",
              "    }\n",
              "\n",
              "    [theme=dark] .colab-df-convert {\n",
              "      background-color: #3B4455;\n",
              "      fill: #D2E3FC;\n",
              "    }\n",
              "\n",
              "    [theme=dark] .colab-df-convert:hover {\n",
              "      background-color: #434B5C;\n",
              "      box-shadow: 0px 1px 3px 1px rgba(0, 0, 0, 0.15);\n",
              "      filter: drop-shadow(0px 1px 2px rgba(0, 0, 0, 0.3));\n",
              "      fill: #FFFFFF;\n",
              "    }\n",
              "  </style>\n",
              "\n",
              "      <script>\n",
              "        const buttonEl =\n",
              "          document.querySelector('#df-91ae6240-8062-474c-856f-39c54fbd5d40 button.colab-df-convert');\n",
              "        buttonEl.style.display =\n",
              "          google.colab.kernel.accessAllowed ? 'block' : 'none';\n",
              "\n",
              "        async function convertToInteractive(key) {\n",
              "          const element = document.querySelector('#df-91ae6240-8062-474c-856f-39c54fbd5d40');\n",
              "          const dataTable =\n",
              "            await google.colab.kernel.invokeFunction('convertToInteractive',\n",
              "                                                     [key], {});\n",
              "          if (!dataTable) return;\n",
              "\n",
              "          const docLinkHtml = 'Like what you see? Visit the ' +\n",
              "            '<a target=\"_blank\" href=https://colab.research.google.com/notebooks/data_table.ipynb>data table notebook</a>'\n",
              "            + ' to learn more about interactive tables.';\n",
              "          element.innerHTML = '';\n",
              "          dataTable['output_type'] = 'display_data';\n",
              "          await google.colab.output.renderOutput(dataTable, element);\n",
              "          const docLink = document.createElement('div');\n",
              "          docLink.innerHTML = docLinkHtml;\n",
              "          element.appendChild(docLink);\n",
              "        }\n",
              "      </script>\n",
              "    </div>\n",
              "  </div>\n",
              "  "
            ]
          },
          "metadata": {},
          "execution_count": 66
        }
      ]
    },
    {
      "cell_type": "markdown",
      "id": "ecdf179b",
      "metadata": {
        "id": "ecdf179b"
      },
      "source": [
        "### Creating Time steps"
      ]
    },
    {
      "cell_type": "code",
      "execution_count": 67,
      "id": "dced95ba",
      "metadata": {
        "id": "dced95ba"
      },
      "outputs": [],
      "source": [
        "def create_dataset(X, y, time_steps=1):\n",
        "    Xs, ys = [], []\n",
        "    for i in range(len(X) - time_steps):\n",
        "        v = X.iloc[i:(i + time_steps)].values\n",
        "        Xs.append(v)        \n",
        "        ys.append(y.iloc[i + time_steps])\n",
        "    return np.array(Xs), np.array(ys)"
      ]
    },
    {
      "cell_type": "code",
      "execution_count": 68,
      "id": "d01e659e",
      "metadata": {
        "id": "d01e659e",
        "outputId": "35f34da3-b19b-47d5-d08f-ec6761e8ff8d",
        "colab": {
          "base_uri": "https://localhost:8080/"
        }
      },
      "outputs": [
        {
          "output_type": "stream",
          "name": "stdout",
          "text": [
            "20689 5173\n"
          ]
        }
      ],
      "source": [
        "train_size = int(len(temp_model) * 0.8)\n",
        "test_size = len(temp_model) - train_size\n",
        "train, test = temp_model.iloc[0:train_size], temp_model.iloc[train_size:len(temp_model)]\n",
        "print(len(train), len(test))"
      ]
    },
    {
      "cell_type": "code",
      "execution_count": 69,
      "id": "9ee7a2b4",
      "metadata": {
        "id": "9ee7a2b4",
        "outputId": "cde2d934-433d-4fc3-abb9-d1d0adcbfc0e",
        "colab": {
          "base_uri": "https://localhost:8080/"
        }
      },
      "outputs": [
        {
          "output_type": "stream",
          "name": "stdout",
          "text": [
            "(20665, 24, 52) (20665,)\n"
          ]
        }
      ],
      "source": [
        "time_steps = 24\n",
        "\n",
        "# reshape to [samples, time_steps, n_features]\n",
        "\n",
        "X_train, y_train = create_dataset(train, train.dock_bikes, time_steps)\n",
        "X_test, y_test = create_dataset(test, test.dock_bikes, time_steps)\n",
        "\n",
        "print(X_train.shape, y_train.shape)"
      ]
    },
    {
      "cell_type": "markdown",
      "id": "93842973",
      "metadata": {
        "id": "93842973"
      },
      "source": [
        "Model 1: "
      ]
    },
    {
      "cell_type": "code",
      "source": [
        "mlflow.set_tracking_uri(\"https://mlflow.lewagon.ai\")\n",
        "mlflow.set_experiment(experiment_name=\"BiciMad\")"
      ],
      "metadata": {
        "colab": {
          "base_uri": "https://localhost:8080/"
        },
        "id": "GV_pA5p4Nln6",
        "outputId": "73c3f799-99eb-4fe3-c3c3-9a4c2847699b"
      },
      "id": "GV_pA5p4Nln6",
      "execution_count": null,
      "outputs": [
        {
          "output_type": "execute_result",
          "data": {
            "text/plain": [
              "<Experiment: artifact_location='mlflow-artifacts:/6429', experiment_id='6429', lifecycle_stage='active', name='BiciMad', tags={}>"
            ]
          },
          "metadata": {},
          "execution_count": 32
        }
      ]
    },
    {
      "cell_type": "code",
      "execution_count": 70,
      "id": "c751a859",
      "metadata": {
        "id": "c751a859"
      },
      "outputs": [],
      "source": [
        "model = Sequential()\n",
        "model.add(\n",
        "    layers.Bidirectional(\n",
        "    layers.LSTM(\n",
        "      units=100,\n",
        "      input_shape=(X_train.shape[1], X_train.shape[2]),\n",
        "    ), \n",
        "  )\n",
        ")\n",
        "model.add(layers.Dropout(rate=0.2))\n",
        "model.add(layers.Dense(units=1))\n",
        "\n",
        "model.compile(loss='mean_squared_error', optimizer='adam')"
      ]
    },
    {
      "cell_type": "code",
      "execution_count": null,
      "id": "beea5e27",
      "metadata": {
        "id": "beea5e27"
      },
      "outputs": [],
      "source": [
        "from tensorflow.keras.callbacks import EarlyStopping\n",
        "early_stop = EarlyStopping(monitor=\"val_loss\", mode=\"min\", verbose=1, patience = 10)"
      ]
    },
    {
      "cell_type": "code",
      "execution_count": null,
      "id": "e5282279",
      "metadata": {
        "id": "e5282279",
        "outputId": "f5b32916-7cc7-4c39-d8ba-7c6866b33e27",
        "colab": {
          "base_uri": "https://localhost:8080/"
        }
      },
      "outputs": [
        {
          "output_type": "stream",
          "name": "stdout",
          "text": [
            "Epoch 1/20\n",
            "647/647 [==============================] - 15s 10ms/step - loss: 12.5261 - val_loss: 3.0626\n",
            "Epoch 2/20\n",
            "647/647 [==============================] - 5s 8ms/step - loss: 6.8701 - val_loss: 3.2962\n",
            "Epoch 3/20\n",
            "647/647 [==============================] - 5s 8ms/step - loss: 6.5360 - val_loss: 3.1788\n",
            "Epoch 4/20\n",
            "647/647 [==============================] - 5s 8ms/step - loss: 6.2723 - val_loss: 2.9640\n",
            "Epoch 5/20\n",
            "647/647 [==============================] - 6s 9ms/step - loss: 6.1439 - val_loss: 2.8607\n",
            "Epoch 6/20\n",
            "647/647 [==============================] - 7s 11ms/step - loss: 6.0598 - val_loss: 2.9017\n",
            "Epoch 7/20\n",
            "647/647 [==============================] - 6s 9ms/step - loss: 5.9106 - val_loss: 2.8478\n",
            "Epoch 8/20\n",
            "647/647 [==============================] - 5s 8ms/step - loss: 5.8281 - val_loss: 3.0092\n",
            "Epoch 9/20\n",
            "647/647 [==============================] - 5s 8ms/step - loss: 5.7292 - val_loss: 2.8612\n",
            "Epoch 10/20\n",
            "647/647 [==============================] - 5s 8ms/step - loss: 5.6491 - val_loss: 2.8624\n",
            "Epoch 11/20\n",
            "647/647 [==============================] - 5s 8ms/step - loss: 5.5406 - val_loss: 3.0090\n",
            "Epoch 12/20\n",
            "647/647 [==============================] - 6s 9ms/step - loss: 5.4823 - val_loss: 2.9955\n",
            "Epoch 13/20\n",
            "647/647 [==============================] - 5s 8ms/step - loss: 5.4314 - val_loss: 3.3798\n",
            "Epoch 14/20\n",
            "647/647 [==============================] - 5s 8ms/step - loss: 5.3859 - val_loss: 3.0970\n",
            "Epoch 15/20\n",
            "647/647 [==============================] - 6s 8ms/step - loss: 5.3092 - val_loss: 3.1395\n",
            "Epoch 16/20\n",
            "647/647 [==============================] - 5s 8ms/step - loss: 5.2545 - val_loss: 3.1017\n",
            "Epoch 17/20\n",
            "647/647 [==============================] - 5s 8ms/step - loss: 5.1589 - val_loss: 3.1478\n",
            "Epoch 17: early stopping\n"
          ]
        }
      ],
      "source": [
        "batch_size = 64\n",
        "epochs = 20\n",
        "\n",
        "history = model.fit(\n",
        "    X_train, y_train, \n",
        "    epochs=epochs, \n",
        "    batch_size=batch_size, \n",
        "    validation_data=(X_test, y_test),\n",
        "    shuffle=False,\n",
        "    callbacks = [early_stop]\n",
        ")"
      ]
    },
    {
      "cell_type": "code",
      "source": [
        "min(history.history['loss'])"
      ],
      "metadata": {
        "colab": {
          "base_uri": "https://localhost:8080/"
        },
        "id": "t1FHnUlBOOA9",
        "outputId": "2e96f802-51b7-429b-e191-faf85dc7a4cf"
      },
      "id": "t1FHnUlBOOA9",
      "execution_count": null,
      "outputs": [
        {
          "output_type": "execute_result",
          "data": {
            "text/plain": [
              "6.711449146270752"
            ]
          },
          "metadata": {},
          "execution_count": 118
        }
      ]
    },
    {
      "cell_type": "code",
      "source": [
        "with mlflow.start_run():\n",
        "\n",
        "    params = dict(batch_size=batch_size, epochs=epochs)\n",
        "    metrics = dict(loss=min(history.history['loss']))\n",
        "\n",
        "    mlflow.log_params(params)\n",
        "    mlflow.log_metrics(metrics)\n",
        "\n",
        "    mlflow.keras.log_model(keras_model=model,\n",
        "                           artifact_path=\"model\",\n",
        "                           keras_module=\"tensorflow.keras\",\n",
        "                           registered_model_name=\"bicimad_model1_ALLDATA_Bidirectional_LSTM100_Drop_Dense\")"
      ],
      "metadata": {
        "colab": {
          "base_uri": "https://localhost:8080/"
        },
        "id": "6chiDNi0NhJD",
        "outputId": "7434736f-aae2-4aa3-81a6-431b048475d7"
      },
      "id": "6chiDNi0NhJD",
      "execution_count": null,
      "outputs": [
        {
          "output_type": "stream",
          "name": "stderr",
          "text": [
            "WARNING:absl:Found untraced functions such as lstm_cell_1_layer_call_fn, lstm_cell_1_layer_call_and_return_conditional_losses, lstm_cell_2_layer_call_fn, lstm_cell_2_layer_call_and_return_conditional_losses while saving (showing 4 of 4). These functions will not be directly callable after loading.\n",
            "WARNING:absl:<keras.layers.recurrent.LSTMCell object at 0x7fb2c9d1be90> has the same name 'LSTMCell' as a built-in Keras object. Consider renaming <class 'keras.layers.recurrent.LSTMCell'> to avoid naming conflicts when loading with `tf.keras.models.load_model`. If renaming is not possible, pass the object in the `custom_objects` parameter of the load function.\n",
            "WARNING:absl:<keras.layers.recurrent.LSTMCell object at 0x7fb2c9a698d0> has the same name 'LSTMCell' as a built-in Keras object. Consider renaming <class 'keras.layers.recurrent.LSTMCell'> to avoid naming conflicts when loading with `tf.keras.models.load_model`. If renaming is not possible, pass the object in the `custom_objects` parameter of the load function.\n",
            "2022/08/31 17:49:20 WARNING mlflow.utils.requirements_utils: Found tensorflow version (2.8.2+zzzcolab20220719082949) contains a local version label (+zzzcolab20220719082949). MLflow logged a pip requirement for this package as 'tensorflow==2.8.2' without the local version label to make it installable from PyPI. To specify pip requirements containing local version labels, please use `conda_env` or `pip_requirements`.\n",
            "2022/08/31 17:49:32 WARNING mlflow.utils.requirements_utils: Found tensorflow version (2.8.2+zzzcolab20220719082949) contains a local version label (+zzzcolab20220719082949). MLflow logged a pip requirement for this package as 'tensorflow==2.8.2' without the local version label to make it installable from PyPI. To specify pip requirements containing local version labels, please use `conda_env` or `pip_requirements`.\n",
            "2022/08/31 17:49:32 WARNING mlflow.utils.requirements_utils: Found jaxlib version (0.3.14+cuda11.cudnn805) contains a local version label (+cuda11.cudnn805). MLflow logged a pip requirement for this package as 'jaxlib==0.3.14' without the local version label to make it installable from PyPI. To specify pip requirements containing local version labels, please use `conda_env` or `pip_requirements`.\n",
            "Successfully registered model 'bicimad_model1_ALLDATA_Bidirectional_LSTM100_Drop_Dense'.\n",
            "2022/08/31 17:49:38 INFO mlflow.tracking._model_registry.client: Waiting up to 300 seconds for model version to finish creation.                     Model name: bicimad_model1_ALLDATA_Bidirectional_LSTM100_Drop_Dense, version 1\n",
            "Created version '1' of model 'bicimad_model1_ALLDATA_Bidirectional_LSTM100_Drop_Dense'.\n"
          ]
        }
      ]
    },
    {
      "cell_type": "code",
      "source": [
        "plt.plot(history.history['loss'], label='train')\n",
        "plt.plot(history.history['val_loss'], label='test')\n",
        "plt.legend();"
      ],
      "metadata": {
        "colab": {
          "base_uri": "https://localhost:8080/",
          "height": 265
        },
        "id": "-jkTrnyI8-Sx",
        "outputId": "21e4b577-454f-4f7b-9be5-7ff7cce02d81"
      },
      "id": "-jkTrnyI8-Sx",
      "execution_count": null,
      "outputs": [
        {
          "output_type": "display_data",
          "data": {
            "text/plain": [
              "<Figure size 432x288 with 1 Axes>"
            ],
            "image/png": "[encoded data removed]"
          },
          "metadata": {
            "needs_background": "light"
          }
        }
      ]
    },
    {
      "cell_type": "markdown",
      "id": "f3e1138a",
      "metadata": {
        "id": "f3e1138a"
      },
      "source": [
        "Model 2:"
      ]
    },
    {
      "cell_type": "code",
      "execution_count": null,
      "id": "58904d88",
      "metadata": {
        "id": "58904d88"
      },
      "outputs": [],
      "source": [
        "model = Sequential()\n",
        "\n",
        "model.add(layers.Bidirectional(layers.LSTM(units=128,return_sequences=True,input_shape=(X_train.shape[1], X_train.shape[2]))))\n",
        "\n",
        "model.add(layers.LSTM(units= 128, return_sequences=True))\n",
        "model.add(layers.Dropout(0.2))\n",
        "model.add(layers.LSTM(units= 128))\n",
        "model.add(layers.Dropout(0.2))\n",
        "model.add(layers.Dense(units = 1))\n",
        "\n",
        "model.compile(optimizer=\"adam\", loss=\"mean_squared_error\", metrics=[\"acc\"])\n"
      ]
    },
    {
      "cell_type": "code",
      "execution_count": null,
      "id": "5351a083",
      "metadata": {
        "id": "5351a083"
      },
      "outputs": [],
      "source": [
        "from tensorflow.keras.callbacks import EarlyStopping\n",
        "early_stop = EarlyStopping(monitor=\"val_loss\", mode=\"min\", verbose=1, patience = 15)"
      ]
    },
    {
      "cell_type": "code",
      "execution_count": null,
      "id": "7cf45ad6",
      "metadata": {
        "id": "7cf45ad6",
        "outputId": "afe578da-55bd-4377-9bba-6f313a3cd131",
        "colab": {
          "base_uri": "https://localhost:8080/"
        }
      },
      "outputs": [
        {
          "output_type": "stream",
          "name": "stdout",
          "text": [
            "Epoch 1/124\n",
            "1380/1380 [==============================] - 25s 13ms/step - loss: 9.8158 - acc: 0.1343 - val_loss: 3.3573 - val_acc: 0.1999\n",
            "Epoch 2/124\n",
            "1380/1380 [==============================] - 17s 13ms/step - loss: 6.8637 - acc: 0.1494 - val_loss: 3.4469 - val_acc: 0.1983\n",
            "Epoch 3/124\n",
            "1380/1380 [==============================] - 17s 13ms/step - loss: 6.4835 - acc: 0.1572 - val_loss: 3.3548 - val_acc: 0.2149\n",
            "Epoch 4/124\n",
            "1380/1380 [==============================] - 18s 13ms/step - loss: 6.3618 - acc: 0.1593 - val_loss: 3.1000 - val_acc: 0.2162\n",
            "Epoch 5/124\n",
            "1380/1380 [==============================] - 17s 13ms/step - loss: 6.1413 - acc: 0.1608 - val_loss: 3.1320 - val_acc: 0.2185\n",
            "Epoch 6/124\n",
            "1380/1380 [==============================] - 17s 12ms/step - loss: 6.0802 - acc: 0.1617 - val_loss: 2.9661 - val_acc: 0.2112\n",
            "Epoch 7/124\n",
            "1380/1380 [==============================] - 17s 13ms/step - loss: 5.9275 - acc: 0.1598 - val_loss: 2.8891 - val_acc: 0.2159\n",
            "Epoch 8/124\n",
            "1380/1380 [==============================] - 17s 12ms/step - loss: 5.8336 - acc: 0.1626 - val_loss: 2.8685 - val_acc: 0.2227\n",
            "Epoch 9/124\n",
            "1380/1380 [==============================] - 17s 13ms/step - loss: 5.7237 - acc: 0.1633 - val_loss: 2.8264 - val_acc: 0.2235\n",
            "Epoch 10/124\n",
            "1380/1380 [==============================] - 17s 13ms/step - loss: 5.5993 - acc: 0.1630 - val_loss: 2.9423 - val_acc: 0.2289\n",
            "Epoch 11/124\n",
            "1380/1380 [==============================] - 17s 13ms/step - loss: 5.4941 - acc: 0.1635 - val_loss: 2.9814 - val_acc: 0.2231\n",
            "Epoch 12/124\n",
            "1380/1380 [==============================] - 17s 13ms/step - loss: 5.3716 - acc: 0.1656 - val_loss: 3.0226 - val_acc: 0.2276\n",
            "Epoch 13/124\n",
            "1380/1380 [==============================] - 17s 13ms/step - loss: 5.2693 - acc: 0.1646 - val_loss: 3.1476 - val_acc: 0.2338\n",
            "Epoch 14/124\n",
            "1380/1380 [==============================] - 17s 13ms/step - loss: 5.1224 - acc: 0.1642 - val_loss: 3.3721 - val_acc: 0.2256\n",
            "Epoch 15/124\n",
            "1380/1380 [==============================] - 18s 13ms/step - loss: 4.9903 - acc: 0.1661 - val_loss: 3.3090 - val_acc: 0.2295\n",
            "Epoch 16/124\n",
            "1380/1380 [==============================] - 17s 13ms/step - loss: 4.8196 - acc: 0.1651 - val_loss: 3.4860 - val_acc: 0.2365\n",
            "Epoch 17/124\n",
            "1380/1380 [==============================] - 17s 13ms/step - loss: 4.6992 - acc: 0.1658 - val_loss: 3.4558 - val_acc: 0.2313\n",
            "Epoch 18/124\n",
            "1380/1380 [==============================] - 17s 13ms/step - loss: 4.5663 - acc: 0.1647 - val_loss: 3.7875 - val_acc: 0.2277\n",
            "Epoch 19/124\n",
            "1380/1380 [==============================] - 17s 12ms/step - loss: 4.4730 - acc: 0.1649 - val_loss: 3.8144 - val_acc: 0.2335\n",
            "Epoch 20/124\n",
            "1380/1380 [==============================] - 17s 13ms/step - loss: 4.3554 - acc: 0.1661 - val_loss: 3.9024 - val_acc: 0.2318\n",
            "Epoch 21/124\n",
            "1380/1380 [==============================] - 17s 13ms/step - loss: 4.1939 - acc: 0.1653 - val_loss: 3.7622 - val_acc: 0.2299\n",
            "Epoch 22/124\n",
            "1380/1380 [==============================] - 18s 13ms/step - loss: 4.0774 - acc: 0.1654 - val_loss: 3.7243 - val_acc: 0.2308\n",
            "Epoch 23/124\n",
            "1380/1380 [==============================] - 17s 13ms/step - loss: 3.9810 - acc: 0.1647 - val_loss: 3.7538 - val_acc: 0.2341\n",
            "Epoch 24/124\n",
            "1380/1380 [==============================] - 17s 13ms/step - loss: 3.8402 - acc: 0.1673 - val_loss: 3.8680 - val_acc: 0.2340\n",
            "Epoch 24: early stopping\n"
          ]
        }
      ],
      "source": [
        "batch_size = 124\n",
        "epochs = 30\n",
        "\n",
        "history = model.fit(\n",
        "    X_train, y_train, \n",
        "    epochs=batch_size, \n",
        "    batch_size=epochs, \n",
        "    validation_data=(X_test, y_test),\n",
        "    shuffle=False,\n",
        "    callbacks = [early_stop]\n",
        ")"
      ]
    },
    {
      "cell_type": "code",
      "source": [
        "from keras.metrics import accuracy\n",
        "with mlflow.start_run():\n",
        "\n",
        "    params = dict(batch_size=batch_size, epochs=epochs)\n",
        "    metrics = dict(loss=min(history.history['loss']), accuracy=max(history.history['acc']))\n",
        "\n",
        "    mlflow.log_params(params)\n",
        "    mlflow.log_metrics(metrics)\n",
        "\n",
        "    mlflow.keras.log_model(keras_model=model,\n",
        "                           artifact_path=\"model\",\n",
        "                           keras_module=\"tensorflow.keras\",\n",
        "                           registered_model_name=\"bicimad_model2_ALLDATA_Bidirectional_LSTM128_LSTM128_Drop_LSTM128_Drop_Dense\")"
      ],
      "metadata": {
        "colab": {
          "base_uri": "https://localhost:8080/"
        },
        "id": "SG7sCXrpP8B-",
        "outputId": "376ed59e-53f5-4c81-b4bb-7686d41c66cb"
      },
      "id": "SG7sCXrpP8B-",
      "execution_count": null,
      "outputs": [
        {
          "output_type": "stream",
          "name": "stderr",
          "text": [
            "WARNING:absl:Found untraced functions such as lstm_cell_6_layer_call_fn, lstm_cell_6_layer_call_and_return_conditional_losses, lstm_cell_7_layer_call_fn, lstm_cell_7_layer_call_and_return_conditional_losses, lstm_cell_4_layer_call_fn while saving (showing 5 of 8). These functions will not be directly callable after loading.\n",
            "WARNING:absl:<keras.layers.recurrent.LSTMCell object at 0x7fb227da6cd0> has the same name 'LSTMCell' as a built-in Keras object. Consider renaming <class 'keras.layers.recurrent.LSTMCell'> to avoid naming conflicts when loading with `tf.keras.models.load_model`. If renaming is not possible, pass the object in the `custom_objects` parameter of the load function.\n",
            "WARNING:absl:<keras.layers.recurrent.LSTMCell object at 0x7fb227daba90> has the same name 'LSTMCell' as a built-in Keras object. Consider renaming <class 'keras.layers.recurrent.LSTMCell'> to avoid naming conflicts when loading with `tf.keras.models.load_model`. If renaming is not possible, pass the object in the `custom_objects` parameter of the load function.\n",
            "WARNING:absl:<keras.layers.recurrent.LSTMCell object at 0x7fb227da4d90> has the same name 'LSTMCell' as a built-in Keras object. Consider renaming <class 'keras.layers.recurrent.LSTMCell'> to avoid naming conflicts when loading with `tf.keras.models.load_model`. If renaming is not possible, pass the object in the `custom_objects` parameter of the load function.\n",
            "WARNING:absl:<keras.layers.recurrent.LSTMCell object at 0x7fb227e5f110> has the same name 'LSTMCell' as a built-in Keras object. Consider renaming <class 'keras.layers.recurrent.LSTMCell'> to avoid naming conflicts when loading with `tf.keras.models.load_model`. If renaming is not possible, pass the object in the `custom_objects` parameter of the load function.\n",
            "2022/08/31 17:59:06 WARNING mlflow.utils.requirements_utils: Found tensorflow version (2.8.2+zzzcolab20220719082949) contains a local version label (+zzzcolab20220719082949). MLflow logged a pip requirement for this package as 'tensorflow==2.8.2' without the local version label to make it installable from PyPI. To specify pip requirements containing local version labels, please use `conda_env` or `pip_requirements`.\n",
            "2022/08/31 17:59:20 WARNING mlflow.utils.requirements_utils: Found tensorflow version (2.8.2+zzzcolab20220719082949) contains a local version label (+zzzcolab20220719082949). MLflow logged a pip requirement for this package as 'tensorflow==2.8.2' without the local version label to make it installable from PyPI. To specify pip requirements containing local version labels, please use `conda_env` or `pip_requirements`.\n",
            "2022/08/31 17:59:20 WARNING mlflow.utils.requirements_utils: Found jaxlib version (0.3.14+cuda11.cudnn805) contains a local version label (+cuda11.cudnn805). MLflow logged a pip requirement for this package as 'jaxlib==0.3.14' without the local version label to make it installable from PyPI. To specify pip requirements containing local version labels, please use `conda_env` or `pip_requirements`.\n",
            "Successfully registered model 'bicimad_model2_ALLDATA_Bidirectional_LSTM128_LSTM128_Drop_LSTM128_Drop_Dense'.\n",
            "2022/08/31 17:59:26 INFO mlflow.tracking._model_registry.client: Waiting up to 300 seconds for model version to finish creation.                     Model name: bicimad_model2_ALLDATA_Bidirectional_LSTM128_LSTM128_Drop_LSTM128_Drop_Dense, version 1\n",
            "Created version '1' of model 'bicimad_model2_ALLDATA_Bidirectional_LSTM128_LSTM128_Drop_LSTM128_Drop_Dense'.\n"
          ]
        }
      ]
    },
    {
      "cell_type": "code",
      "source": [
        "## MODEL 3"
      ],
      "metadata": {
        "id": "DGngF4sUBuNM"
      },
      "id": "DGngF4sUBuNM",
      "execution_count": null,
      "outputs": []
    },
    {
      "cell_type": "code",
      "source": [
        "# importing libraries\n",
        "from keras.models import Sequential\n",
        "from keras.layers import Dense\n",
        "from keras.layers import SimpleRNN\n",
        "from keras.layers import Dropout\n",
        "\n",
        "# initializing the RNN\n",
        "regressor = Sequential()\n",
        "\n",
        "# adding first RNN layer and dropout regulatization\n",
        "regressor.add(SimpleRNN(units = 50, activation = \"tanh\", return_sequences = True, input_shape = (X_train.shape[1], X_train.shape[2])))\n",
        "regressor.add(Dropout(0.2))\n",
        "\n",
        "# adding second RNN layer and dropout regulatization\n",
        "regressor.add(SimpleRNN(units = 50, activation = \"tanh\",return_sequences = True))\n",
        "regressor.add(Dropout(0.2))\n",
        "\n",
        "# adding third RNN layer and dropout regulatization\n",
        "regressor.add(SimpleRNN(units = 50,activation = \"tanh\", return_sequences = True))\n",
        "regressor.add(Dropout(0.2))\n",
        "\n",
        "# adding fourth RNN layer and dropout regulatization\n",
        "regressor.add(SimpleRNN(units = 50))\n",
        "regressor.add(Dropout(0.2))\n",
        "\n",
        "# adding the output layer\n",
        "regressor.add(Dense(units = 1))\n",
        "\n",
        "# compiling RNN\n",
        "regressor.compile(optimizer = \"adam\", loss = \"mean_squared_error\",metrics = [\"accuracy\"]) #rmspr\n"
      ],
      "metadata": {
        "id": "C1_FYGRMBuQS"
      },
      "id": "C1_FYGRMBuQS",
      "execution_count": null,
      "outputs": []
    },
    {
      "cell_type": "code",
      "source": [
        "from tensorflow.keras.callbacks import EarlyStopping\n",
        "early_stop = EarlyStopping(monitor=\"val_loss\", mode=\"min\", verbose=1, patience = 15)"
      ],
      "metadata": {
        "id": "n0Ri1PMiB5R7"
      },
      "id": "n0Ri1PMiB5R7",
      "execution_count": null,
      "outputs": []
    },
    {
      "cell_type": "code",
      "source": [
        "batch_size= 124\n",
        "epochs=30\n",
        "history = regressor.fit(X_train, y_train, epochs=epochs, batch_size=batch_size, validation_data=(X_test, y_test), shuffle=False, callbacks = [early_stop])"
      ],
      "metadata": {
        "colab": {
          "base_uri": "https://localhost:8080/",
          "height": 1000
        },
        "id": "Wa7lYbCzB5V7",
        "outputId": "2be94f17-ba07-42b1-8638-c3627d310f47"
      },
      "id": "Wa7lYbCzB5V7",
      "execution_count": null,
      "outputs": [
        {
          "output_type": "stream",
          "name": "stdout",
          "text": [
            "Epoch 1/30\n",
            "334/334 [==============================] - 33s 91ms/step - loss: 30.7136 - accuracy: 0.1181 - val_loss: 3.8490 - val_accuracy: 0.1844\n",
            "Epoch 2/30\n",
            "334/334 [==============================] - 30s 91ms/step - loss: 12.8714 - accuracy: 0.1262 - val_loss: 4.8852 - val_accuracy: 0.1838\n",
            "Epoch 3/30\n",
            "334/334 [==============================] - 31s 94ms/step - loss: 10.7582 - accuracy: 0.1218 - val_loss: 4.3635 - val_accuracy: 0.1830\n",
            "Epoch 4/30\n",
            "334/334 [==============================] - 29s 88ms/step - loss: 10.0002 - accuracy: 0.1223 - val_loss: 6.4167 - val_accuracy: 0.1814\n",
            "Epoch 5/30\n",
            "334/334 [==============================] - 30s 89ms/step - loss: 9.6522 - accuracy: 0.1227 - val_loss: 4.9744 - val_accuracy: 0.1813\n",
            "Epoch 6/30\n",
            "334/334 [==============================] - 30s 89ms/step - loss: 9.4622 - accuracy: 0.1245 - val_loss: 3.3950 - val_accuracy: 0.1761\n",
            "Epoch 7/30\n",
            "334/334 [==============================] - 32s 96ms/step - loss: 9.3466 - accuracy: 0.1213 - val_loss: 3.4262 - val_accuracy: 0.1811\n",
            "Epoch 8/30\n",
            "334/334 [==============================] - 30s 89ms/step - loss: 9.3162 - accuracy: 0.1202 - val_loss: 4.3792 - val_accuracy: 0.2037\n",
            "Epoch 9/30\n",
            "334/334 [==============================] - 29s 88ms/step - loss: 9.1885 - accuracy: 0.1224 - val_loss: 4.4661 - val_accuracy: 0.2093\n",
            "Epoch 10/30\n",
            "334/334 [==============================] - 30s 90ms/step - loss: 9.0945 - accuracy: 0.1175 - val_loss: 3.6585 - val_accuracy: 0.2096\n",
            "Epoch 11/30\n",
            "334/334 [==============================] - 30s 90ms/step - loss: 8.9486 - accuracy: 0.1203 - val_loss: 3.4371 - val_accuracy: 0.2072\n",
            "Epoch 12/30\n",
            "334/334 [==============================] - 30s 90ms/step - loss: 8.8564 - accuracy: 0.1199 - val_loss: 3.9958 - val_accuracy: 0.2013\n",
            "Epoch 13/30\n",
            "334/334 [==============================] - 30s 89ms/step - loss: 8.7825 - accuracy: 0.1214 - val_loss: 3.3976 - val_accuracy: 0.1852\n",
            "Epoch 14/30\n",
            "334/334 [==============================] - 29s 88ms/step - loss: 8.7275 - accuracy: 0.1211 - val_loss: 3.4956 - val_accuracy: 0.1813\n",
            "Epoch 15/30\n",
            "334/334 [==============================] - 29s 87ms/step - loss: 8.7775 - accuracy: 0.1199 - val_loss: 3.9697 - val_accuracy: 0.1896\n",
            "Epoch 16/30\n",
            "334/334 [==============================] - 30s 89ms/step - loss: 8.7414 - accuracy: 0.1211 - val_loss: 4.1418 - val_accuracy: 0.1846\n",
            "Epoch 17/30\n",
            "334/334 [==============================] - 29s 88ms/step - loss: 8.5875 - accuracy: 0.1206 - val_loss: 4.1803 - val_accuracy: 0.1815\n",
            "Epoch 18/30\n",
            "334/334 [==============================] - 29s 87ms/step - loss: 8.5924 - accuracy: 0.1206 - val_loss: 5.2994 - val_accuracy: 0.1690\n",
            "Epoch 19/30\n",
            " 62/334 [====>.........................] - ETA: 23s - loss: 12.0355 - accuracy: 0.0916"
          ]
        },
        {
          "output_type": "error",
          "ename": "KeyboardInterrupt",
          "evalue": "ignored",
          "traceback": [
            "\u001b[0;31m---------------------------------------------------------------------------\u001b[0m",
            "\u001b[0;31mKeyboardInterrupt\u001b[0m                         Traceback (most recent call last)",
            "\u001b[0;32m<ipython-input-44-88dde3ba8afd>\u001b[0m in \u001b[0;36m<module>\u001b[0;34m\u001b[0m\n\u001b[1;32m      1\u001b[0m \u001b[0mbatch_size\u001b[0m\u001b[0;34m=\u001b[0m \u001b[0;36m124\u001b[0m\u001b[0;34m\u001b[0m\u001b[0;34m\u001b[0m\u001b[0m\n\u001b[1;32m      2\u001b[0m \u001b[0mepochs\u001b[0m\u001b[0;34m=\u001b[0m\u001b[0;36m30\u001b[0m\u001b[0;34m\u001b[0m\u001b[0;34m\u001b[0m\u001b[0m\n\u001b[0;32m----> 3\u001b[0;31m \u001b[0mhistory\u001b[0m \u001b[0;34m=\u001b[0m \u001b[0mregressor\u001b[0m\u001b[0;34m.\u001b[0m\u001b[0mfit\u001b[0m\u001b[0;34m(\u001b[0m\u001b[0mX_train\u001b[0m\u001b[0;34m,\u001b[0m \u001b[0my_train\u001b[0m\u001b[0;34m,\u001b[0m \u001b[0mepochs\u001b[0m\u001b[0;34m=\u001b[0m\u001b[0mepochs\u001b[0m\u001b[0;34m,\u001b[0m \u001b[0mbatch_size\u001b[0m\u001b[0;34m=\u001b[0m\u001b[0mbatch_size\u001b[0m\u001b[0;34m,\u001b[0m \u001b[0mvalidation_data\u001b[0m\u001b[0;34m=\u001b[0m\u001b[0;34m(\u001b[0m\u001b[0mX_test\u001b[0m\u001b[0;34m,\u001b[0m \u001b[0my_test\u001b[0m\u001b[0;34m)\u001b[0m\u001b[0;34m,\u001b[0m \u001b[0mshuffle\u001b[0m\u001b[0;34m=\u001b[0m\u001b[0;32mFalse\u001b[0m\u001b[0;34m,\u001b[0m \u001b[0mcallbacks\u001b[0m \u001b[0;34m=\u001b[0m \u001b[0;34m[\u001b[0m\u001b[0mearly_stop\u001b[0m\u001b[0;34m]\u001b[0m\u001b[0;34m)\u001b[0m\u001b[0;34m\u001b[0m\u001b[0;34m\u001b[0m\u001b[0m\n\u001b[0m",
            "\u001b[0;32m/usr/local/lib/python3.7/dist-packages/keras/utils/traceback_utils.py\u001b[0m in \u001b[0;36merror_handler\u001b[0;34m(*args, **kwargs)\u001b[0m\n\u001b[1;32m     62\u001b[0m     \u001b[0mfiltered_tb\u001b[0m \u001b[0;34m=\u001b[0m \u001b[0;32mNone\u001b[0m\u001b[0;34m\u001b[0m\u001b[0;34m\u001b[0m\u001b[0m\n\u001b[1;32m     63\u001b[0m     \u001b[0;32mtry\u001b[0m\u001b[0;34m:\u001b[0m\u001b[0;34m\u001b[0m\u001b[0;34m\u001b[0m\u001b[0m\n\u001b[0;32m---> 64\u001b[0;31m       \u001b[0;32mreturn\u001b[0m \u001b[0mfn\u001b[0m\u001b[0;34m(\u001b[0m\u001b[0;34m*\u001b[0m\u001b[0margs\u001b[0m\u001b[0;34m,\u001b[0m \u001b[0;34m**\u001b[0m\u001b[0mkwargs\u001b[0m\u001b[0;34m)\u001b[0m\u001b[0;34m\u001b[0m\u001b[0;34m\u001b[0m\u001b[0m\n\u001b[0m\u001b[1;32m     65\u001b[0m     \u001b[0;32mexcept\u001b[0m \u001b[0mException\u001b[0m \u001b[0;32mas\u001b[0m \u001b[0me\u001b[0m\u001b[0;34m:\u001b[0m  \u001b[0;31m# pylint: disable=broad-except\u001b[0m\u001b[0;34m\u001b[0m\u001b[0;34m\u001b[0m\u001b[0m\n\u001b[1;32m     66\u001b[0m       \u001b[0mfiltered_tb\u001b[0m \u001b[0;34m=\u001b[0m \u001b[0m_process_traceback_frames\u001b[0m\u001b[0;34m(\u001b[0m\u001b[0me\u001b[0m\u001b[0;34m.\u001b[0m\u001b[0m__traceback__\u001b[0m\u001b[0;34m)\u001b[0m\u001b[0;34m\u001b[0m\u001b[0;34m\u001b[0m\u001b[0m\n",
            "\u001b[0;32m/usr/local/lib/python3.7/dist-packages/keras/engine/training.py\u001b[0m in \u001b[0;36mfit\u001b[0;34m(self, x, y, batch_size, epochs, verbose, callbacks, validation_split, validation_data, shuffle, class_weight, sample_weight, initial_epoch, steps_per_epoch, validation_steps, validation_batch_size, validation_freq, max_queue_size, workers, use_multiprocessing)\u001b[0m\n\u001b[1;32m   1382\u001b[0m                 _r=1):\n\u001b[1;32m   1383\u001b[0m               \u001b[0mcallbacks\u001b[0m\u001b[0;34m.\u001b[0m\u001b[0mon_train_batch_begin\u001b[0m\u001b[0;34m(\u001b[0m\u001b[0mstep\u001b[0m\u001b[0;34m)\u001b[0m\u001b[0;34m\u001b[0m\u001b[0;34m\u001b[0m\u001b[0m\n\u001b[0;32m-> 1384\u001b[0;31m               \u001b[0mtmp_logs\u001b[0m \u001b[0;34m=\u001b[0m \u001b[0mself\u001b[0m\u001b[0;34m.\u001b[0m\u001b[0mtrain_function\u001b[0m\u001b[0;34m(\u001b[0m\u001b[0miterator\u001b[0m\u001b[0;34m)\u001b[0m\u001b[0;34m\u001b[0m\u001b[0;34m\u001b[0m\u001b[0m\n\u001b[0m\u001b[1;32m   1385\u001b[0m               \u001b[0;32mif\u001b[0m \u001b[0mdata_handler\u001b[0m\u001b[0;34m.\u001b[0m\u001b[0mshould_sync\u001b[0m\u001b[0;34m:\u001b[0m\u001b[0;34m\u001b[0m\u001b[0;34m\u001b[0m\u001b[0m\n\u001b[1;32m   1386\u001b[0m                 \u001b[0mcontext\u001b[0m\u001b[0;34m.\u001b[0m\u001b[0masync_wait\u001b[0m\u001b[0;34m(\u001b[0m\u001b[0;34m)\u001b[0m\u001b[0;34m\u001b[0m\u001b[0;34m\u001b[0m\u001b[0m\n",
            "\u001b[0;32m/usr/local/lib/python3.7/dist-packages/tensorflow/python/util/traceback_utils.py\u001b[0m in \u001b[0;36merror_handler\u001b[0;34m(*args, **kwargs)\u001b[0m\n\u001b[1;32m    148\u001b[0m     \u001b[0mfiltered_tb\u001b[0m \u001b[0;34m=\u001b[0m \u001b[0;32mNone\u001b[0m\u001b[0;34m\u001b[0m\u001b[0;34m\u001b[0m\u001b[0m\n\u001b[1;32m    149\u001b[0m     \u001b[0;32mtry\u001b[0m\u001b[0;34m:\u001b[0m\u001b[0;34m\u001b[0m\u001b[0;34m\u001b[0m\u001b[0m\n\u001b[0;32m--> 150\u001b[0;31m       \u001b[0;32mreturn\u001b[0m \u001b[0mfn\u001b[0m\u001b[0;34m(\u001b[0m\u001b[0;34m*\u001b[0m\u001b[0margs\u001b[0m\u001b[0;34m,\u001b[0m \u001b[0;34m**\u001b[0m\u001b[0mkwargs\u001b[0m\u001b[0;34m)\u001b[0m\u001b[0;34m\u001b[0m\u001b[0;34m\u001b[0m\u001b[0m\n\u001b[0m\u001b[1;32m    151\u001b[0m     \u001b[0;32mexcept\u001b[0m \u001b[0mException\u001b[0m \u001b[0;32mas\u001b[0m \u001b[0me\u001b[0m\u001b[0;34m:\u001b[0m\u001b[0;34m\u001b[0m\u001b[0;34m\u001b[0m\u001b[0m\n\u001b[1;32m    152\u001b[0m       \u001b[0mfiltered_tb\u001b[0m \u001b[0;34m=\u001b[0m \u001b[0m_process_traceback_frames\u001b[0m\u001b[0;34m(\u001b[0m\u001b[0me\u001b[0m\u001b[0;34m.\u001b[0m\u001b[0m__traceback__\u001b[0m\u001b[0;34m)\u001b[0m\u001b[0;34m\u001b[0m\u001b[0;34m\u001b[0m\u001b[0m\n",
            "\u001b[0;32m/usr/local/lib/python3.7/dist-packages/tensorflow/python/eager/def_function.py\u001b[0m in \u001b[0;36m__call__\u001b[0;34m(self, *args, **kwds)\u001b[0m\n\u001b[1;32m    913\u001b[0m \u001b[0;34m\u001b[0m\u001b[0m\n\u001b[1;32m    914\u001b[0m       \u001b[0;32mwith\u001b[0m \u001b[0mOptionalXlaContext\u001b[0m\u001b[0;34m(\u001b[0m\u001b[0mself\u001b[0m\u001b[0;34m.\u001b[0m\u001b[0m_jit_compile\u001b[0m\u001b[0;34m)\u001b[0m\u001b[0;34m:\u001b[0m\u001b[0;34m\u001b[0m\u001b[0;34m\u001b[0m\u001b[0m\n\u001b[0;32m--> 915\u001b[0;31m         \u001b[0mresult\u001b[0m \u001b[0;34m=\u001b[0m \u001b[0mself\u001b[0m\u001b[0;34m.\u001b[0m\u001b[0m_call\u001b[0m\u001b[0;34m(\u001b[0m\u001b[0;34m*\u001b[0m\u001b[0margs\u001b[0m\u001b[0;34m,\u001b[0m \u001b[0;34m**\u001b[0m\u001b[0mkwds\u001b[0m\u001b[0;34m)\u001b[0m\u001b[0;34m\u001b[0m\u001b[0;34m\u001b[0m\u001b[0m\n\u001b[0m\u001b[1;32m    916\u001b[0m \u001b[0;34m\u001b[0m\u001b[0m\n\u001b[1;32m    917\u001b[0m       \u001b[0mnew_tracing_count\u001b[0m \u001b[0;34m=\u001b[0m \u001b[0mself\u001b[0m\u001b[0;34m.\u001b[0m\u001b[0mexperimental_get_tracing_count\u001b[0m\u001b[0;34m(\u001b[0m\u001b[0;34m)\u001b[0m\u001b[0;34m\u001b[0m\u001b[0;34m\u001b[0m\u001b[0m\n",
            "\u001b[0;32m/usr/local/lib/python3.7/dist-packages/tensorflow/python/eager/def_function.py\u001b[0m in \u001b[0;36m_call\u001b[0;34m(self, *args, **kwds)\u001b[0m\n\u001b[1;32m    945\u001b[0m       \u001b[0;31m# In this case we have created variables on the first call, so we run the\u001b[0m\u001b[0;34m\u001b[0m\u001b[0;34m\u001b[0m\u001b[0;34m\u001b[0m\u001b[0m\n\u001b[1;32m    946\u001b[0m       \u001b[0;31m# defunned version which is guaranteed to never create variables.\u001b[0m\u001b[0;34m\u001b[0m\u001b[0;34m\u001b[0m\u001b[0;34m\u001b[0m\u001b[0m\n\u001b[0;32m--> 947\u001b[0;31m       \u001b[0;32mreturn\u001b[0m \u001b[0mself\u001b[0m\u001b[0;34m.\u001b[0m\u001b[0m_stateless_fn\u001b[0m\u001b[0;34m(\u001b[0m\u001b[0;34m*\u001b[0m\u001b[0margs\u001b[0m\u001b[0;34m,\u001b[0m \u001b[0;34m**\u001b[0m\u001b[0mkwds\u001b[0m\u001b[0;34m)\u001b[0m  \u001b[0;31m# pylint: disable=not-callable\u001b[0m\u001b[0;34m\u001b[0m\u001b[0;34m\u001b[0m\u001b[0m\n\u001b[0m\u001b[1;32m    948\u001b[0m     \u001b[0;32melif\u001b[0m \u001b[0mself\u001b[0m\u001b[0;34m.\u001b[0m\u001b[0m_stateful_fn\u001b[0m \u001b[0;32mis\u001b[0m \u001b[0;32mnot\u001b[0m \u001b[0;32mNone\u001b[0m\u001b[0;34m:\u001b[0m\u001b[0;34m\u001b[0m\u001b[0;34m\u001b[0m\u001b[0m\n\u001b[1;32m    949\u001b[0m       \u001b[0;31m# Release the lock early so that multiple threads can perform the call\u001b[0m\u001b[0;34m\u001b[0m\u001b[0;34m\u001b[0m\u001b[0;34m\u001b[0m\u001b[0m\n",
            "\u001b[0;32m/usr/local/lib/python3.7/dist-packages/tensorflow/python/eager/function.py\u001b[0m in \u001b[0;36m__call__\u001b[0;34m(self, *args, **kwargs)\u001b[0m\n\u001b[1;32m   2955\u001b[0m        filtered_flat_args) = self._maybe_define_function(args, kwargs)\n\u001b[1;32m   2956\u001b[0m     return graph_function._call_flat(\n\u001b[0;32m-> 2957\u001b[0;31m         filtered_flat_args, captured_inputs=graph_function.captured_inputs)  # pylint: disable=protected-access\n\u001b[0m\u001b[1;32m   2958\u001b[0m \u001b[0;34m\u001b[0m\u001b[0m\n\u001b[1;32m   2959\u001b[0m   \u001b[0;34m@\u001b[0m\u001b[0mproperty\u001b[0m\u001b[0;34m\u001b[0m\u001b[0;34m\u001b[0m\u001b[0m\n",
            "\u001b[0;32m/usr/local/lib/python3.7/dist-packages/tensorflow/python/eager/function.py\u001b[0m in \u001b[0;36m_call_flat\u001b[0;34m(self, args, captured_inputs, cancellation_manager)\u001b[0m\n\u001b[1;32m   1852\u001b[0m       \u001b[0;31m# No tape is watching; skip to running the function.\u001b[0m\u001b[0;34m\u001b[0m\u001b[0;34m\u001b[0m\u001b[0;34m\u001b[0m\u001b[0m\n\u001b[1;32m   1853\u001b[0m       return self._build_call_outputs(self._inference_function.call(\n\u001b[0;32m-> 1854\u001b[0;31m           ctx, args, cancellation_manager=cancellation_manager))\n\u001b[0m\u001b[1;32m   1855\u001b[0m     forward_backward = self._select_forward_and_backward_functions(\n\u001b[1;32m   1856\u001b[0m         \u001b[0margs\u001b[0m\u001b[0;34m,\u001b[0m\u001b[0;34m\u001b[0m\u001b[0;34m\u001b[0m\u001b[0m\n",
            "\u001b[0;32m/usr/local/lib/python3.7/dist-packages/tensorflow/python/eager/function.py\u001b[0m in \u001b[0;36mcall\u001b[0;34m(self, ctx, args, cancellation_manager)\u001b[0m\n\u001b[1;32m    502\u001b[0m               \u001b[0minputs\u001b[0m\u001b[0;34m=\u001b[0m\u001b[0margs\u001b[0m\u001b[0;34m,\u001b[0m\u001b[0;34m\u001b[0m\u001b[0;34m\u001b[0m\u001b[0m\n\u001b[1;32m    503\u001b[0m               \u001b[0mattrs\u001b[0m\u001b[0;34m=\u001b[0m\u001b[0mattrs\u001b[0m\u001b[0;34m,\u001b[0m\u001b[0;34m\u001b[0m\u001b[0;34m\u001b[0m\u001b[0m\n\u001b[0;32m--> 504\u001b[0;31m               ctx=ctx)\n\u001b[0m\u001b[1;32m    505\u001b[0m         \u001b[0;32melse\u001b[0m\u001b[0;34m:\u001b[0m\u001b[0;34m\u001b[0m\u001b[0;34m\u001b[0m\u001b[0m\n\u001b[1;32m    506\u001b[0m           outputs = execute.execute_with_cancellation(\n",
            "\u001b[0;32m/usr/local/lib/python3.7/dist-packages/tensorflow/python/eager/execute.py\u001b[0m in \u001b[0;36mquick_execute\u001b[0;34m(op_name, num_outputs, inputs, attrs, ctx, name)\u001b[0m\n\u001b[1;32m     53\u001b[0m     \u001b[0mctx\u001b[0m\u001b[0;34m.\u001b[0m\u001b[0mensure_initialized\u001b[0m\u001b[0;34m(\u001b[0m\u001b[0;34m)\u001b[0m\u001b[0;34m\u001b[0m\u001b[0;34m\u001b[0m\u001b[0m\n\u001b[1;32m     54\u001b[0m     tensors = pywrap_tfe.TFE_Py_Execute(ctx._handle, device_name, op_name,\n\u001b[0;32m---> 55\u001b[0;31m                                         inputs, attrs, num_outputs)\n\u001b[0m\u001b[1;32m     56\u001b[0m   \u001b[0;32mexcept\u001b[0m \u001b[0mcore\u001b[0m\u001b[0;34m.\u001b[0m\u001b[0m_NotOkStatusException\u001b[0m \u001b[0;32mas\u001b[0m \u001b[0me\u001b[0m\u001b[0;34m:\u001b[0m\u001b[0;34m\u001b[0m\u001b[0;34m\u001b[0m\u001b[0m\n\u001b[1;32m     57\u001b[0m     \u001b[0;32mif\u001b[0m \u001b[0mname\u001b[0m \u001b[0;32mis\u001b[0m \u001b[0;32mnot\u001b[0m \u001b[0;32mNone\u001b[0m\u001b[0;34m:\u001b[0m\u001b[0;34m\u001b[0m\u001b[0;34m\u001b[0m\u001b[0m\n",
            "\u001b[0;31mKeyboardInterrupt\u001b[0m: "
          ]
        }
      ]
    },
    {
      "cell_type": "code",
      "source": [
        "with mlflow.start_run():\n",
        "\n",
        "    params = dict(batch_size=batch_size, epochs=epochs)\n",
        "    metrics = dict(loss=min(history.history['loss']), accuracy=max(history.history['accuracy']))\n",
        "\n",
        "    mlflow.log_params(params)\n",
        "    mlflow.log_metrics(metrics)\n",
        "\n",
        "    mlflow.keras.log_model(keras_model=regressor,\n",
        "                           artifact_path=\"model\",\n",
        "                           keras_module=\"tensorflow.keras\",\n",
        "                           registered_model_name=\"bicimad_model3_Thierry_SimpleRNN50_Drop_SimpleRNN50_Drop_SimpleRNN50_Drop_tanh.all_SimpleRNN50_Drop_Dense\")"
      ],
      "metadata": {
        "colab": {
          "base_uri": "https://localhost:8080/"
        },
        "id": "hS8K5DvVaJBM",
        "outputId": "c9be6da1-c440-4739-db6a-ffd8306f55d3"
      },
      "id": "hS8K5DvVaJBM",
      "execution_count": null,
      "outputs": [
        {
          "output_type": "stream",
          "name": "stderr",
          "text": [
            "2022/08/31 15:06:30 WARNING mlflow.utils.requirements_utils: Found tensorflow version (2.8.2+zzzcolab20220719082949) contains a local version label (+zzzcolab20220719082949). MLflow logged a pip requirement for this package as 'tensorflow==2.8.2' without the local version label to make it installable from PyPI. To specify pip requirements containing local version labels, please use `conda_env` or `pip_requirements`.\n",
            "2022/08/31 15:06:36 WARNING mlflow.utils.requirements_utils: Found tensorflow version (2.8.2+zzzcolab20220719082949) contains a local version label (+zzzcolab20220719082949). MLflow logged a pip requirement for this package as 'tensorflow==2.8.2' without the local version label to make it installable from PyPI. To specify pip requirements containing local version labels, please use `conda_env` or `pip_requirements`.\n",
            "2022/08/31 15:06:36 WARNING mlflow.utils.requirements_utils: Found jaxlib version (0.3.14+cuda11.cudnn805) contains a local version label (+cuda11.cudnn805). MLflow logged a pip requirement for this package as 'jaxlib==0.3.14' without the local version label to make it installable from PyPI. To specify pip requirements containing local version labels, please use `conda_env` or `pip_requirements`.\n",
            "Successfully registered model 'bicimad_model3_Thierry_SimpleRNN50_Drop_SimpleRNN50_Drop_SimpleRNN50_Drop_tanh.all_SimpleRNN50_Drop_Dense'.\n",
            "2022/08/31 15:06:40 INFO mlflow.tracking._model_registry.client: Waiting up to 300 seconds for model version to finish creation.                     Model name: bicimad_model3_Thierry_SimpleRNN50_Drop_SimpleRNN50_Drop_SimpleRNN50_Drop_tanh.all_SimpleRNN50_Drop_Dense, version 1\n",
            "Created version '1' of model 'bicimad_model3_Thierry_SimpleRNN50_Drop_SimpleRNN50_Drop_SimpleRNN50_Drop_tanh.all_SimpleRNN50_Drop_Dense'.\n"
          ]
        }
      ]
    },
    {
      "cell_type": "code",
      "source": [
        "### MODEL 4"
      ],
      "metadata": {
        "id": "XNaTkIIJB5iB"
      },
      "id": "XNaTkIIJB5iB",
      "execution_count": null,
      "outputs": []
    },
    {
      "cell_type": "code",
      "source": [
        "from tensorflow.keras.layers.experimental.preprocessing import Normalization\n",
        "from tensorflow.keras.optimizers import RMSprop\n",
        "\n",
        "\n",
        "def create_model(X_train, y_train):\n",
        "    \n",
        "    \n",
        "    print(X_train.shape)\n",
        "    print(y_train.shape)\n",
        "    \n",
        "    #tf.random.set_seed(30)\n",
        "    normalizer = Normalization() # Instantiate a \"normalizer\" layer\n",
        "    normalizer.adapt(X_train) # \"Fit\" it on the train set\n",
        "    model = Sequential()\n",
        "    model.add(normalizer)\n",
        "    model.add(layers.LSTM(25, return_sequences=False, input_shape=(X_train.shape[1],X_train.shape[2])))\n",
        "\n",
        "    model.add(layers.Dropout(0.2))\n",
        "    model.add(layers.Dense(15, activation='relu'))\n",
        "    model.add(layers.Dropout(0.2))\n",
        "    model.add(layers.Dense(y_train.shape[-1], activation='linear'))\n",
        "    model.compile(loss='mse',optimizer=RMSprop(learning_rate=0.01), metrics=['mae', 'mape'])\n",
        "    print(model.summary())\n",
        "    print(X_train.shape)\n",
        "\n",
        "    return model\n"
      ],
      "metadata": {
        "id": "uz-0qwcDBuTP"
      },
      "id": "uz-0qwcDBuTP",
      "execution_count": null,
      "outputs": []
    },
    {
      "cell_type": "code",
      "source": [
        "model = create_model(X_train, y_train)"
      ],
      "metadata": {
        "colab": {
          "base_uri": "https://localhost:8080/"
        },
        "id": "9QxRJJdQCd6w",
        "outputId": "d9466a16-46c8-419b-fc82-d4dc5a8f725d"
      },
      "id": "9QxRJJdQCd6w",
      "execution_count": null,
      "outputs": [
        {
          "output_type": "stream",
          "name": "stdout",
          "text": [
            "(41397, 24, 52)\n",
            "(41397,)\n",
            "Model: \"sequential_3\"\n",
            "_________________________________________________________________\n",
            " Layer (type)                Output Shape              Param #   \n",
            "=================================================================\n",
            " normalization (Normalizatio  (None, None, 52)         105       \n",
            " n)                                                              \n",
            "                                                                 \n",
            " lstm_4 (LSTM)               (None, 25)                7800      \n",
            "                                                                 \n",
            " dropout_7 (Dropout)         (None, 25)                0         \n",
            "                                                                 \n",
            " dense_3 (Dense)             (None, 15)                390       \n",
            "                                                                 \n",
            " dropout_8 (Dropout)         (None, 15)                0         \n",
            "                                                                 \n",
            " dense_4 (Dense)             (None, 41397)             662352    \n",
            "                                                                 \n",
            "=================================================================\n",
            "Total params: 670,647\n",
            "Trainable params: 670,542\n",
            "Non-trainable params: 105\n",
            "_________________________________________________________________\n",
            "None\n",
            "(41397, 24, 52)\n"
          ]
        }
      ]
    },
    {
      "cell_type": "code",
      "source": [
        "from tensorflow.keras.callbacks import EarlyStopping\n",
        "early_stop = EarlyStopping(monitor=\"val_loss\", mode=\"min\", verbose=1, patience = 10)"
      ],
      "metadata": {
        "id": "vr3F3g3LCd9_"
      },
      "id": "vr3F3g3LCd9_",
      "execution_count": null,
      "outputs": []
    },
    {
      "cell_type": "code",
      "source": [
        "batch_size = 100\n",
        "epochs = 20\n",
        "\n",
        "history = model.fit(\n",
        "    X_train, y_train, \n",
        "    epochs=epochs, \n",
        "    batch_size=batch_size, \n",
        "    validation_data=(X_test, y_test),\n",
        "    shuffle=False,\n",
        "    callbacks = [early_stop]\n",
        ")"
      ],
      "metadata": {
        "colab": {
          "base_uri": "https://localhost:8080/"
        },
        "id": "m1OIAgH0CeBV",
        "outputId": "392c5750-b37e-4865-d3d0-8eb579716060"
      },
      "id": "m1OIAgH0CeBV",
      "execution_count": null,
      "outputs": [
        {
          "output_type": "stream",
          "name": "stdout",
          "text": [
            "Epoch 1/20\n",
            "414/414 [==============================] - 6s 10ms/step - loss: 15.3948 - mae: 2.7868 - mape: 268126048.0000 - val_loss: 3.6146 - val_mae: 1.3889 - val_mape: 189569392.0000\n",
            "Epoch 2/20\n",
            "414/414 [==============================] - 3s 8ms/step - loss: 10.5636 - mae: 2.3375 - mape: 246379840.0000 - val_loss: 3.3753 - val_mae: 1.3365 - val_mape: 186625520.0000\n",
            "Epoch 3/20\n",
            "414/414 [==============================] - 3s 8ms/step - loss: 9.7731 - mae: 2.2908 - mape: 266324480.0000 - val_loss: 3.4864 - val_mae: 1.3911 - val_mape: 212873696.0000\n",
            "Epoch 4/20\n",
            "414/414 [==============================] - 4s 10ms/step - loss: 9.6048 - mae: 2.2758 - mape: 275603008.0000 - val_loss: 3.4626 - val_mae: 1.3942 - val_mape: 222267440.0000\n",
            "Epoch 5/20\n",
            "414/414 [==============================] - 4s 9ms/step - loss: 9.3519 - mae: 2.2458 - mape: 272484960.0000 - val_loss: 3.4802 - val_mae: 1.3936 - val_mape: 221189376.0000\n",
            "Epoch 6/20\n",
            "414/414 [==============================] - 4s 9ms/step - loss: 9.2488 - mae: 2.2356 - mape: 271240864.0000 - val_loss: 3.4651 - val_mae: 1.3908 - val_mape: 227891536.0000\n",
            "Epoch 7/20\n",
            "414/414 [==============================] - 4s 9ms/step - loss: 9.1045 - mae: 2.2147 - mape: 270413024.0000 - val_loss: 3.3822 - val_mae: 1.3575 - val_mape: 221128848.0000\n",
            "Epoch 8/20\n",
            "414/414 [==============================] - 4s 9ms/step - loss: 9.1125 - mae: 2.2197 - mape: 271980160.0000 - val_loss: 3.5354 - val_mae: 1.3989 - val_mape: 213104624.0000\n",
            "Epoch 9/20\n",
            "414/414 [==============================] - 4s 9ms/step - loss: 8.9966 - mae: 2.2019 - mape: 267464384.0000 - val_loss: 3.3984 - val_mae: 1.3677 - val_mape: 212701904.0000\n",
            "Epoch 10/20\n",
            "414/414 [==============================] - 3s 8ms/step - loss: 8.9246 - mae: 2.1939 - mape: 263138656.0000 - val_loss: 3.4762 - val_mae: 1.3738 - val_mape: 213950560.0000\n",
            "Epoch 11/20\n",
            "414/414 [==============================] - 4s 9ms/step - loss: 8.7464 - mae: 2.1752 - mape: 264943920.0000 - val_loss: 3.3931 - val_mae: 1.3620 - val_mape: 217456080.0000\n",
            "Epoch 12/20\n",
            "414/414 [==============================] - 4s 9ms/step - loss: 8.7606 - mae: 2.1597 - mape: 258358976.0000 - val_loss: 3.6631 - val_mae: 1.3999 - val_mape: 208456944.0000\n",
            "Epoch 12: early stopping\n"
          ]
        }
      ]
    },
    {
      "cell_type": "code",
      "source": [
        "with mlflow.start_run():\n",
        "\n",
        "    params = dict(batch_size=batch_size, epochs=epochs)\n",
        "    metrics = dict(loss=min(history.history['loss']), accuracy=min(history.history['mae']))\n",
        "\n",
        "    mlflow.log_params(params)\n",
        "    mlflow.log_metrics(metrics)\n",
        "\n",
        "    mlflow.keras.log_model(keras_model=model,\n",
        "                           artifact_path=\"model\",\n",
        "                           keras_module=\"tensorflow.keras\",\n",
        "                           registered_model_name=\"bicimad_model4_Thierry_LSTM25_Drop_Dense15_Drop_Dense\")"
      ],
      "metadata": {
        "colab": {
          "base_uri": "https://localhost:8080/"
        },
        "id": "nv635BSLCw5G",
        "outputId": "63ff25fd-4ac0-4e49-a4f2-2afab9f8a14f"
      },
      "id": "nv635BSLCw5G",
      "execution_count": null,
      "outputs": [
        {
          "output_type": "stream",
          "name": "stderr",
          "text": [
            "WARNING:absl:Found untraced functions such as lstm_cell_27_layer_call_fn, lstm_cell_27_layer_call_and_return_conditional_losses while saving (showing 2 of 2). These functions will not be directly callable after loading.\n",
            "WARNING:absl:<keras.layers.recurrent.LSTMCell object at 0x7f2a6919b490> has the same name 'LSTMCell' as a built-in Keras object. Consider renaming <class 'keras.layers.recurrent.LSTMCell'> to avoid naming conflicts when loading with `tf.keras.models.load_model`. If renaming is not possible, pass the object in the `custom_objects` parameter of the load function.\n",
            "2022/08/31 15:15:39 WARNING mlflow.utils.requirements_utils: Found tensorflow version (2.8.2+zzzcolab20220719082949) contains a local version label (+zzzcolab20220719082949). MLflow logged a pip requirement for this package as 'tensorflow==2.8.2' without the local version label to make it installable from PyPI. To specify pip requirements containing local version labels, please use `conda_env` or `pip_requirements`.\n",
            "2022/08/31 15:15:44 WARNING mlflow.utils.requirements_utils: Found tensorflow version (2.8.2+zzzcolab20220719082949) contains a local version label (+zzzcolab20220719082949). MLflow logged a pip requirement for this package as 'tensorflow==2.8.2' without the local version label to make it installable from PyPI. To specify pip requirements containing local version labels, please use `conda_env` or `pip_requirements`.\n",
            "2022/08/31 15:15:44 WARNING mlflow.utils.requirements_utils: Found jaxlib version (0.3.14+cuda11.cudnn805) contains a local version label (+cuda11.cudnn805). MLflow logged a pip requirement for this package as 'jaxlib==0.3.14' without the local version label to make it installable from PyPI. To specify pip requirements containing local version labels, please use `conda_env` or `pip_requirements`.\n",
            "Successfully registered model 'bicimad_model4_Thierry_LSTM25_Drop_Dense15_Drop_Dense'.\n",
            "2022/08/31 15:15:49 INFO mlflow.tracking._model_registry.client: Waiting up to 300 seconds for model version to finish creation.                     Model name: bicimad_model4_Thierry_LSTM25_Drop_Dense15_Drop_Dense, version 1\n",
            "Created version '1' of model 'bicimad_model4_Thierry_LSTM25_Drop_Dense15_Drop_Dense'.\n"
          ]
        }
      ]
    },
    {
      "cell_type": "markdown",
      "source": [
        "Model 5"
      ],
      "metadata": {
        "id": "sm6P0BHuhIuu"
      },
      "id": "sm6P0BHuhIuu"
    },
    {
      "cell_type": "code",
      "source": [
        "model = Sequential()\n",
        "model.add(\n",
        "    layers.Bidirectional(\n",
        "    layers.LSTM(\n",
        "      units=75,\n",
        "      input_shape=(X_train.shape[1], X_train.shape[2]),\n",
        "    ), \n",
        "  )\n",
        ")\n",
        "model.add(layers.Dropout(rate=0.2))\n",
        "model.add(layers.Dense(units=1))\n",
        "\n",
        "model.compile(loss='mean_squared_error', optimizer='adam')"
      ],
      "metadata": {
        "id": "dmiGd1izCw72"
      },
      "id": "dmiGd1izCw72",
      "execution_count": null,
      "outputs": []
    },
    {
      "cell_type": "code",
      "source": [
        "from tensorflow.keras.callbacks import EarlyStopping\n",
        "early_stop = EarlyStopping(monitor=\"val_loss\", verbose=1, patience = 10)"
      ],
      "metadata": {
        "id": "3JNY8vvNCw_o"
      },
      "id": "3JNY8vvNCw_o",
      "execution_count": null,
      "outputs": []
    },
    {
      "cell_type": "code",
      "source": [
        "batch_size = 124\n",
        "epochs = 35\n",
        "\n",
        "history = model.fit(\n",
        "    X_train, y_train, \n",
        "    epochs=epochs, \n",
        "    batch_size=batch_size, \n",
        "    validation_data=(X_test, y_test),\n",
        "    shuffle=False,\n",
        "    callbacks = [early_stop]\n",
        ")"
      ],
      "metadata": {
        "colab": {
          "base_uri": "https://localhost:8080/"
        },
        "id": "X44HrhXgiWk6",
        "outputId": "c9bba9f8-fac4-472b-83ac-1a9ca13fce65"
      },
      "id": "X44HrhXgiWk6",
      "execution_count": null,
      "outputs": [
        {
          "output_type": "stream",
          "name": "stdout",
          "text": [
            "Epoch 1/35\n",
            "334/334 [==============================] - 31s 11ms/step - loss: 21.7559 - val_loss: 4.1245\n",
            "Epoch 2/35\n",
            "334/334 [==============================] - 3s 9ms/step - loss: 7.8488 - val_loss: 5.2139\n",
            "Epoch 3/35\n",
            "334/334 [==============================] - 3s 9ms/step - loss: 7.2521 - val_loss: 4.1773\n",
            "Epoch 4/35\n",
            "334/334 [==============================] - 3s 9ms/step - loss: 6.8220 - val_loss: 3.8563\n",
            "Epoch 5/35\n",
            "334/334 [==============================] - 3s 9ms/step - loss: 6.5783 - val_loss: 3.1690\n",
            "Epoch 6/35\n",
            "334/334 [==============================] - 3s 9ms/step - loss: 6.5566 - val_loss: 4.0877\n",
            "Epoch 7/35\n",
            "334/334 [==============================] - 3s 9ms/step - loss: 6.3657 - val_loss: 2.7335\n",
            "Epoch 8/35\n",
            "334/334 [==============================] - 3s 9ms/step - loss: 6.2056 - val_loss: 3.0586\n",
            "Epoch 9/35\n",
            "334/334 [==============================] - 3s 9ms/step - loss: 6.1318 - val_loss: 2.9861\n",
            "Epoch 10/35\n",
            "334/334 [==============================] - 3s 9ms/step - loss: 6.0594 - val_loss: 3.0319\n",
            "Epoch 11/35\n",
            "334/334 [==============================] - 3s 9ms/step - loss: 5.9658 - val_loss: 2.8615\n",
            "Epoch 12/35\n",
            "334/334 [==============================] - 3s 9ms/step - loss: 6.0055 - val_loss: 3.3215\n",
            "Epoch 13/35\n",
            "334/334 [==============================] - 3s 9ms/step - loss: 5.9264 - val_loss: 3.3469\n",
            "Epoch 14/35\n",
            "334/334 [==============================] - 3s 9ms/step - loss: 5.7487 - val_loss: 3.0789\n",
            "Epoch 15/35\n",
            "334/334 [==============================] - 3s 9ms/step - loss: 5.6459 - val_loss: 3.0547\n",
            "Epoch 16/35\n",
            "334/334 [==============================] - 3s 9ms/step - loss: 5.5873 - val_loss: 2.9464\n",
            "Epoch 17/35\n",
            "334/334 [==============================] - 3s 9ms/step - loss: 5.5138 - val_loss: 2.6734\n",
            "Epoch 18/35\n",
            "334/334 [==============================] - 3s 9ms/step - loss: 5.4498 - val_loss: 2.8967\n",
            "Epoch 19/35\n",
            "334/334 [==============================] - 3s 9ms/step - loss: 5.4261 - val_loss: 3.1978\n",
            "Epoch 20/35\n",
            "334/334 [==============================] - 3s 9ms/step - loss: 5.4734 - val_loss: 2.8300\n",
            "Epoch 21/35\n",
            "334/334 [==============================] - 3s 8ms/step - loss: 5.3251 - val_loss: 2.8096\n",
            "Epoch 22/35\n",
            "334/334 [==============================] - 3s 9ms/step - loss: 5.2731 - val_loss: 2.9127\n",
            "Epoch 23/35\n",
            "334/334 [==============================] - 3s 9ms/step - loss: 5.2431 - val_loss: 2.8941\n",
            "Epoch 24/35\n",
            "334/334 [==============================] - 3s 9ms/step - loss: 5.1206 - val_loss: 2.9499\n",
            "Epoch 25/35\n",
            "334/334 [==============================] - 3s 9ms/step - loss: 5.0967 - val_loss: 2.8940\n",
            "Epoch 26/35\n",
            "334/334 [==============================] - 3s 9ms/step - loss: 5.0997 - val_loss: 2.9779\n",
            "Epoch 27/35\n",
            "334/334 [==============================] - 3s 9ms/step - loss: 5.0941 - val_loss: 3.3150\n",
            "Epoch 27: early stopping\n"
          ]
        }
      ]
    },
    {
      "cell_type": "code",
      "source": [
        "with mlflow.start_run():\n",
        "\n",
        "    params = dict(batch_size=batch_size, epochs=epochs)\n",
        "    metrics = dict(loss=min(history.history['loss']))\n",
        "\n",
        "    mlflow.log_params(params)\n",
        "    mlflow.log_metrics(metrics)\n",
        "\n",
        "    mlflow.keras.log_model(keras_model=model,\n",
        "                           artifact_path=\"model\",\n",
        "                           keras_module=\"tensorflow.keras\",\n",
        "                           registered_model_name=\"bicimad_model5_Bidirectional_LSTM75_Drop_Dense\")"
      ],
      "metadata": {
        "colab": {
          "base_uri": "https://localhost:8080/"
        },
        "id": "RPyzKzkNiWoS",
        "outputId": "acf88420-cbb5-4078-d20e-8ca266e132ea"
      },
      "id": "RPyzKzkNiWoS",
      "execution_count": null,
      "outputs": [
        {
          "output_type": "stream",
          "name": "stderr",
          "text": [
            "WARNING:absl:Found untraced functions such as lstm_cell_49_layer_call_fn, lstm_cell_49_layer_call_and_return_conditional_losses, lstm_cell_50_layer_call_fn, lstm_cell_50_layer_call_and_return_conditional_losses while saving (showing 4 of 4). These functions will not be directly callable after loading.\n",
            "WARNING:absl:<keras.layers.recurrent.LSTMCell object at 0x7f2a6a772fd0> has the same name 'LSTMCell' as a built-in Keras object. Consider renaming <class 'keras.layers.recurrent.LSTMCell'> to avoid naming conflicts when loading with `tf.keras.models.load_model`. If renaming is not possible, pass the object in the `custom_objects` parameter of the load function.\n",
            "WARNING:absl:<keras.layers.recurrent.LSTMCell object at 0x7f2a681db490> has the same name 'LSTMCell' as a built-in Keras object. Consider renaming <class 'keras.layers.recurrent.LSTMCell'> to avoid naming conflicts when loading with `tf.keras.models.load_model`. If renaming is not possible, pass the object in the `custom_objects` parameter of the load function.\n",
            "2022/08/31 15:53:15 WARNING mlflow.utils.requirements_utils: Found tensorflow version (2.8.2+zzzcolab20220719082949) contains a local version label (+zzzcolab20220719082949). MLflow logged a pip requirement for this package as 'tensorflow==2.8.2' without the local version label to make it installable from PyPI. To specify pip requirements containing local version labels, please use `conda_env` or `pip_requirements`.\n",
            "2022/08/31 15:53:25 WARNING mlflow.utils.requirements_utils: Found tensorflow version (2.8.2+zzzcolab20220719082949) contains a local version label (+zzzcolab20220719082949). MLflow logged a pip requirement for this package as 'tensorflow==2.8.2' without the local version label to make it installable from PyPI. To specify pip requirements containing local version labels, please use `conda_env` or `pip_requirements`.\n",
            "2022/08/31 15:53:25 WARNING mlflow.utils.requirements_utils: Found jaxlib version (0.3.14+cuda11.cudnn805) contains a local version label (+cuda11.cudnn805). MLflow logged a pip requirement for this package as 'jaxlib==0.3.14' without the local version label to make it installable from PyPI. To specify pip requirements containing local version labels, please use `conda_env` or `pip_requirements`.\n",
            "Successfully registered model 'bicimad_model5_Bidirectional_LSTM75_Drop_Dense'.\n",
            "2022/08/31 15:53:30 INFO mlflow.tracking._model_registry.client: Waiting up to 300 seconds for model version to finish creation.                     Model name: bicimad_model5_Bidirectional_LSTM75_Drop_Dense, version 1\n",
            "Created version '1' of model 'bicimad_model5_Bidirectional_LSTM75_Drop_Dense'.\n"
          ]
        }
      ]
    },
    {
      "cell_type": "code",
      "source": [
        "## MODEL 6"
      ],
      "metadata": {
        "id": "__lugUHgmJDk"
      },
      "id": "__lugUHgmJDk",
      "execution_count": null,
      "outputs": []
    },
    {
      "cell_type": "code",
      "source": [
        "model = Sequential()\n",
        "model.add(\n",
        "    layers.Bidirectional(\n",
        "    layers.LSTM(\n",
        "      units=50,\n",
        "      input_shape=(X_train.shape[1], X_train.shape[2]),\n",
        "    ), \n",
        "  )\n",
        ")\n",
        "model.add(layers.Dropout(rate=0.2))\n",
        "model.add(layers.Dense(units=1))\n",
        "\n",
        "model.compile(loss='mean_squared_error', optimizer='adam')"
      ],
      "metadata": {
        "id": "kM_Fc9g-mJIF"
      },
      "id": "kM_Fc9g-mJIF",
      "execution_count": null,
      "outputs": []
    },
    {
      "cell_type": "code",
      "source": [
        "from tensorflow.keras.callbacks import EarlyStopping\n",
        "early_stop = EarlyStopping(monitor=\"val_loss\", verbose=1, patience = 10)"
      ],
      "metadata": {
        "id": "fFThBlLGm3Ub"
      },
      "id": "fFThBlLGm3Ub",
      "execution_count": null,
      "outputs": []
    },
    {
      "cell_type": "code",
      "source": [
        "batch_size = 64\n",
        "epochs = 35\n",
        "\n",
        "history = model.fit(\n",
        "    X_train, y_train, \n",
        "    epochs=epochs, \n",
        "    batch_size=batch_size, \n",
        "    validation_data=(X_test, y_test),\n",
        "    shuffle=False,\n",
        "    callbacks = [early_stop]\n",
        ")"
      ],
      "metadata": {
        "colab": {
          "base_uri": "https://localhost:8080/"
        },
        "id": "l6uZZefVm3XU",
        "outputId": "eab56f8c-4f73-49cf-f472-4dee0acaa2e5"
      },
      "id": "l6uZZefVm3XU",
      "execution_count": null,
      "outputs": [
        {
          "output_type": "stream",
          "name": "stdout",
          "text": [
            "Epoch 1/35\n",
            "323/323 [==============================] - 9s 19ms/step - loss: 27.7078 - val_loss: 13.9503\n",
            "Epoch 2/35\n",
            "323/323 [==============================] - 8s 23ms/step - loss: 10.0961 - val_loss: 8.6504\n",
            "Epoch 3/35\n",
            "323/323 [==============================] - 6s 17ms/step - loss: 8.6099 - val_loss: 6.5694\n",
            "Epoch 4/35\n",
            "323/323 [==============================] - 5s 17ms/step - loss: 8.3423 - val_loss: 5.7810\n",
            "Epoch 5/35\n",
            "323/323 [==============================] - 6s 20ms/step - loss: 8.0289 - val_loss: 5.6022\n",
            "Epoch 6/35\n",
            "323/323 [==============================] - 6s 18ms/step - loss: 7.9329 - val_loss: 5.5850\n",
            "Epoch 7/35\n",
            "323/323 [==============================] - 5s 16ms/step - loss: 7.8637 - val_loss: 5.4663\n",
            "Epoch 8/35\n",
            "323/323 [==============================] - 5s 16ms/step - loss: 7.6484 - val_loss: 5.4769\n",
            "Epoch 9/35\n",
            "323/323 [==============================] - 5s 17ms/step - loss: 7.5537 - val_loss: 5.3467\n",
            "Epoch 10/35\n",
            "323/323 [==============================] - 5s 17ms/step - loss: 7.4938 - val_loss: 5.2963\n",
            "Epoch 11/35\n",
            "323/323 [==============================] - 5s 17ms/step - loss: 7.3744 - val_loss: 5.2829\n",
            "Epoch 12/35\n",
            "323/323 [==============================] - 5s 17ms/step - loss: 7.3169 - val_loss: 5.4512\n",
            "Epoch 13/35\n",
            "323/323 [==============================] - 5s 16ms/step - loss: 7.3079 - val_loss: 5.7810\n",
            "Epoch 14/35\n",
            "323/323 [==============================] - 5s 16ms/step - loss: 7.1425 - val_loss: 5.8932\n",
            "Epoch 15/35\n",
            "323/323 [==============================] - 5s 17ms/step - loss: 7.1334 - val_loss: 5.8270\n",
            "Epoch 16/35\n",
            "323/323 [==============================] - 5s 16ms/step - loss: 7.0540 - val_loss: 5.6357\n",
            "Epoch 17/35\n",
            "323/323 [==============================] - 5s 16ms/step - loss: 6.9269 - val_loss: 5.6211\n",
            "Epoch 18/35\n",
            "323/323 [==============================] - 5s 16ms/step - loss: 6.8847 - val_loss: 5.8517\n",
            "Epoch 19/35\n",
            "323/323 [==============================] - 5s 16ms/step - loss: 6.8227 - val_loss: 5.7655\n",
            "Epoch 20/35\n",
            "323/323 [==============================] - 5s 16ms/step - loss: 6.8181 - val_loss: 5.7003\n",
            "Epoch 21/35\n",
            "323/323 [==============================] - 5s 16ms/step - loss: 6.7525 - val_loss: 5.6152\n",
            "Epoch 21: early stopping\n"
          ]
        }
      ]
    },
    {
      "cell_type": "code",
      "source": [
        "with mlflow.start_run():\n",
        "\n",
        "    params = dict(batch_size=batch_size, epochs=epochs)\n",
        "    metrics = dict(loss=min(history.history['loss']))\n",
        "\n",
        "    mlflow.log_params(params)\n",
        "    mlflow.log_metrics(metrics)\n",
        "\n",
        "    mlflow.keras.log_model(keras_model=model,\n",
        "                           artifact_path=\"model\",\n",
        "                           keras_module=\"tensorflow.keras\",\n",
        "                           registered_model_name=\"bicimad_model6_Bidirectional_LSTM50_Drop_Dense\")"
      ],
      "metadata": {
        "colab": {
          "base_uri": "https://localhost:8080/"
        },
        "id": "sO3Ngsmlm3iW",
        "outputId": "bddf76cf-1bca-4c17-f5cf-3f35f8cfedbd"
      },
      "id": "sO3Ngsmlm3iW",
      "execution_count": null,
      "outputs": [
        {
          "output_type": "stream",
          "name": "stderr",
          "text": [
            "WARNING:absl:Found untraced functions such as lstm_cell_52_layer_call_fn, lstm_cell_52_layer_call_and_return_conditional_losses, lstm_cell_53_layer_call_fn, lstm_cell_53_layer_call_and_return_conditional_losses while saving (showing 4 of 4). These functions will not be directly callable after loading.\n",
            "WARNING:absl:<keras.layers.recurrent.LSTMCell object at 0x7f2a67b68390> has the same name 'LSTMCell' as a built-in Keras object. Consider renaming <class 'keras.layers.recurrent.LSTMCell'> to avoid naming conflicts when loading with `tf.keras.models.load_model`. If renaming is not possible, pass the object in the `custom_objects` parameter of the load function.\n",
            "WARNING:absl:<keras.layers.recurrent.LSTMCell object at 0x7f2a70fcead0> has the same name 'LSTMCell' as a built-in Keras object. Consider renaming <class 'keras.layers.recurrent.LSTMCell'> to avoid naming conflicts when loading with `tf.keras.models.load_model`. If renaming is not possible, pass the object in the `custom_objects` parameter of the load function.\n",
            "2022/08/31 15:57:10 WARNING mlflow.utils.requirements_utils: Found tensorflow version (2.8.2+zzzcolab20220719082949) contains a local version label (+zzzcolab20220719082949). MLflow logged a pip requirement for this package as 'tensorflow==2.8.2' without the local version label to make it installable from PyPI. To specify pip requirements containing local version labels, please use `conda_env` or `pip_requirements`.\n",
            "2022/08/31 15:57:18 WARNING mlflow.utils.requirements_utils: Found tensorflow version (2.8.2+zzzcolab20220719082949) contains a local version label (+zzzcolab20220719082949). MLflow logged a pip requirement for this package as 'tensorflow==2.8.2' without the local version label to make it installable from PyPI. To specify pip requirements containing local version labels, please use `conda_env` or `pip_requirements`.\n",
            "2022/08/31 15:57:18 WARNING mlflow.utils.requirements_utils: Found jaxlib version (0.3.14+cuda11.cudnn805) contains a local version label (+cuda11.cudnn805). MLflow logged a pip requirement for this package as 'jaxlib==0.3.14' without the local version label to make it installable from PyPI. To specify pip requirements containing local version labels, please use `conda_env` or `pip_requirements`.\n",
            "Successfully registered model 'bicimad_model6_Bidirectional_LSTM50_Drop_Dense'.\n",
            "2022/08/31 15:57:23 INFO mlflow.tracking._model_registry.client: Waiting up to 300 seconds for model version to finish creation.                     Model name: bicimad_model6_Bidirectional_LSTM50_Drop_Dense, version 1\n",
            "Created version '1' of model 'bicimad_model6_Bidirectional_LSTM50_Drop_Dense'.\n"
          ]
        }
      ]
    },
    {
      "cell_type": "code",
      "source": [
        "### MODEL 7"
      ],
      "metadata": {
        "id": "ZTQMV8o4nAF_"
      },
      "id": "ZTQMV8o4nAF_",
      "execution_count": null,
      "outputs": []
    },
    {
      "cell_type": "code",
      "source": [
        "model = Sequential()\n",
        "\n",
        "model.add(layers.Bidirectional(layers.LSTM(units=100,return_sequences=True,input_shape=(X_train.shape[1], X_train.shape[2]))))\n",
        "\n",
        "model.add(layers.LSTM(units= 100, return_sequences=True))\n",
        "model.add(layers.Dropout(0.2))\n",
        "model.add(layers.LSTM(units= 75))\n",
        "model.add(layers.Dropout(0.2))\n",
        "model.add(layers.Dense(units = 1))\n",
        "\n",
        "model.compile(optimizer=\"adam\", loss=\"mean_squared_error\", metrics=[\"acc\"])"
      ],
      "metadata": {
        "id": "ERxux_6anAKC"
      },
      "id": "ERxux_6anAKC",
      "execution_count": null,
      "outputs": []
    },
    {
      "cell_type": "code",
      "source": [
        "from tensorflow.keras.callbacks import EarlyStopping\n",
        "early_stop = EarlyStopping(monitor=\"val_loss\", mode=\"min\", verbose=1, patience = 10)"
      ],
      "metadata": {
        "id": "d9c0iPO4n49g"
      },
      "id": "d9c0iPO4n49g",
      "execution_count": null,
      "outputs": []
    },
    {
      "cell_type": "code",
      "source": [
        "batch_size = 64\n",
        "epochs = 30\n",
        "\n",
        "history = model.fit(\n",
        "    X_train, y_train, \n",
        "    epochs=batch_size, \n",
        "    batch_size=epochs, \n",
        "    validation_data=(X_test, y_test),\n",
        "    shuffle=False,\n",
        "    callbacks = [early_stop]\n",
        ")"
      ],
      "metadata": {
        "colab": {
          "base_uri": "https://localhost:8080/"
        },
        "id": "tUtT12Han4_8",
        "outputId": "f1c9e45b-58ec-4501-f138-3f40f58fdec9"
      },
      "id": "tUtT12Han4_8",
      "execution_count": null,
      "outputs": [
        {
          "output_type": "stream",
          "name": "stdout",
          "text": [
            "Epoch 1/64\n",
            "689/689 [==============================] - 50s 64ms/step - loss: 15.6916 - acc: 0.1388 - val_loss: 8.3173 - val_acc: 0.0157\n",
            "Epoch 2/64\n",
            "689/689 [==============================] - 36s 52ms/step - loss: 8.7827 - acc: 0.1452 - val_loss: 6.1036 - val_acc: 0.0157\n",
            "Epoch 3/64\n",
            "689/689 [==============================] - 36s 52ms/step - loss: 8.2082 - acc: 0.1618 - val_loss: 5.4982 - val_acc: 0.0157\n",
            "Epoch 4/64\n",
            "689/689 [==============================] - 37s 54ms/step - loss: 8.0589 - acc: 0.1641 - val_loss: 5.4008 - val_acc: 0.0157\n",
            "Epoch 5/64\n",
            "689/689 [==============================] - 36s 52ms/step - loss: 7.9290 - acc: 0.1648 - val_loss: 5.5827 - val_acc: 0.0157\n",
            "Epoch 6/64\n",
            "689/689 [==============================] - 38s 55ms/step - loss: 7.8548 - acc: 0.1660 - val_loss: 5.5120 - val_acc: 0.0157\n",
            "Epoch 7/64\n",
            "689/689 [==============================] - 35s 51ms/step - loss: 7.7282 - acc: 0.1669 - val_loss: 5.7141 - val_acc: 0.0157\n",
            "Epoch 8/64\n",
            "689/689 [==============================] - 36s 52ms/step - loss: 7.6229 - acc: 0.1669 - val_loss: 5.6079 - val_acc: 0.0157\n",
            "Epoch 9/64\n",
            "689/689 [==============================] - 36s 53ms/step - loss: 7.5382 - acc: 0.1673 - val_loss: 6.0391 - val_acc: 0.0167\n",
            "Epoch 10/64\n",
            "689/689 [==============================] - 36s 52ms/step - loss: 7.3405 - acc: 0.1671 - val_loss: 6.0094 - val_acc: 0.0157\n",
            "Epoch 11/64\n",
            "689/689 [==============================] - 36s 52ms/step - loss: 7.2850 - acc: 0.1666 - val_loss: 5.9679 - val_acc: 0.0157\n",
            "Epoch 12/64\n",
            "689/689 [==============================] - 35s 51ms/step - loss: 7.3268 - acc: 0.1640 - val_loss: 5.8364 - val_acc: 0.0157\n",
            "Epoch 13/64\n",
            "689/689 [==============================] - 36s 53ms/step - loss: 7.1693 - acc: 0.1686 - val_loss: 6.0939 - val_acc: 0.0161\n",
            "Epoch 14/64\n",
            "689/689 [==============================] - 36s 52ms/step - loss: 7.1014 - acc: 0.1685 - val_loss: 6.3061 - val_acc: 0.0177\n",
            "Epoch 14: early stopping\n"
          ]
        }
      ]
    },
    {
      "cell_type": "code",
      "source": [
        "from keras.metrics import accuracy\n",
        "with mlflow.start_run():\n",
        "\n",
        "    params = dict(batch_size=batch_size, epochs=epochs)\n",
        "    metrics = dict(loss=min(history.history['loss']), accuracy=max(history.history['acc']))\n",
        "\n",
        "    mlflow.log_params(params)\n",
        "    mlflow.log_metrics(metrics)\n",
        "\n",
        "    mlflow.keras.log_model(keras_model=model,\n",
        "                           artifact_path=\"model\",\n",
        "                           keras_module=\"tensorflow.keras\",\n",
        "                           registered_model_name=\"bicimad_model7_Bidirectional_LSTM100_LSTM100_Drop_LSTM75_Drop_Dense\")"
      ],
      "metadata": {
        "colab": {
          "base_uri": "https://localhost:8080/"
        },
        "id": "sHxT6PjQoQEa",
        "outputId": "83fb344d-3c91-48f5-aaad-166577d496d3"
      },
      "id": "sHxT6PjQoQEa",
      "execution_count": null,
      "outputs": [
        {
          "output_type": "stream",
          "name": "stderr",
          "text": [
            "WARNING:absl:Found untraced functions such as lstm_cell_57_layer_call_fn, lstm_cell_57_layer_call_and_return_conditional_losses, lstm_cell_58_layer_call_fn, lstm_cell_58_layer_call_and_return_conditional_losses, lstm_cell_55_layer_call_fn while saving (showing 5 of 8). These functions will not be directly callable after loading.\n",
            "WARNING:absl:<keras.layers.recurrent.LSTMCell object at 0x7f2a6ce09410> has the same name 'LSTMCell' as a built-in Keras object. Consider renaming <class 'keras.layers.recurrent.LSTMCell'> to avoid naming conflicts when loading with `tf.keras.models.load_model`. If renaming is not possible, pass the object in the `custom_objects` parameter of the load function.\n",
            "WARNING:absl:<keras.layers.recurrent.LSTMCell object at 0x7f2a6b60a4d0> has the same name 'LSTMCell' as a built-in Keras object. Consider renaming <class 'keras.layers.recurrent.LSTMCell'> to avoid naming conflicts when loading with `tf.keras.models.load_model`. If renaming is not possible, pass the object in the `custom_objects` parameter of the load function.\n",
            "WARNING:absl:<keras.layers.recurrent.LSTMCell object at 0x7f2a6d0ca150> has the same name 'LSTMCell' as a built-in Keras object. Consider renaming <class 'keras.layers.recurrent.LSTMCell'> to avoid naming conflicts when loading with `tf.keras.models.load_model`. If renaming is not possible, pass the object in the `custom_objects` parameter of the load function.\n",
            "WARNING:absl:<keras.layers.recurrent.LSTMCell object at 0x7f2a68f4d9d0> has the same name 'LSTMCell' as a built-in Keras object. Consider renaming <class 'keras.layers.recurrent.LSTMCell'> to avoid naming conflicts when loading with `tf.keras.models.load_model`. If renaming is not possible, pass the object in the `custom_objects` parameter of the load function.\n",
            "2022/08/31 16:09:21 WARNING mlflow.utils.requirements_utils: Found tensorflow version (2.8.2+zzzcolab20220719082949) contains a local version label (+zzzcolab20220719082949). MLflow logged a pip requirement for this package as 'tensorflow==2.8.2' without the local version label to make it installable from PyPI. To specify pip requirements containing local version labels, please use `conda_env` or `pip_requirements`.\n",
            "2022/08/31 16:09:34 WARNING mlflow.utils.requirements_utils: Found tensorflow version (2.8.2+zzzcolab20220719082949) contains a local version label (+zzzcolab20220719082949). MLflow logged a pip requirement for this package as 'tensorflow==2.8.2' without the local version label to make it installable from PyPI. To specify pip requirements containing local version labels, please use `conda_env` or `pip_requirements`.\n",
            "2022/08/31 16:09:34 WARNING mlflow.utils.requirements_utils: Found jaxlib version (0.3.14+cuda11.cudnn805) contains a local version label (+cuda11.cudnn805). MLflow logged a pip requirement for this package as 'jaxlib==0.3.14' without the local version label to make it installable from PyPI. To specify pip requirements containing local version labels, please use `conda_env` or `pip_requirements`.\n",
            "Successfully registered model 'bicimad_model7_Bidirectional_LSTM100_LSTM100_Drop_LSTM75_Drop_Dense'.\n",
            "2022/08/31 16:09:39 INFO mlflow.tracking._model_registry.client: Waiting up to 300 seconds for model version to finish creation.                     Model name: bicimad_model7_Bidirectional_LSTM100_LSTM100_Drop_LSTM75_Drop_Dense, version 1\n",
            "Created version '1' of model 'bicimad_model7_Bidirectional_LSTM100_LSTM100_Drop_LSTM75_Drop_Dense'.\n"
          ]
        }
      ]
    },
    {
      "cell_type": "code",
      "source": [],
      "metadata": {
        "id": "CHv0GjYgoQHu"
      },
      "id": "CHv0GjYgoQHu",
      "execution_count": null,
      "outputs": []
    },
    {
      "cell_type": "code",
      "execution_count": null,
      "id": "ff009eec",
      "metadata": {
        "id": "ff009eec",
        "outputId": "9546121b-b60e-4167-e32e-4778096cd3e5"
      },
      "outputs": [
        {
          "name": "stdout",
          "output_type": "stream",
          "text": [
            "4/4 [==============================] - 5s 54ms/step\n"
          ]
        }
      ],
      "source": [
        "y_pred = model.predict(X_test)"
      ]
    },
    {
      "cell_type": "code",
      "execution_count": null,
      "id": "fd77c6c6",
      "metadata": {
        "id": "fd77c6c6",
        "outputId": "287d7d61-d8e3-40ac-eb2b-ab03230fc7ac"
      },
      "outputs": [
        {
          "data": {
            "text/plain": [
              "(array([  0.,   0.,   0.,   0.,   0., 127.,   0.,   0.,   0.,   0.]),\n",
              " array([ 9.688438,  9.788439,  9.888438,  9.988439, 10.088438, 10.188438,\n",
              "        10.288439, 10.388438, 10.488439, 10.588438, 10.688438],\n",
              "       dtype=float32),\n",
              " <BarContainer object of 10 artists>)"
            ]
          },
          "execution_count": 185,
          "metadata": {},
          "output_type": "execute_result"
        },
        {
          "data": {
            "image/png": "[encoded data removed]",
            "text/plain": [
              "<Figure size 640x480 with 1 Axes>"
            ]
          },
          "metadata": {},
          "output_type": "display_data"
        }
      ],
      "source": [
        "plt.hist(y_pred)"
      ]
    }
  ],
  "metadata": {
    "kernelspec": {
      "display_name": "Python 3 (ipykernel)",
      "language": "python",
      "name": "python3"
    },
    "language_info": {
      "codemirror_mode": {
        "name": "ipython",
        "version": 3
      },
      "file_extension": ".py",
      "mimetype": "text/x-python",
      "name": "python",
      "nbconvert_exporter": "python",
      "pygments_lexer": "ipython3",
      "version": "3.8.12"
    },
    "toc": {
      "base_numbering": 1,
      "nav_menu": {},
      "number_sections": true,
      "sideBar": true,
      "skip_h1_title": false,
      "title_cell": "Table of Contents",
      "title_sidebar": "Contents",
      "toc_cell": false,
      "toc_position": {},
      "toc_section_display": true,
      "toc_window_display": false
    },
    "colab": {
      "provenance": [],
      "collapsed_sections": [],
      "name": "Three_years_weather_giulia_file.ipynb"
    },
    "accelerator": "GPU",
    "gpuClass": "standard"
  },
  "nbformat": 4,
  "nbformat_minor": 5
}