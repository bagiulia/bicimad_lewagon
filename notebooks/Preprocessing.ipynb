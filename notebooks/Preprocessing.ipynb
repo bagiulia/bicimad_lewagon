{
 "cells": [
  {
   "cell_type": "code",
   "execution_count": 1,
   "id": "ce3791ba",
   "metadata": {},
   "outputs": [],
   "source": [
    "from sklearn import preprocessing\n",
    "import pandas as pd\n",
    "import numpy as np\n",
    "from math import pi, sin, cos\n",
    "from datetime import datetime\n",
    "from holidays_es import get_provinces, Province\n",
    "\n",
    "#from keras.models import Sequential\n",
    "#from keras.layers import Dense, Activation, Dropout\n",
    "#from keras.optimizers import Adam\n",
    "#from keras.callbacks import EarlyStopping"
   ]
  },
  {
   "cell_type": "markdown",
   "id": "f84cd2cb",
   "metadata": {},
   "source": [
    "## Importing data"
   ]
  },
  {
   "cell_type": "code",
   "execution_count": null,
   "id": "2581b78a",
   "metadata": {},
   "outputs": [],
   "source": [
    "df = pd.read_json(\"../raw_data/202106.json\", encoding_errors=\"ignore\", lines=True)\n",
    "weather = pd.read_csv(\"../raw_data/weather/weather_cleaned.csv\")\n",
    "df.head()"
   ]
  },
  {
   "cell_type": "markdown",
   "id": "a68135a5",
   "metadata": {},
   "source": [
    "## Adding columns"
   ]
  },
  {
   "cell_type": "code",
   "execution_count": null,
   "id": "703b0fce",
   "metadata": {},
   "outputs": [],
   "source": [
    "df[\"time\"] = \"time\"\n",
    "df[\"date\"] = \"date\"\n",
    "for i in range(len(df['_id'])):\n",
    "    item=df['_id'][i]\n",
    "    groups= item.split(\"T\")\n",
    "    date = groups[0]\n",
    "    raw_time = groups[1].split(\":\")\n",
    "    time = raw_time[0]\n",
    "    df[\"time\"][i] = time\n",
    "    df[\"date\"][i] = date"
   ]
  },
  {
   "cell_type": "code",
   "execution_count": null,
   "id": "24f4be6c",
   "metadata": {},
   "outputs": [],
   "source": [
    "df"
   ]
  },
  {
   "cell_type": "code",
   "execution_count": null,
   "id": "d93ac1c1",
   "metadata": {},
   "outputs": [],
   "source": [
    "df"
   ]
  },
  {
   "cell_type": "code",
   "execution_count": null,
   "id": "81426a0c",
   "metadata": {},
   "outputs": [],
   "source": [
    "\n"
   ]
  },
  {
   "cell_type": "code",
   "execution_count": null,
   "id": "2c3656e2",
   "metadata": {},
   "outputs": [],
   "source": []
  },
  {
   "cell_type": "code",
   "execution_count": null,
   "id": "6825e88b",
   "metadata": {},
   "outputs": [],
   "source": [
    "df['date'] = pd.to_datetime(df['date'], format='%Y-%m-%d')\n"
   ]
  },
  {
   "cell_type": "code",
   "execution_count": null,
   "id": "6a456f42",
   "metadata": {},
   "outputs": [],
   "source": [
    "df"
   ]
  },
  {
   "cell_type": "code",
   "execution_count": null,
   "id": "02dfaab6",
   "metadata": {},
   "outputs": [],
   "source": [
    "holidays=[]\n",
    "for year in [2018,2019,2020,2021]:\n",
    "    temp = Province(name=\"madrid\", year=year).holidays()\n",
    "    for day in range(len(temp['national_holidays'])):\n",
    "        holidays.append(temp['national_holidays'][day])\n",
    "    for day in range(len(temp['regional_holidays'])):\n",
    "        holidays.append(temp['regional_holidays'][day])\n",
    "    for day in range(len(temp['local_holidays'])):\n",
    "        holidays.append(temp['local_holidays'][day])"
   ]
  },
  {
   "cell_type": "code",
   "execution_count": null,
   "id": "7a2db6f9",
   "metadata": {},
   "outputs": [],
   "source": [
    "df_holidays=pd.DataFrame(holidays, columns=['date'])\n",
    "df_holidays['date'] = pd.to_datetime(df_holidays['date'], format='%Y-%m-%d')\n",
    "list_holidays=list(df_holidays['date'])\n",
    "df['holidays']=df['date'].isin(list_holidays)"
   ]
  },
  {
   "cell_type": "code",
   "execution_count": null,
   "id": "31b7639d",
   "metadata": {},
   "outputs": [],
   "source": [
    "df"
   ]
  },
  {
   "cell_type": "markdown",
   "id": "6df35a3c",
   "metadata": {},
   "source": [
    "# THIS TAKES A LOT TO RUN"
   ]
  },
  {
   "cell_type": "code",
   "execution_count": null,
   "id": "64fd292e",
   "metadata": {},
   "outputs": [],
   "source": [
    "len(df[\"stations\"][172])"
   ]
  },
  {
   "cell_type": "code",
   "execution_count": null,
   "id": "df8dd2c8",
   "metadata": {},
   "outputs": [],
   "source": [
    "temp=pd.DataFrame()\n",
    "for i in range(len(df)):\n",
    "        new_dict= df['stations'][i][42]\n",
    "        new_dict['id']=df['_id'][i]\n",
    "        new_dict['time']=df['time'][i]\n",
    "        new_dict['date']=df['date'][i]\n",
    "        new_dict['holidays']=df['holidays'][i]\n",
    "        temp = temp.append(new_dict, ignore_index=True)\n"
   ]
  },
  {
   "cell_type": "code",
   "execution_count": null,
   "id": "a1f0f7ca",
   "metadata": {},
   "outputs": [],
   "source": [
    "temp"
   ]
  },
  {
   "cell_type": "code",
   "execution_count": null,
   "id": "7f570122",
   "metadata": {
    "scrolled": true
   },
   "outputs": [],
   "source": [
    "temp[\"datetime\"] = temp[\"date\"].astype(str)+\" \"+temp[\"time\"].astype(str)\n",
    "tempdf['time'] = df.apply(lambda x:datetime.strptime(x['time'], '%H:%M').hour, axis=1)\n"
   ]
  },
  {
   "cell_type": "code",
   "execution_count": null,
   "id": "e6448c8f",
   "metadata": {},
   "outputs": [],
   "source": [
    "weather"
   ]
  },
  {
   "cell_type": "code",
   "execution_count": null,
   "id": "1b75d2c6",
   "metadata": {},
   "outputs": [],
   "source": [
    "temp = temp.merge(weather, on=\"datetime\")\n",
    "temp"
   ]
  },
  {
   "cell_type": "code",
   "execution_count": null,
   "id": "9126d2b1",
   "metadata": {},
   "outputs": [],
   "source": []
  },
  {
   "cell_type": "code",
   "execution_count": null,
   "id": "e18b1e4b",
   "metadata": {},
   "outputs": [],
   "source": [
    "\n",
    "temp['weekday'] = temp.apply(lambda x: x['date'].weekday(), axis=1)\n",
    "temp['year'] = temp.apply(lambda x:x['date'].year, axis=1)\n",
    "temp['month'] = temp.apply(lambda x: x['date'].month, axis=1)"
   ]
  },
  {
   "cell_type": "code",
   "execution_count": null,
   "id": "005e8809",
   "metadata": {},
   "outputs": [],
   "source": [
    "temp.head(2)"
   ]
  },
  {
   "cell_type": "markdown",
   "id": "e556d7c4",
   "metadata": {
    "scrolled": false
   },
   "source": [
    "### Encoding circular time\n",
    "temp['hour_sin'] = temp.apply(lambda x: sin(x['hour'] / 24.0 * 2 * pi), axis=1)\n",
    "temp['hour_cos'] = temp.apply(lambda x: cos(x['hour'] / 24.0 * 2 * pi), axis=1)\n",
    "temp['weekday_sin'] = temp.apply(lambda x: sin(x['weekday'] / 7.0 * 2 * pi), axis=1)\n",
    "temp['weekday_cos'] = temp.apply(lambda x: cos(x['weekday'] / 7.0 * 2 * pi), axis=1)\n",
    "temp['month_sin'] = temp.apply(lambda x: sin(((x['month'] - 5) % 12) / 12.0 * 2 * pi), axis=1)\n",
    "temp['month_cos'] = temp.apply(lambda x:cos(((x['month'] - 5) % 12) / 12.0 * 2 * pi), axis=1)\n",
    "temp['season_sin'] = temp.apply(lambda x: sin(((x['season'] - 3) % 4) / 4.0 * 2 * pi), axis=1)\n",
    "temp['season_cos'] = temp.apply(lambda x: cos(((x['season'] - 3) % 4) / 4.0 * 2 * pi), axis=1)"
   ]
  },
  {
   "cell_type": "code",
   "execution_count": null,
   "id": "ddd56eed",
   "metadata": {},
   "outputs": [],
   "source": [
    "temp['hour_sin'] = temp.apply(lambda x: sin(x['time'] / 24.0 * 2 * pi), axis=1)\n",
    "temp['hour_cos'] = temp.apply(lambda x: cos(x['time'] / 24.0 * 2 * pi), axis=1)\n",
    "temp['weekday_sin'] = temp.apply(lambda x: sin(x['weekday'] / 7.0 * 2 * pi), axis=1)\n",
    "temp['weekday_cos'] = temp.apply(lambda x: cos(x['weekday'] / 7.0 * 2 * pi), axis=1)\n",
    "temp['month_sin'] = temp.apply(lambda x: sin(((x['month']- 5) % 12) / 12.0 * 2 * pi), axis=1)\n",
    "temp['month_cos'] = temp.apply(lambda x:cos(((x['month'] - 5 ) % 12) / 12.0 * 2 * pi), axis=1)"
   ]
  },
  {
   "cell_type": "code",
   "execution_count": null,
   "id": "f32e1b6a",
   "metadata": {},
   "outputs": [],
   "source": [
    "temp.month"
   ]
  },
  {
   "cell_type": "code",
   "execution_count": null,
   "id": "75e324c6",
   "metadata": {},
   "outputs": [],
   "source": [
    "temp.drop(columns=[\"name\",\"longitude\",\"address\",\"month\",\"time\",\"weekday\"])\n",
    "temp.head(3)"
   ]
  },
  {
   "cell_type": "code",
   "execution_count": null,
   "id": "8da4bb9a",
   "metadata": {},
   "outputs": [],
   "source": [
    "#temp.to_csv(\"filename.processed.csv\")"
   ]
  },
  {
   "cell_type": "code",
   "execution_count": 2,
   "id": "7992f992",
   "metadata": {},
   "outputs": [],
   "source": [
    "\n",
    "df = pd.read_json( \"../raw_data/202106.json\",encoding_errors='ignore', lines=True)\n",
    "#weather = pd.read_csv(\"../raw_data/weather/weather_cleaned.csv\")\n",
    "\n"
   ]
  },
  {
   "cell_type": "code",
   "execution_count": 3,
   "id": "3591c7a9",
   "metadata": {},
   "outputs": [],
   "source": [
    "\n",
    "\n",
    "\n",
    "\n",
    "df[\"time\"] = \"time\"\n",
    "df[\"date\"] = \"date\"\n",
    "for i in range(len(df['_id'])):\n",
    "    item=df['_id'][i]\n",
    "    groups= item.split(\"T\")\n",
    "    date = groups[0]\n",
    "    raw_time = groups[1].split(\":\")\n",
    "    time = raw_time[0]\n",
    "    df[\"time\"][i] = time\n",
    "    df[\"date\"][i] = date\n",
    "\n",
    "df['date'] = pd.to_datetime(df['date'], format='%Y-%m-%d')\n",
    "\n"
   ]
  },
  {
   "cell_type": "code",
   "execution_count": 4,
   "id": "2f37fd56",
   "metadata": {},
   "outputs": [],
   "source": [
    "holidays=[]\n",
    "for year in [2018,2019,2020,2021]:\n",
    "    temp = Province(name=\"madrid\", year=year).holidays()\n",
    "    for day in range(len(temp['national_holidays'])):\n",
    "        holidays.append(temp['national_holidays'][day])\n",
    "    for day in range(len(temp['regional_holidays'])):\n",
    "        holidays.append(temp['regional_holidays'][day])\n",
    "    for day in range(len(temp['local_holidays'])):\n",
    "        holidays.append(temp['local_holidays'][day])\n",
    "\n",
    "\n",
    "df_holidays=pd.DataFrame(holidays, columns=['date'])\n",
    "df_holidays['date'] = pd.to_datetime(df_holidays['date'], format='%Y-%m-%d')\n",
    "list_holidays=list(df_holidays['date'])\n",
    "df['holidays']=df['date'].isin(list_holidays)\n",
    "\n"
   ]
  },
  {
   "cell_type": "code",
   "execution_count": 5,
   "id": "b463e1e2",
   "metadata": {},
   "outputs": [
    {
     "data": {
      "text/html": [
       "<div>\n",
       "<style scoped>\n",
       "    .dataframe tbody tr th:only-of-type {\n",
       "        vertical-align: middle;\n",
       "    }\n",
       "\n",
       "    .dataframe tbody tr th {\n",
       "        vertical-align: top;\n",
       "    }\n",
       "\n",
       "    .dataframe thead th {\n",
       "        text-align: right;\n",
       "    }\n",
       "</style>\n",
       "<table border=\"1\" class=\"dataframe\">\n",
       "  <thead>\n",
       "    <tr style=\"text-align: right;\">\n",
       "      <th></th>\n",
       "      <th>_id</th>\n",
       "      <th>stations</th>\n",
       "      <th>time</th>\n",
       "      <th>date</th>\n",
       "      <th>holidays</th>\n",
       "    </tr>\n",
       "  </thead>\n",
       "  <tbody>\n",
       "    <tr>\n",
       "      <th>0</th>\n",
       "      <td>2021-06-01T00:43:39.688214</td>\n",
       "      <td>[{'activate': 1, 'name': 'Puerta del Sol A', '...</td>\n",
       "      <td>00</td>\n",
       "      <td>2021-06-01</td>\n",
       "      <td>False</td>\n",
       "    </tr>\n",
       "    <tr>\n",
       "      <th>1</th>\n",
       "      <td>2021-06-01T01:43:41.872092</td>\n",
       "      <td>[{'activate': 1, 'name': 'Puerta del Sol A', '...</td>\n",
       "      <td>01</td>\n",
       "      <td>2021-06-01</td>\n",
       "      <td>False</td>\n",
       "    </tr>\n",
       "    <tr>\n",
       "      <th>2</th>\n",
       "      <td>2021-06-01T02:43:42.969250</td>\n",
       "      <td>[{'activate': 1, 'name': 'Puerta del Sol A', '...</td>\n",
       "      <td>02</td>\n",
       "      <td>2021-06-01</td>\n",
       "      <td>False</td>\n",
       "    </tr>\n",
       "    <tr>\n",
       "      <th>3</th>\n",
       "      <td>2021-06-01T03:43:44.600717</td>\n",
       "      <td>[{'activate': 1, 'name': 'Puerta del Sol A', '...</td>\n",
       "      <td>03</td>\n",
       "      <td>2021-06-01</td>\n",
       "      <td>False</td>\n",
       "    </tr>\n",
       "    <tr>\n",
       "      <th>4</th>\n",
       "      <td>2021-06-01T04:43:45.629938</td>\n",
       "      <td>[{'activate': 1, 'name': 'Puerta del Sol A', '...</td>\n",
       "      <td>04</td>\n",
       "      <td>2021-06-01</td>\n",
       "      <td>False</td>\n",
       "    </tr>\n",
       "    <tr>\n",
       "      <th>...</th>\n",
       "      <td>...</td>\n",
       "      <td>...</td>\n",
       "      <td>...</td>\n",
       "      <td>...</td>\n",
       "      <td>...</td>\n",
       "    </tr>\n",
       "    <tr>\n",
       "      <th>707</th>\n",
       "      <td>2021-06-30T19:03:28.471971</td>\n",
       "      <td>[{'activate': 1, 'name': 'Puerta del Sol A', '...</td>\n",
       "      <td>19</td>\n",
       "      <td>2021-06-30</td>\n",
       "      <td>False</td>\n",
       "    </tr>\n",
       "    <tr>\n",
       "      <th>708</th>\n",
       "      <td>2021-06-30T20:03:28.506666</td>\n",
       "      <td>[{'activate': 1, 'name': 'Puerta del Sol A', '...</td>\n",
       "      <td>20</td>\n",
       "      <td>2021-06-30</td>\n",
       "      <td>False</td>\n",
       "    </tr>\n",
       "    <tr>\n",
       "      <th>709</th>\n",
       "      <td>2021-06-30T21:03:29.744034</td>\n",
       "      <td>[{'activate': 1, 'name': 'Puerta del Sol A', '...</td>\n",
       "      <td>21</td>\n",
       "      <td>2021-06-30</td>\n",
       "      <td>False</td>\n",
       "    </tr>\n",
       "    <tr>\n",
       "      <th>710</th>\n",
       "      <td>2021-06-30T22:03:31.966720</td>\n",
       "      <td>[{'activate': 1, 'name': 'Puerta del Sol A', '...</td>\n",
       "      <td>22</td>\n",
       "      <td>2021-06-30</td>\n",
       "      <td>False</td>\n",
       "    </tr>\n",
       "    <tr>\n",
       "      <th>711</th>\n",
       "      <td>2021-06-30T23:03:34.112828</td>\n",
       "      <td>[{'activate': 1, 'name': 'Puerta del Sol A', '...</td>\n",
       "      <td>23</td>\n",
       "      <td>2021-06-30</td>\n",
       "      <td>False</td>\n",
       "    </tr>\n",
       "  </tbody>\n",
       "</table>\n",
       "<p>712 rows × 5 columns</p>\n",
       "</div>"
      ],
      "text/plain": [
       "                            _id  \\\n",
       "0    2021-06-01T00:43:39.688214   \n",
       "1    2021-06-01T01:43:41.872092   \n",
       "2    2021-06-01T02:43:42.969250   \n",
       "3    2021-06-01T03:43:44.600717   \n",
       "4    2021-06-01T04:43:45.629938   \n",
       "..                          ...   \n",
       "707  2021-06-30T19:03:28.471971   \n",
       "708  2021-06-30T20:03:28.506666   \n",
       "709  2021-06-30T21:03:29.744034   \n",
       "710  2021-06-30T22:03:31.966720   \n",
       "711  2021-06-30T23:03:34.112828   \n",
       "\n",
       "                                              stations time       date  \\\n",
       "0    [{'activate': 1, 'name': 'Puerta del Sol A', '...   00 2021-06-01   \n",
       "1    [{'activate': 1, 'name': 'Puerta del Sol A', '...   01 2021-06-01   \n",
       "2    [{'activate': 1, 'name': 'Puerta del Sol A', '...   02 2021-06-01   \n",
       "3    [{'activate': 1, 'name': 'Puerta del Sol A', '...   03 2021-06-01   \n",
       "4    [{'activate': 1, 'name': 'Puerta del Sol A', '...   04 2021-06-01   \n",
       "..                                                 ...  ...        ...   \n",
       "707  [{'activate': 1, 'name': 'Puerta del Sol A', '...   19 2021-06-30   \n",
       "708  [{'activate': 1, 'name': 'Puerta del Sol A', '...   20 2021-06-30   \n",
       "709  [{'activate': 1, 'name': 'Puerta del Sol A', '...   21 2021-06-30   \n",
       "710  [{'activate': 1, 'name': 'Puerta del Sol A', '...   22 2021-06-30   \n",
       "711  [{'activate': 1, 'name': 'Puerta del Sol A', '...   23 2021-06-30   \n",
       "\n",
       "     holidays  \n",
       "0       False  \n",
       "1       False  \n",
       "2       False  \n",
       "3       False  \n",
       "4       False  \n",
       "..        ...  \n",
       "707     False  \n",
       "708     False  \n",
       "709     False  \n",
       "710     False  \n",
       "711     False  \n",
       "\n",
       "[712 rows x 5 columns]"
      ]
     },
     "execution_count": 5,
     "metadata": {},
     "output_type": "execute_result"
    }
   ],
   "source": [
    "df\n"
   ]
  },
  {
   "cell_type": "code",
   "execution_count": 6,
   "id": "6fa7955d",
   "metadata": {},
   "outputs": [
    {
     "data": {
      "text/html": [
       "<div>\n",
       "<style scoped>\n",
       "    .dataframe tbody tr th:only-of-type {\n",
       "        vertical-align: middle;\n",
       "    }\n",
       "\n",
       "    .dataframe tbody tr th {\n",
       "        vertical-align: top;\n",
       "    }\n",
       "\n",
       "    .dataframe thead th {\n",
       "        text-align: right;\n",
       "    }\n",
       "</style>\n",
       "<table border=\"1\" class=\"dataframe\">\n",
       "  <thead>\n",
       "    <tr style=\"text-align: right;\">\n",
       "      <th></th>\n",
       "    </tr>\n",
       "  </thead>\n",
       "  <tbody>\n",
       "  </tbody>\n",
       "</table>\n",
       "</div>"
      ],
      "text/plain": [
       "Empty DataFrame\n",
       "Columns: []\n",
       "Index: []"
      ]
     },
     "execution_count": 6,
     "metadata": {},
     "output_type": "execute_result"
    }
   ],
   "source": [
    "temp=pd.DataFrame()\n",
    "#for final whole model\n",
    "# for i in range(len(df)):\n",
    "#     for j in range(len(df[\"stations\"][1])):\n",
    "#         new_dict= df['stations'][i][0]\n",
    "#         new_dict['id']=df['_id'][i]\n",
    "#         new_dict['time']=df['time'][i]\n",
    "#         new_dict['date']=df['date'][i]\n",
    "#         new_dict['holidays']=df['holidays'][i]\n",
    "#         temp = temp.append(new_dict, ignore_index=True)\n",
    "\n",
    "\n",
    "for i in range(len(df)):\n",
    "    try:\n",
    "        new_dict= df['stations'][i][station]\n",
    "        new_dict['id']=df['_id'][i]\n",
    "        new_dict['time']=df['time'][i]\n",
    "        new_dict['date']=df['date'][i]\n",
    "        new_dict['holidays']=df['holidays'][i]\n",
    "        temp = temp.append(new_dict, ignore_index=True)\n",
    "    except:\n",
    "        quit()\n",
    "\n",
    "temp\n",
    "temp[\"datetime\"] = temp[\"date\"].astype(str)+\" \"+temp[\"time\"].astype(str)\n"
   ]
  },
  {
   "cell_type": "code",
   "execution_count": null,
   "id": "e3fa2d50",
   "metadata": {},
   "outputs": [],
   "source": [
    "temp"
   ]
  },
  {
   "cell_type": "code",
   "execution_count": null,
   "id": "5a15f5f6",
   "metadata": {},
   "outputs": [],
   "source": []
  },
  {
   "cell_type": "code",
   "execution_count": 1,
   "id": "646da0ad",
   "metadata": {},
   "outputs": [
    {
     "data": {
      "text/html": [
       "<div>\n",
       "<style scoped>\n",
       "    .dataframe tbody tr th:only-of-type {\n",
       "        vertical-align: middle;\n",
       "    }\n",
       "\n",
       "    .dataframe tbody tr th {\n",
       "        vertical-align: top;\n",
       "    }\n",
       "\n",
       "    .dataframe thead th {\n",
       "        text-align: right;\n",
       "    }\n",
       "</style>\n",
       "<table border=\"1\" class=\"dataframe\">\n",
       "  <thead>\n",
       "    <tr style=\"text-align: right;\">\n",
       "      <th></th>\n",
       "      <th>feels_like</th>\n",
       "      <th>weather_main</th>\n",
       "      <th>datetime</th>\n",
       "    </tr>\n",
       "  </thead>\n",
       "  <tbody>\n",
       "    <tr>\n",
       "      <th>0</th>\n",
       "      <td>3.08</td>\n",
       "      <td>Clear</td>\n",
       "      <td>2018-01-01 00</td>\n",
       "    </tr>\n",
       "    <tr>\n",
       "      <th>1</th>\n",
       "      <td>2.88</td>\n",
       "      <td>Clear</td>\n",
       "      <td>2018-01-01 01</td>\n",
       "    </tr>\n",
       "    <tr>\n",
       "      <th>2</th>\n",
       "      <td>2.11</td>\n",
       "      <td>Clear</td>\n",
       "      <td>2018-01-01 02</td>\n",
       "    </tr>\n",
       "    <tr>\n",
       "      <th>3</th>\n",
       "      <td>2.48</td>\n",
       "      <td>Clear</td>\n",
       "      <td>2018-01-01 03</td>\n",
       "    </tr>\n",
       "    <tr>\n",
       "      <th>4</th>\n",
       "      <td>1.69</td>\n",
       "      <td>Clear</td>\n",
       "      <td>2018-01-01 04</td>\n",
       "    </tr>\n",
       "    <tr>\n",
       "      <th>...</th>\n",
       "      <td>...</td>\n",
       "      <td>...</td>\n",
       "      <td>...</td>\n",
       "    </tr>\n",
       "    <tr>\n",
       "      <th>41488</th>\n",
       "      <td>28.51</td>\n",
       "      <td>Clear</td>\n",
       "      <td>2022-08-27 19</td>\n",
       "    </tr>\n",
       "    <tr>\n",
       "      <th>41489</th>\n",
       "      <td>27.64</td>\n",
       "      <td>Clear</td>\n",
       "      <td>2022-08-27 20</td>\n",
       "    </tr>\n",
       "    <tr>\n",
       "      <th>41490</th>\n",
       "      <td>27.38</td>\n",
       "      <td>Clear</td>\n",
       "      <td>2022-08-27 21</td>\n",
       "    </tr>\n",
       "    <tr>\n",
       "      <th>41491</th>\n",
       "      <td>26.65</td>\n",
       "      <td>Clear</td>\n",
       "      <td>2022-08-27 22</td>\n",
       "    </tr>\n",
       "    <tr>\n",
       "      <th>41492</th>\n",
       "      <td>26.35</td>\n",
       "      <td>Clear</td>\n",
       "      <td>2022-08-27 23</td>\n",
       "    </tr>\n",
       "  </tbody>\n",
       "</table>\n",
       "<p>41493 rows × 3 columns</p>\n",
       "</div>"
      ],
      "text/plain": [
       "       feels_like weather_main       datetime\n",
       "0            3.08        Clear  2018-01-01 00\n",
       "1            2.88        Clear  2018-01-01 01\n",
       "2            2.11        Clear  2018-01-01 02\n",
       "3            2.48        Clear  2018-01-01 03\n",
       "4            1.69        Clear  2018-01-01 04\n",
       "...           ...          ...            ...\n",
       "41488       28.51        Clear  2022-08-27 19\n",
       "41489       27.64        Clear  2022-08-27 20\n",
       "41490       27.38        Clear  2022-08-27 21\n",
       "41491       26.65        Clear  2022-08-27 22\n",
       "41492       26.35        Clear  2022-08-27 23\n",
       "\n",
       "[41493 rows x 3 columns]"
      ]
     },
     "execution_count": 1,
     "metadata": {},
     "output_type": "execute_result"
    }
   ],
   "source": [
    "import pandas as pd\n",
    "weather = pd.read_csv(\"../raw_data/weather/weather_cleaned.csv\")\n",
    "weather"
   ]
  },
  {
   "cell_type": "code",
   "execution_count": 2,
   "id": "0313f364",
   "metadata": {},
   "outputs": [
    {
     "data": {
      "text/plain": [
       "0        2018-01-01 00\n",
       "1        2018-01-01 01\n",
       "2        2018-01-01 02\n",
       "3        2018-01-01 03\n",
       "4        2018-01-01 04\n",
       "             ...      \n",
       "41488    2022-08-27 19\n",
       "41489    2022-08-27 20\n",
       "41490    2022-08-27 21\n",
       "41491    2022-08-27 22\n",
       "41492    2022-08-27 23\n",
       "Name: datetime, Length: 41493, dtype: object"
      ]
     },
     "execution_count": 2,
     "metadata": {},
     "output_type": "execute_result"
    }
   ],
   "source": [
    "temp = temp.merge(weather, on=\"datetime\")\n",
    "\n",
    "\n",
    "\n",
    "\n",
    "temp['weekday'] = temp.apply(lambda x: x['date'].weekday(), axis=1)\n",
    "temp['year'] = temp.apply(lambda x:x['date'].year, axis=1)\n",
    "temp['month'] = temp.apply(lambda x: x['date'].month, axis=1)\n",
    "\n",
    "\n",
    "temp['hour_sin'] = temp.apply(lambda x: sin(x['time'] / 24.0 * 2 * pi), axis=1)\n",
    "temp['hour_cos'] = temp.apply(lambda x: cos(x['time'] / 24.0 * 2 * pi), axis=1)\n",
    "temp['weekday_sin'] = temp.apply(lambda x: sin(x['weekday'] / 7.0 * 2 * pi), axis=1)\n",
    "temp['weekday_cos'] = temp.apply(lambda x: cos(x['weekday'] / 7.0 * 2 * pi), axis=1)\n",
    "temp['month_sin'] = temp.apply(lambda x: sin(((x['month'] - 5) % 12) / 12.0 * 2 * pi), axis=1)\n",
    "temp['month_cos'] = temp.apply(lambda x:cos(((x['month'] - 5) % 12) / 12.0 * 2 * pi), axis=1)\n",
    "\n",
    "temp.drop(columns=[\"name\",\"longitude\",\"address\",\"month\",\"time\",\"weekday\"])\n",
    "\n",
    "temp.to_csv(basename+\"_processed.csv\", index=False)\n"
   ]
  },
  {
   "cell_type": "code",
   "execution_count": null,
   "id": "6b02619c",
   "metadata": {},
   "outputs": [],
   "source": []
  }
 ],
 "metadata": {
  "kernelspec": {
   "display_name": "Python 3 (ipykernel)",
   "language": "python",
   "name": "python3"
  },
  "language_info": {
   "codemirror_mode": {
    "name": "ipython",
    "version": 3
   },
   "file_extension": ".py",
   "mimetype": "text/x-python",
   "name": "python",
   "nbconvert_exporter": "python",
   "pygments_lexer": "ipython3",
   "version": "3.8.12"
  },
  "toc": {
   "base_numbering": 1,
   "nav_menu": {},
   "number_sections": true,
   "sideBar": true,
   "skip_h1_title": false,
   "title_cell": "Table of Contents",
   "title_sidebar": "Contents",
   "toc_cell": false,
   "toc_position": {},
   "toc_section_display": true,
   "toc_window_display": false
  }
 },
 "nbformat": 4,
 "nbformat_minor": 5
}
